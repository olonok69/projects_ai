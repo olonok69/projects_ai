{
  "nbformat": 4,
  "nbformat_minor": 0,
  "metadata": {
    "colab": {
      "provenance": [],
      "machine_shape": "hm",
      "gpuType": "T4",
      "authorship_tag": "ABX9TyO4LnEnRj3PEK9mbN8vnpjy",
      "include_colab_link": true
    },
    "kernelspec": {
      "name": "python3",
      "display_name": "Python 3"
    },
    "language_info": {
      "name": "python"
    },
    "accelerator": "GPU"
  },
  "cells": [
    {
      "cell_type": "markdown",
      "metadata": {
        "id": "view-in-github",
        "colab_type": "text"
      },
      "source": [
        "<a href=\"https://colab.research.google.com/github/olonok69/projects_ai/blob/main/Prompt_OLLama_DeepSeek_Phi3_5_LLama3_2.ipynb\" target=\"_parent\"><img src=\"https://colab.research.google.com/assets/colab-badge.svg\" alt=\"Open In Colab\"/></a>"
      ]
    },
    {
      "cell_type": "code",
      "execution_count": 1,
      "metadata": {
        "colab": {
          "base_uri": "https://localhost:8080/"
        },
        "id": "e1xfwhesRgTz",
        "outputId": "3f5a67cd-eaa2-4618-cdc0-8931cb63bc84"
      },
      "outputs": [
        {
          "output_type": "stream",
          "name": "stdout",
          "text": [
            "Mounted at /content/drive\n"
          ]
        }
      ],
      "source": [
        "\n",
        "from google.colab import drive\n",
        "drive.mount('/content/drive')"
      ]
    },
    {
      "cell_type": "code",
      "source": [
        "%%capture output\n",
        "! pip install -r /content/drive/MyDrive/models/requirements.txt -qqq"
      ],
      "metadata": {
        "id": "46lpPSqkSAEP"
      },
      "execution_count": 2,
      "outputs": []
    },
    {
      "cell_type": "code",
      "source": [
        "\n",
        "%%capture output\n",
        "! pip install langchain-ollama \"ollama==0.4.2\" -qqq"
      ],
      "metadata": {
        "id": "BUCYDz1wSHQY"
      },
      "execution_count": 3,
      "outputs": []
    },
    {
      "cell_type": "markdown",
      "source": [
        "# Install Ollama\n",
        "- curl https://ollama.ai/install.sh | sh\n",
        "\n",
        "- Run server with: ollama serve &\n",
        "\n",
        "- Pull model ollama: pull llama3:8b"
      ],
      "metadata": {
        "id": "j6Em8JUPSIhs"
      }
    },
    {
      "cell_type": "code",
      "source": [
        "import pprint\n",
        "import pandas as pd\n",
        "import json"
      ],
      "metadata": {
        "id": "HBzNjtDwZPvw"
      },
      "execution_count": 24,
      "outputs": []
    },
    {
      "cell_type": "code",
      "source": [
        "session_data_path = \"/content/drive/MyDrive/data/CSM/speaker_aggregated_info.json\" # For Recommendation engine\n",
        "session_data_path = \"/content/drive/MyDrive/data/CSM/badge_id_aggregated_results.json\"\n",
        "nomenclature_embeddings_path = \"/content/drive/MyDrive/data/CSM/cluster_numeculature.json\"\n",
        "output_path = \"/content/drive/MyDrive/data/CSM/badge/embeddings_badges_mistral.json\"\n",
        "\n",
        "csv_path = '/content/drive/MyDrive/data/CSM/new_claire_db_badge_cluster_data_with_aggregated_info_GIO_GT_LABELS.csv'\n",
        "#csv_path = '/content/drive/MyDrive/data/CSM/20240512_new_labels_WITH_AGGINFO.csv'"
      ],
      "metadata": {
        "id": "g3EXOkQuden6"
      },
      "execution_count": 28,
      "outputs": []
    },
    {
      "cell_type": "code",
      "source": [
        "data = pd.read_csv(csv_path)\n",
        "data.head()"
      ],
      "metadata": {
        "colab": {
          "base_uri": "https://localhost:8080/",
          "height": 206
        },
        "id": "sx-NBWyDv4xX",
        "outputId": "9773eb09-2279-451e-b812-2c838e44434d"
      },
      "execution_count": 29,
      "outputs": [
        {
          "output_type": "execute_result",
          "data": {
            "text/plain": [
              "   BadgeId         ClusterId  \\\n",
              "0  VPWNB8E  Sourcing – Early   \n",
              "1  54ZPEZG          Learning   \n",
              "2  GGG4EI4         Searching   \n",
              "3  X3PDT43          Learning   \n",
              "4  49CCFCJ         Searching   \n",
              "\n",
              "                                      AggregatedInfo  \n",
              "0  Show Ref: BDAIWL24. Badge Id: VPWNB8E. Registr...  \n",
              "1  Show Ref: CEEL24. Badge Id: 54ZPEZG. Registrat...  \n",
              "2  Show Ref: BDAIWL24. Badge Id: GGG4EI4. Registr...  \n",
              "3  Show Ref: CEEL24. Badge Id: X3PDT43. Registrat...  \n",
              "4  Show Ref: BDAIWL24. Badge Id: 49CCFCJ. Registr...  "
            ],
            "text/html": [
              "\n",
              "  <div id=\"df-4fa42b75-4cc1-48c8-afbf-1557cd4f0bb9\" class=\"colab-df-container\">\n",
              "    <div>\n",
              "<style scoped>\n",
              "    .dataframe tbody tr th:only-of-type {\n",
              "        vertical-align: middle;\n",
              "    }\n",
              "\n",
              "    .dataframe tbody tr th {\n",
              "        vertical-align: top;\n",
              "    }\n",
              "\n",
              "    .dataframe thead th {\n",
              "        text-align: right;\n",
              "    }\n",
              "</style>\n",
              "<table border=\"1\" class=\"dataframe\">\n",
              "  <thead>\n",
              "    <tr style=\"text-align: right;\">\n",
              "      <th></th>\n",
              "      <th>BadgeId</th>\n",
              "      <th>ClusterId</th>\n",
              "      <th>AggregatedInfo</th>\n",
              "    </tr>\n",
              "  </thead>\n",
              "  <tbody>\n",
              "    <tr>\n",
              "      <th>0</th>\n",
              "      <td>VPWNB8E</td>\n",
              "      <td>Sourcing – Early</td>\n",
              "      <td>Show Ref: BDAIWL24. Badge Id: VPWNB8E. Registr...</td>\n",
              "    </tr>\n",
              "    <tr>\n",
              "      <th>1</th>\n",
              "      <td>54ZPEZG</td>\n",
              "      <td>Learning</td>\n",
              "      <td>Show Ref: CEEL24. Badge Id: 54ZPEZG. Registrat...</td>\n",
              "    </tr>\n",
              "    <tr>\n",
              "      <th>2</th>\n",
              "      <td>GGG4EI4</td>\n",
              "      <td>Searching</td>\n",
              "      <td>Show Ref: BDAIWL24. Badge Id: GGG4EI4. Registr...</td>\n",
              "    </tr>\n",
              "    <tr>\n",
              "      <th>3</th>\n",
              "      <td>X3PDT43</td>\n",
              "      <td>Learning</td>\n",
              "      <td>Show Ref: CEEL24. Badge Id: X3PDT43. Registrat...</td>\n",
              "    </tr>\n",
              "    <tr>\n",
              "      <th>4</th>\n",
              "      <td>49CCFCJ</td>\n",
              "      <td>Searching</td>\n",
              "      <td>Show Ref: BDAIWL24. Badge Id: 49CCFCJ. Registr...</td>\n",
              "    </tr>\n",
              "  </tbody>\n",
              "</table>\n",
              "</div>\n",
              "    <div class=\"colab-df-buttons\">\n",
              "\n",
              "  <div class=\"colab-df-container\">\n",
              "    <button class=\"colab-df-convert\" onclick=\"convertToInteractive('df-4fa42b75-4cc1-48c8-afbf-1557cd4f0bb9')\"\n",
              "            title=\"Convert this dataframe to an interactive table.\"\n",
              "            style=\"display:none;\">\n",
              "\n",
              "  <svg xmlns=\"http://www.w3.org/2000/svg\" height=\"24px\" viewBox=\"0 -960 960 960\">\n",
              "    <path d=\"M120-120v-720h720v720H120Zm60-500h600v-160H180v160Zm220 220h160v-160H400v160Zm0 220h160v-160H400v160ZM180-400h160v-160H180v160Zm440 0h160v-160H620v160ZM180-180h160v-160H180v160Zm440 0h160v-160H620v160Z\"/>\n",
              "  </svg>\n",
              "    </button>\n",
              "\n",
              "  <style>\n",
              "    .colab-df-container {\n",
              "      display:flex;\n",
              "      gap: 12px;\n",
              "    }\n",
              "\n",
              "    .colab-df-convert {\n",
              "      background-color: #E8F0FE;\n",
              "      border: none;\n",
              "      border-radius: 50%;\n",
              "      cursor: pointer;\n",
              "      display: none;\n",
              "      fill: #1967D2;\n",
              "      height: 32px;\n",
              "      padding: 0 0 0 0;\n",
              "      width: 32px;\n",
              "    }\n",
              "\n",
              "    .colab-df-convert:hover {\n",
              "      background-color: #E2EBFA;\n",
              "      box-shadow: 0px 1px 2px rgba(60, 64, 67, 0.3), 0px 1px 3px 1px rgba(60, 64, 67, 0.15);\n",
              "      fill: #174EA6;\n",
              "    }\n",
              "\n",
              "    .colab-df-buttons div {\n",
              "      margin-bottom: 4px;\n",
              "    }\n",
              "\n",
              "    [theme=dark] .colab-df-convert {\n",
              "      background-color: #3B4455;\n",
              "      fill: #D2E3FC;\n",
              "    }\n",
              "\n",
              "    [theme=dark] .colab-df-convert:hover {\n",
              "      background-color: #434B5C;\n",
              "      box-shadow: 0px 1px 3px 1px rgba(0, 0, 0, 0.15);\n",
              "      filter: drop-shadow(0px 1px 2px rgba(0, 0, 0, 0.3));\n",
              "      fill: #FFFFFF;\n",
              "    }\n",
              "  </style>\n",
              "\n",
              "    <script>\n",
              "      const buttonEl =\n",
              "        document.querySelector('#df-4fa42b75-4cc1-48c8-afbf-1557cd4f0bb9 button.colab-df-convert');\n",
              "      buttonEl.style.display =\n",
              "        google.colab.kernel.accessAllowed ? 'block' : 'none';\n",
              "\n",
              "      async function convertToInteractive(key) {\n",
              "        const element = document.querySelector('#df-4fa42b75-4cc1-48c8-afbf-1557cd4f0bb9');\n",
              "        const dataTable =\n",
              "          await google.colab.kernel.invokeFunction('convertToInteractive',\n",
              "                                                    [key], {});\n",
              "        if (!dataTable) return;\n",
              "\n",
              "        const docLinkHtml = 'Like what you see? Visit the ' +\n",
              "          '<a target=\"_blank\" href=https://colab.research.google.com/notebooks/data_table.ipynb>data table notebook</a>'\n",
              "          + ' to learn more about interactive tables.';\n",
              "        element.innerHTML = '';\n",
              "        dataTable['output_type'] = 'display_data';\n",
              "        await google.colab.output.renderOutput(dataTable, element);\n",
              "        const docLink = document.createElement('div');\n",
              "        docLink.innerHTML = docLinkHtml;\n",
              "        element.appendChild(docLink);\n",
              "      }\n",
              "    </script>\n",
              "  </div>\n",
              "\n",
              "\n",
              "<div id=\"df-1a40b31e-0286-45d4-bd9a-bcc57b72b787\">\n",
              "  <button class=\"colab-df-quickchart\" onclick=\"quickchart('df-1a40b31e-0286-45d4-bd9a-bcc57b72b787')\"\n",
              "            title=\"Suggest charts\"\n",
              "            style=\"display:none;\">\n",
              "\n",
              "<svg xmlns=\"http://www.w3.org/2000/svg\" height=\"24px\"viewBox=\"0 0 24 24\"\n",
              "     width=\"24px\">\n",
              "    <g>\n",
              "        <path d=\"M19 3H5c-1.1 0-2 .9-2 2v14c0 1.1.9 2 2 2h14c1.1 0 2-.9 2-2V5c0-1.1-.9-2-2-2zM9 17H7v-7h2v7zm4 0h-2V7h2v10zm4 0h-2v-4h2v4z\"/>\n",
              "    </g>\n",
              "</svg>\n",
              "  </button>\n",
              "\n",
              "<style>\n",
              "  .colab-df-quickchart {\n",
              "      --bg-color: #E8F0FE;\n",
              "      --fill-color: #1967D2;\n",
              "      --hover-bg-color: #E2EBFA;\n",
              "      --hover-fill-color: #174EA6;\n",
              "      --disabled-fill-color: #AAA;\n",
              "      --disabled-bg-color: #DDD;\n",
              "  }\n",
              "\n",
              "  [theme=dark] .colab-df-quickchart {\n",
              "      --bg-color: #3B4455;\n",
              "      --fill-color: #D2E3FC;\n",
              "      --hover-bg-color: #434B5C;\n",
              "      --hover-fill-color: #FFFFFF;\n",
              "      --disabled-bg-color: #3B4455;\n",
              "      --disabled-fill-color: #666;\n",
              "  }\n",
              "\n",
              "  .colab-df-quickchart {\n",
              "    background-color: var(--bg-color);\n",
              "    border: none;\n",
              "    border-radius: 50%;\n",
              "    cursor: pointer;\n",
              "    display: none;\n",
              "    fill: var(--fill-color);\n",
              "    height: 32px;\n",
              "    padding: 0;\n",
              "    width: 32px;\n",
              "  }\n",
              "\n",
              "  .colab-df-quickchart:hover {\n",
              "    background-color: var(--hover-bg-color);\n",
              "    box-shadow: 0 1px 2px rgba(60, 64, 67, 0.3), 0 1px 3px 1px rgba(60, 64, 67, 0.15);\n",
              "    fill: var(--button-hover-fill-color);\n",
              "  }\n",
              "\n",
              "  .colab-df-quickchart-complete:disabled,\n",
              "  .colab-df-quickchart-complete:disabled:hover {\n",
              "    background-color: var(--disabled-bg-color);\n",
              "    fill: var(--disabled-fill-color);\n",
              "    box-shadow: none;\n",
              "  }\n",
              "\n",
              "  .colab-df-spinner {\n",
              "    border: 2px solid var(--fill-color);\n",
              "    border-color: transparent;\n",
              "    border-bottom-color: var(--fill-color);\n",
              "    animation:\n",
              "      spin 1s steps(1) infinite;\n",
              "  }\n",
              "\n",
              "  @keyframes spin {\n",
              "    0% {\n",
              "      border-color: transparent;\n",
              "      border-bottom-color: var(--fill-color);\n",
              "      border-left-color: var(--fill-color);\n",
              "    }\n",
              "    20% {\n",
              "      border-color: transparent;\n",
              "      border-left-color: var(--fill-color);\n",
              "      border-top-color: var(--fill-color);\n",
              "    }\n",
              "    30% {\n",
              "      border-color: transparent;\n",
              "      border-left-color: var(--fill-color);\n",
              "      border-top-color: var(--fill-color);\n",
              "      border-right-color: var(--fill-color);\n",
              "    }\n",
              "    40% {\n",
              "      border-color: transparent;\n",
              "      border-right-color: var(--fill-color);\n",
              "      border-top-color: var(--fill-color);\n",
              "    }\n",
              "    60% {\n",
              "      border-color: transparent;\n",
              "      border-right-color: var(--fill-color);\n",
              "    }\n",
              "    80% {\n",
              "      border-color: transparent;\n",
              "      border-right-color: var(--fill-color);\n",
              "      border-bottom-color: var(--fill-color);\n",
              "    }\n",
              "    90% {\n",
              "      border-color: transparent;\n",
              "      border-bottom-color: var(--fill-color);\n",
              "    }\n",
              "  }\n",
              "</style>\n",
              "\n",
              "  <script>\n",
              "    async function quickchart(key) {\n",
              "      const quickchartButtonEl =\n",
              "        document.querySelector('#' + key + ' button');\n",
              "      quickchartButtonEl.disabled = true;  // To prevent multiple clicks.\n",
              "      quickchartButtonEl.classList.add('colab-df-spinner');\n",
              "      try {\n",
              "        const charts = await google.colab.kernel.invokeFunction(\n",
              "            'suggestCharts', [key], {});\n",
              "      } catch (error) {\n",
              "        console.error('Error during call to suggestCharts:', error);\n",
              "      }\n",
              "      quickchartButtonEl.classList.remove('colab-df-spinner');\n",
              "      quickchartButtonEl.classList.add('colab-df-quickchart-complete');\n",
              "    }\n",
              "    (() => {\n",
              "      let quickchartButtonEl =\n",
              "        document.querySelector('#df-1a40b31e-0286-45d4-bd9a-bcc57b72b787 button');\n",
              "      quickchartButtonEl.style.display =\n",
              "        google.colab.kernel.accessAllowed ? 'block' : 'none';\n",
              "    })();\n",
              "  </script>\n",
              "</div>\n",
              "\n",
              "    </div>\n",
              "  </div>\n"
            ],
            "application/vnd.google.colaboratory.intrinsic+json": {
              "type": "dataframe",
              "variable_name": "data",
              "summary": "{\n  \"name\": \"data\",\n  \"rows\": 1000,\n  \"fields\": [\n    {\n      \"column\": \"BadgeId\",\n      \"properties\": {\n        \"dtype\": \"string\",\n        \"num_unique_values\": 1000,\n        \"samples\": [\n          \"SM5A9XD\",\n          \"7UKDA7L\",\n          \"RQM8RVB\"\n        ],\n        \"semantic_type\": \"\",\n        \"description\": \"\"\n      }\n    },\n    {\n      \"column\": \"ClusterId\",\n      \"properties\": {\n        \"dtype\": \"category\",\n        \"num_unique_values\": 6,\n        \"samples\": [\n          \"Sourcing \\u2013 Early\",\n          \"Learning\",\n          \"Sourcing \\u2013 Deciding\"\n        ],\n        \"semantic_type\": \"\",\n        \"description\": \"\"\n      }\n    },\n    {\n      \"column\": \"AggregatedInfo\",\n      \"properties\": {\n        \"dtype\": \"string\",\n        \"num_unique_values\": 1000,\n        \"samples\": [\n          \"Show Ref: CEEL24. Badge Id: SM5A9XD. Registration Code: ZZCH9. Registration Guid: 3984c137-dbfa-4501-9fbe-b1250080e889. Session Guid: 702e6a00-4a80-4942-ae07-1d529b6d5ac6. Source: facebook_cpc_somin. Badge Type: Visitor. Status: Approved. Registration Date: 2024-02-29 07:49:20.253000. Weeks Out: 1.0. Title: Mr. Firstname: Swatantra . Surname: Singh. Job Title: Director . Company: Swaraj Analytics ltd. Address 1: 9 Manx Road. Address 2: no answer provided. Address 3: no answer provided. Town/City: Milton Keynes. County: Buckinghamshire. Postcode: MK8 1ET. Country: UK. Telephone: 447424585067. Mobile: 447424585067. Fax: no answer provided. Email: Swatantra.singh@cillins.com. Secondary Email: no answer provided. Website: no answer provided. Nationality: no answer provided. Account Number: 6649389.0. Booker Forename: no answer provided. Booker Surname: no answer provided. Booker Company: no answer provided. Booker Email: no answer provided. Offer Code: no answer provided. Referee Forename / Referee Forename (text): no answer provided. Referee Surname / Referee Surname (text): no answer provided. Single Select Demographics / Job Level: Director. Job Level / Other (text): no answer provided. Single Select Demographics / Job Function: IT. Job Function / Other (text): no answer provided. Linkedin ID / Keep in touch! Share your Linkedin profile: (text): no answer provided. Single Select Demographics / Decision making power: Final sign off. Single Select Demographics / What best describes your reason for attending: \\u2018I am attending because my company is...\\u2019: An investor. Which best describes your company? / Other (text): no answer provided. Single Select Demographics / Which best describes your company?: no answer provided. Single Select Demographics / Number of Employees: 1 - 20. Your industry sector / Other (text): no answer provided. Single Select Demographics / Your industry sector: Education. Please specify your industry sector (Arts): no answer provided. Please specify your industry sector (Banking/Finance): no answer provided. Please specify your industry sector (Central/Local Government): no answer provided. Please specify your industry sector (Cloud Industry): no answer provided. Please specify your industry sector (Construction): no answer provided. Please specify your industry sector (Consumer Goods): no answer provided. Please specify your industry sector (Corporate): no answer provided. Please specify your industry sector (Education): Primary/Secondary Education. Please specify your industry sector (Healthcare/Pharma): no answer provided. Please specify your industry sector (Manufacturing): no answer provided. Please specify your industry sector (Media/Entertainment): no answer provided. Please specify your industry sector (Not for Profit): no answer provided. Please specify your industry sector (Retail): no answer provided. Please specify your industry sector (Service): no answer provided. Please specify your industry sector (Transportation): no answer provided. Please specify your industry sector (Professional Services): no answer provided. Please specify your industry sector (Technology): no answer provided. Which co-located events are of high relevance to you? CCSL: no answer provided. Your main areas of interest: Cloud Management and Optimisation;Cybersecurity. Single Select Demographics / Do you intend to visit:: Both Days. Are you a member of any of the following associations? / (ISC)2 (text): no answer provided. Are you a member of any of the following associations? / ISACA (text): no answer provided. Are you a member of any of the following associations? / Other (text): no answer provided. Are you a member of any of the following associations?: no answer provided. Would you be interested in hearing more from our partner associations?: Electronic Specifier;TechUK. Single Select Demographics / Would you be interested in exhibiting/sponsorship/partnership/speaking?: no answer provided. How did you hear about us? / Other (text): no answer provided. Single Select Demographics / How did you hear about us?: Facebook. Accessibility: What can we do to make this event space more comfortable for you? / Accessibility: What can we do to make this ev: no answer provided. How do you plan to travel to the event? / Other (text): no answer provided. Single Select Demographics / How do you plan to travel to the event?: Train. Single Select Demographics / How many nights do you intend to stay at a hotel for when attending this event?: 2.0. I have read and accept the Event Terms and Conditions: I have read and accept the Event Terms and Conditions . I have read and accept the Privacy Policy: I have read and accept the Privacy Policy . If you would like to receive information from us about third party products, events and services, please tick here.: no answer provided. If you are happy for your name and email address to be shared with such third parties for marketing purposes, please tick here.: no answer provided. Interested in keeping up with the latest tech news?: no answer provided. Please ensure that you have consent from your colleagues to register on behalf of them and provide their details to access the e: Please ensure that you have consent from your colleagues to register on behalf of them and provide their details to access the event and/or other relevant services.. Attended: No. Virtual Attended: No. Day 1: no answer provided. Day 1 Entry: no answer provided. Day 2: no answer provided. Day 2 Entry: no answer provided. Referrer / Referrer First Name (text): no answer provided. Referrer / Referrer Email (text): no answer provided. Single Select Demographics / Which best describes your job function?: no answer provided. Twitter ID / Keep in touch! Share your Linkedin profile: (text): no answer provided. Your organisation industry sector: / Other (text): no answer provided. Single Select Demographics / Your organisation industry sector:: no answer provided. Please specify your industry sector (Media/Communications): no answer provided. Which co-located events are of high relevance to you?: Big Data & AI World. Your main areas of interest: / Other (text): no answer provided. Your main areas of interest:: no answer provided. Would you be interested in hearing more from our partners?: no answer provided. Would you be interested in subscribing to our Official Publications?: no answer provided. Keep in touch! Share your Linkedin profile: / Keep in touch! Share your Linkedin profile: (text): no answer provided. Single Select Demographics / Decision Making Power: no answer provided. Single Select Demographics / Does your company currently use DevOps tools and practices?: No. Single Select Demographics / Do you currently have a dedicated DevOps team and/or infrastructure?: no answer provided. Single Select Demographics / Do you have a budget for DevOps solutions?: no answer provided. Please specify your industry sector (Banking/Finance/Insurance): no answer provided. Please specify your industry sector (Not for profit): no answer provided. Would you be interested in exhibiting/sponsorship/partnership/speaking?: No. Your main areas of interest / Other (text): no answer provided. Unnamed: 0: no answer provided. Show Report DCWL24: no answer provided. Unnamed: 2: no answer provided. Unnamed: 3: no answer provided. Unnamed: 4: no answer provided. Unnamed: 5: no answer provided. Unnamed: 6: no answer provided. Unnamed: 7: no answer provided. Unnamed: 8: no answer provided. Unnamed: 9: no answer provided. Unnamed: 10: no answer provided. Unnamed: 11: no answer provided. Unnamed: 12: no answer provided. Unnamed: 13: no answer provided. Unnamed: 14: no answer provided. Unnamed: 15: no answer provided. Unnamed: 16: no answer provided. Unnamed: 17: no answer provided. Unnamed: 18: no answer provided. Unnamed: 19: no answer provided. Unnamed: 20: no answer provided. Unnamed: 21: no answer provided. Unnamed: 22: no answer provided. Unnamed: 23: no answer provided. Unnamed: 24: no answer provided. Unnamed: 25: no answer provided. Unnamed: 26: no answer provided. Unnamed: 27: no answer provided. Unnamed: 28: no answer provided. Unnamed: 29: no answer provided. Unnamed: 30: no answer provided. Unnamed: 31: no answer provided. Unnamed: 32: no answer provided. Unnamed: 33: no answer provided. Unnamed: 34: no answer provided. Unnamed: 35: no answer provided. Unnamed: 36: no answer provided. Unnamed: 37: no answer provided. Unnamed: 38: no answer provided. Unnamed: 39: no answer provided. Unnamed: 40: no answer provided. Unnamed: 41: no answer provided. Unnamed: 42: no answer provided. Unnamed: 43: no answer provided. Unnamed: 44: no answer provided. Unnamed: 45: no answer provided. Unnamed: 46: no answer provided. Unnamed: 47: no answer provided. Unnamed: 48: no answer provided. Unnamed: 49: no answer provided. Unnamed: 50: no answer provided. Unnamed: 51: no answer provided. Unnamed: 52: no answer provided. Unnamed: 53: no answer provided. Unnamed: 54: no answer provided. Unnamed: 55: no answer provided. Unnamed: 56: no answer provided. Unnamed: 57: no answer provided. Unnamed: 58: no answer provided. Unnamed: 59: no answer provided. Unnamed: 60: no answer provided. Unnamed: 61: no answer provided. Unnamed: 62: no answer provided. Unnamed: 63: no answer provided. Unnamed: 64: no answer provided. Unnamed: 65: no answer provided. Unnamed: 66: no answer provided. Unnamed: 67: no answer provided. Unnamed: 68: no answer provided. Unnamed: 69: no answer provided. Unnamed: 70: no answer provided. Unnamed: 71: no answer provided. Unnamed: 72: no answer provided. Unnamed: 73: no answer provided. Unnamed: 74: no answer provided. Unnamed: 75: no answer provided. Unnamed: 76: no answer provided. Unnamed: 77: no answer provided. Unnamed: 78: no answer provided. Unnamed: 79: no answer provided. Unnamed: 80: no answer provided. Unnamed: 81: no answer provided. Unnamed: 82: no answer provided. Unnamed: 83: no answer provided. Unnamed: 84: no answer provided. Unnamed: 85: no answer provided. Unnamed: 86: no answer provided. Unnamed: 87: no answer provided. Unnamed: 88: no answer provided. Unnamed: 89: no answer provided. Unnamed: 90: no answer provided. Unnamed: 91: no answer provided. Unnamed: 92: no answer provided. Unnamed: 93: no answer provided. Unnamed: 94: no answer provided. Unnamed: 95: no answer provided. Unnamed: 96: no answer provided\",\n          \"Show Ref: BDAIWL24. Badge Id: 7UKDA7L. Registration Code: A8X2B. Registration Guid: 5b8181f2-a827-4471-ba63-b0d600bb99d0. Session Guid: 664db905-1049-4dbc-b695-f408436a1f94. Source: email_TMInvite_TMInvite. Badge Type: VIP. Status: Approved. Registration Date: 2023-12-12 11:23:01.790000. Weeks Out: 12.0. Title: no answer provided. Firstname: Matt. Surname: Lyon. Job Title: Head of Data and Analytics. Company: Cabinet Office. Address 1: 1 Whitechapel High Street. Address 2: no answer provided. Address 3: no answer provided. Town/City: London. County: no answer provided. Postcode: E1 8QS. Country: UK. Telephone: +447474188313. Mobile: no answer provided. Fax: no answer provided. Email: matthew.lyon@digital.cabinet-office.gov.uk. Secondary Email: no answer provided. Website: no answer provided. Nationality: no answer provided. Account Number: 6458005.0. Booker Forename: no answer provided. Booker Surname: no answer provided. Booker Company: no answer provided. Booker Email: no answer provided. Offer Code: no answer provided. Referee Forename / Referee Forename (text): no answer provided. Referee Surname / Referee Surname (text): no answer provided. Single Select Demographics / Job Level: Head of Department. Job Level / Other (text): no answer provided. Single Select Demographics / Job Function: no answer provided. Job Function / Other (text): no answer provided. Linkedin ID / Keep in touch! Share your Linkedin profile: (text): no answer provided. Single Select Demographics / Decision making power: Influence overall decision. Single Select Demographics / What best describes your reason for attending: \\u2018I am attending because my company is...\\u2019: A buyer/consumer of data & AI solutions. Which best describes your company? / Other (text): no answer provided. Single Select Demographics / Which best describes your company?: no answer provided. Single Select Demographics / Number of Employees: 21 - 50. Your industry sector / Other (text): no answer provided. Single Select Demographics / Your industry sector: no answer provided. Please specify your industry sector (Arts): no answer provided. Please specify your industry sector (Banking/Finance): no answer provided. Please specify your industry sector (Central/Local Government): Government Administration. Please specify your industry sector (Cloud Industry): no answer provided. Please specify your industry sector (Construction): no answer provided. Please specify your industry sector (Consumer Goods): no answer provided. Please specify your industry sector (Corporate): no answer provided. Please specify your industry sector (Education): no answer provided. Please specify your industry sector (Healthcare/Pharma): no answer provided. Please specify your industry sector (Manufacturing): no answer provided. Please specify your industry sector (Media/Entertainment): no answer provided. Please specify your industry sector (Not for Profit): no answer provided. Please specify your industry sector (Retail): no answer provided. Please specify your industry sector (Service): no answer provided. Please specify your industry sector (Transportation): no answer provided. Please specify your industry sector (Professional Services): no answer provided. Please specify your industry sector (Technology): no answer provided. Which co-located events are of high relevance to you? CCSL: no answer provided. Your main areas of interest: no answer provided. Single Select Demographics / Do you intend to visit:: Both Days. Are you a member of any of the following associations? / (ISC)2 (text): no answer provided. Are you a member of any of the following associations? / ISACA (text): no answer provided. Are you a member of any of the following associations? / Other (text): no answer provided. Are you a member of any of the following associations?: no answer provided. Would you be interested in hearing more from our partner associations?: no answer provided. Single Select Demographics / Would you be interested in exhibiting/sponsorship/partnership/speaking?: No. How did you hear about us? / Other (text): no answer provided. Single Select Demographics / How did you hear about us?: Received email from Show Organiser. Accessibility: What can we do to make this event space more comfortable for you? / Accessibility: What can we do to make this ev: no answer provided. How do you plan to travel to the event? / Other (text): no answer provided. Single Select Demographics / How do you plan to travel to the event?: Bus. Single Select Demographics / How many nights do you intend to stay at a hotel for when attending this event?: 0.0. I have read and accept the Event Terms and Conditions: I have read and accept the Event Terms and Conditions . I have read and accept the Privacy Policy: I have read and accept the Privacy Policy . If you would like to receive information from us about third party products, events and services, please tick here.: no answer provided. If you are happy for your name and email address to be shared with such third parties for marketing purposes, please tick here.: no answer provided. Interested in keeping up with the latest tech news?: no answer provided. Please ensure that you have consent from your colleagues to register on behalf of them and provide their details to access the e: no answer provided. Attended: No. Virtual Attended: No. Day 1: no answer provided. Day 1 Entry: no answer provided. Day 2: no answer provided. Day 2 Entry: no answer provided. Referrer / Referrer First Name (text): no answer provided. Referrer / Referrer Email (text): no answer provided. Single Select Demographics / Which best describes your job function?: Data (analytics, BI, data science). Twitter ID / Keep in touch! Share your Linkedin profile: (text): no answer provided. Your organisation industry sector: / Other (text): no answer provided. Single Select Demographics / Your organisation industry sector:: Central/Local Government. Please specify your industry sector (Media/Communications): no answer provided. Which co-located events are of high relevance to you?: Big Data & AI World;Data Centre World. Your main areas of interest: / Other (text): no answer provided. Your main areas of interest:: AI;AI as a Service;Data Analytics;Data Lake;Data Mining;Data Science;Data Visualization;Deep Learning;Machine Learning;Natural Language Processing;Real-Time Analytics & Intelligence. Would you be interested in hearing more from our partners?: no answer provided. Would you be interested in subscribing to our Official Publications?: no answer provided. Keep in touch! Share your Linkedin profile: / Keep in touch! Share your Linkedin profile: (text): no answer provided. Single Select Demographics / Decision Making Power: no answer provided. Single Select Demographics / Does your company currently use DevOps tools and practices?: no answer provided. Single Select Demographics / Do you currently have a dedicated DevOps team and/or infrastructure?: no answer provided. Single Select Demographics / Do you have a budget for DevOps solutions?: no answer provided. Please specify your industry sector (Banking/Finance/Insurance): no answer provided. Please specify your industry sector (Not for profit): no answer provided. Would you be interested in exhibiting/sponsorship/partnership/speaking?: no answer provided. Your main areas of interest / Other (text): no answer provided. Unnamed: 0: no answer provided. Show Report DCWL24: no answer provided. Unnamed: 2: no answer provided. Unnamed: 3: no answer provided. Unnamed: 4: no answer provided. Unnamed: 5: no answer provided. Unnamed: 6: no answer provided. Unnamed: 7: no answer provided. Unnamed: 8: no answer provided. Unnamed: 9: no answer provided. Unnamed: 10: no answer provided. Unnamed: 11: no answer provided. Unnamed: 12: no answer provided. Unnamed: 13: no answer provided. Unnamed: 14: no answer provided. Unnamed: 15: no answer provided. Unnamed: 16: no answer provided. Unnamed: 17: no answer provided. Unnamed: 18: no answer provided. Unnamed: 19: no answer provided. Unnamed: 20: no answer provided. Unnamed: 21: no answer provided. Unnamed: 22: no answer provided. Unnamed: 23: no answer provided. Unnamed: 24: no answer provided. Unnamed: 25: no answer provided. Unnamed: 26: no answer provided. Unnamed: 27: no answer provided. Unnamed: 28: no answer provided. Unnamed: 29: no answer provided. Unnamed: 30: no answer provided. Unnamed: 31: no answer provided. Unnamed: 32: no answer provided. Unnamed: 33: no answer provided. Unnamed: 34: no answer provided. Unnamed: 35: no answer provided. Unnamed: 36: no answer provided. Unnamed: 37: no answer provided. Unnamed: 38: no answer provided. Unnamed: 39: no answer provided. Unnamed: 40: no answer provided. Unnamed: 41: no answer provided. Unnamed: 42: no answer provided. Unnamed: 43: no answer provided. Unnamed: 44: no answer provided. Unnamed: 45: no answer provided. Unnamed: 46: no answer provided. Unnamed: 47: no answer provided. Unnamed: 48: no answer provided. Unnamed: 49: no answer provided. Unnamed: 50: no answer provided. Unnamed: 51: no answer provided. Unnamed: 52: no answer provided. Unnamed: 53: no answer provided. Unnamed: 54: no answer provided. Unnamed: 55: no answer provided. Unnamed: 56: no answer provided. Unnamed: 57: no answer provided. Unnamed: 58: no answer provided. Unnamed: 59: no answer provided. Unnamed: 60: no answer provided. Unnamed: 61: no answer provided. Unnamed: 62: no answer provided. Unnamed: 63: no answer provided. Unnamed: 64: no answer provided. Unnamed: 65: no answer provided. Unnamed: 66: no answer provided. Unnamed: 67: no answer provided. Unnamed: 68: no answer provided. Unnamed: 69: no answer provided. Unnamed: 70: no answer provided. Unnamed: 71: no answer provided. Unnamed: 72: no answer provided. Unnamed: 73: no answer provided. Unnamed: 74: no answer provided. Unnamed: 75: no answer provided. Unnamed: 76: no answer provided. Unnamed: 77: no answer provided. Unnamed: 78: no answer provided. Unnamed: 79: no answer provided. Unnamed: 80: no answer provided. Unnamed: 81: no answer provided. Unnamed: 82: no answer provided. Unnamed: 83: no answer provided. Unnamed: 84: no answer provided. Unnamed: 85: no answer provided. Unnamed: 86: no answer provided. Unnamed: 87: no answer provided. Unnamed: 88: no answer provided. Unnamed: 89: no answer provided. Unnamed: 90: no answer provided. Unnamed: 91: no answer provided. Unnamed: 92: no answer provided. Unnamed: 93: no answer provided. Unnamed: 94: no answer provided. Unnamed: 95: no answer provided. Unnamed: 96: no answer provided\",\n          \"Show Ref: CCSEL24. Badge Id: RQM8RVB. Registration Code: EFF7E. Registration Guid: 6d74ef57-bb7c-40c3-9120-b0d600c41f54. Session Guid: 07a0d913-2f42-4774-bcfb-6f5f8a65015f. Source: LiveLeads. Badge Type: Visitor. Status: Approved. Registration Date: 2023-12-12 11:54:03.333000. Weeks Out: 12.0. Title: Mr. Firstname: Neil. Surname: Rivers. Job Title: Technical Director. Company: Change IT Professional Services Ltd. Address 1: 130 Old Street. Address 2: no answer provided. Address 3: no answer provided. Town/City: London. County: no answer provided. Postcode: EC1V 9BD. Country: UK. Telephone: +447702170227. Mobile: no answer provided. Fax: no answer provided. Email: n.rivers@change-itc.com. Secondary Email: no answer provided. Website: no answer provided. Nationality: no answer provided. Account Number: 5623688.0. Booker Forename: no answer provided. Booker Surname: no answer provided. Booker Company: no answer provided. Booker Email: no answer provided. Offer Code: no answer provided. Referee Forename / Referee Forename (text): no answer provided. Referee Surname / Referee Surname (text): no answer provided. Single Select Demographics / Job Level: Director. Job Level / Other (text): no answer provided. Single Select Demographics / Job Function: Innovation, Transformation. Job Function / Other (text): no answer provided. Linkedin ID / Keep in touch! Share your Linkedin profile: (text): no answer provided. Single Select Demographics / Decision making power: Influence overall decision. Single Select Demographics / What best describes your reason for attending: \\u2018I am attending because my company is...\\u2019: A related service provider or supplier (e.g. consultant). Which best describes your company? / Other (text): no answer provided. Single Select Demographics / Which best describes your company?: Managed (Security) Service Provider. Single Select Demographics / Number of Employees: 1 - 20. Your industry sector / Other (text): no answer provided. Single Select Demographics / Your industry sector: Technology. Please specify your industry sector (Arts): no answer provided. Please specify your industry sector (Banking/Finance): no answer provided. Please specify your industry sector (Central/Local Government): no answer provided. Please specify your industry sector (Cloud Industry): no answer provided. Please specify your industry sector (Construction): no answer provided. Please specify your industry sector (Consumer Goods): no answer provided. Please specify your industry sector (Corporate): no answer provided. Please specify your industry sector (Education): no answer provided. Please specify your industry sector (Healthcare/Pharma): no answer provided. Please specify your industry sector (Manufacturing): no answer provided. Please specify your industry sector (Media/Entertainment): no answer provided. Please specify your industry sector (Not for Profit): no answer provided. Please specify your industry sector (Retail): no answer provided. Please specify your industry sector (Service): no answer provided. Please specify your industry sector (Transportation): no answer provided. Please specify your industry sector (Professional Services): no answer provided. Please specify your industry sector (Technology): Computer & Network Security;Computer Hardware;Computer Networking;Computer Software;Defense & Space;Information Technology and Services;Wireless. Which co-located events are of high relevance to you? CCSL: Big Data & AI World;Cloud Expo Europe;Data Centre World;DevOps Live. Your main areas of interest: Data Platform;DataOps;Managed Service Provider (MSP);Media;Performance Management & Monitoring;Testing;Value Added Distributor (VAD) / Value Added Reseller (VAR);Version Control;Virtualization. Single Select Demographics / Do you intend to visit:: Both Days. Are you a member of any of the following associations? / (ISC)2 (text): no answer provided. Are you a member of any of the following associations? / ISACA (text): no answer provided. Are you a member of any of the following associations? / Other (text): no answer provided. Are you a member of any of the following associations?: no answer provided. Would you be interested in hearing more from our partner associations?: Chartered Institute of Information Security;Cyber Security Jobsite;TechUK. Single Select Demographics / Would you be interested in exhibiting/sponsorship/partnership/speaking?: No. How did you hear about us? / Other (text): no answer provided. Single Select Demographics / How did you hear about us?: LinkedIn. Accessibility: What can we do to make this event space more comfortable for you? / Accessibility: What can we do to make this ev: no answer provided. How do you plan to travel to the event? / Other (text): no answer provided. Single Select Demographics / How do you plan to travel to the event?: Train. Single Select Demographics / How many nights do you intend to stay at a hotel for when attending this event?: 0.0. I have read and accept the Event Terms and Conditions: I have read and accept the Event Terms and Conditions . I have read and accept the Privacy Policy: I have read and accept the Privacy Policy . If you would like to receive information from us about third party products, events and services, please tick here.: no answer provided. If you are happy for your name and email address to be shared with such third parties for marketing purposes, please tick here.: no answer provided. Interested in keeping up with the latest tech news?: no answer provided. Please ensure that you have consent from your colleagues to register on behalf of them and provide their details to access the e: Please ensure that you have consent from your colleagues to register on behalf of them and provide their details to access the event and/or other relevant services.. Attended: Yes. Virtual Attended: No. Day 1: Yes. Day 1 Entry: 2024-03-06 16:26:35.217000. Day 2: Yes. Day 2 Entry: 2024-03-07 11:59:16.767000. Referrer / Referrer First Name (text): no answer provided. Referrer / Referrer Email (text): no answer provided. Single Select Demographics / Which best describes your job function?: no answer provided. Twitter ID / Keep in touch! Share your Linkedin profile: (text): no answer provided. Your organisation industry sector: / Other (text): no answer provided. Single Select Demographics / Your organisation industry sector:: no answer provided. Please specify your industry sector (Media/Communications): no answer provided. Which co-located events are of high relevance to you?: no answer provided. Your main areas of interest: / Other (text): no answer provided. Your main areas of interest:: no answer provided. Would you be interested in hearing more from our partners?: no answer provided. Would you be interested in subscribing to our Official Publications?: no answer provided. Keep in touch! Share your Linkedin profile: / Keep in touch! Share your Linkedin profile: (text): no answer provided. Single Select Demographics / Decision Making Power: no answer provided. Single Select Demographics / Does your company currently use DevOps tools and practices?: no answer provided. Single Select Demographics / Do you currently have a dedicated DevOps team and/or infrastructure?: no answer provided. Single Select Demographics / Do you have a budget for DevOps solutions?: no answer provided. Please specify your industry sector (Banking/Finance/Insurance): no answer provided. Please specify your industry sector (Not for profit): no answer provided. Would you be interested in exhibiting/sponsorship/partnership/speaking?: no answer provided. Your main areas of interest / Other (text): no answer provided. Unnamed: 0: no answer provided. Show Report DCWL24: no answer provided. Unnamed: 2: no answer provided. Unnamed: 3: no answer provided. Unnamed: 4: no answer provided. Unnamed: 5: no answer provided. Unnamed: 6: no answer provided. Unnamed: 7: no answer provided. Unnamed: 8: no answer provided. Unnamed: 9: no answer provided. Unnamed: 10: no answer provided. Unnamed: 11: no answer provided. Unnamed: 12: no answer provided. Unnamed: 13: no answer provided. Unnamed: 14: no answer provided. Unnamed: 15: no answer provided. Unnamed: 16: no answer provided. Unnamed: 17: no answer provided. Unnamed: 18: no answer provided. Unnamed: 19: no answer provided. Unnamed: 20: no answer provided. Unnamed: 21: no answer provided. Unnamed: 22: no answer provided. Unnamed: 23: no answer provided. Unnamed: 24: no answer provided. Unnamed: 25: no answer provided. Unnamed: 26: no answer provided. Unnamed: 27: no answer provided. Unnamed: 28: no answer provided. Unnamed: 29: no answer provided. Unnamed: 30: no answer provided. Unnamed: 31: no answer provided. Unnamed: 32: no answer provided. Unnamed: 33: no answer provided. Unnamed: 34: no answer provided. Unnamed: 35: no answer provided. Unnamed: 36: no answer provided. Unnamed: 37: no answer provided. Unnamed: 38: no answer provided. Unnamed: 39: no answer provided. Unnamed: 40: no answer provided. Unnamed: 41: no answer provided. Unnamed: 42: no answer provided. Unnamed: 43: no answer provided. Unnamed: 44: no answer provided. Unnamed: 45: no answer provided. Unnamed: 46: no answer provided. Unnamed: 47: no answer provided. Unnamed: 48: no answer provided. Unnamed: 49: no answer provided. Unnamed: 50: no answer provided. Unnamed: 51: no answer provided. Unnamed: 52: no answer provided. Unnamed: 53: no answer provided. Unnamed: 54: no answer provided. Unnamed: 55: no answer provided. Unnamed: 56: no answer provided. Unnamed: 57: no answer provided. Unnamed: 58: no answer provided. Unnamed: 59: no answer provided. Unnamed: 60: no answer provided. Unnamed: 61: no answer provided. Unnamed: 62: no answer provided. Unnamed: 63: no answer provided. Unnamed: 64: no answer provided. Unnamed: 65: no answer provided. Unnamed: 66: no answer provided. Unnamed: 67: no answer provided. Unnamed: 68: no answer provided. Unnamed: 69: no answer provided. Unnamed: 70: no answer provided. Unnamed: 71: no answer provided. Unnamed: 72: no answer provided. Unnamed: 73: no answer provided. Unnamed: 74: no answer provided. Unnamed: 75: no answer provided. Unnamed: 76: no answer provided. Unnamed: 77: no answer provided. Unnamed: 78: no answer provided. Unnamed: 79: no answer provided. Unnamed: 80: no answer provided. Unnamed: 81: no answer provided. Unnamed: 82: no answer provided. Unnamed: 83: no answer provided. Unnamed: 84: no answer provided. Unnamed: 85: no answer provided. Unnamed: 86: no answer provided. Unnamed: 87: no answer provided. Unnamed: 88: no answer provided. Unnamed: 89: no answer provided. Unnamed: 90: no answer provided. Unnamed: 91: no answer provided. Unnamed: 92: no answer provided. Unnamed: 93: no answer provided. Unnamed: 94: no answer provided. Unnamed: 95: no answer provided. Unnamed: 96: no answer provided\"\n        ],\n        \"semantic_type\": \"\",\n        \"description\": \"\"\n      }\n    }\n  ]\n}"
            }
          },
          "metadata": {},
          "execution_count": 29
        }
      ]
    },
    {
      "cell_type": "code",
      "source": [
        "len(data)"
      ],
      "metadata": {
        "colab": {
          "base_uri": "https://localhost:8080/"
        },
        "id": "SK03xeagv4sv",
        "outputId": "8c17b9ae-40f2-470f-826d-4ebe46b0f7f8"
      },
      "execution_count": 13,
      "outputs": [
        {
          "output_type": "execute_result",
          "data": {
            "text/plain": [
              "1215"
            ]
          },
          "metadata": {},
          "execution_count": 13
        }
      ]
    },
    {
      "cell_type": "code",
      "source": [
        "data.ClusterId.value_counts()"
      ],
      "metadata": {
        "colab": {
          "base_uri": "https://localhost:8080/",
          "height": 304
        },
        "id": "5isNWQy-v4o3",
        "outputId": "d852334b-be52-4124-bd00-2f319121fa3e"
      },
      "execution_count": 30,
      "outputs": [
        {
          "output_type": "execute_result",
          "data": {
            "text/plain": [
              "ClusterId\n",
              "Networking               243\n",
              "Learning                 231\n",
              "Sourcing – Early         208\n",
              "Searching                204\n",
              "Sourcing – In Process    100\n",
              "Sourcing – Deciding       14\n",
              "Name: count, dtype: int64"
            ],
            "text/html": [
              "<div>\n",
              "<style scoped>\n",
              "    .dataframe tbody tr th:only-of-type {\n",
              "        vertical-align: middle;\n",
              "    }\n",
              "\n",
              "    .dataframe tbody tr th {\n",
              "        vertical-align: top;\n",
              "    }\n",
              "\n",
              "    .dataframe thead th {\n",
              "        text-align: right;\n",
              "    }\n",
              "</style>\n",
              "<table border=\"1\" class=\"dataframe\">\n",
              "  <thead>\n",
              "    <tr style=\"text-align: right;\">\n",
              "      <th></th>\n",
              "      <th>count</th>\n",
              "    </tr>\n",
              "    <tr>\n",
              "      <th>ClusterId</th>\n",
              "      <th></th>\n",
              "    </tr>\n",
              "  </thead>\n",
              "  <tbody>\n",
              "    <tr>\n",
              "      <th>Networking</th>\n",
              "      <td>243</td>\n",
              "    </tr>\n",
              "    <tr>\n",
              "      <th>Learning</th>\n",
              "      <td>231</td>\n",
              "    </tr>\n",
              "    <tr>\n",
              "      <th>Sourcing – Early</th>\n",
              "      <td>208</td>\n",
              "    </tr>\n",
              "    <tr>\n",
              "      <th>Searching</th>\n",
              "      <td>204</td>\n",
              "    </tr>\n",
              "    <tr>\n",
              "      <th>Sourcing – In Process</th>\n",
              "      <td>100</td>\n",
              "    </tr>\n",
              "    <tr>\n",
              "      <th>Sourcing – Deciding</th>\n",
              "      <td>14</td>\n",
              "    </tr>\n",
              "  </tbody>\n",
              "</table>\n",
              "</div><br><label><b>dtype:</b> int64</label>"
            ]
          },
          "metadata": {},
          "execution_count": 30
        }
      ]
    },
    {
      "cell_type": "code",
      "source": [
        "df_networking = data[data['ClusterId'] == 'Networking']\n",
        "df_learning = data[data['ClusterId'] == 'Learning']\n",
        "df_searching = data[data['ClusterId'] == 'Searching']\n",
        "df_sourcing_early = data[data['ClusterId'] == 'Sourcing – Early']\n",
        "df_sourcing_inprocess = data[data['ClusterId'] == 'Sourcing – In Process']\n",
        "df_sourcing_deciding = data[data['ClusterId'] == 'Sourcing – Deciding']"
      ],
      "metadata": {
        "id": "z_1V4rzpv4j-"
      },
      "execution_count": 31,
      "outputs": []
    },
    {
      "cell_type": "code",
      "source": [
        "example_networking = df_networking[0:1].to_dict()\n",
        "example_learning = df_learning[0:1].to_dict()\n",
        "example_searching = df_searching[0:1].to_dict()\n",
        "example_sourcing_early = df_sourcing_early[0:1].to_dict()\n",
        "example_sourcing_inprocess = df_sourcing_inprocess[0:1].to_dict()\n",
        "example_sourcing_deciding = df_sourcing_deciding[0:1].to_dict()\n"
      ],
      "metadata": {
        "id": "9c96Uu4Vw_kQ"
      },
      "execution_count": 32,
      "outputs": []
    },
    {
      "cell_type": "code",
      "source": [
        "list_examples = [example_networking, example_learning, example_searching, example_sourcing_early, example_sourcing_inprocess, example_sourcing_deciding]"
      ],
      "metadata": {
        "id": "XoJPwhDW1o0U"
      },
      "execution_count": 54,
      "outputs": []
    },
    {
      "cell_type": "code",
      "source": [
        "examples={}\n",
        "for example in list_examples:\n",
        "\n",
        "  examples[list(example['ClusterId'].values())[0]] = list(example['AggregatedInfo'].values())[0]"
      ],
      "metadata": {
        "id": "ua4QuuKDypuD"
      },
      "execution_count": 60,
      "outputs": []
    },
    {
      "cell_type": "code",
      "source": [
        "examples.keys()"
      ],
      "metadata": {
        "colab": {
          "base_uri": "https://localhost:8080/"
        },
        "id": "Pj22BkkoyzVW",
        "outputId": "6541489d-35d5-418b-c693-d5d9d0752480"
      },
      "execution_count": 61,
      "outputs": [
        {
          "output_type": "execute_result",
          "data": {
            "text/plain": [
              "dict_keys(['Networking', 'Learning', 'Searching', 'Sourcing – Early', 'Sourcing – In Process', 'Sourcing – Deciding'])"
            ]
          },
          "metadata": {},
          "execution_count": 61
        }
      ]
    },
    {
      "cell_type": "code",
      "source": [
        "df_networking=df_networking[1:]\n",
        "df_learning=df_learning[1:]\n",
        "df_searching=df_searching[1:]\n",
        "df_sourcing_early=df_sourcing_early[1:]\n",
        "df_sourcing_inprocess=df_sourcing_inprocess[1:]\n",
        "df_sourcing_deciding=df_sourcing_deciding[1:]"
      ],
      "metadata": {
        "id": "B8c_ZqA3w_fR"
      },
      "execution_count": 33,
      "outputs": []
    },
    {
      "cell_type": "code",
      "source": [
        "with open(nomenclature_embeddings_path, 'r') as f:\n",
        "    nomenclatures = json.load(f)"
      ],
      "metadata": {
        "id": "WtXFr8ySxqcU"
      },
      "execution_count": 25,
      "outputs": []
    },
    {
      "cell_type": "code",
      "source": [
        "#nomenclatures"
      ],
      "metadata": {
        "id": "y63Sg73kx89-"
      },
      "execution_count": 62,
      "outputs": []
    },
    {
      "cell_type": "code",
      "source": [
        "text_example = df_searching[0:1]['AggregatedInfo'].values[0]\n",
        "\n"
      ],
      "metadata": {
        "id": "pcgAnjblx85y"
      },
      "execution_count": 102,
      "outputs": []
    },
    {
      "cell_type": "code",
      "source": [
        "# Function to generate the classification prompt\n",
        "def generate_prompt(label_dict, examples, text_example):\n",
        "    prompt = \"Categories and Descriptions:\\n\\n\"\n",
        "    for label, description in label_dict.items():\n",
        "        prompt += f\"Category: {label} --> {description[len(label)+1:]}\\n\"\n",
        "\n",
        "    prompt += \"\\nExamples: (1 text associated to a category)\\n\"\n",
        "    for label, example in examples.items():\n",
        "        prompt += f\"Category: {label} --> {example}\\n\"\n",
        "\n",
        "    prompt += \"\\nText to classify:\\n\"\n",
        "    prompt += \"----------------------------------------------------\\n\"\n",
        "    prompt += text_example\n",
        "    prompt += \"----------------------------------------------------\\n\"\n",
        "    prompt += \"\\n\\n Only return a class label among these 6:\\\n",
        "        'Networking', 'Learning', 'Searching', 'Sourcing – Early', 'Sourcing – In Process', 'Sourcing – Deciding' \"\n",
        "    return prompt"
      ],
      "metadata": {
        "id": "74H9E_P8x81y"
      },
      "execution_count": 103,
      "outputs": []
    },
    {
      "cell_type": "code",
      "source": [
        "prompt = generate_prompt(nomenclatures, examples, text_example)\n",
        "len(prompt)"
      ],
      "metadata": {
        "colab": {
          "base_uri": "https://localhost:8080/"
        },
        "id": "jdNYZNqix8xI",
        "outputId": "d9165348-d836-48e1-8fb6-884baa3eb6ce"
      },
      "execution_count": 104,
      "outputs": [
        {
          "output_type": "execute_result",
          "data": {
            "text/plain": [
              "76262"
            ]
          },
          "metadata": {},
          "execution_count": 104
        }
      ]
    },
    {
      "cell_type": "code",
      "source": [
        "print(prompt)"
      ],
      "metadata": {
        "colab": {
          "base_uri": "https://localhost:8080/"
        },
        "id": "28gJFqEbx8tb",
        "outputId": "f7735f1d-46a1-4170-95d8-e02cb01f1aeb"
      },
      "execution_count": 105,
      "outputs": [
        {
          "output_type": "stream",
          "name": "stdout",
          "text": [
            "Categories and Descriptions:\n",
            "\n",
            "Category: Networking -->  Visitors in this group are primarily focused on building professional relationships and expanding their business network. They attend events to meet industry peers, experts, and potential partners. Their interactions are more about establishing connections than immediate purchasing. They might be decision-makers or influencers in their organizations who value personal interactions and opportunities for collaboration.\n",
            "Category: Learning -->  These attendees are motivated by educational opportunities. They seek to gain new insights, learn about industry trends, and enhance their knowledge and skills. They are likely to attend workshops, seminars, and keynote speeches. Their interest in products or services is secondary to their desire for professional development. They may represent a long-term opportunity as their increased knowledge could lead to future purchasing decisions.\n",
            "Category: Searching --> (Gathering Information on Products or Services): Individuals in this category are in the initial stages of understanding what products or services are available in the market. Their primary goal is to collect as much information as possible without a strong inclination towards immediate purchasing. They are likely to engage with multiple vendors to compare offerings, gather brochures, and ask general questions.\n",
            "Category: Sourcing – Early -->  These visitors are in the early phase of sourcing products or services. They have identified a need or a problem to solve but are still exploring options and potential suppliers. They may engage in more specific conversations about products or services but are not yet ready to make a decision. They are evaluating their options and looking for vendors that can meet their specific requirements.\n",
            "Category: Sourcing – In Process -->  Attendees in this group are actively engaged in the sourcing process. They have likely narrowed down their options and are delving deeper into specific products or services. Their interactions are more detailed, involving discussions about pricing, implementation, or customization. They are seeking to understand how different offerings stack up against each other and may be close to selecting a vendor.\n",
            "Category: Sourcing – Deciding -->  This group represents potential delegates who are at the final stage of their purchasing journey. They have all the information they need and are making final evaluations to choose a vendor. Their interactions are decisive, focusing on final terms, delivery, support, and other post-purchase considerations. Engagements with these individuals are critical as they are on the verge of making a purchase decision.\n",
            "\n",
            "Examples: (1 text associated to a category)\n",
            "Category: Networking --> Show Ref: CCSEL24. Badge Id: I7Z9TJS. Registration Code: 6K6Q2. Registration Guid: b4bc60a6-16bc-49de-81f2-b124013412c1. Session Guid: 146b9536-dff0-406e-8820-1dc38c523ffb. Source: google,adwords_cpc,ppc_CCSEL24 | B | UK. Badge Type: Visitor. Status: Approved. Registration Date: 2024-02-28 18:41:39.280000. Weeks Out: 1.0. Title: Mr. Firstname: Ross. Surname: Haywood. Job Title: Manager - Cloud Engineering . Company: Howdens. Address 1: The Yard Raunds 2. Address 2: no answer provided. Address 3: no answer provided. Town/City: Raunds. County: no answer provided. Postcode: NN9 6RJ. Country: UK. Telephone: +44 07918 621801. Mobile: +44 7918621801. Fax: no answer provided. Email: ross.haywood@howdens.com. Secondary Email: no answer provided. Website: no answer provided. Nationality: no answer provided. Account Number: 6648886.0. Booker Forename: no answer provided. Booker Surname: no answer provided. Booker Company: no answer provided. Booker Email: no answer provided. Offer Code: no answer provided. Referee Forename / Referee Forename (text): no answer provided. Referee Surname / Referee Surname (text): no answer provided. Single Select Demographics / Job Level: Manager with Staff. Job Level / Other (text): no answer provided. Single Select Demographics / Job Function: Corporate Management. Job Function / Other (text): no answer provided. Linkedin ID / Keep in touch! Share your Linkedin profile: (text): no answer provided. Single Select Demographics / Decision making power: Influence overall decision. Single Select Demographics / What best describes your reason for attending: ‘I am attending because my company is...’: A buyer/consumer of information security solutions. Which best describes your company? / Other (text): no answer provided. Single Select Demographics / Which best describes your company?: no answer provided. Single Select Demographics / Number of Employees: 2500+. Your industry sector / Other (text): no answer provided. Single Select Demographics / Your industry sector: Manufacturing. Please specify your industry sector (Arts): no answer provided. Please specify your industry sector (Banking/Finance): no answer provided. Please specify your industry sector (Central/Local Government): no answer provided. Please specify your industry sector (Cloud Industry): no answer provided. Please specify your industry sector (Construction): no answer provided. Please specify your industry sector (Consumer Goods): no answer provided. Please specify your industry sector (Corporate): no answer provided. Please specify your industry sector (Education): no answer provided. Please specify your industry sector (Healthcare/Pharma): no answer provided. Please specify your industry sector (Manufacturing): Electrical/Electronic Manufacturing;Mechanical or Industrial Engineering;Textiles. Please specify your industry sector (Media/Entertainment): no answer provided. Please specify your industry sector (Not for Profit): no answer provided. Please specify your industry sector (Retail): no answer provided. Please specify your industry sector (Service): no answer provided. Please specify your industry sector (Transportation): no answer provided. Please specify your industry sector (Professional Services): no answer provided. Please specify your industry sector (Technology): no answer provided. Which co-located events are of high relevance to you? CCSL: Big Data & AI World;Cloud Expo Europe;Data Centre World;DevOps Live. Your main areas of interest: AIOps;Automation;CI/CD;Cloud Native;Cloud Security;Containers;Cost Management & Optimisation;Cyber Security;DevOps;DevSecOps;Log Management;Software / Software as a Service (SaaS);Testing;Zero Trust. Single Select Demographics / Do you intend to visit:: Both Days. Are you a member of any of the following associations? / (ISC)2 (text): no answer provided. Are you a member of any of the following associations? / ISACA (text): no answer provided. Are you a member of any of the following associations? / Other (text): no answer provided. Are you a member of any of the following associations?: no answer provided. Would you be interested in hearing more from our partner associations?: UK Cyber Security Council. Single Select Demographics / Would you be interested in exhibiting/sponsorship/partnership/speaking?: No. How did you hear about us? / Other (text): no answer provided. Single Select Demographics / How did you hear about us?: Previously attended. Accessibility: What can we do to make this event space more comfortable for you? / Accessibility: What can we do to make this ev: no answer provided. How do you plan to travel to the event? / Other (text): no answer provided. Single Select Demographics / How do you plan to travel to the event?: Train. Single Select Demographics / How many nights do you intend to stay at a hotel for when attending this event?: 2.0. I have read and accept the Event Terms and Conditions: I have read and accept the Event Terms and Conditions . I have read and accept the Privacy Policy: I have read and accept the Privacy Policy . If you would like to receive information from us about third party products, events and services, please tick here.: If you would like to receive information from us about third party products, events and services, please tick here.. If you are happy for your name and email address to be shared with such third parties for marketing purposes, please tick here.: no answer provided. Interested in keeping up with the latest tech news?: no answer provided. Please ensure that you have consent from your colleagues to register on behalf of them and provide their details to access the e: no answer provided. Attended: No. Virtual Attended: No. Day 1: no answer provided. Day 1 Entry: no answer provided. Day 2: no answer provided. Day 2 Entry: no answer provided. Referrer / Referrer First Name (text): no answer provided. Referrer / Referrer Email (text): no answer provided. Single Select Demographics / Which best describes your job function?: no answer provided. Twitter ID / Keep in touch! Share your Linkedin profile: (text): no answer provided. Your organisation industry sector: / Other (text): no answer provided. Single Select Demographics / Your organisation industry sector:: no answer provided. Please specify your industry sector (Media/Communications): no answer provided. Which co-located events are of high relevance to you?: no answer provided. Your main areas of interest: / Other (text): no answer provided. Your main areas of interest:: no answer provided. Would you be interested in hearing more from our partners?: no answer provided. Would you be interested in subscribing to our Official Publications?: no answer provided. Keep in touch! Share your Linkedin profile: / Keep in touch! Share your Linkedin profile: (text): no answer provided. Single Select Demographics / Decision Making Power: no answer provided. Single Select Demographics / Does your company currently use DevOps tools and practices?: no answer provided. Single Select Demographics / Do you currently have a dedicated DevOps team and/or infrastructure?: no answer provided. Single Select Demographics / Do you have a budget for DevOps solutions?: no answer provided. Please specify your industry sector (Banking/Finance/Insurance): no answer provided. Please specify your industry sector (Not for profit): no answer provided. Would you be interested in exhibiting/sponsorship/partnership/speaking?: no answer provided. Your main areas of interest / Other (text): no answer provided. Unnamed: 0: no answer provided. Show Report DCWL24: no answer provided. Unnamed: 2: no answer provided. Unnamed: 3: no answer provided. Unnamed: 4: no answer provided. Unnamed: 5: no answer provided. Unnamed: 6: no answer provided. Unnamed: 7: no answer provided. Unnamed: 8: no answer provided. Unnamed: 9: no answer provided. Unnamed: 10: no answer provided. Unnamed: 11: no answer provided. Unnamed: 12: no answer provided. Unnamed: 13: no answer provided. Unnamed: 14: no answer provided. Unnamed: 15: no answer provided. Unnamed: 16: no answer provided. Unnamed: 17: no answer provided. Unnamed: 18: no answer provided. Unnamed: 19: no answer provided. Unnamed: 20: no answer provided. Unnamed: 21: no answer provided. Unnamed: 22: no answer provided. Unnamed: 23: no answer provided. Unnamed: 24: no answer provided. Unnamed: 25: no answer provided. Unnamed: 26: no answer provided. Unnamed: 27: no answer provided. Unnamed: 28: no answer provided. Unnamed: 29: no answer provided. Unnamed: 30: no answer provided. Unnamed: 31: no answer provided. Unnamed: 32: no answer provided. Unnamed: 33: no answer provided. Unnamed: 34: no answer provided. Unnamed: 35: no answer provided. Unnamed: 36: no answer provided. Unnamed: 37: no answer provided. Unnamed: 38: no answer provided. Unnamed: 39: no answer provided. Unnamed: 40: no answer provided. Unnamed: 41: no answer provided. Unnamed: 42: no answer provided. Unnamed: 43: no answer provided. Unnamed: 44: no answer provided. Unnamed: 45: no answer provided. Unnamed: 46: no answer provided. Unnamed: 47: no answer provided. Unnamed: 48: no answer provided. Unnamed: 49: no answer provided. Unnamed: 50: no answer provided. Unnamed: 51: no answer provided. Unnamed: 52: no answer provided. Unnamed: 53: no answer provided. Unnamed: 54: no answer provided. Unnamed: 55: no answer provided. Unnamed: 56: no answer provided. Unnamed: 57: no answer provided. Unnamed: 58: no answer provided. Unnamed: 59: no answer provided. Unnamed: 60: no answer provided. Unnamed: 61: no answer provided. Unnamed: 62: no answer provided. Unnamed: 63: no answer provided. Unnamed: 64: no answer provided. Unnamed: 65: no answer provided. Unnamed: 66: no answer provided. Unnamed: 67: no answer provided. Unnamed: 68: no answer provided. Unnamed: 69: no answer provided. Unnamed: 70: no answer provided. Unnamed: 71: no answer provided. Unnamed: 72: no answer provided. Unnamed: 73: no answer provided. Unnamed: 74: no answer provided. Unnamed: 75: no answer provided. Unnamed: 76: no answer provided. Unnamed: 77: no answer provided. Unnamed: 78: no answer provided. Unnamed: 79: no answer provided. Unnamed: 80: no answer provided. Unnamed: 81: no answer provided. Unnamed: 82: no answer provided. Unnamed: 83: no answer provided. Unnamed: 84: no answer provided. Unnamed: 85: no answer provided. Unnamed: 86: no answer provided. Unnamed: 87: no answer provided. Unnamed: 88: no answer provided. Unnamed: 89: no answer provided. Unnamed: 90: no answer provided. Unnamed: 91: no answer provided. Unnamed: 92: no answer provided. Unnamed: 93: no answer provided. Unnamed: 94: no answer provided. Unnamed: 95: no answer provided. Unnamed: 96: no answer provided\n",
            "Category: Learning --> Show Ref: CEEL24. Badge Id: 54ZPEZG. Registration Code: 77ZAQ. Registration Guid: d7ee8379-d7fd-4a4f-ad78-b12c00bf712e. Session Guid: bcb7acfe-a5b8-4f34-bdfa-c46d5c86c77b. Source: CEEL24_Invite. Badge Type: Visitor. Status: Approved. Registration Date: 2024-03-07 11:37:00.477000. Weeks Out: 0.0. Title: no answer provided. Firstname: Niall. Surname: Guinan. Job Title: Sales Manager. Company: IBRANDIQ LIMITED. Address 1: Bloxham Mill . Address 2: no answer provided. Address 3: no answer provided. Town/City: Banbury. County: no answer provided. Postcode: OX15 4FF. Country: UK. Telephone: 447915264049. Mobile: no answer provided. Fax: no answer provided. Email: niallg@ibrandiq.com. Secondary Email: no answer provided. Website: no answer provided. Nationality: no answer provided. Account Number: 5561837.0. Booker Forename: no answer provided. Booker Surname: no answer provided. Booker Company: no answer provided. Booker Email: no answer provided. Offer Code: no answer provided. Referee Forename / Referee Forename (text): no answer provided. Referee Surname / Referee Surname (text): no answer provided. Single Select Demographics / Job Level: Manager without Staff. Job Level / Other (text): no answer provided. Single Select Demographics / Job Function: Sales. Job Function / Other (text): no answer provided. Linkedin ID / Keep in touch! Share your Linkedin profile: (text): no answer provided. Single Select Demographics / Decision making power: Influence overall decision. Single Select Demographics / What best describes your reason for attending: ‘I am attending because my company is...’: A buyer/consumer of cloud solutions. Which best describes your company? / Other (text): no answer provided. Single Select Demographics / Which best describes your company?: no answer provided. Single Select Demographics / Number of Employees: 1 - 20. Your industry sector / Other (text): no answer provided. Single Select Demographics / Your industry sector: Technology. Please specify your industry sector (Arts): no answer provided. Please specify your industry sector (Banking/Finance): no answer provided. Please specify your industry sector (Central/Local Government): no answer provided. Please specify your industry sector (Cloud Industry): no answer provided. Please specify your industry sector (Construction): no answer provided. Please specify your industry sector (Consumer Goods): no answer provided. Please specify your industry sector (Corporate): no answer provided. Please specify your industry sector (Education): no answer provided. Please specify your industry sector (Healthcare/Pharma): no answer provided. Please specify your industry sector (Manufacturing): no answer provided. Please specify your industry sector (Media/Entertainment): no answer provided. Please specify your industry sector (Not for Profit): no answer provided. Please specify your industry sector (Retail): no answer provided. Please specify your industry sector (Service): no answer provided. Please specify your industry sector (Transportation): no answer provided. Please specify your industry sector (Professional Services): no answer provided. Please specify your industry sector (Technology): Internet. Which co-located events are of high relevance to you? CCSL: no answer provided. Your main areas of interest: DevOps. Single Select Demographics / Do you intend to visit:: Day 2. Are you a member of any of the following associations? / (ISC)2 (text): no answer provided. Are you a member of any of the following associations? / ISACA (text): no answer provided. Are you a member of any of the following associations? / Other (text): no answer provided. Are you a member of any of the following associations?: no answer provided. Would you be interested in hearing more from our partner associations?: no answer provided. Single Select Demographics / Would you be interested in exhibiting/sponsorship/partnership/speaking?: no answer provided. How did you hear about us? / Other (text): no answer provided. Single Select Demographics / How did you hear about us?: Previously attended. Accessibility: What can we do to make this event space more comfortable for you? / Accessibility: What can we do to make this ev: no answer provided. How do you plan to travel to the event? / Other (text): no answer provided. Single Select Demographics / How do you plan to travel to the event?: Train. Single Select Demographics / How many nights do you intend to stay at a hotel for when attending this event?: 0.0. I have read and accept the Event Terms and Conditions: I have read and accept the Event Terms and Conditions . I have read and accept the Privacy Policy: I have read and accept the Privacy Policy . If you would like to receive information from us about third party products, events and services, please tick here.: no answer provided. If you are happy for your name and email address to be shared with such third parties for marketing purposes, please tick here.: no answer provided. Interested in keeping up with the latest tech news?: no answer provided. Please ensure that you have consent from your colleagues to register on behalf of them and provide their details to access the e: no answer provided. Attended: No. Virtual Attended: No. Day 1: no answer provided. Day 1 Entry: no answer provided. Day 2: no answer provided. Day 2 Entry: no answer provided. Referrer / Referrer First Name (text): no answer provided. Referrer / Referrer Email (text): no answer provided. Single Select Demographics / Which best describes your job function?: no answer provided. Twitter ID / Keep in touch! Share your Linkedin profile: (text): no answer provided. Your organisation industry sector: / Other (text): no answer provided. Single Select Demographics / Your organisation industry sector:: no answer provided. Please specify your industry sector (Media/Communications): no answer provided. Which co-located events are of high relevance to you?: Cloud & Cyber Security Expo. Your main areas of interest: / Other (text): no answer provided. Your main areas of interest:: no answer provided. Would you be interested in hearing more from our partners?: no answer provided. Would you be interested in subscribing to our Official Publications?: no answer provided. Keep in touch! Share your Linkedin profile: / Keep in touch! Share your Linkedin profile: (text): no answer provided. Single Select Demographics / Decision Making Power: no answer provided. Single Select Demographics / Does your company currently use DevOps tools and practices?: Yes. Single Select Demographics / Do you currently have a dedicated DevOps team and/or infrastructure?: no answer provided. Single Select Demographics / Do you have a budget for DevOps solutions?: no answer provided. Please specify your industry sector (Banking/Finance/Insurance): no answer provided. Please specify your industry sector (Not for profit): no answer provided. Would you be interested in exhibiting/sponsorship/partnership/speaking?: no answer provided. Your main areas of interest / Other (text): no answer provided. Unnamed: 0: no answer provided. Show Report DCWL24: no answer provided. Unnamed: 2: no answer provided. Unnamed: 3: no answer provided. Unnamed: 4: no answer provided. Unnamed: 5: no answer provided. Unnamed: 6: no answer provided. Unnamed: 7: no answer provided. Unnamed: 8: no answer provided. Unnamed: 9: no answer provided. Unnamed: 10: no answer provided. Unnamed: 11: no answer provided. Unnamed: 12: no answer provided. Unnamed: 13: no answer provided. Unnamed: 14: no answer provided. Unnamed: 15: no answer provided. Unnamed: 16: no answer provided. Unnamed: 17: no answer provided. Unnamed: 18: no answer provided. Unnamed: 19: no answer provided. Unnamed: 20: no answer provided. Unnamed: 21: no answer provided. Unnamed: 22: no answer provided. Unnamed: 23: no answer provided. Unnamed: 24: no answer provided. Unnamed: 25: no answer provided. Unnamed: 26: no answer provided. Unnamed: 27: no answer provided. Unnamed: 28: no answer provided. Unnamed: 29: no answer provided. Unnamed: 30: no answer provided. Unnamed: 31: no answer provided. Unnamed: 32: no answer provided. Unnamed: 33: no answer provided. Unnamed: 34: no answer provided. Unnamed: 35: no answer provided. Unnamed: 36: no answer provided. Unnamed: 37: no answer provided. Unnamed: 38: no answer provided. Unnamed: 39: no answer provided. Unnamed: 40: no answer provided. Unnamed: 41: no answer provided. Unnamed: 42: no answer provided. Unnamed: 43: no answer provided. Unnamed: 44: no answer provided. Unnamed: 45: no answer provided. Unnamed: 46: no answer provided. Unnamed: 47: no answer provided. Unnamed: 48: no answer provided. Unnamed: 49: no answer provided. Unnamed: 50: no answer provided. Unnamed: 51: no answer provided. Unnamed: 52: no answer provided. Unnamed: 53: no answer provided. Unnamed: 54: no answer provided. Unnamed: 55: no answer provided. Unnamed: 56: no answer provided. Unnamed: 57: no answer provided. Unnamed: 58: no answer provided. Unnamed: 59: no answer provided. Unnamed: 60: no answer provided. Unnamed: 61: no answer provided. Unnamed: 62: no answer provided. Unnamed: 63: no answer provided. Unnamed: 64: no answer provided. Unnamed: 65: no answer provided. Unnamed: 66: no answer provided. Unnamed: 67: no answer provided. Unnamed: 68: no answer provided. Unnamed: 69: no answer provided. Unnamed: 70: no answer provided. Unnamed: 71: no answer provided. Unnamed: 72: no answer provided. Unnamed: 73: no answer provided. Unnamed: 74: no answer provided. Unnamed: 75: no answer provided. Unnamed: 76: no answer provided. Unnamed: 77: no answer provided. Unnamed: 78: no answer provided. Unnamed: 79: no answer provided. Unnamed: 80: no answer provided. Unnamed: 81: no answer provided. Unnamed: 82: no answer provided. Unnamed: 83: no answer provided. Unnamed: 84: no answer provided. Unnamed: 85: no answer provided. Unnamed: 86: no answer provided. Unnamed: 87: no answer provided. Unnamed: 88: no answer provided. Unnamed: 89: no answer provided. Unnamed: 90: no answer provided. Unnamed: 91: no answer provided. Unnamed: 92: no answer provided. Unnamed: 93: no answer provided. Unnamed: 94: no answer provided. Unnamed: 95: no answer provided. Unnamed: 96: no answer provided\n",
            "Category: Searching --> Show Ref: BDAIWL24. Badge Id: GGG4EI4. Registration Code: Z92BV. Registration Guid: 3883f97b-95e4-47fb-810b-b10e013c12d8. Session Guid: 275af19c-e154-4032-afee-7d7653d4cb5e. Source: gleanin. Badge Type: VIP. Status: Approved. Registration Date: 2024-02-06 19:10:47.030000. Weeks Out: 4.0. Title: Mr. Firstname: Freddie. Surname: Longe. Job Title: President. Company: IMG. Address 1: Chiswick Business Park. Address 2: no answer provided. Address 3: no answer provided. Town/City: London. County: no answer provided. Postcode: w4 5hr. Country: UK. Telephone: +447876505929. Mobile: +447876505929. Fax: no answer provided. Email: Freddie.longe@imgarena.com. Secondary Email: no answer provided. Website: no answer provided. Nationality: no answer provided. Account Number: 6515875.0. Booker Forename: no answer provided. Booker Surname: no answer provided. Booker Company: no answer provided. Booker Email: no answer provided. Offer Code: no answer provided. Referee Forename / Referee Forename (text): no answer provided. Referee Surname / Referee Surname (text): no answer provided. Single Select Demographics / Job Level: C-Suite. Job Level / Other (text): no answer provided. Single Select Demographics / Job Function: no answer provided. Job Function / Other (text): no answer provided. Linkedin ID / Keep in touch! Share your Linkedin profile: (text): no answer provided. Single Select Demographics / Decision making power: Influence overall decision. Single Select Demographics / What best describes your reason for attending: ‘I am attending because my company is...’: A buyer/consumer of data & AI solutions. Which best describes your company? / Other (text): no answer provided. Single Select Demographics / Which best describes your company?: no answer provided. Single Select Demographics / Number of Employees: 501 - 1000. Your industry sector / Other (text): no answer provided. Single Select Demographics / Your industry sector: no answer provided. Please specify your industry sector (Arts): no answer provided. Please specify your industry sector (Banking/Finance): no answer provided. Please specify your industry sector (Central/Local Government): no answer provided. Please specify your industry sector (Cloud Industry): no answer provided. Please specify your industry sector (Construction): no answer provided. Please specify your industry sector (Consumer Goods): no answer provided. Please specify your industry sector (Corporate): no answer provided. Please specify your industry sector (Education): no answer provided. Please specify your industry sector (Healthcare/Pharma): no answer provided. Please specify your industry sector (Manufacturing): no answer provided. Please specify your industry sector (Media/Entertainment): no answer provided. Please specify your industry sector (Not for Profit): no answer provided. Please specify your industry sector (Retail): no answer provided. Please specify your industry sector (Service): no answer provided. Please specify your industry sector (Transportation): no answer provided. Please specify your industry sector (Professional Services): no answer provided. Please specify your industry sector (Technology): Computer Software. Which co-located events are of high relevance to you? CCSL: no answer provided. Your main areas of interest: no answer provided. Single Select Demographics / Do you intend to visit:: Both Days. Are you a member of any of the following associations? / (ISC)2 (text): no answer provided. Are you a member of any of the following associations? / ISACA (text): no answer provided. Are you a member of any of the following associations? / Other (text): no answer provided. Are you a member of any of the following associations?: no answer provided. Would you be interested in hearing more from our partner associations?: no answer provided. Single Select Demographics / Would you be interested in exhibiting/sponsorship/partnership/speaking?: No. How did you hear about us? / Other (text): no answer provided. Single Select Demographics / How did you hear about us?: Recommended by a colleague. Accessibility: What can we do to make this event space more comfortable for you? / Accessibility: What can we do to make this ev: no answer provided. How do you plan to travel to the event? / Other (text): no answer provided. Single Select Demographics / How do you plan to travel to the event?: Train. Single Select Demographics / How many nights do you intend to stay at a hotel for when attending this event?: 0.0. I have read and accept the Event Terms and Conditions: I have read and accept the Event Terms and Conditions . I have read and accept the Privacy Policy: I have read and accept the Privacy Policy . If you would like to receive information from us about third party products, events and services, please tick here.: no answer provided. If you are happy for your name and email address to be shared with such third parties for marketing purposes, please tick here.: no answer provided. Interested in keeping up with the latest tech news?: no answer provided. Please ensure that you have consent from your colleagues to register on behalf of them and provide their details to access the e: no answer provided. Attended: Yes. Virtual Attended: No. Day 1: Yes. Day 1 Entry: 2024-03-06 10:22:27.513000. Day 2: Yes. Day 2 Entry: 2024-03-07 14:00:32.150000. Referrer / Referrer First Name (text): no answer provided. Referrer / Referrer Email (text): no answer provided. Single Select Demographics / Which best describes your job function?: Digital Strategy. Twitter ID / Keep in touch! Share your Linkedin profile: (text): no answer provided. Your organisation industry sector: / Other (text): no answer provided. Single Select Demographics / Your organisation industry sector:: Technology. Please specify your industry sector (Media/Communications): no answer provided. Which co-located events are of high relevance to you?: DevOps Live. Your main areas of interest: / Other (text): no answer provided. Your main areas of interest:: Data Lake. Would you be interested in hearing more from our partners?: no answer provided. Would you be interested in subscribing to our Official Publications?: no answer provided. Keep in touch! Share your Linkedin profile: / Keep in touch! Share your Linkedin profile: (text): no answer provided. Single Select Demographics / Decision Making Power: no answer provided. Single Select Demographics / Does your company currently use DevOps tools and practices?: no answer provided. Single Select Demographics / Do you currently have a dedicated DevOps team and/or infrastructure?: no answer provided. Single Select Demographics / Do you have a budget for DevOps solutions?: no answer provided. Please specify your industry sector (Banking/Finance/Insurance): no answer provided. Please specify your industry sector (Not for profit): no answer provided. Would you be interested in exhibiting/sponsorship/partnership/speaking?: no answer provided. Your main areas of interest / Other (text): no answer provided. Unnamed: 0: no answer provided. Show Report DCWL24: no answer provided. Unnamed: 2: no answer provided. Unnamed: 3: no answer provided. Unnamed: 4: no answer provided. Unnamed: 5: no answer provided. Unnamed: 6: no answer provided. Unnamed: 7: no answer provided. Unnamed: 8: no answer provided. Unnamed: 9: no answer provided. Unnamed: 10: no answer provided. Unnamed: 11: no answer provided. Unnamed: 12: no answer provided. Unnamed: 13: no answer provided. Unnamed: 14: no answer provided. Unnamed: 15: no answer provided. Unnamed: 16: no answer provided. Unnamed: 17: no answer provided. Unnamed: 18: no answer provided. Unnamed: 19: no answer provided. Unnamed: 20: no answer provided. Unnamed: 21: no answer provided. Unnamed: 22: no answer provided. Unnamed: 23: no answer provided. Unnamed: 24: no answer provided. Unnamed: 25: no answer provided. Unnamed: 26: no answer provided. Unnamed: 27: no answer provided. Unnamed: 28: no answer provided. Unnamed: 29: no answer provided. Unnamed: 30: no answer provided. Unnamed: 31: no answer provided. Unnamed: 32: no answer provided. Unnamed: 33: no answer provided. Unnamed: 34: no answer provided. Unnamed: 35: no answer provided. Unnamed: 36: no answer provided. Unnamed: 37: no answer provided. Unnamed: 38: no answer provided. Unnamed: 39: no answer provided. Unnamed: 40: no answer provided. Unnamed: 41: no answer provided. Unnamed: 42: no answer provided. Unnamed: 43: no answer provided. Unnamed: 44: no answer provided. Unnamed: 45: no answer provided. Unnamed: 46: no answer provided. Unnamed: 47: no answer provided. Unnamed: 48: no answer provided. Unnamed: 49: no answer provided. Unnamed: 50: no answer provided. Unnamed: 51: no answer provided. Unnamed: 52: no answer provided. Unnamed: 53: no answer provided. Unnamed: 54: no answer provided. Unnamed: 55: no answer provided. Unnamed: 56: no answer provided. Unnamed: 57: no answer provided. Unnamed: 58: no answer provided. Unnamed: 59: no answer provided. Unnamed: 60: no answer provided. Unnamed: 61: no answer provided. Unnamed: 62: no answer provided. Unnamed: 63: no answer provided. Unnamed: 64: no answer provided. Unnamed: 65: no answer provided. Unnamed: 66: no answer provided. Unnamed: 67: no answer provided. Unnamed: 68: no answer provided. Unnamed: 69: no answer provided. Unnamed: 70: no answer provided. Unnamed: 71: no answer provided. Unnamed: 72: no answer provided. Unnamed: 73: no answer provided. Unnamed: 74: no answer provided. Unnamed: 75: no answer provided. Unnamed: 76: no answer provided. Unnamed: 77: no answer provided. Unnamed: 78: no answer provided. Unnamed: 79: no answer provided. Unnamed: 80: no answer provided. Unnamed: 81: no answer provided. Unnamed: 82: no answer provided. Unnamed: 83: no answer provided. Unnamed: 84: no answer provided. Unnamed: 85: no answer provided. Unnamed: 86: no answer provided. Unnamed: 87: no answer provided. Unnamed: 88: no answer provided. Unnamed: 89: no answer provided. Unnamed: 90: no answer provided. Unnamed: 91: no answer provided. Unnamed: 92: no answer provided. Unnamed: 93: no answer provided. Unnamed: 94: no answer provided. Unnamed: 95: no answer provided. Unnamed: 96: no answer provided\n",
            "Category: Sourcing – Early --> Show Ref: BDAIWL24. Badge Id: VPWNB8E. Registration Code: ISPTN. Registration Guid: 67f63638-939e-48cb-8d12-b1070106dd5a. Session Guid: e69161ba-bb06-4fe8-8036-64b920984293. Source: email_Vis_5Reasons. Badge Type: Visitor. Status: Approved. Registration Date: 2024-01-30 15:57:03.437000. Weeks Out: 5.0. Title: no answer provided. Firstname: Anca. Surname: Ciupala. Job Title: Reader. Company: University of East London. Address 1: School of ACE, 4-6 University Way, Docklands Campus. Address 2: no answer provided. Address 3: no answer provided. Town/City: London. County: London. Postcode: E16 2RD. Country: UK. Telephone: +4402082232529. Mobile: no answer provided. Fax: no answer provided. Email: m.a.ciupala@uel.ac.uk. Secondary Email: no answer provided. Website: no answer provided. Nationality: no answer provided. Account Number: 4206078.0. Booker Forename: no answer provided. Booker Surname: no answer provided. Booker Company: no answer provided. Booker Email: no answer provided. Offer Code: no answer provided. Referee Forename / Referee Forename (text): no answer provided. Referee Surname / Referee Surname (text): no answer provided. Single Select Demographics / Job Level: Representative/Employee. Job Level / Other (text): no answer provided. Single Select Demographics / Job Function: no answer provided. Job Function / Other (text): no answer provided. Linkedin ID / Keep in touch! Share your Linkedin profile: (text): no answer provided. Single Select Demographics / Decision making power: No influence in purchasing decisions. Single Select Demographics / What best describes your reason for attending: ‘I am attending because my company is...’: Other (e.g. student). Which best describes your company? / Other (text): no answer provided. Single Select Demographics / Which best describes your company?: no answer provided. Single Select Demographics / Number of Employees: 2500+. Your industry sector / Other (text): no answer provided. Single Select Demographics / Your industry sector: no answer provided. Please specify your industry sector (Arts): no answer provided. Please specify your industry sector (Banking/Finance): no answer provided. Please specify your industry sector (Central/Local Government): no answer provided. Please specify your industry sector (Cloud Industry): no answer provided. Please specify your industry sector (Construction): Building Materials;Civil Engineering;Construction. Please specify your industry sector (Consumer Goods): no answer provided. Please specify your industry sector (Corporate): no answer provided. Please specify your industry sector (Education): no answer provided. Please specify your industry sector (Healthcare/Pharma): no answer provided. Please specify your industry sector (Manufacturing): no answer provided. Please specify your industry sector (Media/Entertainment): no answer provided. Please specify your industry sector (Not for Profit): no answer provided. Please specify your industry sector (Retail): no answer provided. Please specify your industry sector (Service): no answer provided. Please specify your industry sector (Transportation): no answer provided. Please specify your industry sector (Professional Services): no answer provided. Please specify your industry sector (Technology): no answer provided. Which co-located events are of high relevance to you? CCSL: no answer provided. Your main areas of interest: no answer provided. Single Select Demographics / Do you intend to visit:: Both Days. Are you a member of any of the following associations? / (ISC)2 (text): no answer provided. Are you a member of any of the following associations? / ISACA (text): no answer provided. Are you a member of any of the following associations? / Other (text): no answer provided. Are you a member of any of the following associations?: no answer provided. Would you be interested in hearing more from our partner associations?: no answer provided. Single Select Demographics / Would you be interested in exhibiting/sponsorship/partnership/speaking?: No. How did you hear about us? / Other (text): no answer provided. Single Select Demographics / How did you hear about us?: Received email from Show Organiser. Accessibility: What can we do to make this event space more comfortable for you? / Accessibility: What can we do to make this ev: no answer provided. How do you plan to travel to the event? / Other (text): DLR. Single Select Demographics / How do you plan to travel to the event?: Other. Single Select Demographics / How many nights do you intend to stay at a hotel for when attending this event?: 0.0. I have read and accept the Event Terms and Conditions: I have read and accept the Event Terms and Conditions . I have read and accept the Privacy Policy: I have read and accept the Privacy Policy . If you would like to receive information from us about third party products, events and services, please tick here.: no answer provided. If you are happy for your name and email address to be shared with such third parties for marketing purposes, please tick here.: no answer provided. Interested in keeping up with the latest tech news?: no answer provided. Please ensure that you have consent from your colleagues to register on behalf of them and provide their details to access the e: no answer provided. Attended: No. Virtual Attended: No. Day 1: no answer provided. Day 1 Entry: no answer provided. Day 2: no answer provided. Day 2 Entry: no answer provided. Referrer / Referrer First Name (text): no answer provided. Referrer / Referrer Email (text): no answer provided. Single Select Demographics / Which best describes your job function?: Other. Twitter ID / Keep in touch! Share your Linkedin profile: (text): no answer provided. Your organisation industry sector: / Other (text): no answer provided. Single Select Demographics / Your organisation industry sector:: Construction. Please specify your industry sector (Media/Communications): no answer provided. Which co-located events are of high relevance to you?: Cloud & Cyber Security Expo;Cloud Expo Europe;Data Centre World;DevOps Live. Your main areas of interest: / Other (text): no answer provided. Your main areas of interest:: AI;AI Data Management;Augmented Intelligence;Big Data;Data Analytics;Data Integration;Data Mining;Data Visualization;Deep Learning;IoT - Internet of Things;Machine Learning;Monitoring & Analytics;NoSQL;Real-Time Analytics & Intelligence;Virtualization;Visual Analytics. Would you be interested in hearing more from our partners?: AI Magazine;Data Centre Solutions (DCS);Packt;Tech Exec;Technology Magazine;TechUK;Women in AI;Women's Engineering Society (WES). Would you be interested in subscribing to our Official Publications?: no answer provided. Keep in touch! Share your Linkedin profile: / Keep in touch! Share your Linkedin profile: (text): no answer provided. Single Select Demographics / Decision Making Power: no answer provided. Single Select Demographics / Does your company currently use DevOps tools and practices?: no answer provided. Single Select Demographics / Do you currently have a dedicated DevOps team and/or infrastructure?: no answer provided. Single Select Demographics / Do you have a budget for DevOps solutions?: no answer provided. Please specify your industry sector (Banking/Finance/Insurance): no answer provided. Please specify your industry sector (Not for profit): no answer provided. Would you be interested in exhibiting/sponsorship/partnership/speaking?: no answer provided. Your main areas of interest / Other (text): no answer provided. Unnamed: 0: no answer provided. Show Report DCWL24: no answer provided. Unnamed: 2: no answer provided. Unnamed: 3: no answer provided. Unnamed: 4: no answer provided. Unnamed: 5: no answer provided. Unnamed: 6: no answer provided. Unnamed: 7: no answer provided. Unnamed: 8: no answer provided. Unnamed: 9: no answer provided. Unnamed: 10: no answer provided. Unnamed: 11: no answer provided. Unnamed: 12: no answer provided. Unnamed: 13: no answer provided. Unnamed: 14: no answer provided. Unnamed: 15: no answer provided. Unnamed: 16: no answer provided. Unnamed: 17: no answer provided. Unnamed: 18: no answer provided. Unnamed: 19: no answer provided. Unnamed: 20: no answer provided. Unnamed: 21: no answer provided. Unnamed: 22: no answer provided. Unnamed: 23: no answer provided. Unnamed: 24: no answer provided. Unnamed: 25: no answer provided. Unnamed: 26: no answer provided. Unnamed: 27: no answer provided. Unnamed: 28: no answer provided. Unnamed: 29: no answer provided. Unnamed: 30: no answer provided. Unnamed: 31: no answer provided. Unnamed: 32: no answer provided. Unnamed: 33: no answer provided. Unnamed: 34: no answer provided. Unnamed: 35: no answer provided. Unnamed: 36: no answer provided. Unnamed: 37: no answer provided. Unnamed: 38: no answer provided. Unnamed: 39: no answer provided. Unnamed: 40: no answer provided. Unnamed: 41: no answer provided. Unnamed: 42: no answer provided. Unnamed: 43: no answer provided. Unnamed: 44: no answer provided. Unnamed: 45: no answer provided. Unnamed: 46: no answer provided. Unnamed: 47: no answer provided. Unnamed: 48: no answer provided. Unnamed: 49: no answer provided. Unnamed: 50: no answer provided. Unnamed: 51: no answer provided. Unnamed: 52: no answer provided. Unnamed: 53: no answer provided. Unnamed: 54: no answer provided. Unnamed: 55: no answer provided. Unnamed: 56: no answer provided. Unnamed: 57: no answer provided. Unnamed: 58: no answer provided. Unnamed: 59: no answer provided. Unnamed: 60: no answer provided. Unnamed: 61: no answer provided. Unnamed: 62: no answer provided. Unnamed: 63: no answer provided. Unnamed: 64: no answer provided. Unnamed: 65: no answer provided. Unnamed: 66: no answer provided. Unnamed: 67: no answer provided. Unnamed: 68: no answer provided. Unnamed: 69: no answer provided. Unnamed: 70: no answer provided. Unnamed: 71: no answer provided. Unnamed: 72: no answer provided. Unnamed: 73: no answer provided. Unnamed: 74: no answer provided. Unnamed: 75: no answer provided. Unnamed: 76: no answer provided. Unnamed: 77: no answer provided. Unnamed: 78: no answer provided. Unnamed: 79: no answer provided. Unnamed: 80: no answer provided. Unnamed: 81: no answer provided. Unnamed: 82: no answer provided. Unnamed: 83: no answer provided. Unnamed: 84: no answer provided. Unnamed: 85: no answer provided. Unnamed: 86: no answer provided. Unnamed: 87: no answer provided. Unnamed: 88: no answer provided. Unnamed: 89: no answer provided. Unnamed: 90: no answer provided. Unnamed: 91: no answer provided. Unnamed: 92: no answer provided. Unnamed: 93: no answer provided. Unnamed: 94: no answer provided. Unnamed: 95: no answer provided. Unnamed: 96: no answer provided\n",
            "Category: Sourcing – In Process --> Show Ref: CEEL24. Badge Id: JWI62FB. Registration Code: CRCPB. Registration Guid: 519c241d-c813-4498-a2a9-b12300900f1a. Session Guid: b1c0fb3d-8f74-4229-bae6-4414806ba823. Source: LiveLeads. Badge Type: Visitor. Status: Approved. Registration Date: 2024-02-27 08:44:29.773000. Weeks Out: 1.0. Title: Mr. Firstname: Arun. Surname: NT. Job Title: Enterprise Architect. Company: Fiserv. Address 1: 32 Wickham Place. Address 2: no answer provided. Address 3: no answer provided. Town/City: Basildon. County: no answer provided. Postcode: SS165UN. Country: UK. Telephone: 447767588007. Mobile: 447767588007. Fax: no answer provided. Email: arun.nt@fiserv.com. Secondary Email: no answer provided. Website: no answer provided. Nationality: no answer provided. Account Number: 6615940.0. Booker Forename: no answer provided. Booker Surname: no answer provided. Booker Company: no answer provided. Booker Email: no answer provided. Offer Code: no answer provided. Referee Forename / Referee Forename (text): no answer provided. Referee Surname / Referee Surname (text): no answer provided. Single Select Demographics / Job Level: Director. Job Level / Other (text): no answer provided. Single Select Demographics / Job Function: Architecture. Job Function / Other (text): no answer provided. Linkedin ID / Keep in touch! Share your Linkedin profile: (text): no answer provided. Single Select Demographics / Decision making power: Influence overall decision. Single Select Demographics / What best describes your reason for attending: ‘I am attending because my company is...’: A buyer/consumer of cloud solutions. Which best describes your company? / Other (text): no answer provided. Single Select Demographics / Which best describes your company?: no answer provided. Single Select Demographics / Number of Employees: 2500+. Your industry sector / Other (text): no answer provided. Single Select Demographics / Your industry sector: Banking/Finance. Please specify your industry sector (Arts): no answer provided. Please specify your industry sector (Banking/Finance): no answer provided. Please specify your industry sector (Central/Local Government): no answer provided. Please specify your industry sector (Cloud Industry): no answer provided. Please specify your industry sector (Construction): no answer provided. Please specify your industry sector (Consumer Goods): no answer provided. Please specify your industry sector (Corporate): no answer provided. Please specify your industry sector (Education): no answer provided. Please specify your industry sector (Healthcare/Pharma): no answer provided. Please specify your industry sector (Manufacturing): no answer provided. Please specify your industry sector (Media/Entertainment): no answer provided. Please specify your industry sector (Not for Profit): no answer provided. Please specify your industry sector (Retail): no answer provided. Please specify your industry sector (Service): no answer provided. Please specify your industry sector (Transportation): no answer provided. Please specify your industry sector (Professional Services): no answer provided. Please specify your industry sector (Technology): no answer provided. Which co-located events are of high relevance to you? CCSL: no answer provided. Your main areas of interest: Big Data & Analytics;Cloud Management and Optimisation;Cloud Management Platform;Cybersecurity;Data As A Service (DAAS);Enterprise Resource Planning (ERP);Governance & Compliance. Single Select Demographics / Do you intend to visit:: Both Days. Are you a member of any of the following associations? / (ISC)2 (text): no answer provided. Are you a member of any of the following associations? / ISACA (text): no answer provided. Are you a member of any of the following associations? / Other (text): no answer provided. Are you a member of any of the following associations?: no answer provided. Would you be interested in hearing more from our partner associations?: no answer provided. Single Select Demographics / Would you be interested in exhibiting/sponsorship/partnership/speaking?: no answer provided. How did you hear about us? / Other (text): no answer provided. Single Select Demographics / How did you hear about us?: Received email from Exhibitor. Accessibility: What can we do to make this event space more comfortable for you? / Accessibility: What can we do to make this ev: no answer provided. How do you plan to travel to the event? / Other (text): no answer provided. Single Select Demographics / How do you plan to travel to the event?: Metro. Single Select Demographics / How many nights do you intend to stay at a hotel for when attending this event?: 0.0. I have read and accept the Event Terms and Conditions: I have read and accept the Event Terms and Conditions . I have read and accept the Privacy Policy: I have read and accept the Privacy Policy . If you would like to receive information from us about third party products, events and services, please tick here.: no answer provided. If you are happy for your name and email address to be shared with such third parties for marketing purposes, please tick here.: no answer provided. Interested in keeping up with the latest tech news?: no answer provided. Please ensure that you have consent from your colleagues to register on behalf of them and provide their details to access the e: no answer provided. Attended: Yes. Virtual Attended: No. Day 1: Yes. Day 1 Entry: 2024-03-06 08:20:08.507000. Day 2: no answer provided. Day 2 Entry: no answer provided. Referrer / Referrer First Name (text): no answer provided. Referrer / Referrer Email (text): no answer provided. Single Select Demographics / Which best describes your job function?: no answer provided. Twitter ID / Keep in touch! Share your Linkedin profile: (text): no answer provided. Your organisation industry sector: / Other (text): no answer provided. Single Select Demographics / Your organisation industry sector:: no answer provided. Please specify your industry sector (Media/Communications): no answer provided. Which co-located events are of high relevance to you?: Big Data & AI World;Cloud & Cyber Security Expo;DevOps Live. Your main areas of interest: / Other (text): no answer provided. Your main areas of interest:: no answer provided. Would you be interested in hearing more from our partners?: no answer provided. Would you be interested in subscribing to our Official Publications?: no answer provided. Keep in touch! Share your Linkedin profile: / Keep in touch! Share your Linkedin profile: (text): no answer provided. Single Select Demographics / Decision Making Power: no answer provided. Single Select Demographics / Does your company currently use DevOps tools and practices?: Yes. Single Select Demographics / Do you currently have a dedicated DevOps team and/or infrastructure?: no answer provided. Single Select Demographics / Do you have a budget for DevOps solutions?: no answer provided. Please specify your industry sector (Banking/Finance/Insurance): Banking;Financial Services. Please specify your industry sector (Not for profit): no answer provided. Would you be interested in exhibiting/sponsorship/partnership/speaking?: No. Your main areas of interest / Other (text): no answer provided. Unnamed: 0: no answer provided. Show Report DCWL24: no answer provided. Unnamed: 2: no answer provided. Unnamed: 3: no answer provided. Unnamed: 4: no answer provided. Unnamed: 5: no answer provided. Unnamed: 6: no answer provided. Unnamed: 7: no answer provided. Unnamed: 8: no answer provided. Unnamed: 9: no answer provided. Unnamed: 10: no answer provided. Unnamed: 11: no answer provided. Unnamed: 12: no answer provided. Unnamed: 13: no answer provided. Unnamed: 14: no answer provided. Unnamed: 15: no answer provided. Unnamed: 16: no answer provided. Unnamed: 17: no answer provided. Unnamed: 18: no answer provided. Unnamed: 19: no answer provided. Unnamed: 20: no answer provided. Unnamed: 21: no answer provided. Unnamed: 22: no answer provided. Unnamed: 23: no answer provided. Unnamed: 24: no answer provided. Unnamed: 25: no answer provided. Unnamed: 26: no answer provided. Unnamed: 27: no answer provided. Unnamed: 28: no answer provided. Unnamed: 29: no answer provided. Unnamed: 30: no answer provided. Unnamed: 31: no answer provided. Unnamed: 32: no answer provided. Unnamed: 33: no answer provided. Unnamed: 34: no answer provided. Unnamed: 35: no answer provided. Unnamed: 36: no answer provided. Unnamed: 37: no answer provided. Unnamed: 38: no answer provided. Unnamed: 39: no answer provided. Unnamed: 40: no answer provided. Unnamed: 41: no answer provided. Unnamed: 42: no answer provided. Unnamed: 43: no answer provided. Unnamed: 44: no answer provided. Unnamed: 45: no answer provided. Unnamed: 46: no answer provided. Unnamed: 47: no answer provided. Unnamed: 48: no answer provided. Unnamed: 49: no answer provided. Unnamed: 50: no answer provided. Unnamed: 51: no answer provided. Unnamed: 52: no answer provided. Unnamed: 53: no answer provided. Unnamed: 54: no answer provided. Unnamed: 55: no answer provided. Unnamed: 56: no answer provided. Unnamed: 57: no answer provided. Unnamed: 58: no answer provided. Unnamed: 59: no answer provided. Unnamed: 60: no answer provided. Unnamed: 61: no answer provided. Unnamed: 62: no answer provided. Unnamed: 63: no answer provided. Unnamed: 64: no answer provided. Unnamed: 65: no answer provided. Unnamed: 66: no answer provided. Unnamed: 67: no answer provided. Unnamed: 68: no answer provided. Unnamed: 69: no answer provided. Unnamed: 70: no answer provided. Unnamed: 71: no answer provided. Unnamed: 72: no answer provided. Unnamed: 73: no answer provided. Unnamed: 74: no answer provided. Unnamed: 75: no answer provided. Unnamed: 76: no answer provided. Unnamed: 77: no answer provided. Unnamed: 78: no answer provided. Unnamed: 79: no answer provided. Unnamed: 80: no answer provided. Unnamed: 81: no answer provided. Unnamed: 82: no answer provided. Unnamed: 83: no answer provided. Unnamed: 84: no answer provided. Unnamed: 85: no answer provided. Unnamed: 86: no answer provided. Unnamed: 87: no answer provided. Unnamed: 88: no answer provided. Unnamed: 89: no answer provided. Unnamed: 90: no answer provided. Unnamed: 91: no answer provided. Unnamed: 92: no answer provided. Unnamed: 93: no answer provided. Unnamed: 94: no answer provided. Unnamed: 95: no answer provided. Unnamed: 96: no answer provided\n",
            "Category: Sourcing – Deciding --> Show Ref: BDAIWL24. Badge Id: WT5SKE7. Registration Code: B8A4Y. Registration Guid: ee0a9477-870a-481f-8223-7bb425b8218c. Session Guid: no answer provided. Source: BDAIWL_Speakers. Badge Type: Speaker. Status: Approved. Registration Date: 2024-02-23 00:00:00. Weeks Out: 2.0. Title: no answer provided. Firstname: Andrew. Surname: McClelland. Job Title: Consultant & Co-Founder. Company: MC Strategy. Address 1: no answer provided. Address 2: no answer provided. Address 3: no answer provided. Town/City: no answer provided. County: no answer provided. Postcode: no answer provided. Country: no answer provided. Telephone: no answer provided. Mobile: no answer provided. Fax: no answer provided. Email: andrew@mcstrategy.co.uk. Secondary Email: no answer provided. Website: no answer provided. Nationality: no answer provided. Account Number: 6583392.0. Booker Forename: no answer provided. Booker Surname: no answer provided. Booker Company: no answer provided. Booker Email: no answer provided. Offer Code: no answer provided. Referee Forename / Referee Forename (text): no answer provided. Referee Surname / Referee Surname (text): no answer provided. Single Select Demographics / Job Level: no answer provided. Job Level / Other (text): no answer provided. Single Select Demographics / Job Function: no answer provided. Job Function / Other (text): no answer provided. Linkedin ID / Keep in touch! Share your Linkedin profile: (text): no answer provided. Single Select Demographics / Decision making power: no answer provided. Single Select Demographics / What best describes your reason for attending: ‘I am attending because my company is...’: no answer provided. Which best describes your company? / Other (text): no answer provided. Single Select Demographics / Which best describes your company?: no answer provided. Single Select Demographics / Number of Employees: no answer provided. Your industry sector / Other (text): no answer provided. Single Select Demographics / Your industry sector: no answer provided. Please specify your industry sector (Arts): no answer provided. Please specify your industry sector (Banking/Finance): no answer provided. Please specify your industry sector (Central/Local Government): no answer provided. Please specify your industry sector (Cloud Industry): no answer provided. Please specify your industry sector (Construction): no answer provided. Please specify your industry sector (Consumer Goods): no answer provided. Please specify your industry sector (Corporate): no answer provided. Please specify your industry sector (Education): no answer provided. Please specify your industry sector (Healthcare/Pharma): no answer provided. Please specify your industry sector (Manufacturing): no answer provided. Please specify your industry sector (Media/Entertainment): no answer provided. Please specify your industry sector (Not for Profit): no answer provided. Please specify your industry sector (Retail): no answer provided. Please specify your industry sector (Service): no answer provided. Please specify your industry sector (Transportation): no answer provided. Please specify your industry sector (Professional Services): no answer provided. Please specify your industry sector (Technology): no answer provided. Which co-located events are of high relevance to you? CCSL: no answer provided. Your main areas of interest: no answer provided. Single Select Demographics / Do you intend to visit:: no answer provided. Are you a member of any of the following associations? / (ISC)2 (text): no answer provided. Are you a member of any of the following associations? / ISACA (text): no answer provided. Are you a member of any of the following associations? / Other (text): no answer provided. Are you a member of any of the following associations?: no answer provided. Would you be interested in hearing more from our partner associations?: no answer provided. Single Select Demographics / Would you be interested in exhibiting/sponsorship/partnership/speaking?: no answer provided. How did you hear about us? / Other (text): no answer provided. Single Select Demographics / How did you hear about us?: no answer provided. Accessibility: What can we do to make this event space more comfortable for you? / Accessibility: What can we do to make this ev: no answer provided. How do you plan to travel to the event? / Other (text): no answer provided. Single Select Demographics / How do you plan to travel to the event?: no answer provided. Single Select Demographics / How many nights do you intend to stay at a hotel for when attending this event?: no answer provided. I have read and accept the Event Terms and Conditions: no answer provided. I have read and accept the Privacy Policy: no answer provided. If you would like to receive information from us about third party products, events and services, please tick here.: no answer provided. If you are happy for your name and email address to be shared with such third parties for marketing purposes, please tick here.: no answer provided. Interested in keeping up with the latest tech news?: no answer provided. Please ensure that you have consent from your colleagues to register on behalf of them and provide their details to access the e: no answer provided. Attended: Yes. Virtual Attended: No. Day 1: Yes. Day 1 Entry: 2024-03-06 09:36:14.297000. Day 2: Yes. Day 2 Entry: 2024-03-07 09:34:14.123000. Referrer / Referrer First Name (text): no answer provided. Referrer / Referrer Email (text): no answer provided. Single Select Demographics / Which best describes your job function?: no answer provided. Twitter ID / Keep in touch! Share your Linkedin profile: (text): no answer provided. Your organisation industry sector: / Other (text): no answer provided. Single Select Demographics / Your organisation industry sector:: no answer provided. Please specify your industry sector (Media/Communications): no answer provided. Which co-located events are of high relevance to you?: no answer provided. Your main areas of interest: / Other (text): no answer provided. Your main areas of interest:: no answer provided. Would you be interested in hearing more from our partners?: no answer provided. Would you be interested in subscribing to our Official Publications?: no answer provided. Keep in touch! Share your Linkedin profile: / Keep in touch! Share your Linkedin profile: (text): no answer provided. Single Select Demographics / Decision Making Power: no answer provided. Single Select Demographics / Does your company currently use DevOps tools and practices?: no answer provided. Single Select Demographics / Do you currently have a dedicated DevOps team and/or infrastructure?: no answer provided. Single Select Demographics / Do you have a budget for DevOps solutions?: no answer provided. Please specify your industry sector (Banking/Finance/Insurance): no answer provided. Please specify your industry sector (Not for profit): no answer provided. Would you be interested in exhibiting/sponsorship/partnership/speaking?: no answer provided. Your main areas of interest / Other (text): no answer provided. Unnamed: 0: no answer provided. Show Report DCWL24: no answer provided. Unnamed: 2: no answer provided. Unnamed: 3: no answer provided. Unnamed: 4: no answer provided. Unnamed: 5: no answer provided. Unnamed: 6: no answer provided. Unnamed: 7: no answer provided. Unnamed: 8: no answer provided. Unnamed: 9: no answer provided. Unnamed: 10: no answer provided. Unnamed: 11: no answer provided. Unnamed: 12: no answer provided. Unnamed: 13: no answer provided. Unnamed: 14: no answer provided. Unnamed: 15: no answer provided. Unnamed: 16: no answer provided. Unnamed: 17: no answer provided. Unnamed: 18: no answer provided. Unnamed: 19: no answer provided. Unnamed: 20: no answer provided. Unnamed: 21: no answer provided. Unnamed: 22: no answer provided. Unnamed: 23: no answer provided. Unnamed: 24: no answer provided. Unnamed: 25: no answer provided. Unnamed: 26: no answer provided. Unnamed: 27: no answer provided. Unnamed: 28: no answer provided. Unnamed: 29: no answer provided. Unnamed: 30: no answer provided. Unnamed: 31: no answer provided. Unnamed: 32: no answer provided. Unnamed: 33: no answer provided. Unnamed: 34: no answer provided. Unnamed: 35: no answer provided. Unnamed: 36: no answer provided. Unnamed: 37: no answer provided. Unnamed: 38: no answer provided. Unnamed: 39: no answer provided. Unnamed: 40: no answer provided. Unnamed: 41: no answer provided. Unnamed: 42: no answer provided. Unnamed: 43: no answer provided. Unnamed: 44: no answer provided. Unnamed: 45: no answer provided. Unnamed: 46: no answer provided. Unnamed: 47: no answer provided. Unnamed: 48: no answer provided. Unnamed: 49: no answer provided. Unnamed: 50: no answer provided. Unnamed: 51: no answer provided. Unnamed: 52: no answer provided. Unnamed: 53: no answer provided. Unnamed: 54: no answer provided. Unnamed: 55: no answer provided. Unnamed: 56: no answer provided. Unnamed: 57: no answer provided. Unnamed: 58: no answer provided. Unnamed: 59: no answer provided. Unnamed: 60: no answer provided. Unnamed: 61: no answer provided. Unnamed: 62: no answer provided. Unnamed: 63: no answer provided. Unnamed: 64: no answer provided. Unnamed: 65: no answer provided. Unnamed: 66: no answer provided. Unnamed: 67: no answer provided. Unnamed: 68: no answer provided. Unnamed: 69: no answer provided. Unnamed: 70: no answer provided. Unnamed: 71: no answer provided. Unnamed: 72: no answer provided. Unnamed: 73: no answer provided. Unnamed: 74: no answer provided. Unnamed: 75: no answer provided. Unnamed: 76: no answer provided. Unnamed: 77: no answer provided. Unnamed: 78: no answer provided. Unnamed: 79: no answer provided. Unnamed: 80: no answer provided. Unnamed: 81: no answer provided. Unnamed: 82: no answer provided. Unnamed: 83: no answer provided. Unnamed: 84: no answer provided. Unnamed: 85: no answer provided. Unnamed: 86: no answer provided. Unnamed: 87: no answer provided. Unnamed: 88: no answer provided. Unnamed: 89: no answer provided. Unnamed: 90: no answer provided. Unnamed: 91: no answer provided. Unnamed: 92: no answer provided. Unnamed: 93: no answer provided. Unnamed: 94: no answer provided. Unnamed: 95: no answer provided. Unnamed: 96: no answer provided\n",
            "\n",
            "Text to classify:\n",
            "----------------------------------------------------\n",
            "Show Ref: BDAIWL24. Badge Id: 49CCFCJ. Registration Code: IPBGR. Registration Guid: 40cf17cc-606f-41cc-b946-b12a00a140d7. Session Guid: 13ff58a2-60d0-4945-849c-d789f334f42c. Source: no answer provided. Badge Type: Visitor. Status: Approved. Registration Date: 2024-03-05 09:47:05.877000. Weeks Out: 0.0. Title: Ms. Firstname: Naazi. Surname: Ailwadhi. Job Title: Interior Designer. Company: Silk Design Studio. Address 1: -. Address 2: no answer provided. Address 3: no answer provided. Town/City: -. County: no answer provided. Postcode: -. Country: UK. Telephone: 07984242410. Mobile: no answer provided. Fax: no answer provided. Email: nailwadhi@yahoo.co.uk. Secondary Email: no answer provided. Website: no answer provided. Nationality: no answer provided. Account Number: 1066265.0. Booker Forename: no answer provided. Booker Surname: no answer provided. Booker Company: no answer provided. Booker Email: no answer provided. Offer Code: no answer provided. Referee Forename / Referee Forename (text): no answer provided. Referee Surname / Referee Surname (text): no answer provided. Single Select Demographics / Job Level: Representative/Employee. Job Level / Other (text): no answer provided. Single Select Demographics / Job Function: no answer provided. Job Function / Other (text): no answer provided. Linkedin ID / Keep in touch! Share your Linkedin profile: (text): no answer provided. Single Select Demographics / Decision making power: no answer provided. Single Select Demographics / What best describes your reason for attending: ‘I am attending because my company is...’: Other (e.g. student). Which best describes your company? / Other (text): no answer provided. Single Select Demographics / Which best describes your company?: no answer provided. Single Select Demographics / Number of Employees: 1 - 20. Your industry sector / Other (text): no answer provided. Single Select Demographics / Your industry sector: no answer provided. Please specify your industry sector (Arts): no answer provided. Please specify your industry sector (Banking/Finance): no answer provided. Please specify your industry sector (Central/Local Government): no answer provided. Please specify your industry sector (Cloud Industry): no answer provided. Please specify your industry sector (Construction): no answer provided. Please specify your industry sector (Consumer Goods): no answer provided. Please specify your industry sector (Corporate): no answer provided. Please specify your industry sector (Education): no answer provided. Please specify your industry sector (Healthcare/Pharma): no answer provided. Please specify your industry sector (Manufacturing): no answer provided. Please specify your industry sector (Media/Entertainment): no answer provided. Please specify your industry sector (Not for Profit): no answer provided. Please specify your industry sector (Retail): no answer provided. Please specify your industry sector (Service): no answer provided. Please specify your industry sector (Transportation): no answer provided. Please specify your industry sector (Professional Services): no answer provided. Please specify your industry sector (Technology): no answer provided. Which co-located events are of high relevance to you? CCSL: no answer provided. Your main areas of interest: no answer provided. Single Select Demographics / Do you intend to visit:: no answer provided. Are you a member of any of the following associations? / (ISC)2 (text): no answer provided. Are you a member of any of the following associations? / ISACA (text): no answer provided. Are you a member of any of the following associations? / Other (text): no answer provided. Are you a member of any of the following associations?: no answer provided. Would you be interested in hearing more from our partner associations?: no answer provided. Single Select Demographics / Would you be interested in exhibiting/sponsorship/partnership/speaking?: no answer provided. How did you hear about us? / Other (text): no answer provided. Single Select Demographics / How did you hear about us?: no answer provided. Accessibility: What can we do to make this event space more comfortable for you? / Accessibility: What can we do to make this ev: no answer provided. How do you plan to travel to the event? / Other (text): no answer provided. Single Select Demographics / How do you plan to travel to the event?: no answer provided. Single Select Demographics / How many nights do you intend to stay at a hotel for when attending this event?: no answer provided. I have read and accept the Event Terms and Conditions: no answer provided. I have read and accept the Privacy Policy: no answer provided. If you would like to receive information from us about third party products, events and services, please tick here.: no answer provided. If you are happy for your name and email address to be shared with such third parties for marketing purposes, please tick here.: no answer provided. Interested in keeping up with the latest tech news?: no answer provided. Please ensure that you have consent from your colleagues to register on behalf of them and provide their details to access the e: no answer provided. Attended: Yes. Virtual Attended: No. Day 1: Yes. Day 1 Entry: 2024-03-06 09:24:22.377000. Day 2: no answer provided. Day 2 Entry: no answer provided. Referrer / Referrer First Name (text): no answer provided. Referrer / Referrer Email (text): no answer provided. Single Select Demographics / Which best describes your job function?: Other. Twitter ID / Keep in touch! Share your Linkedin profile: (text): no answer provided. Your organisation industry sector: / Other (text): no answer provided. Single Select Demographics / Your organisation industry sector:: no answer provided. Please specify your industry sector (Media/Communications): no answer provided. Which co-located events are of high relevance to you?: no answer provided. Your main areas of interest: / Other (text): no answer provided. Your main areas of interest:: no answer provided. Would you be interested in hearing more from our partners?: no answer provided. Would you be interested in subscribing to our Official Publications?: no answer provided. Keep in touch! Share your Linkedin profile: / Keep in touch! Share your Linkedin profile: (text): no answer provided. Single Select Demographics / Decision Making Power: no answer provided. Single Select Demographics / Does your company currently use DevOps tools and practices?: no answer provided. Single Select Demographics / Do you currently have a dedicated DevOps team and/or infrastructure?: no answer provided. Single Select Demographics / Do you have a budget for DevOps solutions?: no answer provided. Please specify your industry sector (Banking/Finance/Insurance): no answer provided. Please specify your industry sector (Not for profit): no answer provided. Would you be interested in exhibiting/sponsorship/partnership/speaking?: no answer provided. Your main areas of interest / Other (text): no answer provided. Unnamed: 0: no answer provided. Show Report DCWL24: no answer provided. Unnamed: 2: no answer provided. Unnamed: 3: no answer provided. Unnamed: 4: no answer provided. Unnamed: 5: no answer provided. Unnamed: 6: no answer provided. Unnamed: 7: no answer provided. Unnamed: 8: no answer provided. Unnamed: 9: no answer provided. Unnamed: 10: no answer provided. Unnamed: 11: no answer provided. Unnamed: 12: no answer provided. Unnamed: 13: no answer provided. Unnamed: 14: no answer provided. Unnamed: 15: no answer provided. Unnamed: 16: no answer provided. Unnamed: 17: no answer provided. Unnamed: 18: no answer provided. Unnamed: 19: no answer provided. Unnamed: 20: no answer provided. Unnamed: 21: no answer provided. Unnamed: 22: no answer provided. Unnamed: 23: no answer provided. Unnamed: 24: no answer provided. Unnamed: 25: no answer provided. Unnamed: 26: no answer provided. Unnamed: 27: no answer provided. Unnamed: 28: no answer provided. Unnamed: 29: no answer provided. Unnamed: 30: no answer provided. Unnamed: 31: no answer provided. Unnamed: 32: no answer provided. Unnamed: 33: no answer provided. Unnamed: 34: no answer provided. Unnamed: 35: no answer provided. Unnamed: 36: no answer provided. Unnamed: 37: no answer provided. Unnamed: 38: no answer provided. Unnamed: 39: no answer provided. Unnamed: 40: no answer provided. Unnamed: 41: no answer provided. Unnamed: 42: no answer provided. Unnamed: 43: no answer provided. Unnamed: 44: no answer provided. Unnamed: 45: no answer provided. Unnamed: 46: no answer provided. Unnamed: 47: no answer provided. Unnamed: 48: no answer provided. Unnamed: 49: no answer provided. Unnamed: 50: no answer provided. Unnamed: 51: no answer provided. Unnamed: 52: no answer provided. Unnamed: 53: no answer provided. Unnamed: 54: no answer provided. Unnamed: 55: no answer provided. Unnamed: 56: no answer provided. Unnamed: 57: no answer provided. Unnamed: 58: no answer provided. Unnamed: 59: no answer provided. Unnamed: 60: no answer provided. Unnamed: 61: no answer provided. Unnamed: 62: no answer provided. Unnamed: 63: no answer provided. Unnamed: 64: no answer provided. Unnamed: 65: no answer provided. Unnamed: 66: no answer provided. Unnamed: 67: no answer provided. Unnamed: 68: no answer provided. Unnamed: 69: no answer provided. Unnamed: 70: no answer provided. Unnamed: 71: no answer provided. Unnamed: 72: no answer provided. Unnamed: 73: no answer provided. Unnamed: 74: no answer provided. Unnamed: 75: no answer provided. Unnamed: 76: no answer provided. Unnamed: 77: no answer provided. Unnamed: 78: no answer provided. Unnamed: 79: no answer provided. Unnamed: 80: no answer provided. Unnamed: 81: no answer provided. Unnamed: 82: no answer provided. Unnamed: 83: no answer provided. Unnamed: 84: no answer provided. Unnamed: 85: no answer provided. Unnamed: 86: no answer provided. Unnamed: 87: no answer provided. Unnamed: 88: no answer provided. Unnamed: 89: no answer provided. Unnamed: 90: no answer provided. Unnamed: 91: no answer provided. Unnamed: 92: no answer provided. Unnamed: 93: no answer provided. Unnamed: 94: no answer provided. Unnamed: 95: no answer provided. Unnamed: 96: no answer provided----------------------------------------------------\n",
            "\n",
            "\n",
            " Only return a class label among these 6:        'Networking', 'Learning', 'Searching', 'Sourcing – Early', 'Sourcing – In Process', 'Sourcing – Deciding' \n"
          ]
        }
      ]
    },
    {
      "cell_type": "markdown",
      "source": [
        "# DeepSeek R1 Distill Qwen 1.5B\n",
        "\n",
        "https://huggingface.co/deepseek-ai/DeepSeek-R1-Distill-Qwen-1.5B\n",
        "\n",
        "https://ollama.com/library/deepseek-r1\n",
        "\n",
        "ollama run deepseek-r1:1.5b\n",
        "\n",
        "Q4_K - Medium\n"
      ],
      "metadata": {
        "id": "u6Qkn62CgQto"
      }
    },
    {
      "cell_type": "code",
      "source": [
        "from langchain_ollama import ChatOllama\n",
        "from langchain_core.messages import AIMessage\n",
        "\n"
      ],
      "metadata": {
        "id": "5yaT-v9iY4ck"
      },
      "execution_count": 70,
      "outputs": []
    },
    {
      "cell_type": "code",
      "source": [
        "\n",
        "llm = ChatOllama(\n",
        "    model=\"deepseek-r1:1.5b\",\n",
        "    temperature=0.5,\n",
        "    num_ctx=16000,\n",
        "\n",
        ")\n",
        "messages = [\n",
        "    (\n",
        "        \"system\",\n",
        "        \"You are a clever chatbot specialized in classify text.Only provide Label, no other Information. Let's think step by Step\",\n",
        "    ),\n",
        "    (\"human\", prompt),\n",
        "  ]\n",
        "ai_msg = llm.invoke(messages)\n",
        "\n",
        "print(ai_msg.content)\n",
        "print(\"-\"*100)"
      ],
      "metadata": {
        "colab": {
          "base_uri": "https://localhost:8080/"
        },
        "collapsed": true,
        "id": "sZlODj6rZIVb",
        "outputId": "f6ebce44-4bee-40bb-894b-8f4e7f324eb9"
      },
      "execution_count": 106,
      "outputs": [
        {
          "output_type": "stream",
          "name": "stdout",
          "text": [
            "<think>\n",
            "Alright, let's break this down. The user provided a bunch of data about a company and an event, along with their attendees. They want to know which class label from the list they provided (Networking, Learning, Searching, Sourcing – Early, Sourcing – In Process, Sourcing – Deciding) best fits this event.\n",
            "\n",
            "First, I need to identify what kind of event this is. The event title is \"Help us organize a virtual conference for Cloud Solutions.\" Looking at the data, it's an event related to cloud solutions and virtual events.\n",
            "\n",
            "Now, looking at the attendees' details, most are in tech roles like IT, DevOps, Data Science, etc., which suggests it's about technology or software. The company is a tech company focused on Cloud Industry Solutions.\n",
            "\n",
            "The event type seems to be a virtual conference for developers and tech professionals. In such events, the target audience is likely people interested in learning about the latest technologies, tools, and practices specific to their industry.\n",
            "\n",
            "Considering the class labels: 'Networking' would relate to connecting people with information. 'Learning' could involve knowledge sharing. 'Searching' might be about finding resources. 'Sourcing – Early' relates to initial planning. 'Sourcing – In Process' is ongoing planning. 'Sourcing – Deciding' involves final decisions.\n",
            "\n",
            "Since the event is about organizing a virtual conference, it's more about planning and organization than searching or learning. It's about how to execute the event, so maybe 'Sourcing – Early' makes sense because it's about planning the logistics and setting up the environment for the virtual meeting.\n",
            "</think>\n",
            "\n",
            "Based on the event title and target audience (developers, tech professionals), this appears to be a virtual conference focused on technology and software development. The class label that best fits this context is:\n",
            "\n",
            "**Sourcing – Early**\n",
            "\n",
            "This refers to planning and executing the logistics of organizing the event, setting up the environment for the virtual meeting, and ensuring everything runs smoothly before the event begins.\n",
            "----------------------------------------------------------------------------------------------------\n"
          ]
        }
      ]
    },
    {
      "cell_type": "code",
      "source": [
        "llm = ChatOllama(\n",
        "    model=\"llama3.2:3b-instruct-q4_K_M\",\n",
        "    temperature=0.5,\n",
        "    num_ctx=16000,\n",
        "\n",
        ")\n",
        "messages = [\n",
        "    (\n",
        "        \"system\",\n",
        "        \"You are a clever chatbot specialized in classify text.Only provide Label, no other Information. Let's think step by Step\",\n",
        "    ),\n",
        "    (\"human\", prompt),\n",
        "  ]\n",
        "ai_msg = llm.invoke(messages)\n",
        "\n",
        "print(ai_msg.content)\n",
        "print(\"-\"*100)"
      ],
      "metadata": {
        "colab": {
          "base_uri": "https://localhost:8080/"
        },
        "id": "5Odsh7Be-uer",
        "outputId": "63a2772e-e440-4304-988d-7ed29dee1475"
      },
      "execution_count": 107,
      "outputs": [
        {
          "output_type": "stream",
          "name": "stdout",
          "text": [
            "Based on the text, I would classify it as:\n",
            "\n",
            "'Sourcing – Early'\n",
            "\n",
            "Reasoning:\n",
            "The text has a unique format and structure that is different from the other categories. It contains information about an attendee's company, job title, industry sector, and decision-making power, which suggests that it is related to sourcing or recruitment efforts. The fact that it is labeled as \"Sourcing – Early\" also implies that it is an early stage in the sourcing process, possibly indicating that the event is still in its planning stages or that the attendee has just registered.\n",
            "\n",
            "Note: The other categories do not have enough information to make a confident classification, and 'Networking' is unlikely given the focus on sourcing and recruitment.\n",
            "----------------------------------------------------------------------------------------------------\n"
          ]
        }
      ]
    },
    {
      "cell_type": "code",
      "source": [
        "llm = ChatOllama(\n",
        "    model=\"phi3.5\",\n",
        "    temperature=0.5,\n",
        "    num_ctx=16000,\n",
        "\n",
        ")\n",
        "messages = [\n",
        "    (\n",
        "        \"system\",\n",
        "        \"You are a clever chatbot specialized in classify text.Only provide Label, no other Information. Let's think step by Step\",\n",
        "    ),\n",
        "    (\"human\", prompt),\n",
        "  ]\n",
        "ai_msg = llm.invoke(messages)\n",
        "\n",
        "print(ai_msg.content)\n",
        "print(\"-\"*100)"
      ],
      "metadata": {
        "colab": {
          "base_uri": "https://localhost:8080/"
        },
        "id": "92KmSNXD-_Xh",
        "outputId": "0d55f22c-df4c-43a0-81e3-644c52529348"
      },
      "execution_count": 108,
      "outputs": [
        {
          "output_type": "stream",
          "name": "stdout",
          "text": [
            "Show Ref: BDAIWL24. Badge Id: 49CCFCJ. Registration Date and other details provided do not give specific information about the attendee’s industry sector, job function, or interests related to sourcing events but mention their attendance as a representative/employee with no company-specific insights given either (implying networking), lack of detail on learning activities or searching for opportunities. The closest relevant class label from the provided options is 'Networking'. However, due to missing specific details about event engagement related to sourcing events and without clear indicators pointing towards a focus on acquiring knowledge ('Learning') or early stage exploration/search processes ('Searching'), it's challenging to definitively classify beyond the context of networking. Therefore:\n",
            "\n",
            "Class Label: 'Networking'\n",
            "----------------------------------------------------------------------------------------------------\n"
          ]
        }
      ]
    }
  ]
}