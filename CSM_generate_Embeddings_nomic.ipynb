{
  "nbformat": 4,
  "nbformat_minor": 0,
  "metadata": {
    "colab": {
      "provenance": [],
      "machine_shape": "hm",
      "mount_file_id": "1ViWE5EPMPIXsjaNARNKeJhlnnURlWq1s",
      "authorship_tag": "ABX9TyPPw5FjFubOQ2HYB+cjmzPI",
      "include_colab_link": true
    },
    "kernelspec": {
      "name": "python3",
      "display_name": "Python 3"
    },
    "language_info": {
      "name": "python"
    }
  },
  "cells": [
    {
      "cell_type": "markdown",
      "metadata": {
        "id": "view-in-github",
        "colab_type": "text"
      },
      "source": [
        "<a href=\"https://colab.research.google.com/github/olonok69/projects_ai/blob/main/CSM_generate_Embeddings_nomic.ipynb\" target=\"_parent\"><img src=\"https://colab.research.google.com/assets/colab-badge.svg\" alt=\"Open In Colab\"/></a>"
      ]
    },
    {
      "cell_type": "markdown",
      "source": [
        "# EMBEDDINGS\n",
        "```\n",
        "clustering_config:\n",
        "  # Huggingface access token\n",
        "  access_token: \"hb-token\"\n",
        "  # Huggingface Model Hub repo id:\n",
        "  model_name: \"mistralai/Mistral-7B-v0.1\" #\"meta-llama/Meta-Llama-3-8B\"\n",
        "  # \"sentence-transformers/stsb-bert-large\" #\"mistralai/Mistral-7B-v0.1\" #\"mistralai/Mixtral-8x7B-v0.1\" # \"mistralai/Mistral-7B-v0.1\"\n",
        "  # options: llama.cpp, gptq, transformers\n",
        "  backend_type: \"transformers\" # transformers, ctransformers\n",
        "\n",
        "  session_data_path: \"/home/samtukra/LLMU/saved_jsons/new_recommendation_db/show_ref_agg/sessions/speaker_aggregated_info.json\"\n",
        "  # \"/home/samtukra/LLMU/saved_jsons/new_claire_db/badge_id_aggregated_results.json\"\n",
        "  #\"/home/samtukra/LLMU/saved_jsons/badge_id_all_data_aggregated_iter_1000.json\"\n",
        "\n",
        "  clustering_algorithm: \"kmeans\" # kmeans, agglomerative, dbscan\n",
        "  nomenclature_file: \"/home/samtukra/LLMU/configs/clustering/cluster_numeculature.json\" # None or path to nomenclature file\n",
        "  nomenclature_embeddings_path: \"/home/samtukra/LLMU/embeddings/old/cluster_numeculature_embeddings_Mistral-7B-v0.1.json\"\n",
        "  \n",
        "  # output file dir\n",
        "  embeddings_root: \"/home/samtukra/LLMU/embeddings/new_recommendation_db\"\n",
        "  \n",
        "  default_output: \"json\" # csv, json\n",
        "  additional_output: \"csv\" # csv, json\n",
        "  ```"
      ],
      "metadata": {
        "id": "7ljvDxQGWqll"
      }
    },
    {
      "cell_type": "code",
      "source": [
        "! pip install -U bitsandbytes Faker -q"
      ],
      "metadata": {
        "colab": {
          "base_uri": "https://localhost:8080/"
        },
        "id": "LArcujZnCODC",
        "outputId": "736561cd-ad43-48aa-87ca-ff86fb60725d"
      },
      "execution_count": null,
      "outputs": [
        {
          "output_type": "stream",
          "name": "stdout",
          "text": [
            "\u001b[2K   \u001b[90m━━━━━━━━━━━━━━━━━━━━━━━━━━━━━━━━━━━━━━━━\u001b[0m \u001b[32m69.7/69.7 MB\u001b[0m \u001b[31m33.5 MB/s\u001b[0m eta \u001b[36m0:00:00\u001b[0m\n",
            "\u001b[2K   \u001b[90m━━━━━━━━━━━━━━━━━━━━━━━━━━━━━━━━━━━━━━━━\u001b[0m \u001b[32m1.9/1.9 MB\u001b[0m \u001b[31m76.8 MB/s\u001b[0m eta \u001b[36m0:00:00\u001b[0m\n",
            "\u001b[?25h"
          ]
        }
      ]
    },
    {
      "cell_type": "code",
      "execution_count": null,
      "metadata": {
        "id": "gHvpd1WOBY08"
      },
      "outputs": [],
      "source": [
        "from transformers import AutoTokenizer, AutoModel\n",
        "import torch\n",
        "import json\n",
        "import gc\n",
        "import datetime\n",
        "from faker import Faker\n",
        "fake = Faker()\n",
        "import numpy as np\n",
        "from sklearn.metrics.pairwise import cosine_similarity\n",
        "import json\n",
        "from tqdm import tqdm"
      ]
    },
    {
      "cell_type": "code",
      "source": [
        "import torch\n",
        "from torch.utils.data import Dataset, DataLoader\n",
        "import pandas as pd\n",
        "import json\n",
        "\n",
        "class BadgeDataset(Dataset):\n",
        "    def __init__(self, csv_file, json_file, split, new_db=None):\n",
        "        \"\"\"\n",
        "        Args:\n",
        "            csv_file (str): Path to the CSV file with badge and cluster info.\n",
        "            json_file (str): Path to the JSON file with badge embeddings.\n",
        "        \"\"\"\n",
        "        initial_data = pd.read_csv(csv_file)\n",
        "\n",
        "        with open(json_file, 'r') as f:\n",
        "            self.embeddings = json.load(f)\n",
        "\n",
        "        # Mapping cluster names to labels\n",
        "        if new_db!=None:\n",
        "            # New db doesn't have the 6th class.\n",
        "            self.cluster_to_label = {\n",
        "            \"Networking\": 0,\n",
        "            \"Learning\": 1,\n",
        "            \"Searching\": 2,\n",
        "            \"Sourcing: Early\": 3,\n",
        "            \"Sourcing: In Process\": 4,\n",
        "            }\n",
        "\n",
        "            print(\"using the new cluster to label dict, with ':'\")\n",
        "        else:\n",
        "            self.cluster_to_label = {\n",
        "                \"Networking\": 0,\n",
        "                \"Learning\": 1,\n",
        "                \"Searching\": 2,\n",
        "                \"Sourcing – Early\": 3,\n",
        "                \"Sourcing – In Process\": 4,\n",
        "                \"Sourcing – Deciding\": 5\n",
        "            }\n",
        "            print(\"using the original cluster to label dict, with '-'\")\n",
        "\n",
        "        # Check that all BadgeIds in CSV have corresponding embeddings in the JSON\n",
        "        self.data = initial_data[initial_data['BadgeId'].apply(lambda x: f\"BadgeId_{x}\" in self.embeddings)]\n",
        "\n",
        "        if split=='train':\n",
        "            pass\n",
        "        elif split=='val':\n",
        "            pass\n",
        "        else:\n",
        "            pass\n",
        "\n",
        "    def __len__(self):\n",
        "        return len(self.data)\n",
        "\n",
        "    def __getitem__(self, idx):\n",
        "        if torch.is_tensor(idx):\n",
        "            idx = idx.tolist()\n",
        "\n",
        "        badge_id = self.data.iloc[idx]['BadgeId']\n",
        "        cluster_name = self.data.iloc[idx]['ClusterId']\n",
        "\n",
        "        # Convert the embedding list (the first element of the list under each BadgeId) to a tensor\n",
        "        embedding = torch.tensor(self.embeddings[\"BadgeId_{}\".format(badge_id)][0], dtype=torch.float32)\n",
        "        # Get the label for the cluster\n",
        "        label = self.cluster_to_label[cluster_name]\n",
        "\n",
        "        # Convert label to tensor\n",
        "        label = torch.tensor(label, dtype=torch.int64)\n",
        "\n",
        "        return embedding, label\n",
        "\n",
        "    def split_data(self, split):\n",
        "        pass"
      ],
      "metadata": {
        "id": "23waq3YwWzFl"
      },
      "execution_count": null,
      "outputs": []
    },
    {
      "cell_type": "code",
      "source": [
        "import torch\n",
        "import torch.nn as nn\n",
        "import torch.optim as optim\n",
        "import torch.nn.functional as F\n",
        "from torch.utils.data import Dataset, DataLoader\n",
        "from tqdm import tqdm\n",
        "import os\n",
        "\n",
        "import argparse\n",
        "import numpy as np\n",
        "import pandas as pd\n",
        "\n",
        "from sklearn.metrics import accuracy_score, precision_score, recall_score, f1_score, classification_report\n",
        "\n",
        "# Custom Loss function\n",
        "class FocalLoss(nn.Module):\n",
        "    def __init__(self, alpha=0.25, gamma=2.0, reduction='mean'):\n",
        "        \"\"\"\n",
        "        Initializes the focal loss function.\n",
        "\n",
        "        Parameters:\n",
        "            alpha (float): Balancing factor, default is 0.25.\n",
        "            gamma (float): Focusing parameter, default is 2.0.\n",
        "            reduction (str): Specifies the reduction to apply to the output: 'none', 'mean', 'sum'.\n",
        "        \"\"\"\n",
        "        super(FocalLoss, self).__init__()\n",
        "        self.alpha = alpha\n",
        "        self.gamma = gamma\n",
        "        self.reduction = reduction\n",
        "\n",
        "    def forward(self, inputs, targets):\n",
        "        \"\"\"\n",
        "        Forward pass for the focal loss calculation.\n",
        "\n",
        "        Parameters:\n",
        "            inputs (tensor): Logits as predicted by the model.\n",
        "            targets (tensor): True labels.\n",
        "        \"\"\"\n",
        "        BCE_loss = F.cross_entropy(inputs, targets, reduction='none')\n",
        "        pt = torch.exp(-BCE_loss)  # Prevents nans when probability is 0\n",
        "        F_loss = self.alpha * (1 - pt) ** self.gamma * BCE_loss\n",
        "\n",
        "        if self.reduction == 'mean':\n",
        "            return torch.mean(F_loss)\n",
        "        elif self.reduction == 'sum':\n",
        "            return torch.sum(F_loss)\n",
        "        else:\n",
        "            return F_loss\n",
        "\n",
        "# Model\n",
        "class BadgeNet(nn.Module):\n",
        "    def __init__(self, input_size, num_classes):\n",
        "        super(BadgeNet, self).__init__()\n",
        "        self.fc1 = nn.Linear(input_size, 128)\n",
        "        self.fc2 = nn.Linear(128, 64)\n",
        "        self.fc3 = nn.Linear(64, 64)\n",
        "        self.fc4 = nn.Linear(64, num_classes)\n",
        "\n",
        "    def forward(self, x):\n",
        "        x = F.relu(self.fc1(x))\n",
        "        x = F.relu(self.fc2(x))\n",
        "        x = F.relu(self.fc3(x))\n",
        "        x = self.fc4(x)\n",
        "        return x\n",
        "\n",
        "def save_model(model, path):\n",
        "    torch.save(model.state_dict(), path)\n",
        "\n"
      ],
      "metadata": {
        "id": "qnKoPMGUj9Ge"
      },
      "execution_count": null,
      "outputs": []
    },
    {
      "cell_type": "code",
      "source": [
        "torch.cuda.empty_cache()\n",
        "gc.collect()"
      ],
      "metadata": {
        "colab": {
          "base_uri": "https://localhost:8080/"
        },
        "id": "ZtakG_4sMKZG",
        "outputId": "75f8ce94-d5a3-4fe5-eef6-b5b0115056e0"
      },
      "execution_count": null,
      "outputs": [
        {
          "output_type": "execute_result",
          "data": {
            "text/plain": [
              "30"
            ]
          },
          "metadata": {},
          "execution_count": 5
        }
      ]
    },
    {
      "cell_type": "code",
      "source": [
        "session_data_path = \"/content/drive/MyDrive/data/CSM/speaker_aggregated_info.json\"\n",
        "nomenclature_embeddings_path = \"/content/drive/MyDrive/data/CSM/cluster_numeculature.json\"\n",
        "output_path = \"/content/drive/MyDrive/data/CSM/embeddings_test_mistral.json\""
      ],
      "metadata": {
        "id": "K5-yj4eOQLSX"
      },
      "execution_count": null,
      "outputs": []
    },
    {
      "cell_type": "code",
      "source": [
        "with open(session_data_path) as f:\n",
        "  session_data = json.load(f)"
      ],
      "metadata": {
        "id": "2S4eCMxKXVU9"
      },
      "execution_count": null,
      "outputs": []
    },
    {
      "cell_type": "code",
      "source": [
        "session_data['SessionInfo'][0]"
      ],
      "metadata": {
        "colab": {
          "base_uri": "https://localhost:8080/"
        },
        "id": "4lxU47SJXa0W",
        "outputId": "35b0de60-166a-4091-af3a-3d82eed0e770"
      },
      "execution_count": null,
      "outputs": [
        {
          "output_type": "execute_result",
          "data": {
            "text/plain": [
              "{'AggregatedInfo': \"session_id: 37780. date: 2024-06-06. title: BVA's President's Welcome. synopsis stripped: no answer provided. sponsored session: False. speaker id: 6282569.0. speaker first name: Anna. speaker Last name: Judson. speaker speaker detail credentials: no answer provided. speaker Job title title: President. speaker organisation organisation name: BVA. speaker country name: no answer provided. speaker speaker detail biography: no answer provided. speaker speaker detail awards: no answer provided. speaker email: annajudson@aol.com. speaker speaker detail assistant email: annaj@bva.co.uk. speaker speaker detail twitter: no answer provided. travel included: True. accomodation included: False. location: no answer provided. honorarium: no answer provided\",\n",
              " 'session_id': 37780}"
            ]
          },
          "metadata": {},
          "execution_count": 8
        }
      ]
    },
    {
      "cell_type": "code",
      "source": [
        "session_data['SessionInfo'][1]"
      ],
      "metadata": {
        "colab": {
          "base_uri": "https://localhost:8080/"
        },
        "id": "Ib6FQR8Sc1Cp",
        "outputId": "1c0f3ead-8a99-434e-bbce-b3c0aa274729"
      },
      "execution_count": null,
      "outputs": [
        {
          "output_type": "execute_result",
          "data": {
            "text/plain": [
              "{'AggregatedInfo': 'session_id: 37781. date: 2024-06-06. title: Contextualised care in ECC: Playing the hand you are dealt. synopsis stripped: no answer provided. sponsored session: False. speaker id: 5113898.0. speaker first name: Aoife. speaker Last name: Reid. speaker speaker detail credentials: MVB CertAVP(ECC) MSc(VetEd) MAcadMEd FHEA FRCVS. speaker Job title title: Head of Edge Programmes and Clinical Career Progression. speaker organisation organisation name: Vets Now Ltd. speaker country name: no answer provided. speaker speaker detail biography: Aoife Reid graduated from University College Dublin in 2001. She has spent time in primary care equine, mixed practice and small animal practice. She entered small animal emergency practice in 2006 and has worked in this area ever since. Aoife has completed her CertAVP (ECC) is an RCVS Advanced Practitioner in Emergency and Critical Care and has a Masters in Veterinary Education. She also works part-time for Pet Bloodbank UK as part of the Scottish regional team.. speaker speaker detail awards: no answer provided. speaker email: aoife.reid@vets-now.com. speaker speaker detail assistant email: no answer provided. speaker speaker detail twitter: no answer provided. travel included: True. accomodation included: True. location: Genting Hotel, Resorts World, Pendigo Way, Marston Green, Birmingham B40 1PU. honorarium: 300.0. date: 2024-06-06. title: Contextualised care in ECC: Playing the hand you are dealt. synopsis stripped: no answer provided. sponsored session: False. speaker id: 6282573.0. speaker first name: Alice. speaker Last name: Watson. speaker speaker detail credentials: BVM BVS(Hons) CertAVP(ECC) MRCVS. speaker Job title title: Veterinary Surgeon. speaker organisation organisation name: BVA MBEC. speaker country name: no answer provided. speaker speaker detail biography: Small Animal Veterinary Surgeon from Suffolk with an interest in emergency and critical care and laparoscopic surgery. speaker speaker detail awards: no answer provided. speaker email: Alicewatson@live.co.uk. speaker speaker detail assistant email: no answer provided. speaker speaker detail twitter: @alishmarywotsit. travel included: True. accomodation included: False. location: no answer provided. honorarium: no answer provided',\n",
              " 'session_id': 37781}"
            ]
          },
          "metadata": {},
          "execution_count": 9
        }
      ]
    },
    {
      "cell_type": "code",
      "source": [
        "len(session_data['SessionInfo'])"
      ],
      "metadata": {
        "colab": {
          "base_uri": "https://localhost:8080/"
        },
        "id": "8lMIFvjIXj7x",
        "outputId": "dbad21bc-2bcd-4358-913f-4baefe2c0bb7"
      },
      "execution_count": null,
      "outputs": [
        {
          "output_type": "execute_result",
          "data": {
            "text/plain": [
              "122"
            ]
          },
          "metadata": {},
          "execution_count": 10
        }
      ]
    },
    {
      "cell_type": "code",
      "source": [
        "embeddings_mistral_path = \"/content/drive/MyDrive/data/CSM/embeddings_test_mistral.json\"\n",
        "\n",
        "with open(embeddings_mistral_path) as f:\n",
        "  embeddings_mistral = json.load(f)"
      ],
      "metadata": {
        "id": "SqtL136YYCZk"
      },
      "execution_count": null,
      "outputs": []
    },
    {
      "cell_type": "code",
      "source": [
        "np.squeeze(embeddings_mistral['SessionInfo_37780']).shape"
      ],
      "metadata": {
        "colab": {
          "base_uri": "https://localhost:8080/"
        },
        "id": "ZMzLKWphLkFo",
        "outputId": "51581258-5cc2-41db-842b-f7c19d048b57"
      },
      "execution_count": null,
      "outputs": [
        {
          "output_type": "execute_result",
          "data": {
            "text/plain": [
              "(4096,)"
            ]
          },
          "metadata": {},
          "execution_count": 12
        }
      ]
    },
    {
      "cell_type": "code",
      "source": [
        "embeddings_nomic_path = \"/content/drive/MyDrive/data/CSM/embeddings_test_nomic.json\"\n",
        "\n",
        "with open(embeddings_nomic_path) as f:\n",
        "  embeddings_nomic = json.load(f)"
      ],
      "metadata": {
        "id": "pmVD2dqxL9oS"
      },
      "execution_count": null,
      "outputs": []
    },
    {
      "cell_type": "code",
      "source": [
        "np.squeeze(embeddings_nomic['SessionInfo_37780']).shape"
      ],
      "metadata": {
        "colab": {
          "base_uri": "https://localhost:8080/"
        },
        "id": "MtQfqbJ6ME_E",
        "outputId": "eb1ddb14-536a-4ed6-8063-43e0e56a628a"
      },
      "execution_count": null,
      "outputs": [
        {
          "output_type": "execute_result",
          "data": {
            "text/plain": [
              "(768,)"
            ]
          },
          "metadata": {},
          "execution_count": 14
        }
      ]
    },
    {
      "cell_type": "code",
      "source": [
        "csv_path = '/content/drive/MyDrive/data/CSM/new_claire_db_badge_cluster_data_with_aggregated_info_GIO_GT_LABELS.csv'\n",
        "csv_path = '/content/drive/MyDrive/data/CSM/20240512_new_labels_WITH_AGGINFO.csv'\n",
        " # Update with actual path\n",
        "json_path = '/content/drive/MyDrive/data/CSM/session_embeddings_stsb-bert-large.json'  # Update with actual path"
      ],
      "metadata": {
        "id": "gFcZbrAZBw_-"
      },
      "execution_count": null,
      "outputs": []
    },
    {
      "cell_type": "code",
      "source": [
        "data = pd.read_csv(csv_path)\n",
        "data.head()"
      ],
      "metadata": {
        "colab": {
          "base_uri": "https://localhost:8080/",
          "height": 206
        },
        "id": "RBE_FnfBCDvd",
        "outputId": "4fc6f2e2-6023-4065-9803-e3f560acf682"
      },
      "execution_count": null,
      "outputs": [
        {
          "output_type": "execute_result",
          "data": {
            "text/plain": [
              "   BadgeId   ClusterId                                     AggregatedInfo\n",
              "0  289B6KF   Searching  Show Ref: CCSEL24, Badge Id: 289B6KF, Registra...\n",
              "1  29DQ7Z3  Networking  Show Ref: CCSEL24, Badge Id: 29DQ7Z3, Registra...\n",
              "2  2BC2SIT    Learning  Show Ref: CCSEL24, Badge Id: 2BC2SIT, Registra...\n",
              "3  2CT7E67  Networking  Show Ref: CCSEL24, Badge Id: 2CT7E67, Registra...\n",
              "4  2DNE26V   Searching  Show Ref: CEEL24, Badge Id: 2DNE26V, Registrat..."
            ],
            "text/html": [
              "\n",
              "  <div id=\"df-e797ebd7-4fe0-457a-8eb0-7fade9a7d83e\" class=\"colab-df-container\">\n",
              "    <div>\n",
              "<style scoped>\n",
              "    .dataframe tbody tr th:only-of-type {\n",
              "        vertical-align: middle;\n",
              "    }\n",
              "\n",
              "    .dataframe tbody tr th {\n",
              "        vertical-align: top;\n",
              "    }\n",
              "\n",
              "    .dataframe thead th {\n",
              "        text-align: right;\n",
              "    }\n",
              "</style>\n",
              "<table border=\"1\" class=\"dataframe\">\n",
              "  <thead>\n",
              "    <tr style=\"text-align: right;\">\n",
              "      <th></th>\n",
              "      <th>BadgeId</th>\n",
              "      <th>ClusterId</th>\n",
              "      <th>AggregatedInfo</th>\n",
              "    </tr>\n",
              "  </thead>\n",
              "  <tbody>\n",
              "    <tr>\n",
              "      <th>0</th>\n",
              "      <td>289B6KF</td>\n",
              "      <td>Searching</td>\n",
              "      <td>Show Ref: CCSEL24, Badge Id: 289B6KF, Registra...</td>\n",
              "    </tr>\n",
              "    <tr>\n",
              "      <th>1</th>\n",
              "      <td>29DQ7Z3</td>\n",
              "      <td>Networking</td>\n",
              "      <td>Show Ref: CCSEL24, Badge Id: 29DQ7Z3, Registra...</td>\n",
              "    </tr>\n",
              "    <tr>\n",
              "      <th>2</th>\n",
              "      <td>2BC2SIT</td>\n",
              "      <td>Learning</td>\n",
              "      <td>Show Ref: CCSEL24, Badge Id: 2BC2SIT, Registra...</td>\n",
              "    </tr>\n",
              "    <tr>\n",
              "      <th>3</th>\n",
              "      <td>2CT7E67</td>\n",
              "      <td>Networking</td>\n",
              "      <td>Show Ref: CCSEL24, Badge Id: 2CT7E67, Registra...</td>\n",
              "    </tr>\n",
              "    <tr>\n",
              "      <th>4</th>\n",
              "      <td>2DNE26V</td>\n",
              "      <td>Searching</td>\n",
              "      <td>Show Ref: CEEL24, Badge Id: 2DNE26V, Registrat...</td>\n",
              "    </tr>\n",
              "  </tbody>\n",
              "</table>\n",
              "</div>\n",
              "    <div class=\"colab-df-buttons\">\n",
              "\n",
              "  <div class=\"colab-df-container\">\n",
              "    <button class=\"colab-df-convert\" onclick=\"convertToInteractive('df-e797ebd7-4fe0-457a-8eb0-7fade9a7d83e')\"\n",
              "            title=\"Convert this dataframe to an interactive table.\"\n",
              "            style=\"display:none;\">\n",
              "\n",
              "  <svg xmlns=\"http://www.w3.org/2000/svg\" height=\"24px\" viewBox=\"0 -960 960 960\">\n",
              "    <path d=\"M120-120v-720h720v720H120Zm60-500h600v-160H180v160Zm220 220h160v-160H400v160Zm0 220h160v-160H400v160ZM180-400h160v-160H180v160Zm440 0h160v-160H620v160ZM180-180h160v-160H180v160Zm440 0h160v-160H620v160Z\"/>\n",
              "  </svg>\n",
              "    </button>\n",
              "\n",
              "  <style>\n",
              "    .colab-df-container {\n",
              "      display:flex;\n",
              "      gap: 12px;\n",
              "    }\n",
              "\n",
              "    .colab-df-convert {\n",
              "      background-color: #E8F0FE;\n",
              "      border: none;\n",
              "      border-radius: 50%;\n",
              "      cursor: pointer;\n",
              "      display: none;\n",
              "      fill: #1967D2;\n",
              "      height: 32px;\n",
              "      padding: 0 0 0 0;\n",
              "      width: 32px;\n",
              "    }\n",
              "\n",
              "    .colab-df-convert:hover {\n",
              "      background-color: #E2EBFA;\n",
              "      box-shadow: 0px 1px 2px rgba(60, 64, 67, 0.3), 0px 1px 3px 1px rgba(60, 64, 67, 0.15);\n",
              "      fill: #174EA6;\n",
              "    }\n",
              "\n",
              "    .colab-df-buttons div {\n",
              "      margin-bottom: 4px;\n",
              "    }\n",
              "\n",
              "    [theme=dark] .colab-df-convert {\n",
              "      background-color: #3B4455;\n",
              "      fill: #D2E3FC;\n",
              "    }\n",
              "\n",
              "    [theme=dark] .colab-df-convert:hover {\n",
              "      background-color: #434B5C;\n",
              "      box-shadow: 0px 1px 3px 1px rgba(0, 0, 0, 0.15);\n",
              "      filter: drop-shadow(0px 1px 2px rgba(0, 0, 0, 0.3));\n",
              "      fill: #FFFFFF;\n",
              "    }\n",
              "  </style>\n",
              "\n",
              "    <script>\n",
              "      const buttonEl =\n",
              "        document.querySelector('#df-e797ebd7-4fe0-457a-8eb0-7fade9a7d83e button.colab-df-convert');\n",
              "      buttonEl.style.display =\n",
              "        google.colab.kernel.accessAllowed ? 'block' : 'none';\n",
              "\n",
              "      async function convertToInteractive(key) {\n",
              "        const element = document.querySelector('#df-e797ebd7-4fe0-457a-8eb0-7fade9a7d83e');\n",
              "        const dataTable =\n",
              "          await google.colab.kernel.invokeFunction('convertToInteractive',\n",
              "                                                    [key], {});\n",
              "        if (!dataTable) return;\n",
              "\n",
              "        const docLinkHtml = 'Like what you see? Visit the ' +\n",
              "          '<a target=\"_blank\" href=https://colab.research.google.com/notebooks/data_table.ipynb>data table notebook</a>'\n",
              "          + ' to learn more about interactive tables.';\n",
              "        element.innerHTML = '';\n",
              "        dataTable['output_type'] = 'display_data';\n",
              "        await google.colab.output.renderOutput(dataTable, element);\n",
              "        const docLink = document.createElement('div');\n",
              "        docLink.innerHTML = docLinkHtml;\n",
              "        element.appendChild(docLink);\n",
              "      }\n",
              "    </script>\n",
              "  </div>\n",
              "\n",
              "\n",
              "<div id=\"df-fee8fa6f-156a-4c34-b367-e5e1372e2db6\">\n",
              "  <button class=\"colab-df-quickchart\" onclick=\"quickchart('df-fee8fa6f-156a-4c34-b367-e5e1372e2db6')\"\n",
              "            title=\"Suggest charts\"\n",
              "            style=\"display:none;\">\n",
              "\n",
              "<svg xmlns=\"http://www.w3.org/2000/svg\" height=\"24px\"viewBox=\"0 0 24 24\"\n",
              "     width=\"24px\">\n",
              "    <g>\n",
              "        <path d=\"M19 3H5c-1.1 0-2 .9-2 2v14c0 1.1.9 2 2 2h14c1.1 0 2-.9 2-2V5c0-1.1-.9-2-2-2zM9 17H7v-7h2v7zm4 0h-2V7h2v10zm4 0h-2v-4h2v4z\"/>\n",
              "    </g>\n",
              "</svg>\n",
              "  </button>\n",
              "\n",
              "<style>\n",
              "  .colab-df-quickchart {\n",
              "      --bg-color: #E8F0FE;\n",
              "      --fill-color: #1967D2;\n",
              "      --hover-bg-color: #E2EBFA;\n",
              "      --hover-fill-color: #174EA6;\n",
              "      --disabled-fill-color: #AAA;\n",
              "      --disabled-bg-color: #DDD;\n",
              "  }\n",
              "\n",
              "  [theme=dark] .colab-df-quickchart {\n",
              "      --bg-color: #3B4455;\n",
              "      --fill-color: #D2E3FC;\n",
              "      --hover-bg-color: #434B5C;\n",
              "      --hover-fill-color: #FFFFFF;\n",
              "      --disabled-bg-color: #3B4455;\n",
              "      --disabled-fill-color: #666;\n",
              "  }\n",
              "\n",
              "  .colab-df-quickchart {\n",
              "    background-color: var(--bg-color);\n",
              "    border: none;\n",
              "    border-radius: 50%;\n",
              "    cursor: pointer;\n",
              "    display: none;\n",
              "    fill: var(--fill-color);\n",
              "    height: 32px;\n",
              "    padding: 0;\n",
              "    width: 32px;\n",
              "  }\n",
              "\n",
              "  .colab-df-quickchart:hover {\n",
              "    background-color: var(--hover-bg-color);\n",
              "    box-shadow: 0 1px 2px rgba(60, 64, 67, 0.3), 0 1px 3px 1px rgba(60, 64, 67, 0.15);\n",
              "    fill: var(--button-hover-fill-color);\n",
              "  }\n",
              "\n",
              "  .colab-df-quickchart-complete:disabled,\n",
              "  .colab-df-quickchart-complete:disabled:hover {\n",
              "    background-color: var(--disabled-bg-color);\n",
              "    fill: var(--disabled-fill-color);\n",
              "    box-shadow: none;\n",
              "  }\n",
              "\n",
              "  .colab-df-spinner {\n",
              "    border: 2px solid var(--fill-color);\n",
              "    border-color: transparent;\n",
              "    border-bottom-color: var(--fill-color);\n",
              "    animation:\n",
              "      spin 1s steps(1) infinite;\n",
              "  }\n",
              "\n",
              "  @keyframes spin {\n",
              "    0% {\n",
              "      border-color: transparent;\n",
              "      border-bottom-color: var(--fill-color);\n",
              "      border-left-color: var(--fill-color);\n",
              "    }\n",
              "    20% {\n",
              "      border-color: transparent;\n",
              "      border-left-color: var(--fill-color);\n",
              "      border-top-color: var(--fill-color);\n",
              "    }\n",
              "    30% {\n",
              "      border-color: transparent;\n",
              "      border-left-color: var(--fill-color);\n",
              "      border-top-color: var(--fill-color);\n",
              "      border-right-color: var(--fill-color);\n",
              "    }\n",
              "    40% {\n",
              "      border-color: transparent;\n",
              "      border-right-color: var(--fill-color);\n",
              "      border-top-color: var(--fill-color);\n",
              "    }\n",
              "    60% {\n",
              "      border-color: transparent;\n",
              "      border-right-color: var(--fill-color);\n",
              "    }\n",
              "    80% {\n",
              "      border-color: transparent;\n",
              "      border-right-color: var(--fill-color);\n",
              "      border-bottom-color: var(--fill-color);\n",
              "    }\n",
              "    90% {\n",
              "      border-color: transparent;\n",
              "      border-bottom-color: var(--fill-color);\n",
              "    }\n",
              "  }\n",
              "</style>\n",
              "\n",
              "  <script>\n",
              "    async function quickchart(key) {\n",
              "      const quickchartButtonEl =\n",
              "        document.querySelector('#' + key + ' button');\n",
              "      quickchartButtonEl.disabled = true;  // To prevent multiple clicks.\n",
              "      quickchartButtonEl.classList.add('colab-df-spinner');\n",
              "      try {\n",
              "        const charts = await google.colab.kernel.invokeFunction(\n",
              "            'suggestCharts', [key], {});\n",
              "      } catch (error) {\n",
              "        console.error('Error during call to suggestCharts:', error);\n",
              "      }\n",
              "      quickchartButtonEl.classList.remove('colab-df-spinner');\n",
              "      quickchartButtonEl.classList.add('colab-df-quickchart-complete');\n",
              "    }\n",
              "    (() => {\n",
              "      let quickchartButtonEl =\n",
              "        document.querySelector('#df-fee8fa6f-156a-4c34-b367-e5e1372e2db6 button');\n",
              "      quickchartButtonEl.style.display =\n",
              "        google.colab.kernel.accessAllowed ? 'block' : 'none';\n",
              "    })();\n",
              "  </script>\n",
              "</div>\n",
              "\n",
              "    </div>\n",
              "  </div>\n"
            ],
            "application/vnd.google.colaboratory.intrinsic+json": {
              "type": "dataframe",
              "variable_name": "data",
              "summary": "{\n  \"name\": \"data\",\n  \"rows\": 1215,\n  \"fields\": [\n    {\n      \"column\": \"BadgeId\",\n      \"properties\": {\n        \"dtype\": \"string\",\n        \"num_unique_values\": 1215,\n        \"samples\": [\n          \"MBPZU3M\",\n          \"N7M3J8J\",\n          \"3P6V87G\"\n        ],\n        \"semantic_type\": \"\",\n        \"description\": \"\"\n      }\n    },\n    {\n      \"column\": \"ClusterId\",\n      \"properties\": {\n        \"dtype\": \"category\",\n        \"num_unique_values\": 5,\n        \"samples\": [\n          \"Networking\",\n          \"Sourcing: Early\",\n          \"Learning\"\n        ],\n        \"semantic_type\": \"\",\n        \"description\": \"\"\n      }\n    },\n    {\n      \"column\": \"AggregatedInfo\",\n      \"properties\": {\n        \"dtype\": \"string\",\n        \"num_unique_values\": 1215,\n        \"samples\": [\n          \"Show Ref: CCSEL24, Badge Id: MBPZU3M, Registration Code: ZFC28, Registration Guid: 68dd91ae-b519-4846-b4d7-b12200a546eb, Session Guid: 7074069c-2708-44e8-807d-a38dee4e7312, Source: __, Badge Type: Visitor, Status: Approved, Registration Date: 2024-02-26 10:01:44.907000, Weeks Out: 1.0, Title: no answer provided, Firstname: Maria, Surname: Ugleshova, Job Title: IT Graduate, Company: Harrods, Address 1: 87-135 Brompton Road, Address 2: no answer provided, Address 3: no answer provided, Town/City: London, County: no answer provided, Postcode: SW1X 7XL, Country: UK, Telephone: +4407935346387, Mobile: no answer provided, Fax: no answer provided, Email: maria.ugleshova@harrods.com, Secondary Email: no answer provided, Website: no answer provided, Nationality: no answer provided, Account Number: 6587695.0, Booker Forename: no answer provided, Booker Surname: no answer provided, Booker Company: no answer provided, Booker Email: no answer provided, Offer Code: no answer provided, Referee Forename / Referee Forename (text): no answer provided, Referee Surname / Referee Surname (text): no answer provided, Single Select Demographics / Job Level: Other, Job Level / Other (text): IT Graduate, Single Select Demographics / Job Function: IT, Job Function / Other (text): no answer provided, Linkedin ID / Keep in touch! Share your Linkedin profile: (text): no answer provided, Single Select Demographics / Decision making power: No influence in purchasing decisions, Single Select Demographics / What best describes your reason for attending: \\u2018I am attending because my company is...\\u2019: Other (e.g. student), Which best describes your company? / Other (text): no answer provided, Single Select Demographics / Which best describes your company?: no answer provided, Single Select Demographics / Number of Employees: 2500+, Your industry sector / Other (text): no answer provided, Single Select Demographics / Your industry sector: Retail, Please specify your industry sector (Arts): no answer provided, Please specify your industry sector (Banking/Finance): no answer provided, Please specify your industry sector (Central/Local Government): no answer provided, Please specify your industry sector (Cloud Industry): no answer provided, Please specify your industry sector (Construction): no answer provided, Please specify your industry sector (Consumer Goods): no answer provided, Please specify your industry sector (Corporate): no answer provided, Please specify your industry sector (Education): no answer provided, Please specify your industry sector (Healthcare/Pharma): no answer provided, Please specify your industry sector (Manufacturing): no answer provided, Please specify your industry sector (Media/Entertainment): no answer provided, Please specify your industry sector (Not for Profit): no answer provided, Please specify your industry sector (Retail): Hospitality;Leisure, Travel & Tourism;Restaurants, Please specify your industry sector (Service): no answer provided, Please specify your industry sector (Transportation): no answer provided, Please specify your industry sector (Professional Services): no answer provided, Please specify your industry sector (Technology): no answer provided, Which co-located events are of high relevance to you? CCSL: Cloud Expo Europe;DevOps Live, Your main areas of interest: Automation;Cloud Security;Containers;Cyber Risk Management Access Management;Cyber Security;Cyber Skills Talent & Culture;DevOps;DevSecOps;Threat Detection & Response;Virtualization, Single Select Demographics / Do you intend to visit:: Day 1, Are you a member of any of the following associations? / (ISC)2 (text): no answer provided, Are you a member of any of the following associations? / ISACA (text): no answer provided, Are you a member of any of the following associations? / Other (text): no answer provided, Are you a member of any of the following associations?: no answer provided, Would you be interested in hearing more from our partner associations?: Admin Magazine;Chartered Institute of Information Security;Cyber Magazine;Cyber Security Jobsite;SheCanCode;Silicon UK;The Cyber Resilience Centre for London;Women's Engineering Society (WES), Single Select Demographics / Would you be interested in exhibiting/sponsorship/partnership/speaking?: No, How did you hear about us? / Other (text): no answer provided, Single Select Demographics / How did you hear about us?: Banner Advert, Accessibility: What can we do to make this event space more comfortable for you? / Accessibility: What can we do to make this ev: no answer provided, How do you plan to travel to the event? / Other (text): no answer provided, Single Select Demographics / How do you plan to travel to the event?: Train, Single Select Demographics / How many nights do you intend to stay at a hotel for when attending this event?: 0.0, I have read and accept the Event Terms and Conditions: I have read and accept the Event Terms and Conditions , I have read and accept the Privacy Policy: I have read and accept the Privacy Policy , If you would like to receive information from us about third party products, events and services, please tick here.: no answer provided, If you are happy for your name and email address to be shared with such third parties for marketing purposes, please tick here.: no answer provided, Interested in keeping up with the latest tech news?: no answer provided, Please ensure that you have consent from your colleagues to register on behalf of them and provide their details to access the e: no answer provided, Attended: Yes, Virtual Attended: No, Day 1: Yes, Day 1 Entry: 2024-03-06 09:22:42.497000, Day 2: no answer provided, Day 2 Entry: no answer provided, Referrer / Referrer First Name (text): no answer provided, Referrer / Referrer Email (text): no answer provided, Single Select Demographics / Which best describes your job function?: no answer provided, Twitter ID / Keep in touch! Share your Linkedin profile: (text): no answer provided, Your organisation industry sector: / Other (text): no answer provided, Single Select Demographics / Your organisation industry sector:: no answer provided, Please specify your industry sector (Media/Communications): no answer provided, Which co-located events are of high relevance to you?: no answer provided, Your main areas of interest: / Other (text): no answer provided, Your main areas of interest:: no answer provided, Would you be interested in hearing more from our partners?: no answer provided, Would you be interested in subscribing to our Official Publications?: no answer provided, Keep in touch! Share your Linkedin profile: / Keep in touch! Share your Linkedin profile: (text): no answer provided, Single Select Demographics / Decision Making Power: no answer provided, Single Select Demographics / Does your company currently use DevOps tools and practices?: no answer provided, Single Select Demographics / Do you currently have a dedicated DevOps team and/or infrastructure?: no answer provided, Single Select Demographics / Do you have a budget for DevOps solutions?: no answer provided, Please specify your industry sector (Banking/Finance/Insurance): no answer provided, Please specify your industry sector (Not for profit): no answer provided, Would you be interested in exhibiting/sponsorship/partnership/speaking?: no answer provided, Your main areas of interest / Other (text): no answer provided, Unnamed: 0: no answer provided, Show Report DCWL24: no answer provided, Unnamed: 2: no answer provided, Unnamed: 3: no answer provided, Unnamed: 4: no answer provided, Unnamed: 5: no answer provided, Unnamed: 6: no answer provided, Unnamed: 7: no answer provided, Unnamed: 8: no answer provided, Unnamed: 9: no answer provided, Unnamed: 10: no answer provided, Unnamed: 11: no answer provided, Unnamed: 12: no answer provided, Unnamed: 13: no answer provided, Unnamed: 14: no answer provided, Unnamed: 15: no answer provided, Unnamed: 16: no answer provided, Unnamed: 17: no answer provided, Unnamed: 18: no answer provided, Unnamed: 19: no answer provided, Unnamed: 20: no answer provided, Unnamed: 21: no answer provided, Unnamed: 22: no answer provided, Unnamed: 23: no answer provided, Unnamed: 24: no answer provided, Unnamed: 25: no answer provided, Unnamed: 26: no answer provided, Unnamed: 27: no answer provided, Unnamed: 28: no answer provided, Unnamed: 29: no answer provided, Unnamed: 30: no answer provided, Unnamed: 31: no answer provided, Unnamed: 32: no answer provided, Unnamed: 33: no answer provided, Unnamed: 34: no answer provided, Unnamed: 35: no answer provided, Unnamed: 36: no answer provided, Unnamed: 37: no answer provided, Unnamed: 38: no answer provided, Unnamed: 39: no answer provided, Unnamed: 40: no answer provided, Unnamed: 41: no answer provided, Unnamed: 42: no answer provided, Unnamed: 43: no answer provided, Unnamed: 44: no answer provided, Unnamed: 45: no answer provided, Unnamed: 46: no answer provided, Unnamed: 47: no answer provided, Unnamed: 48: no answer provided, Unnamed: 49: no answer provided, Unnamed: 50: no answer provided, Unnamed: 51: no answer provided, Unnamed: 52: no answer provided, Unnamed: 53: no answer provided, Unnamed: 54: no answer provided, Unnamed: 55: no answer provided, Unnamed: 56: no answer provided, Unnamed: 57: no answer provided, Unnamed: 58: no answer provided, Unnamed: 59: no answer provided, Unnamed: 60: no answer provided, Unnamed: 61: no answer provided, Unnamed: 62: no answer provided, Unnamed: 63: no answer provided, Unnamed: 64: no answer provided, Unnamed: 65: no answer provided, Unnamed: 66: no answer provided, Unnamed: 67: no answer provided, Unnamed: 68: no answer provided, Unnamed: 69: no answer provided, Unnamed: 70: no answer provided, Unnamed: 71: no answer provided, Unnamed: 72: no answer provided, Unnamed: 73: no answer provided, Unnamed: 74: no answer provided, Unnamed: 75: no answer provided, Unnamed: 76: no answer provided, Unnamed: 77: no answer provided, Unnamed: 78: no answer provided, Unnamed: 79: no answer provided, Unnamed: 80: no answer provided, Unnamed: 81: no answer provided, Unnamed: 82: no answer provided, Unnamed: 83: no answer provided, Unnamed: 84: no answer provided, Unnamed: 85: no answer provided, Unnamed: 86: no answer provided, Unnamed: 87: no answer provided, Unnamed: 88: no answer provided, Unnamed: 89: no answer provided, Unnamed: 90: no answer provided, Unnamed: 91: no answer provided, Unnamed: 92: no answer provided, Unnamed: 93: no answer provided, Unnamed: 94: no answer provided, Unnamed: 95: no answer provided, Unnamed: 96: no answer provided\",\n          \"Show Ref: CCSEL24, Badge Id: N7M3J8J, Registration Code: 8RYUI, Registration Guid: ded414e5-8475-4335-ae4e-b0df00daa49b, Session Guid: a842cacb-1012-49c3-a518-f82dcda68344, Source: LiveLeads, Badge Type: Visitor, Status: Approved, Registration Date: 2023-12-21 13:16:03.037000, Weeks Out: 11.0, Title: no answer provided, Firstname: Vasileios, Surname: Lytrivis, Job Title: CISO, Company: Indeavor, Address 1:  Dion. Areopagitou 7, Address 2: no answer provided, Address 3: no answer provided, Town/City: Athens, County: Attiki, Postcode: 11742, Country: Greece, Telephone: +306970377776, Mobile: no answer provided, Fax: no answer provided, Email: vlytrivis@indeavor.com, Secondary Email: no answer provided, Website: no answer provided, Nationality: no answer provided, Account Number: 5526187.0, Booker Forename: no answer provided, Booker Surname: no answer provided, Booker Company: no answer provided, Booker Email: no answer provided, Offer Code: no answer provided, Referee Forename / Referee Forename (text): no answer provided, Referee Surname / Referee Surname (text): no answer provided, Single Select Demographics / Job Level: C-Suite, Job Level / Other (text): no answer provided, Single Select Demographics / Job Function: CIO, CTO, Job Function / Other (text): no answer provided, Linkedin ID / Keep in touch! Share your Linkedin profile: (text): no answer provided, Single Select Demographics / Decision making power: Final sign off, Single Select Demographics / What best describes your reason for attending: \\u2018I am attending because my company is...\\u2019: A buyer/consumer of information security solutions, Which best describes your company? / Other (text): no answer provided, Single Select Demographics / Which best describes your company?: no answer provided, Single Select Demographics / Number of Employees: 101 - 250, Your industry sector / Other (text): no answer provided, Single Select Demographics / Your industry sector: Technology, Please specify your industry sector (Arts): no answer provided, Please specify your industry sector (Banking/Finance): no answer provided, Please specify your industry sector (Central/Local Government): no answer provided, Please specify your industry sector (Cloud Industry): no answer provided, Please specify your industry sector (Construction): no answer provided, Please specify your industry sector (Consumer Goods): no answer provided, Please specify your industry sector (Corporate): no answer provided, Please specify your industry sector (Education): no answer provided, Please specify your industry sector (Healthcare/Pharma): no answer provided, Please specify your industry sector (Manufacturing): no answer provided, Please specify your industry sector (Media/Entertainment): no answer provided, Please specify your industry sector (Not for Profit): no answer provided, Please specify your industry sector (Retail): no answer provided, Please specify your industry sector (Service): no answer provided, Please specify your industry sector (Transportation): no answer provided, Please specify your industry sector (Professional Services): no answer provided, Please specify your industry sector (Technology): Computer Software, Which co-located events are of high relevance to you? CCSL: Big Data & AI World;Cloud Expo Europe;DevOps Live, Your main areas of interest: AIOps;Cloud Security;Cyber Risk Management Access Management;Cyber Security;DevSecOps;Governance & Compliance;Log Management;Monitoring & Observability;Threat Detection & Response;Zero Trust, Single Select Demographics / Do you intend to visit:: Both Days, Are you a member of any of the following associations? / (ISC)2 (text): no answer provided, Are you a member of any of the following associations? / ISACA (text): no answer provided, Are you a member of any of the following associations? / Other (text): GIAC SANS, Are you a member of any of the following associations?: Other, Would you be interested in hearing more from our partner associations?: Cyber Magazine, Single Select Demographics / Would you be interested in exhibiting/sponsorship/partnership/speaking?: Yes speaking at the conference, How did you hear about us? / Other (text): no answer provided, Single Select Demographics / How did you hear about us?: Recommended by a colleague, Accessibility: What can we do to make this event space more comfortable for you? / Accessibility: What can we do to make this ev: no answer provided, How do you plan to travel to the event? / Other (text): no answer provided, Single Select Demographics / How do you plan to travel to the event?: Fly - Economy Class, Single Select Demographics / How many nights do you intend to stay at a hotel for when attending this event?: 3.0, I have read and accept the Event Terms and Conditions: I have read and accept the Event Terms and Conditions , I have read and accept the Privacy Policy: I have read and accept the Privacy Policy , If you would like to receive information from us about third party products, events and services, please tick here.: no answer provided, If you are happy for your name and email address to be shared with such third parties for marketing purposes, please tick here.: no answer provided, Interested in keeping up with the latest tech news?: no answer provided, Please ensure that you have consent from your colleagues to register on behalf of them and provide their details to access the e: no answer provided, Attended: Yes, Virtual Attended: No, Day 1: Yes, Day 1 Entry: 2024-03-06 09:41:19.323000, Day 2: Yes, Day 2 Entry: 2024-03-07 11:33:28.867000, Referrer / Referrer First Name (text): no answer provided, Referrer / Referrer Email (text): no answer provided, Single Select Demographics / Which best describes your job function?: no answer provided, Twitter ID / Keep in touch! Share your Linkedin profile: (text): no answer provided, Your organisation industry sector: / Other (text): no answer provided, Single Select Demographics / Your organisation industry sector:: no answer provided, Please specify your industry sector (Media/Communications): no answer provided, Which co-located events are of high relevance to you?: no answer provided, Your main areas of interest: / Other (text): no answer provided, Your main areas of interest:: no answer provided, Would you be interested in hearing more from our partners?: no answer provided, Would you be interested in subscribing to our Official Publications?: no answer provided, Keep in touch! Share your Linkedin profile: / Keep in touch! Share your Linkedin profile: (text): no answer provided, Single Select Demographics / Decision Making Power: no answer provided, Single Select Demographics / Does your company currently use DevOps tools and practices?: no answer provided, Single Select Demographics / Do you currently have a dedicated DevOps team and/or infrastructure?: no answer provided, Single Select Demographics / Do you have a budget for DevOps solutions?: no answer provided, Please specify your industry sector (Banking/Finance/Insurance): no answer provided, Please specify your industry sector (Not for profit): no answer provided, Would you be interested in exhibiting/sponsorship/partnership/speaking?: no answer provided, Your main areas of interest / Other (text): no answer provided, Unnamed: 0: no answer provided, Show Report DCWL24: no answer provided, Unnamed: 2: no answer provided, Unnamed: 3: no answer provided, Unnamed: 4: no answer provided, Unnamed: 5: no answer provided, Unnamed: 6: no answer provided, Unnamed: 7: no answer provided, Unnamed: 8: no answer provided, Unnamed: 9: no answer provided, Unnamed: 10: no answer provided, Unnamed: 11: no answer provided, Unnamed: 12: no answer provided, Unnamed: 13: no answer provided, Unnamed: 14: no answer provided, Unnamed: 15: no answer provided, Unnamed: 16: no answer provided, Unnamed: 17: no answer provided, Unnamed: 18: no answer provided, Unnamed: 19: no answer provided, Unnamed: 20: no answer provided, Unnamed: 21: no answer provided, Unnamed: 22: no answer provided, Unnamed: 23: no answer provided, Unnamed: 24: no answer provided, Unnamed: 25: no answer provided, Unnamed: 26: no answer provided, Unnamed: 27: no answer provided, Unnamed: 28: no answer provided, Unnamed: 29: no answer provided, Unnamed: 30: no answer provided, Unnamed: 31: no answer provided, Unnamed: 32: no answer provided, Unnamed: 33: no answer provided, Unnamed: 34: no answer provided, Unnamed: 35: no answer provided, Unnamed: 36: no answer provided, Unnamed: 37: no answer provided, Unnamed: 38: no answer provided, Unnamed: 39: no answer provided, Unnamed: 40: no answer provided, Unnamed: 41: no answer provided, Unnamed: 42: no answer provided, Unnamed: 43: no answer provided, Unnamed: 44: no answer provided, Unnamed: 45: no answer provided, Unnamed: 46: no answer provided, Unnamed: 47: no answer provided, Unnamed: 48: no answer provided, Unnamed: 49: no answer provided, Unnamed: 50: no answer provided, Unnamed: 51: no answer provided, Unnamed: 52: no answer provided, Unnamed: 53: no answer provided, Unnamed: 54: no answer provided, Unnamed: 55: no answer provided, Unnamed: 56: no answer provided, Unnamed: 57: no answer provided, Unnamed: 58: no answer provided, Unnamed: 59: no answer provided, Unnamed: 60: no answer provided, Unnamed: 61: no answer provided, Unnamed: 62: no answer provided, Unnamed: 63: no answer provided, Unnamed: 64: no answer provided, Unnamed: 65: no answer provided, Unnamed: 66: no answer provided, Unnamed: 67: no answer provided, Unnamed: 68: no answer provided, Unnamed: 69: no answer provided, Unnamed: 70: no answer provided, Unnamed: 71: no answer provided, Unnamed: 72: no answer provided, Unnamed: 73: no answer provided, Unnamed: 74: no answer provided, Unnamed: 75: no answer provided, Unnamed: 76: no answer provided, Unnamed: 77: no answer provided, Unnamed: 78: no answer provided, Unnamed: 79: no answer provided, Unnamed: 80: no answer provided, Unnamed: 81: no answer provided, Unnamed: 82: no answer provided, Unnamed: 83: no answer provided, Unnamed: 84: no answer provided, Unnamed: 85: no answer provided, Unnamed: 86: no answer provided, Unnamed: 87: no answer provided, Unnamed: 88: no answer provided, Unnamed: 89: no answer provided, Unnamed: 90: no answer provided, Unnamed: 91: no answer provided, Unnamed: 92: no answer provided, Unnamed: 93: no answer provided, Unnamed: 94: no answer provided, Unnamed: 95: no answer provided, Unnamed: 96: no answer provided\",\n          \"Show Ref: DOL24, Badge Id: 3P6V87G, Registration Code: 6F6WI, Registration Guid: 2bb6f878-df0e-497c-a76c-b12901169f2a, Session Guid: 4a7cb508-1661-41a9-bfcb-7e626321e808, Source: DOL24_Invite, Badge Type: Visitor, Status: Approved, Registration Date: 2024-03-04 16:54:25.437000, Weeks Out: 0.0, Title: no answer provided, Firstname: Manushi, Surname: Jayasinghe, Job Title: Senior QA Engineer, Company: OneBanx, Address 1: 23 Rustic Street, Address 2: no answer provided, Address 3: no answer provided, Town/City: Aylesbury, County: no answer provided, Postcode: HP22 7DB, Country: UK, Telephone: 447506101501, Mobile: no answer provided, Fax: no answer provided, Email: manushi.jayasinghe@onebanks.co.uk, Secondary Email: no answer provided, Website: no answer provided, Nationality: no answer provided, Account Number: 6531174.0, Booker Forename: no answer provided, Booker Surname: no answer provided, Booker Company: no answer provided, Booker Email: no answer provided, Offer Code: no answer provided, Referee Forename / Referee Forename (text): Andy, Referee Surname / Referee Surname (text): Willmot, Single Select Demographics / Job Level: Representative/Employee, Job Level / Other (text): no answer provided, Single Select Demographics / Job Function: IT, Job Function / Other (text): no answer provided, Linkedin ID / Keep in touch! Share your Linkedin profile: (text): no answer provided, Single Select Demographics / Decision making power: no answer provided, Single Select Demographics / What best describes your reason for attending: \\u2018I am attending because my company is...\\u2019: Other (e.g. student), Which best describes your company? / Other (text): no answer provided, Single Select Demographics / Which best describes your company?: no answer provided, Single Select Demographics / Number of Employees: 1 - 20, Your industry sector / Other (text): no answer provided, Single Select Demographics / Your industry sector: Banking/Finance, Please specify your industry sector (Arts): no answer provided, Please specify your industry sector (Banking/Finance): no answer provided, Please specify your industry sector (Central/Local Government): no answer provided, Please specify your industry sector (Cloud Industry): no answer provided, Please specify your industry sector (Construction): no answer provided, Please specify your industry sector (Consumer Goods): no answer provided, Please specify your industry sector (Corporate): no answer provided, Please specify your industry sector (Education): no answer provided, Please specify your industry sector (Healthcare/Pharma): no answer provided, Please specify your industry sector (Manufacturing): no answer provided, Please specify your industry sector (Media/Entertainment): no answer provided, Please specify your industry sector (Not for Profit): no answer provided, Please specify your industry sector (Retail): no answer provided, Please specify your industry sector (Service): no answer provided, Please specify your industry sector (Transportation): no answer provided, Please specify your industry sector (Professional Services): no answer provided, Please specify your industry sector (Technology): no answer provided, Which co-located events are of high relevance to you? CCSL: no answer provided, Your main areas of interest: Cyber Risk Analytics;DevSecOps;Monitoring;Penetration Testing;Performance Management;Software Architecture;System Administration;Virtual Data Centres, Single Select Demographics / Do you intend to visit:: Day 1, Are you a member of any of the following associations? / (ISC)2 (text): no answer provided, Are you a member of any of the following associations? / ISACA (text): no answer provided, Are you a member of any of the following associations? / Other (text): no answer provided, Are you a member of any of the following associations?: no answer provided, Would you be interested in hearing more from our partner associations?: no answer provided, Single Select Demographics / Would you be interested in exhibiting/sponsorship/partnership/speaking?: no answer provided, How did you hear about us? / Other (text): no answer provided, Single Select Demographics / How did you hear about us?: Recommended by a Colleague, Accessibility: What can we do to make this event space more comfortable for you? / Accessibility: What can we do to make this ev: no answer provided, How do you plan to travel to the event? / Other (text): no answer provided, Single Select Demographics / How do you plan to travel to the event?: Train, Single Select Demographics / How many nights do you intend to stay at a hotel for when attending this event?: 0.0, I have read and accept the Event Terms and Conditions: I have read and accept the Event Terms and Conditions , I have read and accept the Privacy Policy: I have read and accept the Privacy Policy , If you would like to receive information from us about third party products, events and services, please tick here.: no answer provided, If you are happy for your name and email address to be shared with such third parties for marketing purposes, please tick here.: no answer provided, Interested in keeping up with the latest tech news?: no answer provided, Please ensure that you have consent from your colleagues to register on behalf of them and provide their details to access the e: no answer provided, Attended: Yes, Virtual Attended: No, Day 1: Yes, Day 1 Entry: 2024-03-06 10:08:09.643000, Day 2: no answer provided, Day 2 Entry: no answer provided, Referrer / Referrer First Name (text): no answer provided, Referrer / Referrer Email (text): no answer provided, Single Select Demographics / Which best describes your job function?: no answer provided, Twitter ID / Keep in touch! Share your Linkedin profile: (text): no answer provided, Your organisation industry sector: / Other (text): no answer provided, Single Select Demographics / Your organisation industry sector:: no answer provided, Please specify your industry sector (Media/Communications): no answer provided, Which co-located events are of high relevance to you?: None of the above, Your main areas of interest: / Other (text): no answer provided, Your main areas of interest:: no answer provided, Would you be interested in hearing more from our partners?: no answer provided, Would you be interested in subscribing to our Official Publications?: no answer provided, Keep in touch! Share your Linkedin profile: / Keep in touch! Share your Linkedin profile: (text): no answer provided, Single Select Demographics / Decision Making Power: No influence in purchasing decisions, Single Select Demographics / Does your company currently use DevOps tools and practices?: Yes, Single Select Demographics / Do you currently have a dedicated DevOps team and/or infrastructure?: Yes, Single Select Demographics / Do you have a budget for DevOps solutions?: Not sure, Please specify your industry sector (Banking/Finance/Insurance): Banking;Financial Services, Please specify your industry sector (Not for profit): no answer provided, Would you be interested in exhibiting/sponsorship/partnership/speaking?: no answer provided, Your main areas of interest / Other (text): no answer provided, Unnamed: 0: no answer provided, Show Report DCWL24: no answer provided, Unnamed: 2: no answer provided, Unnamed: 3: no answer provided, Unnamed: 4: no answer provided, Unnamed: 5: no answer provided, Unnamed: 6: no answer provided, Unnamed: 7: no answer provided, Unnamed: 8: no answer provided, Unnamed: 9: no answer provided, Unnamed: 10: no answer provided, Unnamed: 11: no answer provided, Unnamed: 12: no answer provided, Unnamed: 13: no answer provided, Unnamed: 14: no answer provided, Unnamed: 15: no answer provided, Unnamed: 16: no answer provided, Unnamed: 17: no answer provided, Unnamed: 18: no answer provided, Unnamed: 19: no answer provided, Unnamed: 20: no answer provided, Unnamed: 21: no answer provided, Unnamed: 22: no answer provided, Unnamed: 23: no answer provided, Unnamed: 24: no answer provided, Unnamed: 25: no answer provided, Unnamed: 26: no answer provided, Unnamed: 27: no answer provided, Unnamed: 28: no answer provided, Unnamed: 29: no answer provided, Unnamed: 30: no answer provided, Unnamed: 31: no answer provided, Unnamed: 32: no answer provided, Unnamed: 33: no answer provided, Unnamed: 34: no answer provided, Unnamed: 35: no answer provided, Unnamed: 36: no answer provided, Unnamed: 37: no answer provided, Unnamed: 38: no answer provided, Unnamed: 39: no answer provided, Unnamed: 40: no answer provided, Unnamed: 41: no answer provided, Unnamed: 42: no answer provided, Unnamed: 43: no answer provided, Unnamed: 44: no answer provided, Unnamed: 45: no answer provided, Unnamed: 46: no answer provided, Unnamed: 47: no answer provided, Unnamed: 48: no answer provided, Unnamed: 49: no answer provided, Unnamed: 50: no answer provided, Unnamed: 51: no answer provided, Unnamed: 52: no answer provided, Unnamed: 53: no answer provided, Unnamed: 54: no answer provided, Unnamed: 55: no answer provided, Unnamed: 56: no answer provided, Unnamed: 57: no answer provided, Unnamed: 58: no answer provided, Unnamed: 59: no answer provided, Unnamed: 60: no answer provided, Unnamed: 61: no answer provided, Unnamed: 62: no answer provided, Unnamed: 63: no answer provided, Unnamed: 64: no answer provided, Unnamed: 65: no answer provided, Unnamed: 66: no answer provided, Unnamed: 67: no answer provided, Unnamed: 68: no answer provided, Unnamed: 69: no answer provided, Unnamed: 70: no answer provided, Unnamed: 71: no answer provided, Unnamed: 72: no answer provided, Unnamed: 73: no answer provided, Unnamed: 74: no answer provided, Unnamed: 75: no answer provided, Unnamed: 76: no answer provided, Unnamed: 77: no answer provided, Unnamed: 78: no answer provided, Unnamed: 79: no answer provided, Unnamed: 80: no answer provided, Unnamed: 81: no answer provided, Unnamed: 82: no answer provided, Unnamed: 83: no answer provided, Unnamed: 84: no answer provided, Unnamed: 85: no answer provided, Unnamed: 86: no answer provided, Unnamed: 87: no answer provided, Unnamed: 88: no answer provided, Unnamed: 89: no answer provided, Unnamed: 90: no answer provided, Unnamed: 91: no answer provided, Unnamed: 92: no answer provided, Unnamed: 93: no answer provided, Unnamed: 94: no answer provided, Unnamed: 95: no answer provided, Unnamed: 96: no answer provided\"\n        ],\n        \"semantic_type\": \"\",\n        \"description\": \"\"\n      }\n    }\n  ]\n}"
            }
          },
          "metadata": {},
          "execution_count": 16
        }
      ]
    },
    {
      "cell_type": "code",
      "source": [
        "with open(json_path) as f:\n",
        "  embeddings = json.load(f)"
      ],
      "metadata": {
        "id": "_WjnhTfT-M1V"
      },
      "execution_count": null,
      "outputs": []
    },
    {
      "cell_type": "code",
      "source": [
        "len(embeddings.keys())"
      ],
      "metadata": {
        "id": "BZchndRgcIra",
        "colab": {
          "base_uri": "https://localhost:8080/"
        },
        "outputId": "76bc7947-1490-4be2-f1b7-7c32cb4dcd23"
      },
      "execution_count": null,
      "outputs": [
        {
          "output_type": "execute_result",
          "data": {
            "text/plain": [
              "24837"
            ]
          },
          "metadata": {},
          "execution_count": 18
        }
      ]
    },
    {
      "cell_type": "code",
      "source": [
        "len(embeddings['BadgeId_Z9ZXS8W'][0])"
      ],
      "metadata": {
        "colab": {
          "base_uri": "https://localhost:8080/"
        },
        "id": "hX99AgG3b699",
        "outputId": "29c90ad8-e24d-4f28-d95b-d16011cdd074"
      },
      "execution_count": null,
      "outputs": [
        {
          "output_type": "execute_result",
          "data": {
            "text/plain": [
              "1024"
            ]
          },
          "metadata": {},
          "execution_count": 19
        }
      ]
    },
    {
      "cell_type": "code",
      "source": [
        "badge_dataset = BadgeDataset(csv_path, json_path, split='train')\n",
        "print(\"dataset size: {}\".format(len(badge_dataset)))\n",
        "# Create the DataLoader\n",
        "badge_loader = DataLoader(badge_dataset, batch_size=10, shuffle=True)"
      ],
      "metadata": {
        "colab": {
          "base_uri": "https://localhost:8080/"
        },
        "id": "p3B4wtVmdBRP",
        "outputId": "d9887f91-7b26-4efe-bd0f-11d16ec0fecd"
      },
      "execution_count": null,
      "outputs": [
        {
          "output_type": "stream",
          "name": "stdout",
          "text": [
            "using the original cluster to label dict, with '-'\n",
            "dataset size: 1215\n"
          ]
        }
      ]
    },
    {
      "cell_type": "code",
      "source": [
        "# initialise dataset:\n",
        "train_db = BadgeDataset(csv_path, json_path, split=\"train\", new_db=True)\n",
        "val_db = BadgeDataset(csv_path, json_path, split=\"val\", new_db=True)"
      ],
      "metadata": {
        "colab": {
          "base_uri": "https://localhost:8080/"
        },
        "id": "ln3aBVUadIK0",
        "outputId": "14df5193-7678-4560-a528-5791ac517d26"
      },
      "execution_count": null,
      "outputs": [
        {
          "output_type": "stream",
          "name": "stdout",
          "text": [
            "using the new cluster to label dict, with ':'\n",
            "using the new cluster to label dict, with ':'\n"
          ]
        }
      ]
    },
    {
      "cell_type": "code",
      "source": [
        "batch_size=32\n",
        "num_workers=2\n",
        "epochs=10"
      ],
      "metadata": {
        "id": "FvCAAsSCtWpF"
      },
      "execution_count": null,
      "outputs": []
    },
    {
      "cell_type": "code",
      "source": [
        "trainloader= DataLoader(train_db, batch_size=batch_size,\n",
        "                            shuffle=False, num_workers=num_workers,\n",
        "                            pin_memory=False)\n",
        "valloader= DataLoader(val_db, batch_size=batch_size,\n",
        "                        shuffle=False, num_workers=num_workers,\n",
        "                        pin_memory=False)"
      ],
      "metadata": {
        "id": "iS9g31f0MOyt"
      },
      "execution_count": null,
      "outputs": []
    },
    {
      "cell_type": "code",
      "source": [
        "print(\"total training samples #: {}, total val samples #: {}\".format(len(train_db), len(val_db)))"
      ],
      "metadata": {
        "id": "PurWraJVd77s",
        "colab": {
          "base_uri": "https://localhost:8080/"
        },
        "outputId": "cced75c4-4192-4604-a702-522890e1793a"
      },
      "execution_count": null,
      "outputs": [
        {
          "output_type": "stream",
          "name": "stdout",
          "text": [
            "total training samples #: 1215, total val samples #: 1215\n"
          ]
        }
      ]
    },
    {
      "cell_type": "code",
      "source": [
        "# initialise model:\n",
        "input_size = 1024  # Change this to the size of your embeddings\n",
        "num_classes = 5\n",
        "model = BadgeNet(input_size, num_classes)"
      ],
      "metadata": {
        "id": "hol5wtrDeAUp"
      },
      "execution_count": null,
      "outputs": []
    },
    {
      "cell_type": "code",
      "source": [
        "from pydantic import BaseModel\n",
        "import warnings\n",
        "warnings.filterwarnings('ignore')\n",
        "\n",
        "class Args(BaseModel):\n",
        "  ckpt_dir: str\n",
        "  model_name: str\n",
        "  epochs: int\n",
        "  loss_function: str = \"cross_entropy\"\n",
        "\n",
        "\n",
        "args = Args(ckpt_dir=\"/content/drive/MyDrive/data/CSM/cpkts\", model_name=\"llama3\", epochs=400)"
      ],
      "metadata": {
        "id": "PGM5iM3POsfO"
      },
      "execution_count": null,
      "outputs": []
    },
    {
      "cell_type": "code",
      "source": [
        "# initialise optimiser and loss function\n",
        "criterion = nn.CrossEntropyLoss()\n",
        "\n",
        "\n",
        "optimizer = optim.Adam(model.parameters(), lr=0.001)\n",
        "\n",
        "best_accuracy = 0.0\n",
        "model = model.train()"
      ],
      "metadata": {
        "id": "komjmmL7OzvF"
      },
      "execution_count": null,
      "outputs": []
    },
    {
      "cell_type": "code",
      "source": [
        "if torch.cuda.is_available():\n",
        "  model = model.cuda()"
      ],
      "metadata": {
        "id": "-BFplHfs0fWk"
      },
      "execution_count": null,
      "outputs": []
    },
    {
      "cell_type": "code",
      "source": [
        "\n",
        "\n",
        "for epoch in tqdm(range(args.epochs)):\n",
        "    running_loss = 0.0\n",
        "    all_labels = []\n",
        "    all_preds = []\n",
        "\n",
        "    for inputs, labels in trainloader:\n",
        "        optimizer.zero_grad()\n",
        "\n",
        "        if torch.cuda.is_available():\n",
        "            inputs = inputs.cuda()\n",
        "            labels = labels.cuda()\n",
        "\n",
        "        outputs = model(inputs)\n",
        "\n",
        "        _, preds = torch.max(outputs, 1)\n",
        "        loss = criterion(outputs, labels)\n",
        "\n",
        "        loss.backward()\n",
        "        optimizer.step()\n",
        "\n",
        "        running_loss += loss.item() * inputs.size(0)\n",
        "        all_labels.extend(labels.cpu().numpy())\n",
        "        all_preds.extend(preds.cpu().numpy())\n",
        "\n",
        "    epoch_loss = running_loss / len(trainloader.dataset)\n",
        "    accuracy = accuracy_score(all_labels, all_preds)\n",
        "    precision = precision_score(all_labels, all_preds, average='weighted')\n",
        "    recall = recall_score(all_labels, all_preds, average='weighted')\n",
        "    f1 = f1_score(all_labels, all_preds, average='weighted')\n",
        "\n",
        "    print(f'Epoch {epoch+1}/{args.epochs}')\n",
        "    print(f'Loss: {epoch_loss:.4f}')\n",
        "    print(f'Accuracy: {accuracy:.4f}')\n",
        "    print(f'Precision: {precision:.4f}')\n",
        "    print(f'Recall: {recall:.4f}')\n",
        "    print(f'F1 Score: {f1:.4f}')\n",
        "    print(classification_report(all_labels, all_preds, target_names=[\"Networking\", \"Learning\", \"Searching\", \"Sourcing: Early\", \"Sourcing: In Process\"]))\n",
        "\n",
        "    if accuracy > best_accuracy:\n",
        "        best_accuracy = accuracy\n",
        "        model_path = \"{}/{}/loss_{}_data_with_fluff_acc_{}_epoch_{}.pth\".format(args.ckpt_dir, args.model_name, args.loss_function, accuracy, epoch)\n",
        "        save_model(model, model_path)\n",
        "        print(f\"Model improved to {accuracy:.4f} accuracy. Saving model.\")"
      ],
      "metadata": {
        "colab": {
          "base_uri": "https://localhost:8080/"
        },
        "id": "ByzLUmT6HWiu",
        "outputId": "458823f6-7f11-41df-cdd3-23603d699eea"
      },
      "execution_count": null,
      "outputs": [
        {
          "output_type": "stream",
          "name": "stderr",
          "text": [
            "  0%|          | 1/400 [00:00<03:47,  1.75it/s]"
          ]
        },
        {
          "output_type": "stream",
          "name": "stdout",
          "text": [
            "Epoch 1/400\n",
            "Loss: 1.4435\n",
            "Accuracy: 0.3399\n",
            "Precision: 0.2620\n",
            "Recall: 0.3399\n",
            "F1 Score: 0.2917\n",
            "                      precision    recall  f1-score   support\n",
            "\n",
            "          Networking       0.35      0.38      0.36       447\n",
            "            Learning       0.36      0.57      0.44       422\n",
            "           Searching       0.00      0.00      0.00       153\n",
            "     Sourcing: Early       0.09      0.05      0.06       122\n",
            "Sourcing: In Process       0.00      0.00      0.00        71\n",
            "\n",
            "            accuracy                           0.34      1215\n",
            "           macro avg       0.16      0.20      0.17      1215\n",
            "        weighted avg       0.26      0.34      0.29      1215\n",
            "\n",
            "Model improved to 0.3399 accuracy. Saving model.\n"
          ]
        },
        {
          "output_type": "stream",
          "name": "stderr",
          "text": [
            "\r  0%|          | 2/400 [00:01<03:16,  2.03it/s]"
          ]
        },
        {
          "output_type": "stream",
          "name": "stdout",
          "text": [
            "Epoch 2/400\n",
            "Loss: 1.3959\n",
            "Accuracy: 0.3704\n",
            "Precision: 0.2660\n",
            "Recall: 0.3704\n",
            "F1 Score: 0.3074\n",
            "                      precision    recall  f1-score   support\n",
            "\n",
            "          Networking       0.38      0.44      0.41       447\n",
            "            Learning       0.36      0.60      0.45       422\n",
            "           Searching       0.00      0.00      0.00       153\n",
            "     Sourcing: Early       0.00      0.00      0.00       122\n",
            "Sourcing: In Process       0.00      0.00      0.00        71\n",
            "\n",
            "            accuracy                           0.37      1215\n",
            "           macro avg       0.15      0.21      0.17      1215\n",
            "        weighted avg       0.27      0.37      0.31      1215\n",
            "\n",
            "Model improved to 0.3704 accuracy. Saving model.\n"
          ]
        },
        {
          "output_type": "stream",
          "name": "stderr",
          "text": [
            "\r  1%|          | 3/400 [00:01<03:04,  2.15it/s]"
          ]
        },
        {
          "output_type": "stream",
          "name": "stdout",
          "text": [
            "Epoch 3/400\n",
            "Loss: 1.3905\n",
            "Accuracy: 0.3564\n",
            "Precision: 0.2541\n",
            "Recall: 0.3564\n",
            "F1 Score: 0.2947\n",
            "                      precision    recall  f1-score   support\n",
            "\n",
            "          Networking       0.36      0.59      0.45       447\n",
            "            Learning       0.35      0.41      0.37       422\n",
            "           Searching       0.00      0.00      0.00       153\n",
            "     Sourcing: Early       0.00      0.00      0.00       122\n",
            "Sourcing: In Process       0.00      0.00      0.00        71\n",
            "\n",
            "            accuracy                           0.36      1215\n",
            "           macro avg       0.14      0.20      0.16      1215\n",
            "        weighted avg       0.25      0.36      0.29      1215\n",
            "\n"
          ]
        },
        {
          "output_type": "stream",
          "name": "stderr",
          "text": [
            "\r  1%|          | 4/400 [00:01<02:55,  2.26it/s]"
          ]
        },
        {
          "output_type": "stream",
          "name": "stdout",
          "text": [
            "Epoch 4/400\n",
            "Loss: 1.3853\n",
            "Accuracy: 0.3457\n",
            "Precision: 0.2454\n",
            "Recall: 0.3457\n",
            "F1 Score: 0.2838\n",
            "                      precision    recall  f1-score   support\n",
            "\n",
            "          Networking       0.35      0.60      0.45       447\n",
            "            Learning       0.33      0.36      0.34       422\n",
            "           Searching       0.00      0.00      0.00       153\n",
            "     Sourcing: Early       0.00      0.00      0.00       122\n",
            "Sourcing: In Process       0.00      0.00      0.00        71\n",
            "\n",
            "            accuracy                           0.35      1215\n",
            "           macro avg       0.14      0.19      0.16      1215\n",
            "        weighted avg       0.25      0.35      0.28      1215\n",
            "\n"
          ]
        },
        {
          "output_type": "stream",
          "name": "stderr",
          "text": [
            "\r  1%|▏         | 5/400 [00:02<02:45,  2.38it/s]"
          ]
        },
        {
          "output_type": "stream",
          "name": "stdout",
          "text": [
            "Epoch 5/400\n",
            "Loss: 1.3814\n",
            "Accuracy: 0.3506\n",
            "Precision: 0.2484\n",
            "Recall: 0.3506\n",
            "F1 Score: 0.2854\n",
            "                      precision    recall  f1-score   support\n",
            "\n",
            "          Networking       0.36      0.64      0.46       447\n",
            "            Learning       0.33      0.34      0.34       422\n",
            "           Searching       0.00      0.00      0.00       153\n",
            "     Sourcing: Early       0.00      0.00      0.00       122\n",
            "Sourcing: In Process       0.00      0.00      0.00        71\n",
            "\n",
            "            accuracy                           0.35      1215\n",
            "           macro avg       0.14      0.19      0.16      1215\n",
            "        weighted avg       0.25      0.35      0.29      1215\n",
            "\n"
          ]
        },
        {
          "output_type": "stream",
          "name": "stderr",
          "text": [
            "\r  2%|▏         | 6/400 [00:02<02:43,  2.41it/s]"
          ]
        },
        {
          "output_type": "stream",
          "name": "stdout",
          "text": [
            "Epoch 6/400\n",
            "Loss: 1.3803\n",
            "Accuracy: 0.3572\n",
            "Precision: 0.2543\n",
            "Recall: 0.3572\n",
            "F1 Score: 0.2948\n",
            "                      precision    recall  f1-score   support\n",
            "\n",
            "          Networking       0.36      0.60      0.45       447\n",
            "            Learning       0.35      0.40      0.37       422\n",
            "           Searching       0.00      0.00      0.00       153\n",
            "     Sourcing: Early       0.00      0.00      0.00       122\n",
            "Sourcing: In Process       0.00      0.00      0.00        71\n",
            "\n",
            "            accuracy                           0.36      1215\n",
            "           macro avg       0.14      0.20      0.16      1215\n",
            "        weighted avg       0.25      0.36      0.29      1215\n",
            "\n"
          ]
        },
        {
          "output_type": "stream",
          "name": "stderr",
          "text": [
            "\r  2%|▏         | 7/400 [00:03<02:45,  2.37it/s]"
          ]
        },
        {
          "output_type": "stream",
          "name": "stdout",
          "text": [
            "Epoch 7/400\n",
            "Loss: 1.3743\n",
            "Accuracy: 0.3523\n",
            "Precision: 0.2498\n",
            "Recall: 0.3523\n",
            "F1 Score: 0.2888\n",
            "                      precision    recall  f1-score   support\n",
            "\n",
            "          Networking       0.36      0.62      0.46       447\n",
            "            Learning       0.34      0.36      0.35       422\n",
            "           Searching       0.00      0.00      0.00       153\n",
            "     Sourcing: Early       0.00      0.00      0.00       122\n",
            "Sourcing: In Process       0.00      0.00      0.00        71\n",
            "\n",
            "            accuracy                           0.35      1215\n",
            "           macro avg       0.14      0.20      0.16      1215\n",
            "        weighted avg       0.25      0.35      0.29      1215\n",
            "\n"
          ]
        },
        {
          "output_type": "stream",
          "name": "stderr",
          "text": [
            "\r  2%|▏         | 8/400 [00:03<02:47,  2.34it/s]"
          ]
        },
        {
          "output_type": "stream",
          "name": "stdout",
          "text": [
            "Epoch 8/400\n",
            "Loss: 1.3680\n",
            "Accuracy: 0.3638\n",
            "Precision: 0.2581\n",
            "Recall: 0.3638\n",
            "F1 Score: 0.2985\n",
            "                      precision    recall  f1-score   support\n",
            "\n",
            "          Networking       0.37      0.63      0.47       447\n",
            "            Learning       0.35      0.38      0.36       422\n",
            "           Searching       0.00      0.00      0.00       153\n",
            "     Sourcing: Early       0.00      0.00      0.00       122\n",
            "Sourcing: In Process       0.00      0.00      0.00        71\n",
            "\n",
            "            accuracy                           0.36      1215\n",
            "           macro avg       0.14      0.20      0.17      1215\n",
            "        weighted avg       0.26      0.36      0.30      1215\n",
            "\n"
          ]
        },
        {
          "output_type": "stream",
          "name": "stderr",
          "text": [
            "\r  2%|▏         | 9/400 [00:03<02:43,  2.39it/s]"
          ]
        },
        {
          "output_type": "stream",
          "name": "stdout",
          "text": [
            "Epoch 9/400\n",
            "Loss: 1.3627\n",
            "Accuracy: 0.3827\n",
            "Precision: 0.2712\n",
            "Recall: 0.3827\n",
            "F1 Score: 0.3139\n",
            "                      precision    recall  f1-score   support\n",
            "\n",
            "          Networking       0.40      0.67      0.50       447\n",
            "            Learning       0.36      0.40      0.38       422\n",
            "           Searching       0.00      0.00      0.00       153\n",
            "     Sourcing: Early       0.00      0.00      0.00       122\n",
            "Sourcing: In Process       0.00      0.00      0.00        71\n",
            "\n",
            "            accuracy                           0.38      1215\n",
            "           macro avg       0.15      0.21      0.17      1215\n",
            "        weighted avg       0.27      0.38      0.31      1215\n",
            "\n",
            "Model improved to 0.3827 accuracy. Saving model.\n"
          ]
        },
        {
          "output_type": "stream",
          "name": "stderr",
          "text": [
            "\r  2%|▎         | 10/400 [00:04<02:43,  2.38it/s]"
          ]
        },
        {
          "output_type": "stream",
          "name": "stdout",
          "text": [
            "Epoch 10/400\n",
            "Loss: 1.3553\n",
            "Accuracy: 0.3901\n",
            "Precision: 0.2786\n",
            "Recall: 0.3901\n",
            "F1 Score: 0.3251\n",
            "                      precision    recall  f1-score   support\n",
            "\n",
            "          Networking       0.41      0.59      0.49       447\n",
            "            Learning       0.36      0.50      0.42       422\n",
            "           Searching       0.00      0.00      0.00       153\n",
            "     Sourcing: Early       0.00      0.00      0.00       122\n",
            "Sourcing: In Process       0.00      0.00      0.00        71\n",
            "\n",
            "            accuracy                           0.39      1215\n",
            "           macro avg       0.16      0.22      0.18      1215\n",
            "        weighted avg       0.28      0.39      0.33      1215\n",
            "\n",
            "Model improved to 0.3901 accuracy. Saving model.\n"
          ]
        },
        {
          "output_type": "stream",
          "name": "stderr",
          "text": [
            "\r  3%|▎         | 11/400 [00:04<02:39,  2.44it/s]"
          ]
        },
        {
          "output_type": "stream",
          "name": "stdout",
          "text": [
            "Epoch 11/400\n",
            "Loss: 1.3515\n",
            "Accuracy: 0.3835\n",
            "Precision: 0.2744\n",
            "Recall: 0.3835\n",
            "F1 Score: 0.3199\n",
            "                      precision    recall  f1-score   support\n",
            "\n",
            "          Networking       0.40      0.55      0.46       447\n",
            "            Learning       0.37      0.52      0.43       422\n",
            "           Searching       0.00      0.00      0.00       153\n",
            "     Sourcing: Early       0.00      0.00      0.00       122\n",
            "Sourcing: In Process       0.00      0.00      0.00        71\n",
            "\n",
            "            accuracy                           0.38      1215\n",
            "           macro avg       0.15      0.21      0.18      1215\n",
            "        weighted avg       0.27      0.38      0.32      1215\n",
            "\n"
          ]
        },
        {
          "output_type": "stream",
          "name": "stderr",
          "text": [
            "\r  3%|▎         | 12/400 [00:05<02:35,  2.50it/s]"
          ]
        },
        {
          "output_type": "stream",
          "name": "stdout",
          "text": [
            "Epoch 12/400\n",
            "Loss: 1.3391\n",
            "Accuracy: 0.3794\n",
            "Precision: 0.2731\n",
            "Recall: 0.3794\n",
            "F1 Score: 0.3169\n",
            "                      precision    recall  f1-score   support\n",
            "\n",
            "          Networking       0.41      0.51      0.45       447\n",
            "            Learning       0.36      0.55      0.43       422\n",
            "           Searching       0.00      0.00      0.00       153\n",
            "     Sourcing: Early       0.00      0.00      0.00       122\n",
            "Sourcing: In Process       0.00      0.00      0.00        71\n",
            "\n",
            "            accuracy                           0.38      1215\n",
            "           macro avg       0.15      0.21      0.18      1215\n",
            "        weighted avg       0.27      0.38      0.32      1215\n",
            "\n"
          ]
        },
        {
          "output_type": "stream",
          "name": "stderr",
          "text": [
            "\r  3%|▎         | 13/400 [00:05<02:36,  2.48it/s]"
          ]
        },
        {
          "output_type": "stream",
          "name": "stdout",
          "text": [
            "Epoch 13/400\n",
            "Loss: 1.3330\n",
            "Accuracy: 0.4025\n",
            "Precision: 0.2872\n",
            "Recall: 0.4025\n",
            "F1 Score: 0.3344\n",
            "                      precision    recall  f1-score   support\n",
            "\n",
            "          Networking       0.42      0.64      0.50       447\n",
            "            Learning       0.38      0.48      0.43       422\n",
            "           Searching       0.00      0.00      0.00       153\n",
            "     Sourcing: Early       0.00      0.00      0.00       122\n",
            "Sourcing: In Process       0.00      0.00      0.00        71\n",
            "\n",
            "            accuracy                           0.40      1215\n",
            "           macro avg       0.16      0.22      0.19      1215\n",
            "        weighted avg       0.29      0.40      0.33      1215\n",
            "\n",
            "Model improved to 0.4025 accuracy. Saving model.\n"
          ]
        },
        {
          "output_type": "stream",
          "name": "stderr",
          "text": [
            "\r  4%|▎         | 14/400 [00:05<02:38,  2.44it/s]"
          ]
        },
        {
          "output_type": "stream",
          "name": "stdout",
          "text": [
            "Epoch 14/400\n",
            "Loss: 1.3217\n",
            "Accuracy: 0.4239\n",
            "Precision: 0.3960\n",
            "Recall: 0.4239\n",
            "F1 Score: 0.3561\n",
            "                      precision    recall  f1-score   support\n",
            "\n",
            "          Networking       0.44      0.65      0.52       447\n",
            "            Learning       0.40      0.53      0.46       422\n",
            "           Searching       0.75      0.02      0.04       153\n",
            "     Sourcing: Early       0.00      0.00      0.00       122\n",
            "Sourcing: In Process       0.00      0.00      0.00        71\n",
            "\n",
            "            accuracy                           0.42      1215\n",
            "           macro avg       0.32      0.24      0.20      1215\n",
            "        weighted avg       0.40      0.42      0.36      1215\n",
            "\n",
            "Model improved to 0.4239 accuracy. Saving model.\n"
          ]
        },
        {
          "output_type": "stream",
          "name": "stderr",
          "text": [
            "\r  4%|▍         | 15/400 [00:06<02:38,  2.42it/s]"
          ]
        },
        {
          "output_type": "stream",
          "name": "stdout",
          "text": [
            "Epoch 15/400\n",
            "Loss: 1.3190\n",
            "Accuracy: 0.4263\n",
            "Precision: 0.4049\n",
            "Recall: 0.4263\n",
            "F1 Score: 0.3603\n",
            "                      precision    recall  f1-score   support\n",
            "\n",
            "          Networking       0.44      0.61      0.52       447\n",
            "            Learning       0.41      0.57      0.47       422\n",
            "           Searching       0.80      0.03      0.05       153\n",
            "     Sourcing: Early       0.00      0.00      0.00       122\n",
            "Sourcing: In Process       0.00      0.00      0.00        71\n",
            "\n",
            "            accuracy                           0.43      1215\n",
            "           macro avg       0.33      0.24      0.21      1215\n",
            "        weighted avg       0.40      0.43      0.36      1215\n",
            "\n",
            "Model improved to 0.4263 accuracy. Saving model.\n"
          ]
        },
        {
          "output_type": "stream",
          "name": "stderr",
          "text": [
            "\r  4%|▍         | 16/400 [00:06<02:38,  2.42it/s]"
          ]
        },
        {
          "output_type": "stream",
          "name": "stdout",
          "text": [
            "Epoch 16/400\n",
            "Loss: 1.3099\n",
            "Accuracy: 0.4444\n",
            "Precision: 0.3609\n",
            "Recall: 0.4444\n",
            "F1 Score: 0.3837\n",
            "                      precision    recall  f1-score   support\n",
            "\n",
            "          Networking       0.46      0.64      0.53       447\n",
            "            Learning       0.44      0.58      0.50       422\n",
            "           Searching       0.32      0.07      0.12       153\n",
            "     Sourcing: Early       0.00      0.00      0.00       122\n",
            "Sourcing: In Process       0.00      0.00      0.00        71\n",
            "\n",
            "            accuracy                           0.44      1215\n",
            "           macro avg       0.24      0.26      0.23      1215\n",
            "        weighted avg       0.36      0.44      0.38      1215\n",
            "\n",
            "Model improved to 0.4444 accuracy. Saving model.\n"
          ]
        },
        {
          "output_type": "stream",
          "name": "stderr",
          "text": [
            "\r  4%|▍         | 17/400 [00:07<02:40,  2.39it/s]"
          ]
        },
        {
          "output_type": "stream",
          "name": "stdout",
          "text": [
            "Epoch 17/400\n",
            "Loss: 1.3100\n",
            "Accuracy: 0.4436\n",
            "Precision: 0.3648\n",
            "Recall: 0.4436\n",
            "F1 Score: 0.3789\n",
            "                      precision    recall  f1-score   support\n",
            "\n",
            "          Networking       0.46      0.61      0.52       447\n",
            "            Learning       0.43      0.61      0.51       422\n",
            "           Searching       0.37      0.05      0.08       153\n",
            "     Sourcing: Early       0.00      0.00      0.00       122\n",
            "Sourcing: In Process       0.00      0.00      0.00        71\n",
            "\n",
            "            accuracy                           0.44      1215\n",
            "           macro avg       0.25      0.25      0.22      1215\n",
            "        weighted avg       0.36      0.44      0.38      1215\n",
            "\n"
          ]
        },
        {
          "output_type": "stream",
          "name": "stderr",
          "text": [
            "\r  4%|▍         | 18/400 [00:07<02:44,  2.32it/s]"
          ]
        },
        {
          "output_type": "stream",
          "name": "stdout",
          "text": [
            "Epoch 18/400\n",
            "Loss: 1.2877\n",
            "Accuracy: 0.4502\n",
            "Precision: 0.3792\n",
            "Recall: 0.4502\n",
            "F1 Score: 0.3816\n",
            "                      precision    recall  f1-score   support\n",
            "\n",
            "          Networking       0.45      0.64      0.53       447\n",
            "            Learning       0.45      0.61      0.51       422\n",
            "           Searching       0.45      0.03      0.06       153\n",
            "     Sourcing: Early       0.00      0.00      0.00       122\n",
            "Sourcing: In Process       0.00      0.00      0.00        71\n",
            "\n",
            "            accuracy                           0.45      1215\n",
            "           macro avg       0.27      0.26      0.22      1215\n",
            "        weighted avg       0.38      0.45      0.38      1215\n",
            "\n",
            "Model improved to 0.4502 accuracy. Saving model.\n"
          ]
        },
        {
          "output_type": "stream",
          "name": "stderr",
          "text": [
            "\r  5%|▍         | 19/400 [00:08<02:40,  2.37it/s]"
          ]
        },
        {
          "output_type": "stream",
          "name": "stdout",
          "text": [
            "Epoch 19/400\n",
            "Loss: 1.2791\n",
            "Accuracy: 0.4494\n",
            "Precision: 0.4174\n",
            "Recall: 0.4494\n",
            "F1 Score: 0.3949\n",
            "                      precision    recall  f1-score   support\n",
            "\n",
            "          Networking       0.45      0.63      0.53       447\n",
            "            Learning       0.45      0.58      0.51       422\n",
            "           Searching       0.40      0.09      0.15       153\n",
            "     Sourcing: Early       0.44      0.03      0.06       122\n",
            "Sourcing: In Process       0.00      0.00      0.00        71\n",
            "\n",
            "            accuracy                           0.45      1215\n",
            "           macro avg       0.35      0.27      0.25      1215\n",
            "        weighted avg       0.42      0.45      0.39      1215\n",
            "\n"
          ]
        },
        {
          "output_type": "stream",
          "name": "stderr",
          "text": [
            "\r  5%|▌         | 20/400 [00:08<02:41,  2.35it/s]"
          ]
        },
        {
          "output_type": "stream",
          "name": "stdout",
          "text": [
            "Epoch 20/400\n",
            "Loss: 1.2668\n",
            "Accuracy: 0.4576\n",
            "Precision: 0.4187\n",
            "Recall: 0.4576\n",
            "F1 Score: 0.3991\n",
            "                      precision    recall  f1-score   support\n",
            "\n",
            "          Networking       0.46      0.65      0.54       447\n",
            "            Learning       0.46      0.59      0.51       422\n",
            "           Searching       0.36      0.03      0.06       153\n",
            "     Sourcing: Early       0.45      0.08      0.14       122\n",
            "Sourcing: In Process       0.00      0.00      0.00        71\n",
            "\n",
            "            accuracy                           0.46      1215\n",
            "           macro avg       0.35      0.27      0.25      1215\n",
            "        weighted avg       0.42      0.46      0.40      1215\n",
            "\n",
            "Model improved to 0.4576 accuracy. Saving model.\n"
          ]
        },
        {
          "output_type": "stream",
          "name": "stderr",
          "text": [
            "\r  5%|▌         | 21/400 [00:08<02:38,  2.39it/s]"
          ]
        },
        {
          "output_type": "stream",
          "name": "stdout",
          "text": [
            "Epoch 21/400\n",
            "Loss: 1.2481\n",
            "Accuracy: 0.4667\n",
            "Precision: 0.4230\n",
            "Recall: 0.4667\n",
            "F1 Score: 0.4215\n",
            "                      precision    recall  f1-score   support\n",
            "\n",
            "          Networking       0.48      0.64      0.55       447\n",
            "            Learning       0.46      0.59      0.52       422\n",
            "           Searching       0.33      0.08      0.13       153\n",
            "     Sourcing: Early       0.43      0.16      0.23       122\n",
            "Sourcing: In Process       0.00      0.00      0.00        71\n",
            "\n",
            "            accuracy                           0.47      1215\n",
            "           macro avg       0.34      0.29      0.28      1215\n",
            "        weighted avg       0.42      0.47      0.42      1215\n",
            "\n",
            "Model improved to 0.4667 accuracy. Saving model.\n"
          ]
        },
        {
          "output_type": "stream",
          "name": "stderr",
          "text": [
            "\r  6%|▌         | 22/400 [00:09<02:37,  2.40it/s]"
          ]
        },
        {
          "output_type": "stream",
          "name": "stdout",
          "text": [
            "Epoch 22/400\n",
            "Loss: 1.2476\n",
            "Accuracy: 0.4708\n",
            "Precision: 0.4292\n",
            "Recall: 0.4708\n",
            "F1 Score: 0.4312\n",
            "                      precision    recall  f1-score   support\n",
            "\n",
            "          Networking       0.50      0.62      0.55       447\n",
            "            Learning       0.46      0.61      0.52       422\n",
            "           Searching       0.35      0.11      0.17       153\n",
            "     Sourcing: Early       0.43      0.18      0.25       122\n",
            "Sourcing: In Process       0.00      0.00      0.00        71\n",
            "\n",
            "            accuracy                           0.47      1215\n",
            "           macro avg       0.35      0.30      0.30      1215\n",
            "        weighted avg       0.43      0.47      0.43      1215\n",
            "\n",
            "Model improved to 0.4708 accuracy. Saving model.\n"
          ]
        },
        {
          "output_type": "stream",
          "name": "stderr",
          "text": [
            "\r  6%|▌         | 23/400 [00:09<02:39,  2.37it/s]"
          ]
        },
        {
          "output_type": "stream",
          "name": "stdout",
          "text": [
            "Epoch 23/400\n",
            "Loss: 1.2482\n",
            "Accuracy: 0.4675\n",
            "Precision: 0.4238\n",
            "Recall: 0.4675\n",
            "F1 Score: 0.4289\n",
            "                      precision    recall  f1-score   support\n",
            "\n",
            "          Networking       0.50      0.60      0.54       447\n",
            "            Learning       0.46      0.61      0.52       422\n",
            "           Searching       0.29      0.10      0.15       153\n",
            "     Sourcing: Early       0.45      0.20      0.28       122\n",
            "Sourcing: In Process       0.00      0.00      0.00        71\n",
            "\n",
            "            accuracy                           0.47      1215\n",
            "           macro avg       0.34      0.30      0.30      1215\n",
            "        weighted avg       0.42      0.47      0.43      1215\n",
            "\n"
          ]
        },
        {
          "output_type": "stream",
          "name": "stderr",
          "text": [
            "\r  6%|▌         | 24/400 [00:10<02:33,  2.44it/s]"
          ]
        },
        {
          "output_type": "stream",
          "name": "stdout",
          "text": [
            "Epoch 24/400\n",
            "Loss: 1.2467\n",
            "Accuracy: 0.4543\n",
            "Precision: 0.4179\n",
            "Recall: 0.4543\n",
            "F1 Score: 0.4067\n",
            "                      precision    recall  f1-score   support\n",
            "\n",
            "          Networking       0.47      0.60      0.53       447\n",
            "            Learning       0.44      0.61      0.51       422\n",
            "           Searching       0.40      0.05      0.09       153\n",
            "     Sourcing: Early       0.40      0.16      0.22       122\n",
            "Sourcing: In Process       0.00      0.00      0.00        71\n",
            "\n",
            "            accuracy                           0.45      1215\n",
            "           macro avg       0.34      0.28      0.27      1215\n",
            "        weighted avg       0.42      0.45      0.41      1215\n",
            "\n"
          ]
        },
        {
          "output_type": "stream",
          "name": "stderr",
          "text": [
            "\r  6%|▋         | 25/400 [00:10<02:33,  2.44it/s]"
          ]
        },
        {
          "output_type": "stream",
          "name": "stdout",
          "text": [
            "Epoch 25/400\n",
            "Loss: 1.2212\n",
            "Accuracy: 0.4815\n",
            "Precision: 0.4961\n",
            "Recall: 0.4815\n",
            "F1 Score: 0.4474\n",
            "                      precision    recall  f1-score   support\n",
            "\n",
            "          Networking       0.51      0.63      0.56       447\n",
            "            Learning       0.47      0.59      0.53       422\n",
            "           Searching       0.34      0.12      0.18       153\n",
            "     Sourcing: Early       0.43      0.25      0.32       122\n",
            "Sourcing: In Process       1.00      0.01      0.03        71\n",
            "\n",
            "            accuracy                           0.48      1215\n",
            "           macro avg       0.55      0.32      0.32      1215\n",
            "        weighted avg       0.50      0.48      0.45      1215\n",
            "\n",
            "Model improved to 0.4815 accuracy. Saving model.\n"
          ]
        },
        {
          "output_type": "stream",
          "name": "stderr",
          "text": [
            "\r  6%|▋         | 26/400 [00:10<02:33,  2.43it/s]"
          ]
        },
        {
          "output_type": "stream",
          "name": "stdout",
          "text": [
            "Epoch 26/400\n",
            "Loss: 1.2116\n",
            "Accuracy: 0.4823\n",
            "Precision: 0.4686\n",
            "Recall: 0.4823\n",
            "F1 Score: 0.4505\n",
            "                      precision    recall  f1-score   support\n",
            "\n",
            "          Networking       0.51      0.63      0.56       447\n",
            "            Learning       0.48      0.59      0.53       422\n",
            "           Searching       0.33      0.14      0.19       153\n",
            "     Sourcing: Early       0.45      0.27      0.34       122\n",
            "Sourcing: In Process       0.50      0.01      0.03        71\n",
            "\n",
            "            accuracy                           0.48      1215\n",
            "           macro avg       0.45      0.33      0.33      1215\n",
            "        weighted avg       0.47      0.48      0.45      1215\n",
            "\n",
            "Model improved to 0.4823 accuracy. Saving model.\n"
          ]
        },
        {
          "output_type": "stream",
          "name": "stderr",
          "text": [
            "\r  7%|▋         | 27/400 [00:11<02:33,  2.42it/s]"
          ]
        },
        {
          "output_type": "stream",
          "name": "stdout",
          "text": [
            "Epoch 27/400\n",
            "Loss: 1.2070\n",
            "Accuracy: 0.4889\n",
            "Precision: 0.4805\n",
            "Recall: 0.4889\n",
            "F1 Score: 0.4637\n",
            "                      precision    recall  f1-score   support\n",
            "\n",
            "          Networking       0.53      0.61      0.57       447\n",
            "            Learning       0.46      0.60      0.52       422\n",
            "           Searching       0.39      0.12      0.19       153\n",
            "     Sourcing: Early       0.47      0.31      0.37       122\n",
            "Sourcing: In Process       0.50      0.13      0.20        71\n",
            "\n",
            "            accuracy                           0.49      1215\n",
            "           macro avg       0.47      0.36      0.37      1215\n",
            "        weighted avg       0.48      0.49      0.46      1215\n",
            "\n",
            "Model improved to 0.4889 accuracy. Saving model.\n"
          ]
        },
        {
          "output_type": "stream",
          "name": "stderr",
          "text": [
            "\r  7%|▋         | 28/400 [00:11<02:31,  2.46it/s]"
          ]
        },
        {
          "output_type": "stream",
          "name": "stdout",
          "text": [
            "Epoch 28/400\n",
            "Loss: 1.2152\n",
            "Accuracy: 0.4584\n",
            "Precision: 0.4456\n",
            "Recall: 0.4584\n",
            "F1 Score: 0.4307\n",
            "                      precision    recall  f1-score   support\n",
            "\n",
            "          Networking       0.51      0.58      0.54       447\n",
            "            Learning       0.43      0.59      0.50       422\n",
            "           Searching       0.40      0.17      0.24       153\n",
            "     Sourcing: Early       0.29      0.13      0.18       122\n",
            "Sourcing: In Process       0.46      0.08      0.14        71\n",
            "\n",
            "            accuracy                           0.46      1215\n",
            "           macro avg       0.42      0.31      0.32      1215\n",
            "        weighted avg       0.45      0.46      0.43      1215\n",
            "\n"
          ]
        },
        {
          "output_type": "stream",
          "name": "stderr",
          "text": [
            "\r  7%|▋         | 29/400 [00:12<02:32,  2.43it/s]"
          ]
        },
        {
          "output_type": "stream",
          "name": "stdout",
          "text": [
            "Epoch 29/400\n",
            "Loss: 1.2005\n",
            "Accuracy: 0.4897\n",
            "Precision: 0.4808\n",
            "Recall: 0.4897\n",
            "F1 Score: 0.4659\n",
            "                      precision    recall  f1-score   support\n",
            "\n",
            "          Networking       0.52      0.66      0.58       447\n",
            "            Learning       0.47      0.56      0.51       422\n",
            "           Searching       0.40      0.18      0.25       153\n",
            "     Sourcing: Early       0.41      0.23      0.29       122\n",
            "Sourcing: In Process       0.56      0.14      0.22        71\n",
            "\n",
            "            accuracy                           0.49      1215\n",
            "           macro avg       0.47      0.35      0.37      1215\n",
            "        weighted avg       0.48      0.49      0.47      1215\n",
            "\n",
            "Model improved to 0.4897 accuracy. Saving model.\n"
          ]
        },
        {
          "output_type": "stream",
          "name": "stderr",
          "text": [
            "\r  8%|▊         | 30/400 [00:12<02:30,  2.46it/s]"
          ]
        },
        {
          "output_type": "stream",
          "name": "stdout",
          "text": [
            "Epoch 30/400\n",
            "Loss: 1.1941\n",
            "Accuracy: 0.4864\n",
            "Precision: 0.4843\n",
            "Recall: 0.4864\n",
            "F1 Score: 0.4651\n",
            "                      precision    recall  f1-score   support\n",
            "\n",
            "          Networking       0.53      0.62      0.57       447\n",
            "            Learning       0.45      0.59      0.51       422\n",
            "           Searching       0.47      0.22      0.30       153\n",
            "     Sourcing: Early       0.40      0.20      0.26       122\n",
            "Sourcing: In Process       0.56      0.14      0.22        71\n",
            "\n",
            "            accuracy                           0.49      1215\n",
            "           macro avg       0.48      0.35      0.37      1215\n",
            "        weighted avg       0.48      0.49      0.47      1215\n",
            "\n"
          ]
        },
        {
          "output_type": "stream",
          "name": "stderr",
          "text": [
            "\r  8%|▊         | 31/400 [00:12<02:29,  2.47it/s]"
          ]
        },
        {
          "output_type": "stream",
          "name": "stdout",
          "text": [
            "Epoch 31/400\n",
            "Loss: 1.1705\n",
            "Accuracy: 0.5053\n",
            "Precision: 0.5017\n",
            "Recall: 0.5053\n",
            "F1 Score: 0.4854\n",
            "                      precision    recall  f1-score   support\n",
            "\n",
            "          Networking       0.54      0.65      0.59       447\n",
            "            Learning       0.47      0.58      0.52       422\n",
            "           Searching       0.47      0.22      0.30       153\n",
            "     Sourcing: Early       0.49      0.29      0.36       122\n",
            "Sourcing: In Process       0.50      0.14      0.22        71\n",
            "\n",
            "            accuracy                           0.51      1215\n",
            "           macro avg       0.49      0.37      0.40      1215\n",
            "        weighted avg       0.50      0.51      0.49      1215\n",
            "\n",
            "Model improved to 0.5053 accuracy. Saving model.\n"
          ]
        },
        {
          "output_type": "stream",
          "name": "stderr",
          "text": [
            "\r  8%|▊         | 32/400 [00:13<02:28,  2.48it/s]"
          ]
        },
        {
          "output_type": "stream",
          "name": "stdout",
          "text": [
            "Epoch 32/400\n",
            "Loss: 1.1757\n",
            "Accuracy: 0.4938\n",
            "Precision: 0.4834\n",
            "Recall: 0.4938\n",
            "F1 Score: 0.4760\n",
            "                      precision    recall  f1-score   support\n",
            "\n",
            "          Networking       0.54      0.62      0.58       447\n",
            "            Learning       0.47      0.58      0.52       422\n",
            "           Searching       0.44      0.26      0.33       153\n",
            "     Sourcing: Early       0.39      0.18      0.25       122\n",
            "Sourcing: In Process       0.45      0.20      0.27        71\n",
            "\n",
            "            accuracy                           0.49      1215\n",
            "           macro avg       0.46      0.37      0.39      1215\n",
            "        weighted avg       0.48      0.49      0.48      1215\n",
            "\n"
          ]
        },
        {
          "output_type": "stream",
          "name": "stderr",
          "text": [
            "\r  8%|▊         | 33/400 [00:13<02:26,  2.50it/s]"
          ]
        },
        {
          "output_type": "stream",
          "name": "stdout",
          "text": [
            "Epoch 33/400\n",
            "Loss: 1.1610\n",
            "Accuracy: 0.5119\n",
            "Precision: 0.5037\n",
            "Recall: 0.5119\n",
            "F1 Score: 0.4928\n",
            "                      precision    recall  f1-score   support\n",
            "\n",
            "          Networking       0.56      0.63      0.59       447\n",
            "            Learning       0.49      0.63      0.55       422\n",
            "           Searching       0.39      0.23      0.29       153\n",
            "     Sourcing: Early       0.50      0.25      0.33       122\n",
            "Sourcing: In Process       0.48      0.17      0.25        71\n",
            "\n",
            "            accuracy                           0.51      1215\n",
            "           macro avg       0.48      0.38      0.40      1215\n",
            "        weighted avg       0.50      0.51      0.49      1215\n",
            "\n",
            "Model improved to 0.5119 accuracy. Saving model.\n"
          ]
        },
        {
          "output_type": "stream",
          "name": "stderr",
          "text": [
            "\r  8%|▊         | 34/400 [00:14<02:27,  2.49it/s]"
          ]
        },
        {
          "output_type": "stream",
          "name": "stdout",
          "text": [
            "Epoch 34/400\n",
            "Loss: 1.1421\n",
            "Accuracy: 0.5177\n",
            "Precision: 0.5100\n",
            "Recall: 0.5177\n",
            "F1 Score: 0.5019\n",
            "                      precision    recall  f1-score   support\n",
            "\n",
            "          Networking       0.57      0.63      0.59       447\n",
            "            Learning       0.49      0.62      0.55       422\n",
            "           Searching       0.45      0.24      0.31       153\n",
            "     Sourcing: Early       0.49      0.27      0.35       122\n",
            "Sourcing: In Process       0.42      0.23      0.29        71\n",
            "\n",
            "            accuracy                           0.52      1215\n",
            "           macro avg       0.48      0.40      0.42      1215\n",
            "        weighted avg       0.51      0.52      0.50      1215\n",
            "\n",
            "Model improved to 0.5177 accuracy. Saving model.\n"
          ]
        },
        {
          "output_type": "stream",
          "name": "stderr",
          "text": [
            "\r  9%|▉         | 35/400 [00:14<02:29,  2.45it/s]"
          ]
        },
        {
          "output_type": "stream",
          "name": "stdout",
          "text": [
            "Epoch 35/400\n",
            "Loss: 1.1360\n",
            "Accuracy: 0.5193\n",
            "Precision: 0.5084\n",
            "Recall: 0.5193\n",
            "F1 Score: 0.5009\n",
            "                      precision    recall  f1-score   support\n",
            "\n",
            "          Networking       0.56      0.64      0.59       447\n",
            "            Learning       0.50      0.63      0.56       422\n",
            "           Searching       0.41      0.22      0.29       153\n",
            "     Sourcing: Early       0.52      0.30      0.38       122\n",
            "Sourcing: In Process       0.41      0.15      0.22        71\n",
            "\n",
            "            accuracy                           0.52      1215\n",
            "           macro avg       0.48      0.39      0.41      1215\n",
            "        weighted avg       0.51      0.52      0.50      1215\n",
            "\n",
            "Model improved to 0.5193 accuracy. Saving model.\n"
          ]
        },
        {
          "output_type": "stream",
          "name": "stderr",
          "text": [
            "\r  9%|▉         | 36/400 [00:15<02:30,  2.41it/s]"
          ]
        },
        {
          "output_type": "stream",
          "name": "stdout",
          "text": [
            "Epoch 36/400\n",
            "Loss: 1.1190\n",
            "Accuracy: 0.5267\n",
            "Precision: 0.5209\n",
            "Recall: 0.5267\n",
            "F1 Score: 0.5116\n",
            "                      precision    recall  f1-score   support\n",
            "\n",
            "          Networking       0.56      0.62      0.59       447\n",
            "            Learning       0.51      0.64      0.57       422\n",
            "           Searching       0.48      0.25      0.33       153\n",
            "     Sourcing: Early       0.53      0.31      0.39       122\n",
            "Sourcing: In Process       0.42      0.21      0.28        71\n",
            "\n",
            "            accuracy                           0.53      1215\n",
            "           macro avg       0.50      0.41      0.43      1215\n",
            "        weighted avg       0.52      0.53      0.51      1215\n",
            "\n",
            "Model improved to 0.5267 accuracy. Saving model.\n"
          ]
        },
        {
          "output_type": "stream",
          "name": "stderr",
          "text": [
            "\r  9%|▉         | 37/400 [00:15<02:27,  2.46it/s]"
          ]
        },
        {
          "output_type": "stream",
          "name": "stdout",
          "text": [
            "Epoch 37/400\n",
            "Loss: 1.1124\n",
            "Accuracy: 0.5235\n",
            "Precision: 0.5215\n",
            "Recall: 0.5235\n",
            "F1 Score: 0.5094\n",
            "                      precision    recall  f1-score   support\n",
            "\n",
            "          Networking       0.56      0.63      0.59       447\n",
            "            Learning       0.49      0.62      0.55       422\n",
            "           Searching       0.46      0.22      0.30       153\n",
            "     Sourcing: Early       0.59      0.33      0.42       122\n",
            "Sourcing: In Process       0.44      0.28      0.34        71\n",
            "\n",
            "            accuracy                           0.52      1215\n",
            "           macro avg       0.51      0.42      0.44      1215\n",
            "        weighted avg       0.52      0.52      0.51      1215\n",
            "\n"
          ]
        },
        {
          "output_type": "stream",
          "name": "stderr",
          "text": [
            "\r 10%|▉         | 38/400 [00:15<02:25,  2.48it/s]"
          ]
        },
        {
          "output_type": "stream",
          "name": "stdout",
          "text": [
            "Epoch 38/400\n",
            "Loss: 1.1101\n",
            "Accuracy: 0.5251\n",
            "Precision: 0.5231\n",
            "Recall: 0.5251\n",
            "F1 Score: 0.5086\n",
            "                      precision    recall  f1-score   support\n",
            "\n",
            "          Networking       0.55      0.61      0.58       447\n",
            "            Learning       0.51      0.65      0.57       422\n",
            "           Searching       0.48      0.21      0.29       153\n",
            "     Sourcing: Early       0.59      0.37      0.45       122\n",
            "Sourcing: In Process       0.45      0.21      0.29        71\n",
            "\n",
            "            accuracy                           0.53      1215\n",
            "           macro avg       0.52      0.41      0.44      1215\n",
            "        weighted avg       0.52      0.53      0.51      1215\n",
            "\n"
          ]
        },
        {
          "output_type": "stream",
          "name": "stderr",
          "text": [
            "\r 10%|▉         | 39/400 [00:16<02:26,  2.47it/s]"
          ]
        },
        {
          "output_type": "stream",
          "name": "stdout",
          "text": [
            "Epoch 39/400\n",
            "Loss: 1.1340\n",
            "Accuracy: 0.4971\n",
            "Precision: 0.4992\n",
            "Recall: 0.4971\n",
            "F1 Score: 0.4834\n",
            "                      precision    recall  f1-score   support\n",
            "\n",
            "          Networking       0.51      0.56      0.54       447\n",
            "            Learning       0.48      0.62      0.54       422\n",
            "           Searching       0.52      0.22      0.31       153\n",
            "     Sourcing: Early       0.49      0.34      0.40       122\n",
            "Sourcing: In Process       0.50      0.24      0.32        71\n",
            "\n",
            "            accuracy                           0.50      1215\n",
            "           macro avg       0.50      0.40      0.42      1215\n",
            "        weighted avg       0.50      0.50      0.48      1215\n",
            "\n"
          ]
        },
        {
          "output_type": "stream",
          "name": "stderr",
          "text": [
            "\r 10%|█         | 40/400 [00:16<02:24,  2.49it/s]"
          ]
        },
        {
          "output_type": "stream",
          "name": "stdout",
          "text": [
            "Epoch 40/400\n",
            "Loss: 1.1311\n",
            "Accuracy: 0.5045\n",
            "Precision: 0.5084\n",
            "Recall: 0.5045\n",
            "F1 Score: 0.4891\n",
            "                      precision    recall  f1-score   support\n",
            "\n",
            "          Networking       0.54      0.63      0.58       447\n",
            "            Learning       0.46      0.58      0.52       422\n",
            "           Searching       0.57      0.27      0.37       153\n",
            "     Sourcing: Early       0.44      0.18      0.26       122\n",
            "Sourcing: In Process       0.59      0.34      0.43        71\n",
            "\n",
            "            accuracy                           0.50      1215\n",
            "           macro avg       0.52      0.40      0.43      1215\n",
            "        weighted avg       0.51      0.50      0.49      1215\n",
            "\n"
          ]
        },
        {
          "output_type": "stream",
          "name": "stderr",
          "text": [
            "\r 10%|█         | 41/400 [00:17<02:23,  2.51it/s]"
          ]
        },
        {
          "output_type": "stream",
          "name": "stdout",
          "text": [
            "Epoch 41/400\n",
            "Loss: 1.1160\n",
            "Accuracy: 0.5202\n",
            "Precision: 0.5163\n",
            "Recall: 0.5202\n",
            "F1 Score: 0.5067\n",
            "                      precision    recall  f1-score   support\n",
            "\n",
            "          Networking       0.55      0.66      0.60       447\n",
            "            Learning       0.50      0.57      0.53       422\n",
            "           Searching       0.46      0.24      0.31       153\n",
            "     Sourcing: Early       0.55      0.31      0.40       122\n",
            "Sourcing: In Process       0.50      0.32      0.39        71\n",
            "\n",
            "            accuracy                           0.52      1215\n",
            "           macro avg       0.51      0.42      0.45      1215\n",
            "        weighted avg       0.52      0.52      0.51      1215\n",
            "\n"
          ]
        },
        {
          "output_type": "stream",
          "name": "stderr",
          "text": [
            "\r 10%|█         | 42/400 [00:17<02:23,  2.50it/s]"
          ]
        },
        {
          "output_type": "stream",
          "name": "stdout",
          "text": [
            "Epoch 42/400\n",
            "Loss: 1.1184\n",
            "Accuracy: 0.5185\n",
            "Precision: 0.5129\n",
            "Recall: 0.5185\n",
            "F1 Score: 0.5082\n",
            "                      precision    recall  f1-score   support\n",
            "\n",
            "          Networking       0.55      0.58      0.57       447\n",
            "            Learning       0.51      0.63      0.56       422\n",
            "           Searching       0.43      0.26      0.32       153\n",
            "     Sourcing: Early       0.49      0.35      0.41       122\n",
            "Sourcing: In Process       0.50      0.30      0.37        71\n",
            "\n",
            "            accuracy                           0.52      1215\n",
            "           macro avg       0.50      0.42      0.45      1215\n",
            "        weighted avg       0.51      0.52      0.51      1215\n",
            "\n"
          ]
        },
        {
          "output_type": "stream",
          "name": "stderr",
          "text": [
            "\r 11%|█         | 43/400 [00:17<02:22,  2.50it/s]"
          ]
        },
        {
          "output_type": "stream",
          "name": "stdout",
          "text": [
            "Epoch 43/400\n",
            "Loss: 1.0971\n",
            "Accuracy: 0.5243\n",
            "Precision: 0.5248\n",
            "Recall: 0.5243\n",
            "F1 Score: 0.5122\n",
            "                      precision    recall  f1-score   support\n",
            "\n",
            "          Networking       0.55      0.63      0.59       447\n",
            "            Learning       0.50      0.60      0.55       422\n",
            "           Searching       0.54      0.25      0.34       153\n",
            "     Sourcing: Early       0.49      0.33      0.39       122\n",
            "Sourcing: In Process       0.52      0.34      0.41        71\n",
            "\n",
            "            accuracy                           0.52      1215\n",
            "           macro avg       0.52      0.43      0.46      1215\n",
            "        weighted avg       0.52      0.52      0.51      1215\n",
            "\n"
          ]
        },
        {
          "output_type": "stream",
          "name": "stderr",
          "text": [
            "\r 11%|█         | 44/400 [00:18<02:20,  2.53it/s]"
          ]
        },
        {
          "output_type": "stream",
          "name": "stdout",
          "text": [
            "Epoch 44/400\n",
            "Loss: 1.1171\n",
            "Accuracy: 0.5103\n",
            "Precision: 0.5141\n",
            "Recall: 0.5103\n",
            "F1 Score: 0.4989\n",
            "                      precision    recall  f1-score   support\n",
            "\n",
            "          Networking       0.54      0.58      0.56       447\n",
            "            Learning       0.48      0.62      0.54       422\n",
            "           Searching       0.61      0.33      0.43       153\n",
            "     Sourcing: Early       0.42      0.22      0.29       122\n",
            "Sourcing: In Process       0.51      0.31      0.39        71\n",
            "\n",
            "            accuracy                           0.51      1215\n",
            "           macro avg       0.51      0.41      0.44      1215\n",
            "        weighted avg       0.51      0.51      0.50      1215\n",
            "\n"
          ]
        },
        {
          "output_type": "stream",
          "name": "stderr",
          "text": [
            "\r 11%|█▏        | 45/400 [00:18<02:23,  2.48it/s]"
          ]
        },
        {
          "output_type": "stream",
          "name": "stdout",
          "text": [
            "Epoch 45/400\n",
            "Loss: 1.1145\n",
            "Accuracy: 0.5218\n",
            "Precision: 0.5231\n",
            "Recall: 0.5218\n",
            "F1 Score: 0.5099\n",
            "                      precision    recall  f1-score   support\n",
            "\n",
            "          Networking       0.56      0.62      0.59       447\n",
            "            Learning       0.49      0.61      0.54       422\n",
            "           Searching       0.52      0.31      0.39       153\n",
            "     Sourcing: Early       0.52      0.26      0.35       122\n",
            "Sourcing: In Process       0.53      0.28      0.37        71\n",
            "\n",
            "            accuracy                           0.52      1215\n",
            "           macro avg       0.52      0.42      0.45      1215\n",
            "        weighted avg       0.52      0.52      0.51      1215\n",
            "\n"
          ]
        },
        {
          "output_type": "stream",
          "name": "stderr",
          "text": [
            "\r 12%|█▏        | 46/400 [00:19<02:25,  2.43it/s]"
          ]
        },
        {
          "output_type": "stream",
          "name": "stdout",
          "text": [
            "Epoch 46/400\n",
            "Loss: 1.1094\n",
            "Accuracy: 0.5128\n",
            "Precision: 0.5161\n",
            "Recall: 0.5128\n",
            "F1 Score: 0.4997\n",
            "                      precision    recall  f1-score   support\n",
            "\n",
            "          Networking       0.52      0.59      0.55       447\n",
            "            Learning       0.50      0.62      0.55       422\n",
            "           Searching       0.54      0.33      0.41       153\n",
            "     Sourcing: Early       0.51      0.25      0.34       122\n",
            "Sourcing: In Process       0.55      0.23      0.32        71\n",
            "\n",
            "            accuracy                           0.51      1215\n",
            "           macro avg       0.52      0.40      0.43      1215\n",
            "        weighted avg       0.52      0.51      0.50      1215\n",
            "\n"
          ]
        },
        {
          "output_type": "stream",
          "name": "stderr",
          "text": [
            "\r 12%|█▏        | 47/400 [00:19<02:21,  2.49it/s]"
          ]
        },
        {
          "output_type": "stream",
          "name": "stdout",
          "text": [
            "Epoch 47/400\n",
            "Loss: 1.0677\n",
            "Accuracy: 0.5383\n",
            "Precision: 0.5471\n",
            "Recall: 0.5383\n",
            "F1 Score: 0.5312\n",
            "                      precision    recall  f1-score   support\n",
            "\n",
            "          Networking       0.55      0.58      0.57       447\n",
            "            Learning       0.51      0.65      0.57       422\n",
            "           Searching       0.62      0.37      0.46       153\n",
            "     Sourcing: Early       0.61      0.34      0.44       122\n",
            "Sourcing: In Process       0.49      0.34      0.40        71\n",
            "\n",
            "            accuracy                           0.54      1215\n",
            "           macro avg       0.55      0.45      0.49      1215\n",
            "        weighted avg       0.55      0.54      0.53      1215\n",
            "\n",
            "Model improved to 0.5383 accuracy. Saving model.\n"
          ]
        },
        {
          "output_type": "stream",
          "name": "stderr",
          "text": [
            "\r 12%|█▏        | 48/400 [00:19<02:25,  2.42it/s]"
          ]
        },
        {
          "output_type": "stream",
          "name": "stdout",
          "text": [
            "Epoch 48/400\n",
            "Loss: 1.0562\n",
            "Accuracy: 0.5457\n",
            "Precision: 0.5518\n",
            "Recall: 0.5457\n",
            "F1 Score: 0.5396\n",
            "                      precision    recall  f1-score   support\n",
            "\n",
            "          Networking       0.56      0.61      0.59       447\n",
            "            Learning       0.51      0.62      0.56       422\n",
            "           Searching       0.63      0.39      0.48       153\n",
            "     Sourcing: Early       0.53      0.33      0.41       122\n",
            "Sourcing: In Process       0.57      0.39      0.47        71\n",
            "\n",
            "            accuracy                           0.55      1215\n",
            "           macro avg       0.56      0.47      0.50      1215\n",
            "        weighted avg       0.55      0.55      0.54      1215\n",
            "\n",
            "Model improved to 0.5457 accuracy. Saving model.\n"
          ]
        },
        {
          "output_type": "stream",
          "name": "stderr",
          "text": [
            "\r 12%|█▏        | 49/400 [00:20<02:25,  2.41it/s]"
          ]
        },
        {
          "output_type": "stream",
          "name": "stdout",
          "text": [
            "Epoch 49/400\n",
            "Loss: 1.0395\n",
            "Accuracy: 0.5267\n",
            "Precision: 0.5368\n",
            "Recall: 0.5267\n",
            "F1 Score: 0.5212\n",
            "                      precision    recall  f1-score   support\n",
            "\n",
            "          Networking       0.55      0.58      0.56       447\n",
            "            Learning       0.48      0.61      0.54       422\n",
            "           Searching       0.62      0.37      0.47       153\n",
            "     Sourcing: Early       0.56      0.31      0.40       122\n",
            "Sourcing: In Process       0.57      0.42      0.48        71\n",
            "\n",
            "            accuracy                           0.53      1215\n",
            "           macro avg       0.56      0.46      0.49      1215\n",
            "        weighted avg       0.54      0.53      0.52      1215\n",
            "\n"
          ]
        },
        {
          "output_type": "stream",
          "name": "stderr",
          "text": [
            "\r 12%|█▎        | 50/400 [00:20<02:20,  2.48it/s]"
          ]
        },
        {
          "output_type": "stream",
          "name": "stdout",
          "text": [
            "Epoch 50/400\n",
            "Loss: 1.0480\n",
            "Accuracy: 0.5490\n",
            "Precision: 0.5548\n",
            "Recall: 0.5490\n",
            "F1 Score: 0.5443\n",
            "                      precision    recall  f1-score   support\n",
            "\n",
            "          Networking       0.57      0.60      0.59       447\n",
            "            Learning       0.51      0.62      0.56       422\n",
            "           Searching       0.61      0.42      0.50       153\n",
            "     Sourcing: Early       0.53      0.35      0.42       122\n",
            "Sourcing: In Process       0.62      0.39      0.48        71\n",
            "\n",
            "            accuracy                           0.55      1215\n",
            "           macro avg       0.57      0.48      0.51      1215\n",
            "        weighted avg       0.55      0.55      0.54      1215\n",
            "\n",
            "Model improved to 0.5490 accuracy. Saving model.\n"
          ]
        },
        {
          "output_type": "stream",
          "name": "stderr",
          "text": [
            "\r 13%|█▎        | 51/400 [00:21<02:14,  2.59it/s]"
          ]
        },
        {
          "output_type": "stream",
          "name": "stdout",
          "text": [
            "Epoch 51/400\n",
            "Loss: 1.0455\n",
            "Accuracy: 0.5358\n",
            "Precision: 0.5376\n",
            "Recall: 0.5358\n",
            "F1 Score: 0.5307\n",
            "                      precision    recall  f1-score   support\n",
            "\n",
            "          Networking       0.56      0.60      0.58       447\n",
            "            Learning       0.51      0.60      0.55       422\n",
            "           Searching       0.55      0.38      0.45       153\n",
            "     Sourcing: Early       0.53      0.35      0.42       122\n",
            "Sourcing: In Process       0.57      0.41      0.48        71\n",
            "\n",
            "            accuracy                           0.54      1215\n",
            "           macro avg       0.54      0.47      0.50      1215\n",
            "        weighted avg       0.54      0.54      0.53      1215\n",
            "\n"
          ]
        },
        {
          "output_type": "stream",
          "name": "stderr",
          "text": [
            "\r 13%|█▎        | 52/400 [00:21<02:13,  2.61it/s]"
          ]
        },
        {
          "output_type": "stream",
          "name": "stdout",
          "text": [
            "Epoch 52/400\n",
            "Loss: 1.0346\n",
            "Accuracy: 0.5407\n",
            "Precision: 0.5441\n",
            "Recall: 0.5407\n",
            "F1 Score: 0.5347\n",
            "                      precision    recall  f1-score   support\n",
            "\n",
            "          Networking       0.56      0.61      0.58       447\n",
            "            Learning       0.51      0.60      0.55       422\n",
            "           Searching       0.58      0.39      0.46       153\n",
            "     Sourcing: Early       0.56      0.33      0.41       122\n",
            "Sourcing: In Process       0.53      0.41      0.46        71\n",
            "\n",
            "            accuracy                           0.54      1215\n",
            "           macro avg       0.55      0.47      0.50      1215\n",
            "        weighted avg       0.54      0.54      0.53      1215\n",
            "\n"
          ]
        },
        {
          "output_type": "stream",
          "name": "stderr",
          "text": [
            "\r 13%|█▎        | 53/400 [00:21<02:14,  2.58it/s]"
          ]
        },
        {
          "output_type": "stream",
          "name": "stdout",
          "text": [
            "Epoch 53/400\n",
            "Loss: 1.0497\n",
            "Accuracy: 0.5432\n",
            "Precision: 0.5471\n",
            "Recall: 0.5432\n",
            "F1 Score: 0.5362\n",
            "                      precision    recall  f1-score   support\n",
            "\n",
            "          Networking       0.57      0.61      0.59       447\n",
            "            Learning       0.52      0.63      0.57       422\n",
            "           Searching       0.52      0.41      0.46       153\n",
            "     Sourcing: Early       0.60      0.31      0.41       122\n",
            "Sourcing: In Process       0.56      0.35      0.43        71\n",
            "\n",
            "            accuracy                           0.54      1215\n",
            "           macro avg       0.55      0.46      0.49      1215\n",
            "        weighted avg       0.55      0.54      0.54      1215\n",
            "\n"
          ]
        },
        {
          "output_type": "stream",
          "name": "stderr",
          "text": [
            "\r 14%|█▎        | 54/400 [00:22<02:14,  2.57it/s]"
          ]
        },
        {
          "output_type": "stream",
          "name": "stdout",
          "text": [
            "Epoch 54/400\n",
            "Loss: 1.0582\n",
            "Accuracy: 0.5424\n",
            "Precision: 0.5439\n",
            "Recall: 0.5424\n",
            "F1 Score: 0.5353\n",
            "                      precision    recall  f1-score   support\n",
            "\n",
            "          Networking       0.57      0.62      0.59       447\n",
            "            Learning       0.52      0.61      0.56       422\n",
            "           Searching       0.53      0.38      0.44       153\n",
            "     Sourcing: Early       0.61      0.34      0.43       122\n",
            "Sourcing: In Process       0.43      0.32      0.37        71\n",
            "\n",
            "            accuracy                           0.54      1215\n",
            "           macro avg       0.53      0.45      0.48      1215\n",
            "        weighted avg       0.54      0.54      0.54      1215\n",
            "\n"
          ]
        },
        {
          "output_type": "stream",
          "name": "stderr",
          "text": [
            "\r 14%|█▍        | 55/400 [00:22<02:15,  2.55it/s]"
          ]
        },
        {
          "output_type": "stream",
          "name": "stdout",
          "text": [
            "Epoch 55/400\n",
            "Loss: 1.0793\n",
            "Accuracy: 0.5325\n",
            "Precision: 0.5384\n",
            "Recall: 0.5325\n",
            "F1 Score: 0.5249\n",
            "                      precision    recall  f1-score   support\n",
            "\n",
            "          Networking       0.54      0.62      0.58       447\n",
            "            Learning       0.51      0.59      0.55       422\n",
            "           Searching       0.57      0.33      0.42       153\n",
            "     Sourcing: Early       0.58      0.36      0.44       122\n",
            "Sourcing: In Process       0.59      0.34      0.43        71\n",
            "\n",
            "            accuracy                           0.53      1215\n",
            "           macro avg       0.56      0.45      0.48      1215\n",
            "        weighted avg       0.54      0.53      0.52      1215\n",
            "\n"
          ]
        },
        {
          "output_type": "stream",
          "name": "stderr",
          "text": [
            "\r 14%|█▍        | 56/400 [00:22<02:17,  2.51it/s]"
          ]
        },
        {
          "output_type": "stream",
          "name": "stdout",
          "text": [
            "Epoch 56/400\n",
            "Loss: 1.0202\n",
            "Accuracy: 0.5663\n",
            "Precision: 0.5751\n",
            "Recall: 0.5663\n",
            "F1 Score: 0.5583\n",
            "                      precision    recall  f1-score   support\n",
            "\n",
            "          Networking       0.58      0.63      0.60       447\n",
            "            Learning       0.53      0.66      0.59       422\n",
            "           Searching       0.58      0.38      0.46       153\n",
            "     Sourcing: Early       0.63      0.32      0.42       122\n",
            "Sourcing: In Process       0.70      0.42      0.53        71\n",
            "\n",
            "            accuracy                           0.57      1215\n",
            "           macro avg       0.60      0.48      0.52      1215\n",
            "        weighted avg       0.58      0.57      0.56      1215\n",
            "\n",
            "Model improved to 0.5663 accuracy. Saving model.\n"
          ]
        },
        {
          "output_type": "stream",
          "name": "stderr",
          "text": [
            "\r 14%|█▍        | 57/400 [00:23<02:17,  2.49it/s]"
          ]
        },
        {
          "output_type": "stream",
          "name": "stdout",
          "text": [
            "Epoch 57/400\n",
            "Loss: 1.0227\n",
            "Accuracy: 0.5564\n",
            "Precision: 0.5654\n",
            "Recall: 0.5564\n",
            "F1 Score: 0.5512\n",
            "                      precision    recall  f1-score   support\n",
            "\n",
            "          Networking       0.60      0.58      0.59       447\n",
            "            Learning       0.51      0.67      0.58       422\n",
            "           Searching       0.60      0.37      0.46       153\n",
            "     Sourcing: Early       0.63      0.41      0.50       122\n",
            "Sourcing: In Process       0.48      0.39      0.43        71\n",
            "\n",
            "            accuracy                           0.56      1215\n",
            "           macro avg       0.57      0.48      0.51      1215\n",
            "        weighted avg       0.57      0.56      0.55      1215\n",
            "\n"
          ]
        },
        {
          "output_type": "stream",
          "name": "stderr",
          "text": [
            "\r 14%|█▍        | 58/400 [00:23<02:19,  2.45it/s]"
          ]
        },
        {
          "output_type": "stream",
          "name": "stdout",
          "text": [
            "Epoch 58/400\n",
            "Loss: 1.0140\n",
            "Accuracy: 0.5514\n",
            "Precision: 0.5565\n",
            "Recall: 0.5514\n",
            "F1 Score: 0.5479\n",
            "                      precision    recall  f1-score   support\n",
            "\n",
            "          Networking       0.57      0.59      0.58       447\n",
            "            Learning       0.52      0.62      0.56       422\n",
            "           Searching       0.58      0.37      0.45       153\n",
            "     Sourcing: Early       0.61      0.44      0.51       122\n",
            "Sourcing: In Process       0.57      0.48      0.52        71\n",
            "\n",
            "            accuracy                           0.55      1215\n",
            "           macro avg       0.57      0.50      0.53      1215\n",
            "        weighted avg       0.56      0.55      0.55      1215\n",
            "\n"
          ]
        },
        {
          "output_type": "stream",
          "name": "stderr",
          "text": [
            "\r 15%|█▍        | 59/400 [00:24<02:18,  2.46it/s]"
          ]
        },
        {
          "output_type": "stream",
          "name": "stdout",
          "text": [
            "Epoch 59/400\n",
            "Loss: 1.0126\n",
            "Accuracy: 0.5531\n",
            "Precision: 0.5617\n",
            "Recall: 0.5531\n",
            "F1 Score: 0.5503\n",
            "                      precision    recall  f1-score   support\n",
            "\n",
            "          Networking       0.57      0.57      0.57       447\n",
            "            Learning       0.51      0.63      0.56       422\n",
            "           Searching       0.60      0.38      0.47       153\n",
            "     Sourcing: Early       0.61      0.45      0.52       122\n",
            "Sourcing: In Process       0.67      0.54      0.59        71\n",
            "\n",
            "            accuracy                           0.55      1215\n",
            "           macro avg       0.59      0.51      0.54      1215\n",
            "        weighted avg       0.56      0.55      0.55      1215\n",
            "\n"
          ]
        },
        {
          "output_type": "stream",
          "name": "stderr",
          "text": [
            "\r 15%|█▌        | 60/400 [00:24<02:16,  2.50it/s]"
          ]
        },
        {
          "output_type": "stream",
          "name": "stdout",
          "text": [
            "Epoch 60/400\n",
            "Loss: 1.0151\n",
            "Accuracy: 0.5580\n",
            "Precision: 0.5631\n",
            "Recall: 0.5580\n",
            "F1 Score: 0.5533\n",
            "                      precision    recall  f1-score   support\n",
            "\n",
            "          Networking       0.56      0.66      0.60       447\n",
            "            Learning       0.54      0.57      0.55       422\n",
            "           Searching       0.62      0.38      0.47       153\n",
            "     Sourcing: Early       0.61      0.41      0.49       122\n",
            "Sourcing: In Process       0.56      0.52      0.54        71\n",
            "\n",
            "            accuracy                           0.56      1215\n",
            "           macro avg       0.58      0.51      0.53      1215\n",
            "        weighted avg       0.56      0.56      0.55      1215\n",
            "\n"
          ]
        },
        {
          "output_type": "stream",
          "name": "stderr",
          "text": [
            "\r 15%|█▌        | 61/400 [00:24<02:14,  2.53it/s]"
          ]
        },
        {
          "output_type": "stream",
          "name": "stdout",
          "text": [
            "Epoch 61/400\n",
            "Loss: 0.9616\n",
            "Accuracy: 0.5827\n",
            "Precision: 0.5896\n",
            "Recall: 0.5827\n",
            "F1 Score: 0.5803\n",
            "                      precision    recall  f1-score   support\n",
            "\n",
            "          Networking       0.61      0.63      0.62       447\n",
            "            Learning       0.53      0.63      0.58       422\n",
            "           Searching       0.62      0.42      0.50       153\n",
            "     Sourcing: Early       0.66      0.46      0.54       122\n",
            "Sourcing: In Process       0.64      0.55      0.59        71\n",
            "\n",
            "            accuracy                           0.58      1215\n",
            "           macro avg       0.61      0.54      0.57      1215\n",
            "        weighted avg       0.59      0.58      0.58      1215\n",
            "\n",
            "Model improved to 0.5827 accuracy. Saving model.\n"
          ]
        },
        {
          "output_type": "stream",
          "name": "stderr",
          "text": [
            "\r 16%|█▌        | 62/400 [00:25<02:16,  2.48it/s]"
          ]
        },
        {
          "output_type": "stream",
          "name": "stdout",
          "text": [
            "Epoch 62/400\n",
            "Loss: 0.9420\n",
            "Accuracy: 0.6016\n",
            "Precision: 0.6088\n",
            "Recall: 0.6016\n",
            "F1 Score: 0.5995\n",
            "                      precision    recall  f1-score   support\n",
            "\n",
            "          Networking       0.63      0.63      0.63       447\n",
            "            Learning       0.55      0.67      0.61       422\n",
            "           Searching       0.67      0.47      0.55       153\n",
            "     Sourcing: Early       0.63      0.45      0.53       122\n",
            "Sourcing: In Process       0.63      0.56      0.60        71\n",
            "\n",
            "            accuracy                           0.60      1215\n",
            "           macro avg       0.62      0.56      0.58      1215\n",
            "        weighted avg       0.61      0.60      0.60      1215\n",
            "\n",
            "Model improved to 0.6016 accuracy. Saving model.\n"
          ]
        },
        {
          "output_type": "stream",
          "name": "stderr",
          "text": [
            "\r 16%|█▌        | 63/400 [00:25<02:17,  2.45it/s]"
          ]
        },
        {
          "output_type": "stream",
          "name": "stdout",
          "text": [
            "Epoch 63/400\n",
            "Loss: 0.9268\n",
            "Accuracy: 0.6082\n",
            "Precision: 0.6167\n",
            "Recall: 0.6082\n",
            "F1 Score: 0.6080\n",
            "                      precision    recall  f1-score   support\n",
            "\n",
            "          Networking       0.62      0.65      0.64       447\n",
            "            Learning       0.56      0.63      0.59       422\n",
            "           Searching       0.76      0.52      0.61       153\n",
            "     Sourcing: Early       0.60      0.51      0.55       122\n",
            "Sourcing: In Process       0.65      0.56      0.60        71\n",
            "\n",
            "            accuracy                           0.61      1215\n",
            "           macro avg       0.64      0.57      0.60      1215\n",
            "        weighted avg       0.62      0.61      0.61      1215\n",
            "\n",
            "Model improved to 0.6082 accuracy. Saving model.\n"
          ]
        },
        {
          "output_type": "stream",
          "name": "stderr",
          "text": [
            "\r 16%|█▌        | 64/400 [00:26<02:16,  2.46it/s]"
          ]
        },
        {
          "output_type": "stream",
          "name": "stdout",
          "text": [
            "Epoch 64/400\n",
            "Loss: 0.8904\n",
            "Accuracy: 0.6214\n",
            "Precision: 0.6319\n",
            "Recall: 0.6214\n",
            "F1 Score: 0.6218\n",
            "                      precision    recall  f1-score   support\n",
            "\n",
            "          Networking       0.62      0.64      0.63       447\n",
            "            Learning       0.57      0.66      0.61       422\n",
            "           Searching       0.75      0.56      0.64       153\n",
            "     Sourcing: Early       0.71      0.52      0.60       122\n",
            "Sourcing: In Process       0.69      0.59      0.64        71\n",
            "\n",
            "            accuracy                           0.62      1215\n",
            "           macro avg       0.67      0.59      0.62      1215\n",
            "        weighted avg       0.63      0.62      0.62      1215\n",
            "\n",
            "Model improved to 0.6214 accuracy. Saving model.\n"
          ]
        },
        {
          "output_type": "stream",
          "name": "stderr",
          "text": [
            "\r 16%|█▋        | 65/400 [00:26<02:15,  2.47it/s]"
          ]
        },
        {
          "output_type": "stream",
          "name": "stdout",
          "text": [
            "Epoch 65/400\n",
            "Loss: 0.8784\n",
            "Accuracy: 0.6247\n",
            "Precision: 0.6345\n",
            "Recall: 0.6247\n",
            "F1 Score: 0.6242\n",
            "                      precision    recall  f1-score   support\n",
            "\n",
            "          Networking       0.62      0.64      0.63       447\n",
            "            Learning       0.58      0.68      0.62       422\n",
            "           Searching       0.74      0.55      0.63       153\n",
            "     Sourcing: Early       0.70      0.48      0.57       122\n",
            "Sourcing: In Process       0.72      0.62      0.67        71\n",
            "\n",
            "            accuracy                           0.62      1215\n",
            "           macro avg       0.67      0.59      0.62      1215\n",
            "        weighted avg       0.63      0.62      0.62      1215\n",
            "\n",
            "Model improved to 0.6247 accuracy. Saving model.\n"
          ]
        },
        {
          "output_type": "stream",
          "name": "stderr",
          "text": [
            "\r 16%|█▋        | 66/400 [00:27<02:14,  2.49it/s]"
          ]
        },
        {
          "output_type": "stream",
          "name": "stdout",
          "text": [
            "Epoch 66/400\n",
            "Loss: 0.8817\n",
            "Accuracy: 0.6305\n",
            "Precision: 0.6372\n",
            "Recall: 0.6305\n",
            "F1 Score: 0.6305\n",
            "                      precision    recall  f1-score   support\n",
            "\n",
            "          Networking       0.64      0.64      0.64       447\n",
            "            Learning       0.58      0.67      0.62       422\n",
            "           Searching       0.74      0.57      0.64       153\n",
            "     Sourcing: Early       0.65      0.52      0.58       122\n",
            "Sourcing: In Process       0.70      0.65      0.67        71\n",
            "\n",
            "            accuracy                           0.63      1215\n",
            "           macro avg       0.66      0.61      0.63      1215\n",
            "        weighted avg       0.64      0.63      0.63      1215\n",
            "\n",
            "Model improved to 0.6305 accuracy. Saving model.\n"
          ]
        },
        {
          "output_type": "stream",
          "name": "stderr",
          "text": [
            "\r 17%|█▋        | 67/400 [00:27<02:13,  2.50it/s]"
          ]
        },
        {
          "output_type": "stream",
          "name": "stdout",
          "text": [
            "Epoch 67/400\n",
            "Loss: 0.8931\n",
            "Accuracy: 0.6049\n",
            "Precision: 0.6107\n",
            "Recall: 0.6049\n",
            "F1 Score: 0.6042\n",
            "                      precision    recall  f1-score   support\n",
            "\n",
            "          Networking       0.60      0.66      0.63       447\n",
            "            Learning       0.57      0.62      0.59       422\n",
            "           Searching       0.72      0.53      0.61       153\n",
            "     Sourcing: Early       0.64      0.50      0.56       122\n",
            "Sourcing: In Process       0.63      0.55      0.59        71\n",
            "\n",
            "            accuracy                           0.60      1215\n",
            "           macro avg       0.63      0.57      0.60      1215\n",
            "        weighted avg       0.61      0.60      0.60      1215\n",
            "\n"
          ]
        },
        {
          "output_type": "stream",
          "name": "stderr",
          "text": [
            "\r 17%|█▋        | 68/400 [00:27<02:14,  2.47it/s]"
          ]
        },
        {
          "output_type": "stream",
          "name": "stdout",
          "text": [
            "Epoch 68/400\n",
            "Loss: 0.9127\n",
            "Accuracy: 0.6033\n",
            "Precision: 0.6083\n",
            "Recall: 0.6033\n",
            "F1 Score: 0.6019\n",
            "                      precision    recall  f1-score   support\n",
            "\n",
            "          Networking       0.61      0.61      0.61       447\n",
            "            Learning       0.57      0.67      0.62       422\n",
            "           Searching       0.68      0.50      0.58       153\n",
            "     Sourcing: Early       0.61      0.52      0.56       122\n",
            "Sourcing: In Process       0.63      0.54      0.58        71\n",
            "\n",
            "            accuracy                           0.60      1215\n",
            "           macro avg       0.62      0.57      0.59      1215\n",
            "        weighted avg       0.61      0.60      0.60      1215\n",
            "\n"
          ]
        },
        {
          "output_type": "stream",
          "name": "stderr",
          "text": [
            "\r 17%|█▋        | 69/400 [00:28<02:12,  2.49it/s]"
          ]
        },
        {
          "output_type": "stream",
          "name": "stdout",
          "text": [
            "Epoch 69/400\n",
            "Loss: 1.0169\n",
            "Accuracy: 0.5654\n",
            "Precision: 0.5655\n",
            "Recall: 0.5654\n",
            "F1 Score: 0.5631\n",
            "                      precision    recall  f1-score   support\n",
            "\n",
            "          Networking       0.59      0.60      0.59       447\n",
            "            Learning       0.55      0.62      0.59       422\n",
            "           Searching       0.60      0.46      0.52       153\n",
            "     Sourcing: Early       0.54      0.45      0.49       122\n",
            "Sourcing: In Process       0.48      0.41      0.44        71\n",
            "\n",
            "            accuracy                           0.57      1215\n",
            "           macro avg       0.55      0.51      0.53      1215\n",
            "        weighted avg       0.57      0.57      0.56      1215\n",
            "\n"
          ]
        },
        {
          "output_type": "stream",
          "name": "stderr",
          "text": [
            "\r 18%|█▊        | 70/400 [00:28<02:09,  2.55it/s]"
          ]
        },
        {
          "output_type": "stream",
          "name": "stdout",
          "text": [
            "Epoch 70/400\n",
            "Loss: 0.9586\n",
            "Accuracy: 0.5885\n",
            "Precision: 0.5934\n",
            "Recall: 0.5885\n",
            "F1 Score: 0.5843\n",
            "                      precision    recall  f1-score   support\n",
            "\n",
            "          Networking       0.57      0.73      0.64       447\n",
            "            Learning       0.61      0.54      0.57       422\n",
            "           Searching       0.67      0.48      0.56       153\n",
            "     Sourcing: Early       0.61      0.51      0.56       122\n",
            "Sourcing: In Process       0.44      0.39      0.41        71\n",
            "\n",
            "            accuracy                           0.59      1215\n",
            "           macro avg       0.58      0.53      0.55      1215\n",
            "        weighted avg       0.59      0.59      0.58      1215\n",
            "\n"
          ]
        },
        {
          "output_type": "stream",
          "name": "stderr",
          "text": [
            "\r 18%|█▊        | 71/400 [00:29<02:11,  2.50it/s]"
          ]
        },
        {
          "output_type": "stream",
          "name": "stdout",
          "text": [
            "Epoch 71/400\n",
            "Loss: 0.9550\n",
            "Accuracy: 0.5975\n",
            "Precision: 0.5968\n",
            "Recall: 0.5975\n",
            "F1 Score: 0.5953\n",
            "                      precision    recall  f1-score   support\n",
            "\n",
            "          Networking       0.61      0.64      0.62       447\n",
            "            Learning       0.59      0.64      0.62       422\n",
            "           Searching       0.58      0.46      0.51       153\n",
            "     Sourcing: Early       0.61      0.52      0.56       122\n",
            "Sourcing: In Process       0.58      0.48      0.52        71\n",
            "\n",
            "            accuracy                           0.60      1215\n",
            "           macro avg       0.59      0.55      0.57      1215\n",
            "        weighted avg       0.60      0.60      0.60      1215\n",
            "\n"
          ]
        },
        {
          "output_type": "stream",
          "name": "stderr",
          "text": [
            "\r 18%|█▊        | 72/400 [00:29<02:11,  2.50it/s]"
          ]
        },
        {
          "output_type": "stream",
          "name": "stdout",
          "text": [
            "Epoch 72/400\n",
            "Loss: 0.9046\n",
            "Accuracy: 0.5984\n",
            "Precision: 0.6090\n",
            "Recall: 0.5984\n",
            "F1 Score: 0.5977\n",
            "                      precision    recall  f1-score   support\n",
            "\n",
            "          Networking       0.56      0.67      0.61       447\n",
            "            Learning       0.59      0.59      0.59       422\n",
            "           Searching       0.69      0.49      0.57       153\n",
            "     Sourcing: Early       0.69      0.54      0.61       122\n",
            "Sourcing: In Process       0.73      0.54      0.62        71\n",
            "\n",
            "            accuracy                           0.60      1215\n",
            "           macro avg       0.65      0.57      0.60      1215\n",
            "        weighted avg       0.61      0.60      0.60      1215\n",
            "\n"
          ]
        },
        {
          "output_type": "stream",
          "name": "stderr",
          "text": [
            "\r 18%|█▊        | 73/400 [00:29<02:11,  2.49it/s]"
          ]
        },
        {
          "output_type": "stream",
          "name": "stdout",
          "text": [
            "Epoch 73/400\n",
            "Loss: 0.9007\n",
            "Accuracy: 0.6025\n",
            "Precision: 0.6064\n",
            "Recall: 0.6025\n",
            "F1 Score: 0.6011\n",
            "                      precision    recall  f1-score   support\n",
            "\n",
            "          Networking       0.58      0.69      0.63       447\n",
            "            Learning       0.60      0.56      0.58       422\n",
            "           Searching       0.70      0.56      0.63       153\n",
            "     Sourcing: Early       0.57      0.52      0.54       122\n",
            "Sourcing: In Process       0.64      0.52      0.57        71\n",
            "\n",
            "            accuracy                           0.60      1215\n",
            "           macro avg       0.62      0.57      0.59      1215\n",
            "        weighted avg       0.61      0.60      0.60      1215\n",
            "\n"
          ]
        },
        {
          "output_type": "stream",
          "name": "stderr",
          "text": [
            "\r 18%|█▊        | 74/400 [00:30<02:12,  2.45it/s]"
          ]
        },
        {
          "output_type": "stream",
          "name": "stdout",
          "text": [
            "Epoch 74/400\n",
            "Loss: 0.8998\n",
            "Accuracy: 0.6016\n",
            "Precision: 0.6067\n",
            "Recall: 0.6016\n",
            "F1 Score: 0.6013\n",
            "                      precision    recall  f1-score   support\n",
            "\n",
            "          Networking       0.58      0.66      0.62       447\n",
            "            Learning       0.58      0.58      0.58       422\n",
            "           Searching       0.69      0.53      0.60       153\n",
            "     Sourcing: Early       0.66      0.57      0.61       122\n",
            "Sourcing: In Process       0.67      0.56      0.61        71\n",
            "\n",
            "            accuracy                           0.60      1215\n",
            "           macro avg       0.64      0.58      0.60      1215\n",
            "        weighted avg       0.61      0.60      0.60      1215\n",
            "\n"
          ]
        },
        {
          "output_type": "stream",
          "name": "stderr",
          "text": [
            "\r 19%|█▉        | 75/400 [00:30<02:10,  2.48it/s]"
          ]
        },
        {
          "output_type": "stream",
          "name": "stdout",
          "text": [
            "Epoch 75/400\n",
            "Loss: 0.9068\n",
            "Accuracy: 0.6041\n",
            "Precision: 0.6101\n",
            "Recall: 0.6041\n",
            "F1 Score: 0.6021\n",
            "                      precision    recall  f1-score   support\n",
            "\n",
            "          Networking       0.58      0.69      0.63       447\n",
            "            Learning       0.59      0.58      0.59       422\n",
            "           Searching       0.68      0.53      0.60       153\n",
            "     Sourcing: Early       0.68      0.47      0.55       122\n",
            "Sourcing: In Process       0.62      0.56      0.59        71\n",
            "\n",
            "            accuracy                           0.60      1215\n",
            "           macro avg       0.63      0.57      0.59      1215\n",
            "        weighted avg       0.61      0.60      0.60      1215\n",
            "\n"
          ]
        },
        {
          "output_type": "stream",
          "name": "stderr",
          "text": [
            "\r 19%|█▉        | 76/400 [00:31<02:10,  2.48it/s]"
          ]
        },
        {
          "output_type": "stream",
          "name": "stdout",
          "text": [
            "Epoch 76/400\n",
            "Loss: 0.8967\n",
            "Accuracy: 0.6066\n",
            "Precision: 0.6104\n",
            "Recall: 0.6066\n",
            "F1 Score: 0.6062\n",
            "                      precision    recall  f1-score   support\n",
            "\n",
            "          Networking       0.59      0.67      0.63       447\n",
            "            Learning       0.59      0.58      0.58       422\n",
            "           Searching       0.72      0.58      0.64       153\n",
            "     Sourcing: Early       0.62      0.52      0.57       122\n",
            "Sourcing: In Process       0.60      0.58      0.59        71\n",
            "\n",
            "            accuracy                           0.61      1215\n",
            "           macro avg       0.63      0.59      0.60      1215\n",
            "        weighted avg       0.61      0.61      0.61      1215\n",
            "\n"
          ]
        },
        {
          "output_type": "stream",
          "name": "stderr",
          "text": [
            "\r 19%|█▉        | 77/400 [00:31<02:10,  2.47it/s]"
          ]
        },
        {
          "output_type": "stream",
          "name": "stdout",
          "text": [
            "Epoch 77/400\n",
            "Loss: 0.8862\n",
            "Accuracy: 0.6025\n",
            "Precision: 0.6073\n",
            "Recall: 0.6025\n",
            "F1 Score: 0.6017\n",
            "                      precision    recall  f1-score   support\n",
            "\n",
            "          Networking       0.59      0.66      0.62       447\n",
            "            Learning       0.57      0.60      0.59       422\n",
            "           Searching       0.72      0.56      0.63       153\n",
            "     Sourcing: Early       0.66      0.56      0.60       122\n",
            "Sourcing: In Process       0.58      0.42      0.49        71\n",
            "\n",
            "            accuracy                           0.60      1215\n",
            "           macro avg       0.62      0.56      0.59      1215\n",
            "        weighted avg       0.61      0.60      0.60      1215\n",
            "\n"
          ]
        },
        {
          "output_type": "stream",
          "name": "stderr",
          "text": [
            "\r 20%|█▉        | 78/400 [00:31<02:12,  2.44it/s]"
          ]
        },
        {
          "output_type": "stream",
          "name": "stdout",
          "text": [
            "Epoch 78/400\n",
            "Loss: 0.8847\n",
            "Accuracy: 0.6123\n",
            "Precision: 0.6158\n",
            "Recall: 0.6123\n",
            "F1 Score: 0.6114\n",
            "                      precision    recall  f1-score   support\n",
            "\n",
            "          Networking       0.61      0.68      0.64       447\n",
            "            Learning       0.59      0.60      0.59       422\n",
            "           Searching       0.70      0.52      0.60       153\n",
            "     Sourcing: Early       0.66      0.60      0.63       122\n",
            "Sourcing: In Process       0.58      0.49      0.53        71\n",
            "\n",
            "            accuracy                           0.61      1215\n",
            "           macro avg       0.63      0.58      0.60      1215\n",
            "        weighted avg       0.62      0.61      0.61      1215\n",
            "\n"
          ]
        },
        {
          "output_type": "stream",
          "name": "stderr",
          "text": [
            "\r 20%|█▉        | 79/400 [00:32<02:13,  2.41it/s]"
          ]
        },
        {
          "output_type": "stream",
          "name": "stdout",
          "text": [
            "Epoch 79/400\n",
            "Loss: 0.8513\n",
            "Accuracy: 0.6313\n",
            "Precision: 0.6353\n",
            "Recall: 0.6313\n",
            "F1 Score: 0.6307\n",
            "                      precision    recall  f1-score   support\n",
            "\n",
            "          Networking       0.63      0.70      0.66       447\n",
            "            Learning       0.60      0.62      0.61       422\n",
            "           Searching       0.73      0.56      0.63       153\n",
            "     Sourcing: Early       0.70      0.61      0.65       122\n",
            "Sourcing: In Process       0.57      0.51      0.54        71\n",
            "\n",
            "            accuracy                           0.63      1215\n",
            "           macro avg       0.65      0.60      0.62      1215\n",
            "        weighted avg       0.64      0.63      0.63      1215\n",
            "\n",
            "Model improved to 0.6313 accuracy. Saving model.\n"
          ]
        },
        {
          "output_type": "stream",
          "name": "stderr",
          "text": [
            "\r 20%|██        | 80/400 [00:32<02:11,  2.43it/s]"
          ]
        },
        {
          "output_type": "stream",
          "name": "stdout",
          "text": [
            "Epoch 80/400\n",
            "Loss: 0.8279\n",
            "Accuracy: 0.6469\n",
            "Precision: 0.6505\n",
            "Recall: 0.6469\n",
            "F1 Score: 0.6469\n",
            "                      precision    recall  f1-score   support\n",
            "\n",
            "          Networking       0.64      0.69      0.67       447\n",
            "            Learning       0.61      0.63      0.62       422\n",
            "           Searching       0.71      0.60      0.65       153\n",
            "     Sourcing: Early       0.69      0.63      0.66       122\n",
            "Sourcing: In Process       0.75      0.58      0.65        71\n",
            "\n",
            "            accuracy                           0.65      1215\n",
            "           macro avg       0.68      0.63      0.65      1215\n",
            "        weighted avg       0.65      0.65      0.65      1215\n",
            "\n",
            "Model improved to 0.6469 accuracy. Saving model.\n"
          ]
        },
        {
          "output_type": "stream",
          "name": "stderr",
          "text": [
            "\r 20%|██        | 81/400 [00:33<02:12,  2.40it/s]"
          ]
        },
        {
          "output_type": "stream",
          "name": "stdout",
          "text": [
            "Epoch 81/400\n",
            "Loss: 0.7870\n",
            "Accuracy: 0.6560\n",
            "Precision: 0.6605\n",
            "Recall: 0.6560\n",
            "F1 Score: 0.6561\n",
            "                      precision    recall  f1-score   support\n",
            "\n",
            "          Networking       0.63      0.71      0.67       447\n",
            "            Learning       0.63      0.62      0.63       422\n",
            "           Searching       0.75      0.62      0.68       153\n",
            "     Sourcing: Early       0.69      0.64      0.66       122\n",
            "Sourcing: In Process       0.76      0.63      0.69        71\n",
            "\n",
            "            accuracy                           0.66      1215\n",
            "           macro avg       0.69      0.64      0.67      1215\n",
            "        weighted avg       0.66      0.66      0.66      1215\n",
            "\n",
            "Model improved to 0.6560 accuracy. Saving model.\n"
          ]
        },
        {
          "output_type": "stream",
          "name": "stderr",
          "text": [
            "\r 20%|██        | 82/400 [00:33<02:11,  2.42it/s]"
          ]
        },
        {
          "output_type": "stream",
          "name": "stdout",
          "text": [
            "Epoch 82/400\n",
            "Loss: 0.7383\n",
            "Accuracy: 0.6872\n",
            "Precision: 0.6934\n",
            "Recall: 0.6872\n",
            "F1 Score: 0.6882\n",
            "                      precision    recall  f1-score   support\n",
            "\n",
            "          Networking       0.68      0.71      0.69       447\n",
            "            Learning       0.63      0.68      0.65       422\n",
            "           Searching       0.82      0.63      0.71       153\n",
            "     Sourcing: Early       0.73      0.70      0.71       122\n",
            "Sourcing: In Process       0.82      0.70      0.76        71\n",
            "\n",
            "            accuracy                           0.69      1215\n",
            "           macro avg       0.73      0.68      0.71      1215\n",
            "        weighted avg       0.69      0.69      0.69      1215\n",
            "\n",
            "Model improved to 0.6872 accuracy. Saving model.\n"
          ]
        },
        {
          "output_type": "stream",
          "name": "stderr",
          "text": [
            "\r 21%|██        | 83/400 [00:33<02:10,  2.43it/s]"
          ]
        },
        {
          "output_type": "stream",
          "name": "stdout",
          "text": [
            "Epoch 83/400\n",
            "Loss: 0.7423\n",
            "Accuracy: 0.6733\n",
            "Precision: 0.6759\n",
            "Recall: 0.6733\n",
            "F1 Score: 0.6735\n",
            "                      precision    recall  f1-score   support\n",
            "\n",
            "          Networking       0.67      0.70      0.69       447\n",
            "            Learning       0.63      0.64      0.64       422\n",
            "           Searching       0.76      0.63      0.69       153\n",
            "     Sourcing: Early       0.69      0.71      0.70       122\n",
            "Sourcing: In Process       0.78      0.69      0.73        71\n",
            "\n",
            "            accuracy                           0.67      1215\n",
            "           macro avg       0.71      0.68      0.69      1215\n",
            "        weighted avg       0.68      0.67      0.67      1215\n",
            "\n"
          ]
        },
        {
          "output_type": "stream",
          "name": "stderr",
          "text": [
            "\r 21%|██        | 84/400 [00:34<02:10,  2.42it/s]"
          ]
        },
        {
          "output_type": "stream",
          "name": "stdout",
          "text": [
            "Epoch 84/400\n",
            "Loss: 0.7578\n",
            "Accuracy: 0.6683\n",
            "Precision: 0.6733\n",
            "Recall: 0.6683\n",
            "F1 Score: 0.6688\n",
            "                      precision    recall  f1-score   support\n",
            "\n",
            "          Networking       0.66      0.69      0.68       447\n",
            "            Learning       0.63      0.66      0.64       422\n",
            "           Searching       0.78      0.59      0.68       153\n",
            "     Sourcing: Early       0.67      0.69      0.68       122\n",
            "Sourcing: In Process       0.78      0.70      0.74        71\n",
            "\n",
            "            accuracy                           0.67      1215\n",
            "           macro avg       0.71      0.67      0.68      1215\n",
            "        weighted avg       0.67      0.67      0.67      1215\n",
            "\n"
          ]
        },
        {
          "output_type": "stream",
          "name": "stderr",
          "text": [
            "\r 21%|██▏       | 85/400 [00:34<02:06,  2.49it/s]"
          ]
        },
        {
          "output_type": "stream",
          "name": "stdout",
          "text": [
            "Epoch 85/400\n",
            "Loss: 0.7918\n",
            "Accuracy: 0.6395\n",
            "Precision: 0.6421\n",
            "Recall: 0.6395\n",
            "F1 Score: 0.6391\n",
            "                      precision    recall  f1-score   support\n",
            "\n",
            "          Networking       0.64      0.67      0.65       447\n",
            "            Learning       0.61      0.65      0.63       422\n",
            "           Searching       0.68      0.54      0.60       153\n",
            "     Sourcing: Early       0.67      0.63      0.65       122\n",
            "Sourcing: In Process       0.71      0.63      0.67        71\n",
            "\n",
            "            accuracy                           0.64      1215\n",
            "           macro avg       0.66      0.62      0.64      1215\n",
            "        weighted avg       0.64      0.64      0.64      1215\n",
            "\n"
          ]
        },
        {
          "output_type": "stream",
          "name": "stderr",
          "text": [
            "\r 22%|██▏       | 86/400 [00:35<02:03,  2.54it/s]"
          ]
        },
        {
          "output_type": "stream",
          "name": "stdout",
          "text": [
            "Epoch 86/400\n",
            "Loss: 0.8090\n",
            "Accuracy: 0.6420\n",
            "Precision: 0.6447\n",
            "Recall: 0.6420\n",
            "F1 Score: 0.6415\n",
            "                      precision    recall  f1-score   support\n",
            "\n",
            "          Networking       0.65      0.68      0.66       447\n",
            "            Learning       0.61      0.65      0.63       422\n",
            "           Searching       0.68      0.53      0.59       153\n",
            "     Sourcing: Early       0.63      0.62      0.63       122\n",
            "Sourcing: In Process       0.78      0.65      0.71        71\n",
            "\n",
            "            accuracy                           0.64      1215\n",
            "           macro avg       0.67      0.63      0.64      1215\n",
            "        weighted avg       0.64      0.64      0.64      1215\n",
            "\n"
          ]
        },
        {
          "output_type": "stream",
          "name": "stderr",
          "text": [
            "\r 22%|██▏       | 87/400 [00:35<02:03,  2.53it/s]"
          ]
        },
        {
          "output_type": "stream",
          "name": "stdout",
          "text": [
            "Epoch 87/400\n",
            "Loss: 0.8057\n",
            "Accuracy: 0.6593\n",
            "Precision: 0.6613\n",
            "Recall: 0.6593\n",
            "F1 Score: 0.6577\n",
            "                      precision    recall  f1-score   support\n",
            "\n",
            "          Networking       0.65      0.73      0.69       447\n",
            "            Learning       0.65      0.64      0.64       422\n",
            "           Searching       0.70      0.53      0.60       153\n",
            "     Sourcing: Early       0.65      0.63      0.64       122\n",
            "Sourcing: In Process       0.72      0.69      0.71        71\n",
            "\n",
            "            accuracy                           0.66      1215\n",
            "           macro avg       0.68      0.64      0.66      1215\n",
            "        weighted avg       0.66      0.66      0.66      1215\n",
            "\n"
          ]
        },
        {
          "output_type": "stream",
          "name": "stderr",
          "text": [
            "\r 22%|██▏       | 88/400 [00:35<02:03,  2.52it/s]"
          ]
        },
        {
          "output_type": "stream",
          "name": "stdout",
          "text": [
            "Epoch 88/400\n",
            "Loss: 0.8204\n",
            "Accuracy: 0.6535\n",
            "Precision: 0.6567\n",
            "Recall: 0.6535\n",
            "F1 Score: 0.6522\n",
            "                      precision    recall  f1-score   support\n",
            "\n",
            "          Networking       0.66      0.72      0.69       447\n",
            "            Learning       0.65      0.65      0.65       422\n",
            "           Searching       0.73      0.52      0.61       153\n",
            "     Sourcing: Early       0.56      0.57      0.56       122\n",
            "Sourcing: In Process       0.69      0.62      0.65        71\n",
            "\n",
            "            accuracy                           0.65      1215\n",
            "           macro avg       0.66      0.62      0.63      1215\n",
            "        weighted avg       0.66      0.65      0.65      1215\n",
            "\n"
          ]
        },
        {
          "output_type": "stream",
          "name": "stderr",
          "text": [
            "\r 22%|██▏       | 89/400 [00:36<02:03,  2.51it/s]"
          ]
        },
        {
          "output_type": "stream",
          "name": "stdout",
          "text": [
            "Epoch 89/400\n",
            "Loss: 0.8730\n",
            "Accuracy: 0.6230\n",
            "Precision: 0.6235\n",
            "Recall: 0.6230\n",
            "F1 Score: 0.6184\n",
            "                      precision    recall  f1-score   support\n",
            "\n",
            "          Networking       0.64      0.70      0.67       447\n",
            "            Learning       0.63      0.64      0.64       422\n",
            "           Searching       0.63      0.37      0.47       153\n",
            "     Sourcing: Early       0.50      0.53      0.52       122\n",
            "Sourcing: In Process       0.64      0.70      0.67        71\n",
            "\n",
            "            accuracy                           0.62      1215\n",
            "           macro avg       0.61      0.59      0.59      1215\n",
            "        weighted avg       0.62      0.62      0.62      1215\n",
            "\n"
          ]
        },
        {
          "output_type": "stream",
          "name": "stderr",
          "text": [
            "\r 22%|██▎       | 90/400 [00:36<02:04,  2.49it/s]"
          ]
        },
        {
          "output_type": "stream",
          "name": "stdout",
          "text": [
            "Epoch 90/400\n",
            "Loss: 0.8377\n",
            "Accuracy: 0.6469\n",
            "Precision: 0.6466\n",
            "Recall: 0.6469\n",
            "F1 Score: 0.6438\n",
            "                      precision    recall  f1-score   support\n",
            "\n",
            "          Networking       0.66      0.72      0.69       447\n",
            "            Learning       0.63      0.67      0.65       422\n",
            "           Searching       0.61      0.46      0.53       153\n",
            "     Sourcing: Early       0.67      0.53      0.59       122\n",
            "Sourcing: In Process       0.71      0.62      0.66        71\n",
            "\n",
            "            accuracy                           0.65      1215\n",
            "           macro avg       0.66      0.60      0.62      1215\n",
            "        weighted avg       0.65      0.65      0.64      1215\n",
            "\n"
          ]
        },
        {
          "output_type": "stream",
          "name": "stderr",
          "text": [
            "\r 23%|██▎       | 91/400 [00:37<02:04,  2.48it/s]"
          ]
        },
        {
          "output_type": "stream",
          "name": "stdout",
          "text": [
            "Epoch 91/400\n",
            "Loss: 0.8068\n",
            "Accuracy: 0.6593\n",
            "Precision: 0.6621\n",
            "Recall: 0.6593\n",
            "F1 Score: 0.6561\n",
            "                      precision    recall  f1-score   support\n",
            "\n",
            "          Networking       0.64      0.75      0.69       447\n",
            "            Learning       0.66      0.64      0.65       422\n",
            "           Searching       0.69      0.47      0.56       153\n",
            "     Sourcing: Early       0.68      0.61      0.65       122\n",
            "Sourcing: In Process       0.71      0.63      0.67        71\n",
            "\n",
            "            accuracy                           0.66      1215\n",
            "           macro avg       0.68      0.62      0.64      1215\n",
            "        weighted avg       0.66      0.66      0.66      1215\n",
            "\n"
          ]
        },
        {
          "output_type": "stream",
          "name": "stderr",
          "text": [
            "\r 23%|██▎       | 92/400 [00:37<02:03,  2.50it/s]"
          ]
        },
        {
          "output_type": "stream",
          "name": "stdout",
          "text": [
            "Epoch 92/400\n",
            "Loss: 0.7702\n",
            "Accuracy: 0.6658\n",
            "Precision: 0.6660\n",
            "Recall: 0.6658\n",
            "F1 Score: 0.6638\n",
            "                      precision    recall  f1-score   support\n",
            "\n",
            "          Networking       0.68      0.74      0.71       447\n",
            "            Learning       0.65      0.66      0.65       422\n",
            "           Searching       0.66      0.50      0.57       153\n",
            "     Sourcing: Early       0.63      0.62      0.63       122\n",
            "Sourcing: In Process       0.76      0.68      0.72        71\n",
            "\n",
            "            accuracy                           0.67      1215\n",
            "           macro avg       0.68      0.64      0.65      1215\n",
            "        weighted avg       0.67      0.67      0.66      1215\n",
            "\n"
          ]
        },
        {
          "output_type": "stream",
          "name": "stderr",
          "text": [
            "\r 23%|██▎       | 93/400 [00:37<02:00,  2.54it/s]"
          ]
        },
        {
          "output_type": "stream",
          "name": "stdout",
          "text": [
            "Epoch 93/400\n",
            "Loss: 0.7217\n",
            "Accuracy: 0.6872\n",
            "Precision: 0.6917\n",
            "Recall: 0.6872\n",
            "F1 Score: 0.6868\n",
            "                      precision    recall  f1-score   support\n",
            "\n",
            "          Networking       0.68      0.74      0.71       447\n",
            "            Learning       0.66      0.68      0.67       422\n",
            "           Searching       0.77      0.58      0.66       153\n",
            "     Sourcing: Early       0.67      0.68      0.67       122\n",
            "Sourcing: In Process       0.81      0.68      0.74        71\n",
            "\n",
            "            accuracy                           0.69      1215\n",
            "           macro avg       0.72      0.67      0.69      1215\n",
            "        weighted avg       0.69      0.69      0.69      1215\n",
            "\n"
          ]
        },
        {
          "output_type": "stream",
          "name": "stderr",
          "text": [
            "\r 24%|██▎       | 94/400 [00:38<01:59,  2.56it/s]"
          ]
        },
        {
          "output_type": "stream",
          "name": "stdout",
          "text": [
            "Epoch 94/400\n",
            "Loss: 0.7128\n",
            "Accuracy: 0.7012\n",
            "Precision: 0.7039\n",
            "Recall: 0.7012\n",
            "F1 Score: 0.7005\n",
            "                      precision    recall  f1-score   support\n",
            "\n",
            "          Networking       0.69      0.76      0.72       447\n",
            "            Learning       0.69      0.69      0.69       422\n",
            "           Searching       0.74      0.58      0.65       153\n",
            "     Sourcing: Early       0.67      0.68      0.68       122\n",
            "Sourcing: In Process       0.85      0.72      0.78        71\n",
            "\n",
            "            accuracy                           0.70      1215\n",
            "           macro avg       0.73      0.69      0.70      1215\n",
            "        weighted avg       0.70      0.70      0.70      1215\n",
            "\n",
            "Model improved to 0.7012 accuracy. Saving model.\n"
          ]
        },
        {
          "output_type": "stream",
          "name": "stderr",
          "text": [
            "\r 24%|██▍       | 95/400 [00:38<01:59,  2.56it/s]"
          ]
        },
        {
          "output_type": "stream",
          "name": "stdout",
          "text": [
            "Epoch 95/400\n",
            "Loss: 0.6723\n",
            "Accuracy: 0.7169\n",
            "Precision: 0.7204\n",
            "Recall: 0.7169\n",
            "F1 Score: 0.7163\n",
            "                      precision    recall  f1-score   support\n",
            "\n",
            "          Networking       0.70      0.77      0.73       447\n",
            "            Learning       0.70      0.70      0.70       422\n",
            "           Searching       0.78      0.61      0.69       153\n",
            "     Sourcing: Early       0.71      0.73      0.72       122\n",
            "Sourcing: In Process       0.83      0.68      0.74        71\n",
            "\n",
            "            accuracy                           0.72      1215\n",
            "           macro avg       0.74      0.70      0.72      1215\n",
            "        weighted avg       0.72      0.72      0.72      1215\n",
            "\n",
            "Model improved to 0.7169 accuracy. Saving model.\n"
          ]
        },
        {
          "output_type": "stream",
          "name": "stderr",
          "text": [
            "\r 24%|██▍       | 96/400 [00:39<02:01,  2.50it/s]"
          ]
        },
        {
          "output_type": "stream",
          "name": "stdout",
          "text": [
            "Epoch 96/400\n",
            "Loss: 0.6443\n",
            "Accuracy: 0.7243\n",
            "Precision: 0.7286\n",
            "Recall: 0.7243\n",
            "F1 Score: 0.7241\n",
            "                      precision    recall  f1-score   support\n",
            "\n",
            "          Networking       0.70      0.77      0.73       447\n",
            "            Learning       0.71      0.71      0.71       422\n",
            "           Searching       0.81      0.62      0.70       153\n",
            "     Sourcing: Early       0.71      0.74      0.73       122\n",
            "Sourcing: In Process       0.86      0.76      0.81        71\n",
            "\n",
            "            accuracy                           0.72      1215\n",
            "           macro avg       0.76      0.72      0.74      1215\n",
            "        weighted avg       0.73      0.72      0.72      1215\n",
            "\n",
            "Model improved to 0.7243 accuracy. Saving model.\n"
          ]
        },
        {
          "output_type": "stream",
          "name": "stderr",
          "text": [
            "\r 24%|██▍       | 97/400 [00:39<01:59,  2.54it/s]"
          ]
        },
        {
          "output_type": "stream",
          "name": "stdout",
          "text": [
            "Epoch 97/400\n",
            "Loss: 0.6119\n",
            "Accuracy: 0.7531\n",
            "Precision: 0.7592\n",
            "Recall: 0.7531\n",
            "F1 Score: 0.7531\n",
            "                      precision    recall  f1-score   support\n",
            "\n",
            "          Networking       0.74      0.79      0.76       447\n",
            "            Learning       0.72      0.74      0.73       422\n",
            "           Searching       0.88      0.64      0.74       153\n",
            "     Sourcing: Early       0.73      0.76      0.75       122\n",
            "Sourcing: In Process       0.89      0.80      0.84        71\n",
            "\n",
            "            accuracy                           0.75      1215\n",
            "           macro avg       0.79      0.75      0.77      1215\n",
            "        weighted avg       0.76      0.75      0.75      1215\n",
            "\n",
            "Model improved to 0.7531 accuracy. Saving model.\n"
          ]
        },
        {
          "output_type": "stream",
          "name": "stderr",
          "text": [
            "\r 24%|██▍       | 98/400 [00:39<01:59,  2.53it/s]"
          ]
        },
        {
          "output_type": "stream",
          "name": "stdout",
          "text": [
            "Epoch 98/400\n",
            "Loss: 0.6092\n",
            "Accuracy: 0.7465\n",
            "Precision: 0.7503\n",
            "Recall: 0.7465\n",
            "F1 Score: 0.7463\n",
            "                      precision    recall  f1-score   support\n",
            "\n",
            "          Networking       0.72      0.79      0.75       447\n",
            "            Learning       0.73      0.74      0.74       422\n",
            "           Searching       0.83      0.65      0.73       153\n",
            "     Sourcing: Early       0.74      0.73      0.73       122\n",
            "Sourcing: In Process       0.86      0.77      0.81        71\n",
            "\n",
            "            accuracy                           0.75      1215\n",
            "           macro avg       0.78      0.74      0.75      1215\n",
            "        weighted avg       0.75      0.75      0.75      1215\n",
            "\n"
          ]
        },
        {
          "output_type": "stream",
          "name": "stderr",
          "text": [
            "\r 25%|██▍       | 99/400 [00:40<01:59,  2.53it/s]"
          ]
        },
        {
          "output_type": "stream",
          "name": "stdout",
          "text": [
            "Epoch 99/400\n",
            "Loss: 0.6001\n",
            "Accuracy: 0.7506\n",
            "Precision: 0.7530\n",
            "Recall: 0.7506\n",
            "F1 Score: 0.7500\n",
            "                      precision    recall  f1-score   support\n",
            "\n",
            "          Networking       0.73      0.80      0.77       447\n",
            "            Learning       0.74      0.74      0.74       422\n",
            "           Searching       0.79      0.63      0.70       153\n",
            "     Sourcing: Early       0.75      0.75      0.75       122\n",
            "Sourcing: In Process       0.87      0.76      0.81        71\n",
            "\n",
            "            accuracy                           0.75      1215\n",
            "           macro avg       0.78      0.74      0.75      1215\n",
            "        weighted avg       0.75      0.75      0.75      1215\n",
            "\n"
          ]
        },
        {
          "output_type": "stream",
          "name": "stderr",
          "text": [
            "\r 25%|██▌       | 100/400 [00:40<02:00,  2.49it/s]"
          ]
        },
        {
          "output_type": "stream",
          "name": "stdout",
          "text": [
            "Epoch 100/400\n",
            "Loss: 0.5825\n",
            "Accuracy: 0.7630\n",
            "Precision: 0.7676\n",
            "Recall: 0.7630\n",
            "F1 Score: 0.7625\n",
            "                      precision    recall  f1-score   support\n",
            "\n",
            "          Networking       0.75      0.81      0.78       447\n",
            "            Learning       0.75      0.75      0.75       422\n",
            "           Searching       0.88      0.64      0.74       153\n",
            "     Sourcing: Early       0.72      0.75      0.74       122\n",
            "Sourcing: In Process       0.85      0.80      0.83        71\n",
            "\n",
            "            accuracy                           0.76      1215\n",
            "           macro avg       0.79      0.75      0.77      1215\n",
            "        weighted avg       0.77      0.76      0.76      1215\n",
            "\n",
            "Model improved to 0.7630 accuracy. Saving model.\n"
          ]
        },
        {
          "output_type": "stream",
          "name": "stderr",
          "text": [
            "\r 25%|██▌       | 101/400 [00:41<02:01,  2.47it/s]"
          ]
        },
        {
          "output_type": "stream",
          "name": "stdout",
          "text": [
            "Epoch 101/400\n",
            "Loss: 0.5662\n",
            "Accuracy: 0.7819\n",
            "Precision: 0.7860\n",
            "Recall: 0.7819\n",
            "F1 Score: 0.7817\n",
            "                      precision    recall  f1-score   support\n",
            "\n",
            "          Networking       0.77      0.83      0.79       447\n",
            "            Learning       0.76      0.77      0.76       422\n",
            "           Searching       0.88      0.68      0.77       153\n",
            "     Sourcing: Early       0.77      0.78      0.78       122\n",
            "Sourcing: In Process       0.89      0.80      0.84        71\n",
            "\n",
            "            accuracy                           0.78      1215\n",
            "           macro avg       0.81      0.77      0.79      1215\n",
            "        weighted avg       0.79      0.78      0.78      1215\n",
            "\n",
            "Model improved to 0.7819 accuracy. Saving model.\n"
          ]
        },
        {
          "output_type": "stream",
          "name": "stderr",
          "text": [
            "\r 26%|██▌       | 102/400 [00:41<01:58,  2.51it/s]"
          ]
        },
        {
          "output_type": "stream",
          "name": "stdout",
          "text": [
            "Epoch 102/400\n",
            "Loss: 0.5700\n",
            "Accuracy: 0.7621\n",
            "Precision: 0.7643\n",
            "Recall: 0.7621\n",
            "F1 Score: 0.7618\n",
            "                      precision    recall  f1-score   support\n",
            "\n",
            "          Networking       0.75      0.80      0.77       447\n",
            "            Learning       0.74      0.75      0.75       422\n",
            "           Searching       0.82      0.67      0.74       153\n",
            "     Sourcing: Early       0.78      0.75      0.76       122\n",
            "Sourcing: In Process       0.84      0.82      0.83        71\n",
            "\n",
            "            accuracy                           0.76      1215\n",
            "           macro avg       0.79      0.76      0.77      1215\n",
            "        weighted avg       0.76      0.76      0.76      1215\n",
            "\n"
          ]
        },
        {
          "output_type": "stream",
          "name": "stderr",
          "text": [
            "\r 26%|██▌       | 103/400 [00:41<01:56,  2.54it/s]"
          ]
        },
        {
          "output_type": "stream",
          "name": "stdout",
          "text": [
            "Epoch 103/400\n",
            "Loss: 0.6193\n",
            "Accuracy: 0.7374\n",
            "Precision: 0.7407\n",
            "Recall: 0.7374\n",
            "F1 Score: 0.7367\n",
            "                      precision    recall  f1-score   support\n",
            "\n",
            "          Networking       0.71      0.79      0.75       447\n",
            "            Learning       0.74      0.74      0.74       422\n",
            "           Searching       0.80      0.61      0.70       153\n",
            "     Sourcing: Early       0.71      0.71      0.71       122\n",
            "Sourcing: In Process       0.80      0.72      0.76        71\n",
            "\n",
            "            accuracy                           0.74      1215\n",
            "           macro avg       0.75      0.71      0.73      1215\n",
            "        weighted avg       0.74      0.74      0.74      1215\n",
            "\n"
          ]
        },
        {
          "output_type": "stream",
          "name": "stderr",
          "text": [
            "\r 26%|██▌       | 104/400 [00:42<01:57,  2.51it/s]"
          ]
        },
        {
          "output_type": "stream",
          "name": "stdout",
          "text": [
            "Epoch 104/400\n",
            "Loss: 0.6418\n",
            "Accuracy: 0.7374\n",
            "Precision: 0.7411\n",
            "Recall: 0.7374\n",
            "F1 Score: 0.7362\n",
            "                      precision    recall  f1-score   support\n",
            "\n",
            "          Networking       0.72      0.79      0.75       447\n",
            "            Learning       0.74      0.75      0.74       422\n",
            "           Searching       0.81      0.58      0.67       153\n",
            "     Sourcing: Early       0.69      0.71      0.70       122\n",
            "Sourcing: In Process       0.83      0.75      0.79        71\n",
            "\n",
            "            accuracy                           0.74      1215\n",
            "           macro avg       0.76      0.71      0.73      1215\n",
            "        weighted avg       0.74      0.74      0.74      1215\n",
            "\n"
          ]
        },
        {
          "output_type": "stream",
          "name": "stderr",
          "text": [
            "\r 26%|██▋       | 105/400 [00:42<02:00,  2.45it/s]"
          ]
        },
        {
          "output_type": "stream",
          "name": "stdout",
          "text": [
            "Epoch 105/400\n",
            "Loss: 0.6084\n",
            "Accuracy: 0.7333\n",
            "Precision: 0.7344\n",
            "Recall: 0.7333\n",
            "F1 Score: 0.7325\n",
            "                      precision    recall  f1-score   support\n",
            "\n",
            "          Networking       0.75      0.77      0.76       447\n",
            "            Learning       0.72      0.72      0.72       422\n",
            "           Searching       0.76      0.61      0.68       153\n",
            "     Sourcing: Early       0.69      0.75      0.72       122\n",
            "Sourcing: In Process       0.72      0.79      0.75        71\n",
            "\n",
            "            accuracy                           0.73      1215\n",
            "           macro avg       0.73      0.73      0.73      1215\n",
            "        weighted avg       0.73      0.73      0.73      1215\n",
            "\n"
          ]
        },
        {
          "output_type": "stream",
          "name": "stderr",
          "text": [
            "\r 26%|██▋       | 106/400 [00:43<02:02,  2.40it/s]"
          ]
        },
        {
          "output_type": "stream",
          "name": "stdout",
          "text": [
            "Epoch 106/400\n",
            "Loss: 0.7790\n",
            "Accuracy: 0.6691\n",
            "Precision: 0.6687\n",
            "Recall: 0.6691\n",
            "F1 Score: 0.6672\n",
            "                      precision    recall  f1-score   support\n",
            "\n",
            "          Networking       0.68      0.76      0.72       447\n",
            "            Learning       0.70      0.66      0.68       422\n",
            "           Searching       0.62      0.52      0.57       153\n",
            "     Sourcing: Early       0.58      0.59      0.58       122\n",
            "Sourcing: In Process       0.68      0.59      0.63        71\n",
            "\n",
            "            accuracy                           0.67      1215\n",
            "           macro avg       0.65      0.63      0.64      1215\n",
            "        weighted avg       0.67      0.67      0.67      1215\n",
            "\n"
          ]
        },
        {
          "output_type": "stream",
          "name": "stderr",
          "text": [
            "\r 27%|██▋       | 107/400 [00:43<02:02,  2.40it/s]"
          ]
        },
        {
          "output_type": "stream",
          "name": "stdout",
          "text": [
            "Epoch 107/400\n",
            "Loss: 0.8149\n",
            "Accuracy: 0.6527\n",
            "Precision: 0.6522\n",
            "Recall: 0.6527\n",
            "F1 Score: 0.6501\n",
            "                      precision    recall  f1-score   support\n",
            "\n",
            "          Networking       0.67      0.68      0.67       447\n",
            "            Learning       0.64      0.72      0.68       422\n",
            "           Searching       0.62      0.50      0.55       153\n",
            "     Sourcing: Early       0.69      0.62      0.66       122\n",
            "Sourcing: In Process       0.62      0.46      0.53        71\n",
            "\n",
            "            accuracy                           0.65      1215\n",
            "           macro avg       0.65      0.60      0.62      1215\n",
            "        weighted avg       0.65      0.65      0.65      1215\n",
            "\n"
          ]
        },
        {
          "output_type": "stream",
          "name": "stderr",
          "text": [
            "\r 27%|██▋       | 108/400 [00:43<02:01,  2.40it/s]"
          ]
        },
        {
          "output_type": "stream",
          "name": "stdout",
          "text": [
            "Epoch 108/400\n",
            "Loss: 0.7094\n",
            "Accuracy: 0.6938\n",
            "Precision: 0.6994\n",
            "Recall: 0.6938\n",
            "F1 Score: 0.6925\n",
            "                      precision    recall  f1-score   support\n",
            "\n",
            "          Networking       0.67      0.77      0.72       447\n",
            "            Learning       0.68      0.66      0.67       422\n",
            "           Searching       0.80      0.57      0.66       153\n",
            "     Sourcing: Early       0.69      0.74      0.71       122\n",
            "Sourcing: In Process       0.77      0.62      0.69        71\n",
            "\n",
            "            accuracy                           0.69      1215\n",
            "           macro avg       0.72      0.67      0.69      1215\n",
            "        weighted avg       0.70      0.69      0.69      1215\n",
            "\n"
          ]
        },
        {
          "output_type": "stream",
          "name": "stderr",
          "text": [
            "\r 27%|██▋       | 109/400 [00:44<01:58,  2.45it/s]"
          ]
        },
        {
          "output_type": "stream",
          "name": "stdout",
          "text": [
            "Epoch 109/400\n",
            "Loss: 0.9123\n",
            "Accuracy: 0.5984\n",
            "Precision: 0.5986\n",
            "Recall: 0.5984\n",
            "F1 Score: 0.5970\n",
            "                      precision    recall  f1-score   support\n",
            "\n",
            "          Networking       0.62      0.65      0.63       447\n",
            "            Learning       0.57      0.60      0.59       422\n",
            "           Searching       0.61      0.47      0.53       153\n",
            "     Sourcing: Early       0.61      0.56      0.58       122\n",
            "Sourcing: In Process       0.60      0.56      0.58        71\n",
            "\n",
            "            accuracy                           0.60      1215\n",
            "           macro avg       0.60      0.57      0.58      1215\n",
            "        weighted avg       0.60      0.60      0.60      1215\n",
            "\n"
          ]
        },
        {
          "output_type": "stream",
          "name": "stderr",
          "text": [
            "\r 28%|██▊       | 110/400 [00:44<01:54,  2.53it/s]"
          ]
        },
        {
          "output_type": "stream",
          "name": "stdout",
          "text": [
            "Epoch 110/400\n",
            "Loss: 0.7461\n",
            "Accuracy: 0.6774\n",
            "Precision: 0.6787\n",
            "Recall: 0.6774\n",
            "F1 Score: 0.6765\n",
            "                      precision    recall  f1-score   support\n",
            "\n",
            "          Networking       0.68      0.73      0.70       447\n",
            "            Learning       0.67      0.65      0.66       422\n",
            "           Searching       0.72      0.58      0.64       153\n",
            "     Sourcing: Early       0.65      0.70      0.67       122\n",
            "Sourcing: In Process       0.71      0.69      0.70        71\n",
            "\n",
            "            accuracy                           0.68      1215\n",
            "           macro avg       0.69      0.67      0.67      1215\n",
            "        weighted avg       0.68      0.68      0.68      1215\n",
            "\n"
          ]
        },
        {
          "output_type": "stream",
          "name": "stderr",
          "text": [
            "\r 28%|██▊       | 111/400 [00:45<01:51,  2.59it/s]"
          ]
        },
        {
          "output_type": "stream",
          "name": "stdout",
          "text": [
            "Epoch 111/400\n",
            "Loss: 0.7624\n",
            "Accuracy: 0.6617\n",
            "Precision: 0.6682\n",
            "Recall: 0.6617\n",
            "F1 Score: 0.6605\n",
            "                      precision    recall  f1-score   support\n",
            "\n",
            "          Networking       0.65      0.74      0.69       447\n",
            "            Learning       0.66      0.61      0.64       422\n",
            "           Searching       0.79      0.55      0.65       153\n",
            "     Sourcing: Early       0.60      0.66      0.62       122\n",
            "Sourcing: In Process       0.69      0.68      0.68        71\n",
            "\n",
            "            accuracy                           0.66      1215\n",
            "           macro avg       0.68      0.65      0.66      1215\n",
            "        weighted avg       0.67      0.66      0.66      1215\n",
            "\n"
          ]
        },
        {
          "output_type": "stream",
          "name": "stderr",
          "text": [
            "\r 28%|██▊       | 112/400 [00:45<01:53,  2.53it/s]"
          ]
        },
        {
          "output_type": "stream",
          "name": "stdout",
          "text": [
            "Epoch 112/400\n",
            "Loss: 0.6692\n",
            "Accuracy: 0.7053\n",
            "Precision: 0.7090\n",
            "Recall: 0.7053\n",
            "F1 Score: 0.7047\n",
            "                      precision    recall  f1-score   support\n",
            "\n",
            "          Networking       0.68      0.77      0.72       447\n",
            "            Learning       0.70      0.66      0.68       422\n",
            "           Searching       0.79      0.62      0.69       153\n",
            "     Sourcing: Early       0.71      0.70      0.71       122\n",
            "Sourcing: In Process       0.79      0.73      0.76        71\n",
            "\n",
            "            accuracy                           0.71      1215\n",
            "           macro avg       0.73      0.70      0.71      1215\n",
            "        weighted avg       0.71      0.71      0.70      1215\n",
            "\n"
          ]
        },
        {
          "output_type": "stream",
          "name": "stderr",
          "text": [
            "\r 28%|██▊       | 113/400 [00:45<01:54,  2.51it/s]"
          ]
        },
        {
          "output_type": "stream",
          "name": "stdout",
          "text": [
            "Epoch 113/400\n",
            "Loss: 0.6810\n",
            "Accuracy: 0.6807\n",
            "Precision: 0.6853\n",
            "Recall: 0.6807\n",
            "F1 Score: 0.6793\n",
            "                      precision    recall  f1-score   support\n",
            "\n",
            "          Networking       0.65      0.76      0.70       447\n",
            "            Learning       0.67      0.64      0.65       422\n",
            "           Searching       0.72      0.54      0.62       153\n",
            "     Sourcing: Early       0.70      0.70      0.70       122\n",
            "Sourcing: In Process       0.86      0.70      0.78        71\n",
            "\n",
            "            accuracy                           0.68      1215\n",
            "           macro avg       0.72      0.67      0.69      1215\n",
            "        weighted avg       0.69      0.68      0.68      1215\n",
            "\n"
          ]
        },
        {
          "output_type": "stream",
          "name": "stderr",
          "text": [
            "\r 28%|██▊       | 114/400 [00:46<01:51,  2.56it/s]"
          ]
        },
        {
          "output_type": "stream",
          "name": "stdout",
          "text": [
            "Epoch 114/400\n",
            "Loss: 0.6654\n",
            "Accuracy: 0.7037\n",
            "Precision: 0.7069\n",
            "Recall: 0.7037\n",
            "F1 Score: 0.7035\n",
            "                      precision    recall  f1-score   support\n",
            "\n",
            "          Networking       0.68      0.75      0.71       447\n",
            "            Learning       0.68      0.68      0.68       422\n",
            "           Searching       0.76      0.61      0.68       153\n",
            "     Sourcing: Early       0.71      0.70      0.71       122\n",
            "Sourcing: In Process       0.88      0.79      0.83        71\n",
            "\n",
            "            accuracy                           0.70      1215\n",
            "           macro avg       0.74      0.70      0.72      1215\n",
            "        weighted avg       0.71      0.70      0.70      1215\n",
            "\n"
          ]
        },
        {
          "output_type": "stream",
          "name": "stderr",
          "text": [
            "\r 29%|██▉       | 115/400 [00:46<01:52,  2.53it/s]"
          ]
        },
        {
          "output_type": "stream",
          "name": "stdout",
          "text": [
            "Epoch 115/400\n",
            "Loss: 0.6487\n",
            "Accuracy: 0.7152\n",
            "Precision: 0.7181\n",
            "Recall: 0.7152\n",
            "F1 Score: 0.7147\n",
            "                      precision    recall  f1-score   support\n",
            "\n",
            "          Networking       0.70      0.77      0.73       447\n",
            "            Learning       0.70      0.68      0.69       422\n",
            "           Searching       0.79      0.63      0.70       153\n",
            "     Sourcing: Early       0.73      0.72      0.73       122\n",
            "Sourcing: In Process       0.82      0.76      0.79        71\n",
            "\n",
            "            accuracy                           0.72      1215\n",
            "           macro avg       0.75      0.71      0.73      1215\n",
            "        weighted avg       0.72      0.72      0.71      1215\n",
            "\n"
          ]
        },
        {
          "output_type": "stream",
          "name": "stderr",
          "text": [
            "\r 29%|██▉       | 116/400 [00:47<01:53,  2.51it/s]"
          ]
        },
        {
          "output_type": "stream",
          "name": "stdout",
          "text": [
            "Epoch 116/400\n",
            "Loss: 0.6503\n",
            "Accuracy: 0.7119\n",
            "Precision: 0.7144\n",
            "Recall: 0.7119\n",
            "F1 Score: 0.7119\n",
            "                      precision    recall  f1-score   support\n",
            "\n",
            "          Networking       0.70      0.75      0.72       447\n",
            "            Learning       0.69      0.69      0.69       422\n",
            "           Searching       0.78      0.65      0.71       153\n",
            "     Sourcing: Early       0.71      0.74      0.73       122\n",
            "Sourcing: In Process       0.81      0.70      0.75        71\n",
            "\n",
            "            accuracy                           0.71      1215\n",
            "           macro avg       0.74      0.71      0.72      1215\n",
            "        weighted avg       0.71      0.71      0.71      1215\n",
            "\n"
          ]
        },
        {
          "output_type": "stream",
          "name": "stderr",
          "text": [
            "\r 29%|██▉       | 117/400 [00:47<01:52,  2.50it/s]"
          ]
        },
        {
          "output_type": "stream",
          "name": "stdout",
          "text": [
            "Epoch 117/400\n",
            "Loss: 0.6613\n",
            "Accuracy: 0.6955\n",
            "Precision: 0.6992\n",
            "Recall: 0.6955\n",
            "F1 Score: 0.6948\n",
            "                      precision    recall  f1-score   support\n",
            "\n",
            "          Networking       0.67      0.74      0.70       447\n",
            "            Learning       0.68      0.66      0.67       422\n",
            "           Searching       0.77      0.60      0.67       153\n",
            "     Sourcing: Early       0.74      0.80      0.77       122\n",
            "Sourcing: In Process       0.81      0.66      0.73        71\n",
            "\n",
            "            accuracy                           0.70      1215\n",
            "           macro avg       0.73      0.69      0.71      1215\n",
            "        weighted avg       0.70      0.70      0.69      1215\n",
            "\n"
          ]
        },
        {
          "output_type": "stream",
          "name": "stderr",
          "text": [
            "\r 30%|██▉       | 118/400 [00:47<01:52,  2.50it/s]"
          ]
        },
        {
          "output_type": "stream",
          "name": "stdout",
          "text": [
            "Epoch 118/400\n",
            "Loss: 0.6474\n",
            "Accuracy: 0.6996\n",
            "Precision: 0.7021\n",
            "Recall: 0.6996\n",
            "F1 Score: 0.6994\n",
            "                      precision    recall  f1-score   support\n",
            "\n",
            "          Networking       0.68      0.72      0.70       447\n",
            "            Learning       0.68      0.68      0.68       422\n",
            "           Searching       0.73      0.61      0.66       153\n",
            "     Sourcing: Early       0.73      0.78      0.75       122\n",
            "Sourcing: In Process       0.85      0.70      0.77        71\n",
            "\n",
            "            accuracy                           0.70      1215\n",
            "           macro avg       0.73      0.70      0.71      1215\n",
            "        weighted avg       0.70      0.70      0.70      1215\n",
            "\n"
          ]
        },
        {
          "output_type": "stream",
          "name": "stderr",
          "text": [
            "\r 30%|██▉       | 119/400 [00:48<01:54,  2.46it/s]"
          ]
        },
        {
          "output_type": "stream",
          "name": "stdout",
          "text": [
            "Epoch 119/400\n",
            "Loss: 0.6518\n",
            "Accuracy: 0.7045\n",
            "Precision: 0.7068\n",
            "Recall: 0.7045\n",
            "F1 Score: 0.7040\n",
            "                      precision    recall  f1-score   support\n",
            "\n",
            "          Networking       0.69      0.75      0.72       447\n",
            "            Learning       0.69      0.67      0.68       422\n",
            "           Searching       0.77      0.62      0.69       153\n",
            "     Sourcing: Early       0.73      0.77      0.75       122\n",
            "Sourcing: In Process       0.76      0.70      0.73        71\n",
            "\n",
            "            accuracy                           0.70      1215\n",
            "           macro avg       0.73      0.70      0.71      1215\n",
            "        weighted avg       0.71      0.70      0.70      1215\n",
            "\n"
          ]
        },
        {
          "output_type": "stream",
          "name": "stderr",
          "text": [
            "\r 30%|███       | 120/400 [00:48<01:54,  2.45it/s]"
          ]
        },
        {
          "output_type": "stream",
          "name": "stdout",
          "text": [
            "Epoch 120/400\n",
            "Loss: 0.5996\n",
            "Accuracy: 0.7490\n",
            "Precision: 0.7506\n",
            "Recall: 0.7490\n",
            "F1 Score: 0.7479\n",
            "                      precision    recall  f1-score   support\n",
            "\n",
            "          Networking       0.72      0.79      0.75       447\n",
            "            Learning       0.75      0.73      0.74       422\n",
            "           Searching       0.80      0.63      0.71       153\n",
            "     Sourcing: Early       0.79      0.86      0.82       122\n",
            "Sourcing: In Process       0.76      0.70      0.73        71\n",
            "\n",
            "            accuracy                           0.75      1215\n",
            "           macro avg       0.76      0.74      0.75      1215\n",
            "        weighted avg       0.75      0.75      0.75      1215\n",
            "\n"
          ]
        },
        {
          "output_type": "stream",
          "name": "stderr",
          "text": [
            "\r 30%|███       | 121/400 [00:49<01:55,  2.41it/s]"
          ]
        },
        {
          "output_type": "stream",
          "name": "stdout",
          "text": [
            "Epoch 121/400\n",
            "Loss: 0.6275\n",
            "Accuracy: 0.7325\n",
            "Precision: 0.7353\n",
            "Recall: 0.7325\n",
            "F1 Score: 0.7315\n",
            "                      precision    recall  f1-score   support\n",
            "\n",
            "          Networking       0.71      0.76      0.73       447\n",
            "            Learning       0.72      0.74      0.73       422\n",
            "           Searching       0.81      0.60      0.69       153\n",
            "     Sourcing: Early       0.79      0.84      0.81       122\n",
            "Sourcing: In Process       0.69      0.65      0.67        71\n",
            "\n",
            "            accuracy                           0.73      1215\n",
            "           macro avg       0.75      0.72      0.73      1215\n",
            "        weighted avg       0.74      0.73      0.73      1215\n",
            "\n"
          ]
        },
        {
          "output_type": "stream",
          "name": "stderr",
          "text": [
            "\r 30%|███       | 122/400 [00:49<01:57,  2.36it/s]"
          ]
        },
        {
          "output_type": "stream",
          "name": "stdout",
          "text": [
            "Epoch 122/400\n",
            "Loss: 0.7028\n",
            "Accuracy: 0.6922\n",
            "Precision: 0.6922\n",
            "Recall: 0.6922\n",
            "F1 Score: 0.6912\n",
            "                      precision    recall  f1-score   support\n",
            "\n",
            "          Networking       0.69      0.74      0.71       447\n",
            "            Learning       0.72      0.69      0.70       422\n",
            "           Searching       0.68      0.58      0.63       153\n",
            "     Sourcing: Early       0.71      0.75      0.73       122\n",
            "Sourcing: In Process       0.57      0.56      0.57        71\n",
            "\n",
            "            accuracy                           0.69      1215\n",
            "           macro avg       0.67      0.66      0.67      1215\n",
            "        weighted avg       0.69      0.69      0.69      1215\n",
            "\n"
          ]
        },
        {
          "output_type": "stream",
          "name": "stderr",
          "text": [
            "\r 31%|███       | 123/400 [00:50<01:55,  2.40it/s]"
          ]
        },
        {
          "output_type": "stream",
          "name": "stdout",
          "text": [
            "Epoch 123/400\n",
            "Loss: 0.6275\n",
            "Accuracy: 0.7374\n",
            "Precision: 0.7379\n",
            "Recall: 0.7374\n",
            "F1 Score: 0.7364\n",
            "                      precision    recall  f1-score   support\n",
            "\n",
            "          Networking       0.72      0.78      0.75       447\n",
            "            Learning       0.74      0.71      0.73       422\n",
            "           Searching       0.72      0.61      0.66       153\n",
            "     Sourcing: Early       0.78      0.82      0.80       122\n",
            "Sourcing: In Process       0.80      0.72      0.76        71\n",
            "\n",
            "            accuracy                           0.74      1215\n",
            "           macro avg       0.75      0.73      0.74      1215\n",
            "        weighted avg       0.74      0.74      0.74      1215\n",
            "\n"
          ]
        },
        {
          "output_type": "stream",
          "name": "stderr",
          "text": [
            "\r 31%|███       | 124/400 [00:50<01:56,  2.38it/s]"
          ]
        },
        {
          "output_type": "stream",
          "name": "stdout",
          "text": [
            "Epoch 124/400\n",
            "Loss: 0.5987\n",
            "Accuracy: 0.7531\n",
            "Precision: 0.7555\n",
            "Recall: 0.7531\n",
            "F1 Score: 0.7513\n",
            "                      precision    recall  f1-score   support\n",
            "\n",
            "          Networking       0.74      0.81      0.77       447\n",
            "            Learning       0.74      0.75      0.75       422\n",
            "           Searching       0.81      0.64      0.72       153\n",
            "     Sourcing: Early       0.77      0.84      0.80       122\n",
            "Sourcing: In Process       0.78      0.56      0.66        71\n",
            "\n",
            "            accuracy                           0.75      1215\n",
            "           macro avg       0.77      0.72      0.74      1215\n",
            "        weighted avg       0.76      0.75      0.75      1215\n",
            "\n"
          ]
        },
        {
          "output_type": "stream",
          "name": "stderr",
          "text": [
            "\r 31%|███▏      | 125/400 [00:50<01:54,  2.41it/s]"
          ]
        },
        {
          "output_type": "stream",
          "name": "stdout",
          "text": [
            "Epoch 125/400\n",
            "Loss: 0.6176\n",
            "Accuracy: 0.7391\n",
            "Precision: 0.7431\n",
            "Recall: 0.7391\n",
            "F1 Score: 0.7385\n",
            "                      precision    recall  f1-score   support\n",
            "\n",
            "          Networking       0.71      0.78      0.74       447\n",
            "            Learning       0.73      0.72      0.72       422\n",
            "           Searching       0.82      0.64      0.72       153\n",
            "     Sourcing: Early       0.79      0.83      0.81       122\n",
            "Sourcing: In Process       0.82      0.66      0.73        71\n",
            "\n",
            "            accuracy                           0.74      1215\n",
            "           macro avg       0.77      0.73      0.74      1215\n",
            "        weighted avg       0.74      0.74      0.74      1215\n",
            "\n"
          ]
        },
        {
          "output_type": "stream",
          "name": "stderr",
          "text": [
            "\r 32%|███▏      | 126/400 [00:51<01:53,  2.41it/s]"
          ]
        },
        {
          "output_type": "stream",
          "name": "stdout",
          "text": [
            "Epoch 126/400\n",
            "Loss: 0.6111\n",
            "Accuracy: 0.7556\n",
            "Precision: 0.7590\n",
            "Recall: 0.7556\n",
            "F1 Score: 0.7553\n",
            "                      precision    recall  f1-score   support\n",
            "\n",
            "          Networking       0.73      0.79      0.76       447\n",
            "            Learning       0.75      0.75      0.75       422\n",
            "           Searching       0.81      0.68      0.74       153\n",
            "     Sourcing: Early       0.75      0.79      0.77       122\n",
            "Sourcing: In Process       0.87      0.68      0.76        71\n",
            "\n",
            "            accuracy                           0.76      1215\n",
            "           macro avg       0.78      0.74      0.76      1215\n",
            "        weighted avg       0.76      0.76      0.76      1215\n",
            "\n"
          ]
        },
        {
          "output_type": "stream",
          "name": "stderr",
          "text": [
            "\r 32%|███▏      | 127/400 [00:51<01:52,  2.42it/s]"
          ]
        },
        {
          "output_type": "stream",
          "name": "stdout",
          "text": [
            "Epoch 127/400\n",
            "Loss: 0.5990\n",
            "Accuracy: 0.7613\n",
            "Precision: 0.7637\n",
            "Recall: 0.7613\n",
            "F1 Score: 0.7612\n",
            "                      precision    recall  f1-score   support\n",
            "\n",
            "          Networking       0.74      0.80      0.77       447\n",
            "            Learning       0.77      0.74      0.75       422\n",
            "           Searching       0.84      0.71      0.77       153\n",
            "     Sourcing: Early       0.75      0.78      0.77       122\n",
            "Sourcing: In Process       0.75      0.75      0.75        71\n",
            "\n",
            "            accuracy                           0.76      1215\n",
            "           macro avg       0.77      0.75      0.76      1215\n",
            "        weighted avg       0.76      0.76      0.76      1215\n",
            "\n"
          ]
        },
        {
          "output_type": "stream",
          "name": "stderr",
          "text": [
            "\r 32%|███▏      | 128/400 [00:52<01:51,  2.44it/s]"
          ]
        },
        {
          "output_type": "stream",
          "name": "stdout",
          "text": [
            "Epoch 128/400\n",
            "Loss: 0.5582\n",
            "Accuracy: 0.7663\n",
            "Precision: 0.7676\n",
            "Recall: 0.7663\n",
            "F1 Score: 0.7659\n",
            "                      precision    recall  f1-score   support\n",
            "\n",
            "          Networking       0.76      0.80      0.78       447\n",
            "            Learning       0.75      0.76      0.75       422\n",
            "           Searching       0.81      0.68      0.74       153\n",
            "     Sourcing: Early       0.77      0.81      0.79       122\n",
            "Sourcing: In Process       0.81      0.73      0.77        71\n",
            "\n",
            "            accuracy                           0.77      1215\n",
            "           macro avg       0.78      0.76      0.77      1215\n",
            "        weighted avg       0.77      0.77      0.77      1215\n",
            "\n"
          ]
        },
        {
          "output_type": "stream",
          "name": "stderr",
          "text": [
            "\r 32%|███▏      | 129/400 [00:52<01:49,  2.49it/s]"
          ]
        },
        {
          "output_type": "stream",
          "name": "stdout",
          "text": [
            "Epoch 129/400\n",
            "Loss: 0.5938\n",
            "Accuracy: 0.7465\n",
            "Precision: 0.7477\n",
            "Recall: 0.7465\n",
            "F1 Score: 0.7451\n",
            "                      precision    recall  f1-score   support\n",
            "\n",
            "          Networking       0.74      0.79      0.76       447\n",
            "            Learning       0.73      0.74      0.74       422\n",
            "           Searching       0.76      0.59      0.67       153\n",
            "     Sourcing: Early       0.77      0.84      0.80       122\n",
            "Sourcing: In Process       0.83      0.69      0.75        71\n",
            "\n",
            "            accuracy                           0.75      1215\n",
            "           macro avg       0.77      0.73      0.74      1215\n",
            "        weighted avg       0.75      0.75      0.75      1215\n",
            "\n"
          ]
        },
        {
          "output_type": "stream",
          "name": "stderr",
          "text": [
            "\r 32%|███▎      | 130/400 [00:52<01:47,  2.51it/s]"
          ]
        },
        {
          "output_type": "stream",
          "name": "stdout",
          "text": [
            "Epoch 130/400\n",
            "Loss: 0.5754\n",
            "Accuracy: 0.7613\n",
            "Precision: 0.7630\n",
            "Recall: 0.7613\n",
            "F1 Score: 0.7606\n",
            "                      precision    recall  f1-score   support\n",
            "\n",
            "          Networking       0.74      0.80      0.77       447\n",
            "            Learning       0.77      0.76      0.77       422\n",
            "           Searching       0.77      0.64      0.70       153\n",
            "     Sourcing: Early       0.75      0.80      0.78       122\n",
            "Sourcing: In Process       0.85      0.72      0.78        71\n",
            "\n",
            "            accuracy                           0.76      1215\n",
            "           macro avg       0.78      0.74      0.76      1215\n",
            "        weighted avg       0.76      0.76      0.76      1215\n",
            "\n"
          ]
        },
        {
          "output_type": "stream",
          "name": "stderr",
          "text": [
            "\r 33%|███▎      | 131/400 [00:53<01:48,  2.48it/s]"
          ]
        },
        {
          "output_type": "stream",
          "name": "stdout",
          "text": [
            "Epoch 131/400\n",
            "Loss: 0.5173\n",
            "Accuracy: 0.7860\n",
            "Precision: 0.7894\n",
            "Recall: 0.7860\n",
            "F1 Score: 0.7859\n",
            "                      precision    recall  f1-score   support\n",
            "\n",
            "          Networking       0.77      0.82      0.79       447\n",
            "            Learning       0.76      0.78      0.77       422\n",
            "           Searching       0.86      0.68      0.76       153\n",
            "     Sourcing: Early       0.81      0.82      0.81       122\n",
            "Sourcing: In Process       0.92      0.82      0.87        71\n",
            "\n",
            "            accuracy                           0.79      1215\n",
            "           macro avg       0.82      0.78      0.80      1215\n",
            "        weighted avg       0.79      0.79      0.79      1215\n",
            "\n",
            "Model improved to 0.7860 accuracy. Saving model.\n"
          ]
        },
        {
          "output_type": "stream",
          "name": "stderr",
          "text": [
            "\r 33%|███▎      | 132/400 [00:53<01:48,  2.48it/s]"
          ]
        },
        {
          "output_type": "stream",
          "name": "stdout",
          "text": [
            "Epoch 132/400\n",
            "Loss: 0.4952\n",
            "Accuracy: 0.8041\n",
            "Precision: 0.8067\n",
            "Recall: 0.8041\n",
            "F1 Score: 0.8034\n",
            "                      precision    recall  f1-score   support\n",
            "\n",
            "          Networking       0.78      0.83      0.80       447\n",
            "            Learning       0.79      0.78      0.78       422\n",
            "           Searching       0.88      0.69      0.77       153\n",
            "     Sourcing: Early       0.88      0.93      0.90       122\n",
            "Sourcing: In Process       0.84      0.82      0.83        71\n",
            "\n",
            "            accuracy                           0.80      1215\n",
            "           macro avg       0.83      0.81      0.82      1215\n",
            "        weighted avg       0.81      0.80      0.80      1215\n",
            "\n",
            "Model improved to 0.8041 accuracy. Saving model.\n"
          ]
        },
        {
          "output_type": "stream",
          "name": "stderr",
          "text": [
            "\r 33%|███▎      | 133/400 [00:54<01:49,  2.44it/s]"
          ]
        },
        {
          "output_type": "stream",
          "name": "stdout",
          "text": [
            "Epoch 133/400\n",
            "Loss: 0.4788\n",
            "Accuracy: 0.8099\n",
            "Precision: 0.8119\n",
            "Recall: 0.8099\n",
            "F1 Score: 0.8092\n",
            "                      precision    recall  f1-score   support\n",
            "\n",
            "          Networking       0.79      0.84      0.81       447\n",
            "            Learning       0.79      0.80      0.79       422\n",
            "           Searching       0.86      0.69      0.76       153\n",
            "     Sourcing: Early       0.84      0.89      0.87       122\n",
            "Sourcing: In Process       0.91      0.85      0.88        71\n",
            "\n",
            "            accuracy                           0.81      1215\n",
            "           macro avg       0.84      0.81      0.82      1215\n",
            "        weighted avg       0.81      0.81      0.81      1215\n",
            "\n",
            "Model improved to 0.8099 accuracy. Saving model.\n"
          ]
        },
        {
          "output_type": "stream",
          "name": "stderr",
          "text": [
            "\r 34%|███▎      | 134/400 [00:54<01:51,  2.38it/s]"
          ]
        },
        {
          "output_type": "stream",
          "name": "stdout",
          "text": [
            "Epoch 134/400\n",
            "Loss: 0.4622\n",
            "Accuracy: 0.8181\n",
            "Precision: 0.8203\n",
            "Recall: 0.8181\n",
            "F1 Score: 0.8175\n",
            "                      precision    recall  f1-score   support\n",
            "\n",
            "          Networking       0.80      0.85      0.82       447\n",
            "            Learning       0.80      0.80      0.80       422\n",
            "           Searching       0.89      0.71      0.79       153\n",
            "     Sourcing: Early       0.87      0.91      0.89       122\n",
            "Sourcing: In Process       0.86      0.83      0.84        71\n",
            "\n",
            "            accuracy                           0.82      1215\n",
            "           macro avg       0.84      0.82      0.83      1215\n",
            "        weighted avg       0.82      0.82      0.82      1215\n",
            "\n",
            "Model improved to 0.8181 accuracy. Saving model.\n"
          ]
        },
        {
          "output_type": "stream",
          "name": "stderr",
          "text": [
            "\r 34%|███▍      | 135/400 [00:54<01:50,  2.39it/s]"
          ]
        },
        {
          "output_type": "stream",
          "name": "stdout",
          "text": [
            "Epoch 135/400\n",
            "Loss: 0.4332\n",
            "Accuracy: 0.8255\n",
            "Precision: 0.8270\n",
            "Recall: 0.8255\n",
            "F1 Score: 0.8254\n",
            "                      precision    recall  f1-score   support\n",
            "\n",
            "          Networking       0.80      0.84      0.82       447\n",
            "            Learning       0.80      0.80      0.80       422\n",
            "           Searching       0.89      0.76      0.82       153\n",
            "     Sourcing: Early       0.87      0.92      0.89       122\n",
            "Sourcing: In Process       0.93      0.87      0.90        71\n",
            "\n",
            "            accuracy                           0.83      1215\n",
            "           macro avg       0.86      0.84      0.85      1215\n",
            "        weighted avg       0.83      0.83      0.83      1215\n",
            "\n",
            "Model improved to 0.8255 accuracy. Saving model.\n"
          ]
        },
        {
          "output_type": "stream",
          "name": "stderr",
          "text": [
            "\r 34%|███▍      | 136/400 [00:55<01:52,  2.34it/s]"
          ]
        },
        {
          "output_type": "stream",
          "name": "stdout",
          "text": [
            "Epoch 136/400\n",
            "Loss: 0.4484\n",
            "Accuracy: 0.8140\n",
            "Precision: 0.8164\n",
            "Recall: 0.8140\n",
            "F1 Score: 0.8137\n",
            "                      precision    recall  f1-score   support\n",
            "\n",
            "          Networking       0.78      0.83      0.80       447\n",
            "            Learning       0.80      0.78      0.79       422\n",
            "           Searching       0.87      0.73      0.79       153\n",
            "     Sourcing: Early       0.88      0.94      0.91       122\n",
            "Sourcing: In Process       0.95      0.85      0.90        71\n",
            "\n",
            "            accuracy                           0.81      1215\n",
            "           macro avg       0.86      0.83      0.84      1215\n",
            "        weighted avg       0.82      0.81      0.81      1215\n",
            "\n"
          ]
        },
        {
          "output_type": "stream",
          "name": "stderr",
          "text": [
            "\r 34%|███▍      | 137/400 [00:55<01:52,  2.34it/s]"
          ]
        },
        {
          "output_type": "stream",
          "name": "stdout",
          "text": [
            "Epoch 137/400\n",
            "Loss: 0.4177\n",
            "Accuracy: 0.8329\n",
            "Precision: 0.8354\n",
            "Recall: 0.8329\n",
            "F1 Score: 0.8329\n",
            "                      precision    recall  f1-score   support\n",
            "\n",
            "          Networking       0.81      0.85      0.83       447\n",
            "            Learning       0.81      0.83      0.82       422\n",
            "           Searching       0.91      0.75      0.82       153\n",
            "     Sourcing: Early       0.90      0.92      0.91       122\n",
            "Sourcing: In Process       0.88      0.79      0.83        71\n",
            "\n",
            "            accuracy                           0.83      1215\n",
            "           macro avg       0.86      0.83      0.84      1215\n",
            "        weighted avg       0.84      0.83      0.83      1215\n",
            "\n",
            "Model improved to 0.8329 accuracy. Saving model.\n"
          ]
        },
        {
          "output_type": "stream",
          "name": "stderr",
          "text": [
            "\r 34%|███▍      | 138/400 [00:56<01:52,  2.33it/s]"
          ]
        },
        {
          "output_type": "stream",
          "name": "stdout",
          "text": [
            "Epoch 138/400\n",
            "Loss: 0.4138\n",
            "Accuracy: 0.8379\n",
            "Precision: 0.8395\n",
            "Recall: 0.8379\n",
            "F1 Score: 0.8381\n",
            "                      precision    recall  f1-score   support\n",
            "\n",
            "          Networking       0.80      0.86      0.83       447\n",
            "            Learning       0.82      0.81      0.81       422\n",
            "           Searching       0.89      0.81      0.85       153\n",
            "     Sourcing: Early       0.94      0.92      0.93       122\n",
            "Sourcing: In Process       0.87      0.83      0.85        71\n",
            "\n",
            "            accuracy                           0.84      1215\n",
            "           macro avg       0.87      0.84      0.85      1215\n",
            "        weighted avg       0.84      0.84      0.84      1215\n",
            "\n",
            "Model improved to 0.8379 accuracy. Saving model.\n"
          ]
        },
        {
          "output_type": "stream",
          "name": "stderr",
          "text": [
            "\r 35%|███▍      | 139/400 [00:56<01:51,  2.35it/s]"
          ]
        },
        {
          "output_type": "stream",
          "name": "stdout",
          "text": [
            "Epoch 139/400\n",
            "Loss: 0.4198\n",
            "Accuracy: 0.8370\n",
            "Precision: 0.8388\n",
            "Recall: 0.8370\n",
            "F1 Score: 0.8373\n",
            "                      precision    recall  f1-score   support\n",
            "\n",
            "          Networking       0.81      0.85      0.83       447\n",
            "            Learning       0.81      0.81      0.81       422\n",
            "           Searching       0.90      0.80      0.85       153\n",
            "     Sourcing: Early       0.92      0.90      0.91       122\n",
            "Sourcing: In Process       0.89      0.83      0.86        71\n",
            "\n",
            "            accuracy                           0.84      1215\n",
            "           macro avg       0.87      0.84      0.85      1215\n",
            "        weighted avg       0.84      0.84      0.84      1215\n",
            "\n"
          ]
        },
        {
          "output_type": "stream",
          "name": "stderr",
          "text": [
            "\r 35%|███▌      | 140/400 [00:57<01:51,  2.34it/s]"
          ]
        },
        {
          "output_type": "stream",
          "name": "stdout",
          "text": [
            "Epoch 140/400\n",
            "Loss: 0.3967\n",
            "Accuracy: 0.8461\n",
            "Precision: 0.8469\n",
            "Recall: 0.8461\n",
            "F1 Score: 0.8459\n",
            "                      precision    recall  f1-score   support\n",
            "\n",
            "          Networking       0.83      0.87      0.85       447\n",
            "            Learning       0.83      0.81      0.82       422\n",
            "           Searching       0.91      0.82      0.86       153\n",
            "     Sourcing: Early       0.92      0.94      0.93       122\n",
            "Sourcing: In Process       0.81      0.83      0.82        71\n",
            "\n",
            "            accuracy                           0.85      1215\n",
            "           macro avg       0.86      0.85      0.86      1215\n",
            "        weighted avg       0.85      0.85      0.85      1215\n",
            "\n",
            "Model improved to 0.8461 accuracy. Saving model.\n"
          ]
        },
        {
          "output_type": "stream",
          "name": "stderr",
          "text": [
            "\r 35%|███▌      | 141/400 [00:57<01:50,  2.35it/s]"
          ]
        },
        {
          "output_type": "stream",
          "name": "stdout",
          "text": [
            "Epoch 141/400\n",
            "Loss: 0.4238\n",
            "Accuracy: 0.8263\n",
            "Precision: 0.8265\n",
            "Recall: 0.8263\n",
            "F1 Score: 0.8261\n",
            "                      precision    recall  f1-score   support\n",
            "\n",
            "          Networking       0.82      0.85      0.84       447\n",
            "            Learning       0.81      0.80      0.80       422\n",
            "           Searching       0.85      0.79      0.82       153\n",
            "     Sourcing: Early       0.84      0.89      0.86       122\n",
            "Sourcing: In Process       0.87      0.83      0.85        71\n",
            "\n",
            "            accuracy                           0.83      1215\n",
            "           macro avg       0.84      0.83      0.83      1215\n",
            "        weighted avg       0.83      0.83      0.83      1215\n",
            "\n"
          ]
        },
        {
          "output_type": "stream",
          "name": "stderr",
          "text": [
            "\r 36%|███▌      | 142/400 [00:57<01:50,  2.33it/s]"
          ]
        },
        {
          "output_type": "stream",
          "name": "stdout",
          "text": [
            "Epoch 142/400\n",
            "Loss: 0.4404\n",
            "Accuracy: 0.8165\n",
            "Precision: 0.8175\n",
            "Recall: 0.8165\n",
            "F1 Score: 0.8162\n",
            "                      precision    recall  f1-score   support\n",
            "\n",
            "          Networking       0.80      0.84      0.82       447\n",
            "            Learning       0.81      0.81      0.81       422\n",
            "           Searching       0.86      0.75      0.80       153\n",
            "     Sourcing: Early       0.82      0.87      0.84       122\n",
            "Sourcing: In Process       0.85      0.77      0.81        71\n",
            "\n",
            "            accuracy                           0.82      1215\n",
            "           macro avg       0.83      0.81      0.82      1215\n",
            "        weighted avg       0.82      0.82      0.82      1215\n",
            "\n"
          ]
        },
        {
          "output_type": "stream",
          "name": "stderr",
          "text": [
            "\r 36%|███▌      | 143/400 [00:58<01:50,  2.33it/s]"
          ]
        },
        {
          "output_type": "stream",
          "name": "stdout",
          "text": [
            "Epoch 143/400\n",
            "Loss: 0.4347\n",
            "Accuracy: 0.8214\n",
            "Precision: 0.8214\n",
            "Recall: 0.8214\n",
            "F1 Score: 0.8212\n",
            "                      precision    recall  f1-score   support\n",
            "\n",
            "          Networking       0.81      0.83      0.82       447\n",
            "            Learning       0.82      0.81      0.82       422\n",
            "           Searching       0.84      0.78      0.81       153\n",
            "     Sourcing: Early       0.87      0.91      0.89       122\n",
            "Sourcing: In Process       0.77      0.77      0.77        71\n",
            "\n",
            "            accuracy                           0.82      1215\n",
            "           macro avg       0.82      0.82      0.82      1215\n",
            "        weighted avg       0.82      0.82      0.82      1215\n",
            "\n"
          ]
        },
        {
          "output_type": "stream",
          "name": "stderr",
          "text": [
            "\r 36%|███▌      | 144/400 [00:58<01:48,  2.36it/s]"
          ]
        },
        {
          "output_type": "stream",
          "name": "stdout",
          "text": [
            "Epoch 144/400\n",
            "Loss: 0.4067\n",
            "Accuracy: 0.8370\n",
            "Precision: 0.8382\n",
            "Recall: 0.8370\n",
            "F1 Score: 0.8367\n",
            "                      precision    recall  f1-score   support\n",
            "\n",
            "          Networking       0.82      0.86      0.84       447\n",
            "            Learning       0.83      0.83      0.83       422\n",
            "           Searching       0.89      0.81      0.85       153\n",
            "     Sourcing: Early       0.87      0.89      0.88       122\n",
            "Sourcing: In Process       0.86      0.70      0.78        71\n",
            "\n",
            "            accuracy                           0.84      1215\n",
            "           macro avg       0.85      0.82      0.83      1215\n",
            "        weighted avg       0.84      0.84      0.84      1215\n",
            "\n"
          ]
        },
        {
          "output_type": "stream",
          "name": "stderr",
          "text": [
            "\r 36%|███▋      | 145/400 [00:59<01:48,  2.36it/s]"
          ]
        },
        {
          "output_type": "stream",
          "name": "stdout",
          "text": [
            "Epoch 145/400\n",
            "Loss: 0.3876\n",
            "Accuracy: 0.8461\n",
            "Precision: 0.8477\n",
            "Recall: 0.8461\n",
            "F1 Score: 0.8458\n",
            "                      precision    recall  f1-score   support\n",
            "\n",
            "          Networking       0.82      0.89      0.85       447\n",
            "            Learning       0.85      0.83      0.84       422\n",
            "           Searching       0.90      0.79      0.84       153\n",
            "     Sourcing: Early       0.87      0.88      0.87       122\n",
            "Sourcing: In Process       0.87      0.76      0.81        71\n",
            "\n",
            "            accuracy                           0.85      1215\n",
            "           macro avg       0.86      0.83      0.84      1215\n",
            "        weighted avg       0.85      0.85      0.85      1215\n",
            "\n"
          ]
        },
        {
          "output_type": "stream",
          "name": "stderr",
          "text": [
            "\r 36%|███▋      | 146/400 [00:59<01:45,  2.41it/s]"
          ]
        },
        {
          "output_type": "stream",
          "name": "stdout",
          "text": [
            "Epoch 146/400\n",
            "Loss: 0.3785\n",
            "Accuracy: 0.8420\n",
            "Precision: 0.8428\n",
            "Recall: 0.8420\n",
            "F1 Score: 0.8416\n",
            "                      precision    recall  f1-score   support\n",
            "\n",
            "          Networking       0.83      0.86      0.85       447\n",
            "            Learning       0.83      0.84      0.84       422\n",
            "           Searching       0.89      0.76      0.82       153\n",
            "     Sourcing: Early       0.88      0.93      0.90       122\n",
            "Sourcing: In Process       0.79      0.76      0.78        71\n",
            "\n",
            "            accuracy                           0.84      1215\n",
            "           macro avg       0.85      0.83      0.84      1215\n",
            "        weighted avg       0.84      0.84      0.84      1215\n",
            "\n"
          ]
        },
        {
          "output_type": "stream",
          "name": "stderr",
          "text": [
            "\r 37%|███▋      | 147/400 [01:00<01:43,  2.45it/s]"
          ]
        },
        {
          "output_type": "stream",
          "name": "stdout",
          "text": [
            "Epoch 147/400\n",
            "Loss: 0.4249\n",
            "Accuracy: 0.8272\n",
            "Precision: 0.8283\n",
            "Recall: 0.8272\n",
            "F1 Score: 0.8266\n",
            "                      precision    recall  f1-score   support\n",
            "\n",
            "          Networking       0.81      0.87      0.84       447\n",
            "            Learning       0.81      0.81      0.81       422\n",
            "           Searching       0.85      0.74      0.79       153\n",
            "     Sourcing: Early       0.91      0.92      0.91       122\n",
            "Sourcing: In Process       0.87      0.75      0.80        71\n",
            "\n",
            "            accuracy                           0.83      1215\n",
            "           macro avg       0.85      0.81      0.83      1215\n",
            "        weighted avg       0.83      0.83      0.83      1215\n",
            "\n"
          ]
        },
        {
          "output_type": "stream",
          "name": "stderr",
          "text": [
            "\r 37%|███▋      | 148/400 [01:00<01:42,  2.47it/s]"
          ]
        },
        {
          "output_type": "stream",
          "name": "stdout",
          "text": [
            "Epoch 148/400\n",
            "Loss: 0.3772\n",
            "Accuracy: 0.8502\n",
            "Precision: 0.8505\n",
            "Recall: 0.8502\n",
            "F1 Score: 0.8499\n",
            "                      precision    recall  f1-score   support\n",
            "\n",
            "          Networking       0.85      0.88      0.87       447\n",
            "            Learning       0.84      0.83      0.84       422\n",
            "           Searching       0.87      0.78      0.82       153\n",
            "     Sourcing: Early       0.86      0.89      0.87       122\n",
            "Sourcing: In Process       0.88      0.85      0.86        71\n",
            "\n",
            "            accuracy                           0.85      1215\n",
            "           macro avg       0.86      0.84      0.85      1215\n",
            "        weighted avg       0.85      0.85      0.85      1215\n",
            "\n",
            "Model improved to 0.8502 accuracy. Saving model.\n"
          ]
        },
        {
          "output_type": "stream",
          "name": "stderr",
          "text": [
            "\r 37%|███▋      | 149/400 [01:00<01:42,  2.45it/s]"
          ]
        },
        {
          "output_type": "stream",
          "name": "stdout",
          "text": [
            "Epoch 149/400\n",
            "Loss: 0.3725\n",
            "Accuracy: 0.8486\n",
            "Precision: 0.8488\n",
            "Recall: 0.8486\n",
            "F1 Score: 0.8483\n",
            "                      precision    recall  f1-score   support\n",
            "\n",
            "          Networking       0.84      0.87      0.86       447\n",
            "            Learning       0.84      0.82      0.83       422\n",
            "           Searching       0.84      0.79      0.81       153\n",
            "     Sourcing: Early       0.90      0.91      0.90       122\n",
            "Sourcing: In Process       0.91      0.85      0.88        71\n",
            "\n",
            "            accuracy                           0.85      1215\n",
            "           macro avg       0.86      0.85      0.86      1215\n",
            "        weighted avg       0.85      0.85      0.85      1215\n",
            "\n"
          ]
        },
        {
          "output_type": "stream",
          "name": "stderr",
          "text": [
            "\r 38%|███▊      | 150/400 [01:01<01:41,  2.46it/s]"
          ]
        },
        {
          "output_type": "stream",
          "name": "stdout",
          "text": [
            "Epoch 150/400\n",
            "Loss: 0.3704\n",
            "Accuracy: 0.8461\n",
            "Precision: 0.8470\n",
            "Recall: 0.8461\n",
            "F1 Score: 0.8458\n",
            "                      precision    recall  f1-score   support\n",
            "\n",
            "          Networking       0.83      0.88      0.85       447\n",
            "            Learning       0.84      0.84      0.84       422\n",
            "           Searching       0.88      0.78      0.82       153\n",
            "     Sourcing: Early       0.85      0.87      0.86       122\n",
            "Sourcing: In Process       0.89      0.80      0.84        71\n",
            "\n",
            "            accuracy                           0.85      1215\n",
            "           macro avg       0.86      0.83      0.84      1215\n",
            "        weighted avg       0.85      0.85      0.85      1215\n",
            "\n"
          ]
        },
        {
          "output_type": "stream",
          "name": "stderr",
          "text": [
            "\r 38%|███▊      | 151/400 [01:01<01:41,  2.45it/s]"
          ]
        },
        {
          "output_type": "stream",
          "name": "stdout",
          "text": [
            "Epoch 151/400\n",
            "Loss: 0.3620\n",
            "Accuracy: 0.8444\n",
            "Precision: 0.8452\n",
            "Recall: 0.8444\n",
            "F1 Score: 0.8442\n",
            "                      precision    recall  f1-score   support\n",
            "\n",
            "          Networking       0.83      0.88      0.85       447\n",
            "            Learning       0.85      0.82      0.84       422\n",
            "           Searching       0.87      0.80      0.83       153\n",
            "     Sourcing: Early       0.84      0.86      0.85       122\n",
            "Sourcing: In Process       0.88      0.80      0.84        71\n",
            "\n",
            "            accuracy                           0.84      1215\n",
            "           macro avg       0.85      0.83      0.84      1215\n",
            "        weighted avg       0.85      0.84      0.84      1215\n",
            "\n"
          ]
        },
        {
          "output_type": "stream",
          "name": "stderr",
          "text": [
            "\r 38%|███▊      | 152/400 [01:02<01:38,  2.51it/s]"
          ]
        },
        {
          "output_type": "stream",
          "name": "stdout",
          "text": [
            "Epoch 152/400\n",
            "Loss: 0.3782\n",
            "Accuracy: 0.8469\n",
            "Precision: 0.8479\n",
            "Recall: 0.8469\n",
            "F1 Score: 0.8469\n",
            "                      precision    recall  f1-score   support\n",
            "\n",
            "          Networking       0.83      0.87      0.85       447\n",
            "            Learning       0.86      0.82      0.84       422\n",
            "           Searching       0.89      0.82      0.86       153\n",
            "     Sourcing: Early       0.84      0.89      0.86       122\n",
            "Sourcing: In Process       0.83      0.82      0.82        71\n",
            "\n",
            "            accuracy                           0.85      1215\n",
            "           macro avg       0.85      0.84      0.85      1215\n",
            "        weighted avg       0.85      0.85      0.85      1215\n",
            "\n"
          ]
        },
        {
          "output_type": "stream",
          "name": "stderr",
          "text": [
            "\r 38%|███▊      | 153/400 [01:02<01:40,  2.47it/s]"
          ]
        },
        {
          "output_type": "stream",
          "name": "stdout",
          "text": [
            "Epoch 153/400\n",
            "Loss: 0.5228\n",
            "Accuracy: 0.7794\n",
            "Precision: 0.7789\n",
            "Recall: 0.7794\n",
            "F1 Score: 0.7786\n",
            "                      precision    recall  f1-score   support\n",
            "\n",
            "          Networking       0.79      0.81      0.80       447\n",
            "            Learning       0.78      0.79      0.78       422\n",
            "           Searching       0.73      0.65      0.69       153\n",
            "     Sourcing: Early       0.77      0.80      0.79       122\n",
            "Sourcing: In Process       0.83      0.76      0.79        71\n",
            "\n",
            "            accuracy                           0.78      1215\n",
            "           macro avg       0.78      0.76      0.77      1215\n",
            "        weighted avg       0.78      0.78      0.78      1215\n",
            "\n"
          ]
        },
        {
          "output_type": "stream",
          "name": "stderr",
          "text": [
            "\r 38%|███▊      | 154/400 [01:02<01:37,  2.52it/s]"
          ]
        },
        {
          "output_type": "stream",
          "name": "stdout",
          "text": [
            "Epoch 154/400\n",
            "Loss: 0.5767\n",
            "Accuracy: 0.7514\n",
            "Precision: 0.7522\n",
            "Recall: 0.7514\n",
            "F1 Score: 0.7504\n",
            "                      precision    recall  f1-score   support\n",
            "\n",
            "          Networking       0.78      0.77      0.77       447\n",
            "            Learning       0.73      0.80      0.76       422\n",
            "           Searching       0.65      0.58      0.62       153\n",
            "     Sourcing: Early       0.80      0.77      0.78       122\n",
            "Sourcing: In Process       0.86      0.68      0.76        71\n",
            "\n",
            "            accuracy                           0.75      1215\n",
            "           macro avg       0.76      0.72      0.74      1215\n",
            "        weighted avg       0.75      0.75      0.75      1215\n",
            "\n"
          ]
        },
        {
          "output_type": "stream",
          "name": "stderr",
          "text": [
            "\r 39%|███▉      | 155/400 [01:03<01:37,  2.51it/s]"
          ]
        },
        {
          "output_type": "stream",
          "name": "stdout",
          "text": [
            "Epoch 155/400\n",
            "Loss: 0.4712\n",
            "Accuracy: 0.8255\n",
            "Precision: 0.8271\n",
            "Recall: 0.8255\n",
            "F1 Score: 0.8242\n",
            "                      precision    recall  f1-score   support\n",
            "\n",
            "          Networking       0.81      0.89      0.85       447\n",
            "            Learning       0.83      0.80      0.81       422\n",
            "           Searching       0.85      0.69      0.76       153\n",
            "     Sourcing: Early       0.84      0.88      0.86       122\n",
            "Sourcing: In Process       0.88      0.79      0.83        71\n",
            "\n",
            "            accuracy                           0.83      1215\n",
            "           macro avg       0.84      0.81      0.82      1215\n",
            "        weighted avg       0.83      0.83      0.82      1215\n",
            "\n"
          ]
        },
        {
          "output_type": "stream",
          "name": "stderr",
          "text": [
            "\r 39%|███▉      | 156/400 [01:03<01:39,  2.46it/s]"
          ]
        },
        {
          "output_type": "stream",
          "name": "stdout",
          "text": [
            "Epoch 156/400\n",
            "Loss: 0.4551\n",
            "Accuracy: 0.8082\n",
            "Precision: 0.8084\n",
            "Recall: 0.8082\n",
            "F1 Score: 0.8071\n",
            "                      precision    recall  f1-score   support\n",
            "\n",
            "          Networking       0.80      0.86      0.83       447\n",
            "            Learning       0.80      0.79      0.80       422\n",
            "           Searching       0.80      0.68      0.73       153\n",
            "     Sourcing: Early       0.83      0.86      0.84       122\n",
            "Sourcing: In Process       0.85      0.75      0.80        71\n",
            "\n",
            "            accuracy                           0.81      1215\n",
            "           macro avg       0.82      0.79      0.80      1215\n",
            "        weighted avg       0.81      0.81      0.81      1215\n",
            "\n"
          ]
        },
        {
          "output_type": "stream",
          "name": "stderr",
          "text": [
            "\r 39%|███▉      | 157/400 [01:04<01:37,  2.50it/s]"
          ]
        },
        {
          "output_type": "stream",
          "name": "stdout",
          "text": [
            "Epoch 157/400\n",
            "Loss: 0.4340\n",
            "Accuracy: 0.8222\n",
            "Precision: 0.8222\n",
            "Recall: 0.8222\n",
            "F1 Score: 0.8213\n",
            "                      precision    recall  f1-score   support\n",
            "\n",
            "          Networking       0.81      0.86      0.83       447\n",
            "            Learning       0.84      0.83      0.83       422\n",
            "           Searching       0.80      0.69      0.74       153\n",
            "     Sourcing: Early       0.85      0.86      0.85       122\n",
            "Sourcing: In Process       0.84      0.76      0.80        71\n",
            "\n",
            "            accuracy                           0.82      1215\n",
            "           macro avg       0.83      0.80      0.81      1215\n",
            "        weighted avg       0.82      0.82      0.82      1215\n",
            "\n"
          ]
        },
        {
          "output_type": "stream",
          "name": "stderr",
          "text": [
            "\r 40%|███▉      | 158/400 [01:04<01:36,  2.51it/s]"
          ]
        },
        {
          "output_type": "stream",
          "name": "stdout",
          "text": [
            "Epoch 158/400\n",
            "Loss: 0.4205\n",
            "Accuracy: 0.8222\n",
            "Precision: 0.8219\n",
            "Recall: 0.8222\n",
            "F1 Score: 0.8210\n",
            "                      precision    recall  f1-score   support\n",
            "\n",
            "          Networking       0.81      0.86      0.83       447\n",
            "            Learning       0.83      0.84      0.84       422\n",
            "           Searching       0.80      0.66      0.72       153\n",
            "     Sourcing: Early       0.84      0.84      0.84       122\n",
            "Sourcing: In Process       0.85      0.79      0.82        71\n",
            "\n",
            "            accuracy                           0.82      1215\n",
            "           macro avg       0.83      0.80      0.81      1215\n",
            "        weighted avg       0.82      0.82      0.82      1215\n",
            "\n"
          ]
        },
        {
          "output_type": "stream",
          "name": "stderr",
          "text": [
            "\r 40%|███▉      | 159/400 [01:04<01:35,  2.52it/s]"
          ]
        },
        {
          "output_type": "stream",
          "name": "stdout",
          "text": [
            "Epoch 159/400\n",
            "Loss: 0.4297\n",
            "Accuracy: 0.8189\n",
            "Precision: 0.8201\n",
            "Recall: 0.8189\n",
            "F1 Score: 0.8177\n",
            "                      precision    recall  f1-score   support\n",
            "\n",
            "          Networking       0.80      0.87      0.83       447\n",
            "            Learning       0.83      0.83      0.83       422\n",
            "           Searching       0.85      0.67      0.75       153\n",
            "     Sourcing: Early       0.83      0.83      0.83       122\n",
            "Sourcing: In Process       0.78      0.76      0.77        71\n",
            "\n",
            "            accuracy                           0.82      1215\n",
            "           macro avg       0.82      0.79      0.80      1215\n",
            "        weighted avg       0.82      0.82      0.82      1215\n",
            "\n"
          ]
        },
        {
          "output_type": "stream",
          "name": "stderr",
          "text": [
            "\r 40%|████      | 160/400 [01:05<01:35,  2.52it/s]"
          ]
        },
        {
          "output_type": "stream",
          "name": "stdout",
          "text": [
            "Epoch 160/400\n",
            "Loss: 0.4089\n",
            "Accuracy: 0.8313\n",
            "Precision: 0.8308\n",
            "Recall: 0.8313\n",
            "F1 Score: 0.8306\n",
            "                      precision    recall  f1-score   support\n",
            "\n",
            "          Networking       0.84      0.87      0.85       447\n",
            "            Learning       0.82      0.83      0.83       422\n",
            "           Searching       0.82      0.75      0.78       153\n",
            "     Sourcing: Early       0.86      0.89      0.87       122\n",
            "Sourcing: In Process       0.81      0.72      0.76        71\n",
            "\n",
            "            accuracy                           0.83      1215\n",
            "           macro avg       0.83      0.81      0.82      1215\n",
            "        weighted avg       0.83      0.83      0.83      1215\n",
            "\n"
          ]
        },
        {
          "output_type": "stream",
          "name": "stderr",
          "text": [
            "\r 40%|████      | 161/400 [01:05<01:35,  2.50it/s]"
          ]
        },
        {
          "output_type": "stream",
          "name": "stdout",
          "text": [
            "Epoch 161/400\n",
            "Loss: 0.4021\n",
            "Accuracy: 0.8403\n",
            "Precision: 0.8405\n",
            "Recall: 0.8403\n",
            "F1 Score: 0.8401\n",
            "                      precision    recall  f1-score   support\n",
            "\n",
            "          Networking       0.86      0.85      0.85       447\n",
            "            Learning       0.83      0.85      0.84       422\n",
            "           Searching       0.84      0.77      0.80       153\n",
            "     Sourcing: Early       0.83      0.88      0.85       122\n",
            "Sourcing: In Process       0.84      0.82      0.83        71\n",
            "\n",
            "            accuracy                           0.84      1215\n",
            "           macro avg       0.84      0.83      0.84      1215\n",
            "        weighted avg       0.84      0.84      0.84      1215\n",
            "\n"
          ]
        },
        {
          "output_type": "stream",
          "name": "stderr",
          "text": [
            "\r 40%|████      | 162/400 [01:06<01:36,  2.47it/s]"
          ]
        },
        {
          "output_type": "stream",
          "name": "stdout",
          "text": [
            "Epoch 162/400\n",
            "Loss: 0.3934\n",
            "Accuracy: 0.8288\n",
            "Precision: 0.8293\n",
            "Recall: 0.8288\n",
            "F1 Score: 0.8285\n",
            "                      precision    recall  f1-score   support\n",
            "\n",
            "          Networking       0.84      0.85      0.85       447\n",
            "            Learning       0.81      0.82      0.82       422\n",
            "           Searching       0.86      0.75      0.80       153\n",
            "     Sourcing: Early       0.82      0.87      0.84       122\n",
            "Sourcing: In Process       0.84      0.79      0.81        71\n",
            "\n",
            "            accuracy                           0.83      1215\n",
            "           macro avg       0.83      0.82      0.82      1215\n",
            "        weighted avg       0.83      0.83      0.83      1215\n",
            "\n"
          ]
        },
        {
          "output_type": "stream",
          "name": "stderr",
          "text": [
            "\r 41%|████      | 163/400 [01:06<01:37,  2.44it/s]"
          ]
        },
        {
          "output_type": "stream",
          "name": "stdout",
          "text": [
            "Epoch 163/400\n",
            "Loss: 0.3646\n",
            "Accuracy: 0.8535\n",
            "Precision: 0.8544\n",
            "Recall: 0.8535\n",
            "F1 Score: 0.8534\n",
            "                      precision    recall  f1-score   support\n",
            "\n",
            "          Networking       0.83      0.87      0.85       447\n",
            "            Learning       0.84      0.84      0.84       422\n",
            "           Searching       0.89      0.79      0.84       153\n",
            "     Sourcing: Early       0.91      0.91      0.91       122\n",
            "Sourcing: In Process       0.88      0.85      0.86        71\n",
            "\n",
            "            accuracy                           0.85      1215\n",
            "           macro avg       0.87      0.85      0.86      1215\n",
            "        weighted avg       0.85      0.85      0.85      1215\n",
            "\n",
            "Model improved to 0.8535 accuracy. Saving model.\n"
          ]
        },
        {
          "output_type": "stream",
          "name": "stderr",
          "text": [
            "\r 41%|████      | 164/400 [01:06<01:37,  2.41it/s]"
          ]
        },
        {
          "output_type": "stream",
          "name": "stdout",
          "text": [
            "Epoch 164/400\n",
            "Loss: 0.3478\n",
            "Accuracy: 0.8617\n",
            "Precision: 0.8620\n",
            "Recall: 0.8617\n",
            "F1 Score: 0.8614\n",
            "                      precision    recall  f1-score   support\n",
            "\n",
            "          Networking       0.85      0.88      0.87       447\n",
            "            Learning       0.87      0.84      0.85       422\n",
            "           Searching       0.86      0.82      0.84       153\n",
            "     Sourcing: Early       0.86      0.94      0.90       122\n",
            "Sourcing: In Process       0.89      0.83      0.86        71\n",
            "\n",
            "            accuracy                           0.86      1215\n",
            "           macro avg       0.87      0.86      0.86      1215\n",
            "        weighted avg       0.86      0.86      0.86      1215\n",
            "\n",
            "Model improved to 0.8617 accuracy. Saving model.\n"
          ]
        },
        {
          "output_type": "stream",
          "name": "stderr",
          "text": [
            "\r 41%|████▏     | 165/400 [01:07<01:37,  2.41it/s]"
          ]
        },
        {
          "output_type": "stream",
          "name": "stdout",
          "text": [
            "Epoch 165/400\n",
            "Loss: 0.3232\n",
            "Accuracy: 0.8749\n",
            "Precision: 0.8757\n",
            "Recall: 0.8749\n",
            "F1 Score: 0.8749\n",
            "                      precision    recall  f1-score   support\n",
            "\n",
            "          Networking       0.86      0.89      0.87       447\n",
            "            Learning       0.86      0.86      0.86       422\n",
            "           Searching       0.89      0.83      0.86       153\n",
            "     Sourcing: Early       0.92      0.93      0.93       122\n",
            "Sourcing: In Process       0.95      0.85      0.90        71\n",
            "\n",
            "            accuracy                           0.87      1215\n",
            "           macro avg       0.90      0.87      0.88      1215\n",
            "        weighted avg       0.88      0.87      0.87      1215\n",
            "\n",
            "Model improved to 0.8749 accuracy. Saving model.\n"
          ]
        },
        {
          "output_type": "stream",
          "name": "stderr",
          "text": [
            "\r 42%|████▏     | 166/400 [01:07<01:35,  2.45it/s]"
          ]
        },
        {
          "output_type": "stream",
          "name": "stdout",
          "text": [
            "Epoch 166/400\n",
            "Loss: 0.3141\n",
            "Accuracy: 0.8741\n",
            "Precision: 0.8740\n",
            "Recall: 0.8741\n",
            "F1 Score: 0.8738\n",
            "                      precision    recall  f1-score   support\n",
            "\n",
            "          Networking       0.87      0.90      0.88       447\n",
            "            Learning       0.87      0.86      0.87       422\n",
            "           Searching       0.86      0.81      0.83       153\n",
            "     Sourcing: Early       0.90      0.93      0.92       122\n",
            "Sourcing: In Process       0.91      0.83      0.87        71\n",
            "\n",
            "            accuracy                           0.87      1215\n",
            "           macro avg       0.88      0.87      0.87      1215\n",
            "        weighted avg       0.87      0.87      0.87      1215\n",
            "\n"
          ]
        },
        {
          "output_type": "stream",
          "name": "stderr",
          "text": [
            "\r 42%|████▏     | 167/400 [01:08<01:35,  2.44it/s]"
          ]
        },
        {
          "output_type": "stream",
          "name": "stdout",
          "text": [
            "Epoch 167/400\n",
            "Loss: 0.2980\n",
            "Accuracy: 0.8872\n",
            "Precision: 0.8875\n",
            "Recall: 0.8872\n",
            "F1 Score: 0.8869\n",
            "                      precision    recall  f1-score   support\n",
            "\n",
            "          Networking       0.88      0.91      0.90       447\n",
            "            Learning       0.88      0.88      0.88       422\n",
            "           Searching       0.87      0.80      0.83       153\n",
            "     Sourcing: Early       0.94      0.95      0.94       122\n",
            "Sourcing: In Process       0.95      0.85      0.90        71\n",
            "\n",
            "            accuracy                           0.89      1215\n",
            "           macro avg       0.90      0.88      0.89      1215\n",
            "        weighted avg       0.89      0.89      0.89      1215\n",
            "\n",
            "Model improved to 0.8872 accuracy. Saving model.\n"
          ]
        },
        {
          "output_type": "stream",
          "name": "stderr",
          "text": [
            "\r 42%|████▏     | 168/400 [01:08<01:35,  2.43it/s]"
          ]
        },
        {
          "output_type": "stream",
          "name": "stdout",
          "text": [
            "Epoch 168/400\n",
            "Loss: 0.3628\n",
            "Accuracy: 0.8535\n",
            "Precision: 0.8542\n",
            "Recall: 0.8535\n",
            "F1 Score: 0.8531\n",
            "                      precision    recall  f1-score   support\n",
            "\n",
            "          Networking       0.85      0.88      0.86       447\n",
            "            Learning       0.86      0.85      0.86       422\n",
            "           Searching       0.86      0.76      0.81       153\n",
            "     Sourcing: Early       0.82      0.89      0.85       122\n",
            "Sourcing: In Process       0.91      0.85      0.88        71\n",
            "\n",
            "            accuracy                           0.85      1215\n",
            "           macro avg       0.86      0.85      0.85      1215\n",
            "        weighted avg       0.85      0.85      0.85      1215\n",
            "\n"
          ]
        },
        {
          "output_type": "stream",
          "name": "stderr",
          "text": [
            "\r 42%|████▏     | 169/400 [01:08<01:35,  2.41it/s]"
          ]
        },
        {
          "output_type": "stream",
          "name": "stdout",
          "text": [
            "Epoch 169/400\n",
            "Loss: 0.3862\n",
            "Accuracy: 0.8387\n",
            "Precision: 0.8388\n",
            "Recall: 0.8387\n",
            "F1 Score: 0.8383\n",
            "                      precision    recall  f1-score   support\n",
            "\n",
            "          Networking       0.84      0.87      0.85       447\n",
            "            Learning       0.85      0.84      0.84       422\n",
            "           Searching       0.79      0.73      0.76       153\n",
            "     Sourcing: Early       0.81      0.86      0.84       122\n",
            "Sourcing: In Process       0.92      0.85      0.88        71\n",
            "\n",
            "            accuracy                           0.84      1215\n",
            "           macro avg       0.84      0.83      0.83      1215\n",
            "        weighted avg       0.84      0.84      0.84      1215\n",
            "\n"
          ]
        },
        {
          "output_type": "stream",
          "name": "stderr",
          "text": [
            "\r 42%|████▎     | 170/400 [01:09<01:35,  2.42it/s]"
          ]
        },
        {
          "output_type": "stream",
          "name": "stdout",
          "text": [
            "Epoch 170/400\n",
            "Loss: 0.4621\n",
            "Accuracy: 0.8066\n",
            "Precision: 0.8065\n",
            "Recall: 0.8066\n",
            "F1 Score: 0.8061\n",
            "                      precision    recall  f1-score   support\n",
            "\n",
            "          Networking       0.81      0.86      0.83       447\n",
            "            Learning       0.81      0.78      0.80       422\n",
            "           Searching       0.79      0.75      0.77       153\n",
            "     Sourcing: Early       0.78      0.79      0.78       122\n",
            "Sourcing: In Process       0.83      0.82      0.82        71\n",
            "\n",
            "            accuracy                           0.81      1215\n",
            "           macro avg       0.80      0.80      0.80      1215\n",
            "        weighted avg       0.81      0.81      0.81      1215\n",
            "\n"
          ]
        },
        {
          "output_type": "stream",
          "name": "stderr",
          "text": [
            "\r 43%|████▎     | 171/400 [01:09<01:32,  2.47it/s]"
          ]
        },
        {
          "output_type": "stream",
          "name": "stdout",
          "text": [
            "Epoch 171/400\n",
            "Loss: 0.3858\n",
            "Accuracy: 0.8362\n",
            "Precision: 0.8365\n",
            "Recall: 0.8362\n",
            "F1 Score: 0.8361\n",
            "                      precision    recall  f1-score   support\n",
            "\n",
            "          Networking       0.84      0.85      0.85       447\n",
            "            Learning       0.82      0.83      0.83       422\n",
            "           Searching       0.84      0.78      0.81       153\n",
            "     Sourcing: Early       0.83      0.87      0.85       122\n",
            "Sourcing: In Process       0.89      0.83      0.86        71\n",
            "\n",
            "            accuracy                           0.84      1215\n",
            "           macro avg       0.85      0.83      0.84      1215\n",
            "        weighted avg       0.84      0.84      0.84      1215\n",
            "\n"
          ]
        },
        {
          "output_type": "stream",
          "name": "stderr",
          "text": [
            "\r 43%|████▎     | 172/400 [01:10<01:30,  2.52it/s]"
          ]
        },
        {
          "output_type": "stream",
          "name": "stdout",
          "text": [
            "Epoch 172/400\n",
            "Loss: 0.4047\n",
            "Accuracy: 0.8247\n",
            "Precision: 0.8247\n",
            "Recall: 0.8247\n",
            "F1 Score: 0.8242\n",
            "                      precision    recall  f1-score   support\n",
            "\n",
            "          Networking       0.82      0.85      0.84       447\n",
            "            Learning       0.82      0.82      0.82       422\n",
            "           Searching       0.82      0.73      0.78       153\n",
            "     Sourcing: Early       0.84      0.84      0.84       122\n",
            "Sourcing: In Process       0.84      0.87      0.86        71\n",
            "\n",
            "            accuracy                           0.82      1215\n",
            "           macro avg       0.83      0.82      0.83      1215\n",
            "        weighted avg       0.82      0.82      0.82      1215\n",
            "\n"
          ]
        },
        {
          "output_type": "stream",
          "name": "stderr",
          "text": [
            "\r 43%|████▎     | 173/400 [01:10<01:31,  2.48it/s]"
          ]
        },
        {
          "output_type": "stream",
          "name": "stdout",
          "text": [
            "Epoch 173/400\n",
            "Loss: 0.3963\n",
            "Accuracy: 0.8337\n",
            "Precision: 0.8340\n",
            "Recall: 0.8337\n",
            "F1 Score: 0.8331\n",
            "                      precision    recall  f1-score   support\n",
            "\n",
            "          Networking       0.84      0.87      0.85       447\n",
            "            Learning       0.84      0.84      0.84       422\n",
            "           Searching       0.82      0.70      0.75       153\n",
            "     Sourcing: Early       0.78      0.82      0.80       122\n",
            "Sourcing: In Process       0.93      0.89      0.91        71\n",
            "\n",
            "            accuracy                           0.83      1215\n",
            "           macro avg       0.84      0.82      0.83      1215\n",
            "        weighted avg       0.83      0.83      0.83      1215\n",
            "\n"
          ]
        },
        {
          "output_type": "stream",
          "name": "stderr",
          "text": [
            "\r 44%|████▎     | 174/400 [01:10<01:30,  2.49it/s]"
          ]
        },
        {
          "output_type": "stream",
          "name": "stdout",
          "text": [
            "Epoch 174/400\n",
            "Loss: 0.3269\n",
            "Accuracy: 0.8724\n",
            "Precision: 0.8728\n",
            "Recall: 0.8724\n",
            "F1 Score: 0.8723\n",
            "                      precision    recall  f1-score   support\n",
            "\n",
            "          Networking       0.87      0.87      0.87       447\n",
            "            Learning       0.87      0.87      0.87       422\n",
            "           Searching       0.90      0.84      0.87       153\n",
            "     Sourcing: Early       0.87      0.94      0.91       122\n",
            "Sourcing: In Process       0.89      0.83      0.86        71\n",
            "\n",
            "            accuracy                           0.87      1215\n",
            "           macro avg       0.88      0.87      0.87      1215\n",
            "        weighted avg       0.87      0.87      0.87      1215\n",
            "\n"
          ]
        },
        {
          "output_type": "stream",
          "name": "stderr",
          "text": [
            "\r 44%|████▍     | 175/400 [01:11<01:30,  2.49it/s]"
          ]
        },
        {
          "output_type": "stream",
          "name": "stdout",
          "text": [
            "Epoch 175/400\n",
            "Loss: 0.3347\n",
            "Accuracy: 0.8683\n",
            "Precision: 0.8692\n",
            "Recall: 0.8683\n",
            "F1 Score: 0.8683\n",
            "                      precision    recall  f1-score   support\n",
            "\n",
            "          Networking       0.86      0.87      0.86       447\n",
            "            Learning       0.86      0.87      0.87       422\n",
            "           Searching       0.90      0.82      0.86       153\n",
            "     Sourcing: Early       0.87      0.91      0.89       122\n",
            "Sourcing: In Process       0.95      0.89      0.92        71\n",
            "\n",
            "            accuracy                           0.87      1215\n",
            "           macro avg       0.89      0.87      0.88      1215\n",
            "        weighted avg       0.87      0.87      0.87      1215\n",
            "\n"
          ]
        },
        {
          "output_type": "stream",
          "name": "stderr",
          "text": [
            "\r 44%|████▍     | 176/400 [01:11<01:29,  2.50it/s]"
          ]
        },
        {
          "output_type": "stream",
          "name": "stdout",
          "text": [
            "Epoch 176/400\n",
            "Loss: 0.2954\n",
            "Accuracy: 0.8757\n",
            "Precision: 0.8758\n",
            "Recall: 0.8757\n",
            "F1 Score: 0.8756\n",
            "                      precision    recall  f1-score   support\n",
            "\n",
            "          Networking       0.87      0.87      0.87       447\n",
            "            Learning       0.87      0.88      0.87       422\n",
            "           Searching       0.89      0.83      0.86       153\n",
            "     Sourcing: Early       0.91      0.94      0.92       122\n",
            "Sourcing: In Process       0.90      0.89      0.89        71\n",
            "\n",
            "            accuracy                           0.88      1215\n",
            "           macro avg       0.89      0.88      0.88      1215\n",
            "        weighted avg       0.88      0.88      0.88      1215\n",
            "\n"
          ]
        },
        {
          "output_type": "stream",
          "name": "stderr",
          "text": [
            "\r 44%|████▍     | 177/400 [01:12<01:30,  2.45it/s]"
          ]
        },
        {
          "output_type": "stream",
          "name": "stdout",
          "text": [
            "Epoch 177/400\n",
            "Loss: 0.2984\n",
            "Accuracy: 0.8856\n",
            "Precision: 0.8867\n",
            "Recall: 0.8856\n",
            "F1 Score: 0.8856\n",
            "                      precision    recall  f1-score   support\n",
            "\n",
            "          Networking       0.87      0.89      0.88       447\n",
            "            Learning       0.89      0.89      0.89       422\n",
            "           Searching       0.88      0.85      0.87       153\n",
            "     Sourcing: Early       0.87      0.93      0.90       122\n",
            "Sourcing: In Process       0.98      0.83      0.90        71\n",
            "\n",
            "            accuracy                           0.89      1215\n",
            "           macro avg       0.90      0.88      0.89      1215\n",
            "        weighted avg       0.89      0.89      0.89      1215\n",
            "\n"
          ]
        },
        {
          "output_type": "stream",
          "name": "stderr",
          "text": [
            "\r 44%|████▍     | 178/400 [01:12<01:30,  2.46it/s]"
          ]
        },
        {
          "output_type": "stream",
          "name": "stdout",
          "text": [
            "Epoch 178/400\n",
            "Loss: 0.2778\n",
            "Accuracy: 0.8938\n",
            "Precision: 0.8941\n",
            "Recall: 0.8938\n",
            "F1 Score: 0.8937\n",
            "                      precision    recall  f1-score   support\n",
            "\n",
            "          Networking       0.87      0.89      0.88       447\n",
            "            Learning       0.90      0.89      0.89       422\n",
            "           Searching       0.91      0.86      0.89       153\n",
            "     Sourcing: Early       0.94      0.98      0.96       122\n",
            "Sourcing: In Process       0.93      0.87      0.90        71\n",
            "\n",
            "            accuracy                           0.89      1215\n",
            "           macro avg       0.91      0.90      0.90      1215\n",
            "        weighted avg       0.89      0.89      0.89      1215\n",
            "\n",
            "Model improved to 0.8938 accuracy. Saving model.\n"
          ]
        },
        {
          "output_type": "stream",
          "name": "stderr",
          "text": [
            "\r 45%|████▍     | 179/400 [01:12<01:30,  2.44it/s]"
          ]
        },
        {
          "output_type": "stream",
          "name": "stdout",
          "text": [
            "Epoch 179/400\n",
            "Loss: 0.2563\n",
            "Accuracy: 0.8979\n",
            "Precision: 0.8989\n",
            "Recall: 0.8979\n",
            "F1 Score: 0.8980\n",
            "                      precision    recall  f1-score   support\n",
            "\n",
            "          Networking       0.87      0.91      0.89       447\n",
            "            Learning       0.90      0.88      0.89       422\n",
            "           Searching       0.92      0.86      0.89       153\n",
            "     Sourcing: Early       0.95      0.95      0.95       122\n",
            "Sourcing: In Process       0.94      0.92      0.93        71\n",
            "\n",
            "            accuracy                           0.90      1215\n",
            "           macro avg       0.92      0.90      0.91      1215\n",
            "        weighted avg       0.90      0.90      0.90      1215\n",
            "\n",
            "Model improved to 0.8979 accuracy. Saving model.\n"
          ]
        },
        {
          "output_type": "stream",
          "name": "stderr",
          "text": [
            "\r 45%|████▌     | 180/400 [01:13<01:30,  2.42it/s]"
          ]
        },
        {
          "output_type": "stream",
          "name": "stdout",
          "text": [
            "Epoch 180/400\n",
            "Loss: 0.2483\n",
            "Accuracy: 0.9029\n",
            "Precision: 0.9038\n",
            "Recall: 0.9029\n",
            "F1 Score: 0.9028\n",
            "                      precision    recall  f1-score   support\n",
            "\n",
            "          Networking       0.88      0.92      0.90       447\n",
            "            Learning       0.90      0.88      0.89       422\n",
            "           Searching       0.92      0.86      0.89       153\n",
            "     Sourcing: Early       0.94      0.97      0.95       122\n",
            "Sourcing: In Process       0.98      0.92      0.95        71\n",
            "\n",
            "            accuracy                           0.90      1215\n",
            "           macro avg       0.92      0.91      0.92      1215\n",
            "        weighted avg       0.90      0.90      0.90      1215\n",
            "\n",
            "Model improved to 0.9029 accuracy. Saving model.\n"
          ]
        },
        {
          "output_type": "stream",
          "name": "stderr",
          "text": [
            "\r 45%|████▌     | 181/400 [01:13<01:31,  2.40it/s]"
          ]
        },
        {
          "output_type": "stream",
          "name": "stdout",
          "text": [
            "Epoch 181/400\n",
            "Loss: 0.2590\n",
            "Accuracy: 0.9021\n",
            "Precision: 0.9025\n",
            "Recall: 0.9021\n",
            "F1 Score: 0.9019\n",
            "                      precision    recall  f1-score   support\n",
            "\n",
            "          Networking       0.88      0.92      0.90       447\n",
            "            Learning       0.90      0.87      0.88       422\n",
            "           Searching       0.92      0.88      0.90       153\n",
            "     Sourcing: Early       0.94      0.97      0.95       122\n",
            "Sourcing: In Process       0.97      0.94      0.96        71\n",
            "\n",
            "            accuracy                           0.90      1215\n",
            "           macro avg       0.92      0.91      0.92      1215\n",
            "        weighted avg       0.90      0.90      0.90      1215\n",
            "\n"
          ]
        },
        {
          "output_type": "stream",
          "name": "stderr",
          "text": [
            "\r 46%|████▌     | 182/400 [01:14<01:30,  2.42it/s]"
          ]
        },
        {
          "output_type": "stream",
          "name": "stdout",
          "text": [
            "Epoch 182/400\n",
            "Loss: 0.2435\n",
            "Accuracy: 0.9111\n",
            "Precision: 0.9117\n",
            "Recall: 0.9111\n",
            "F1 Score: 0.9112\n",
            "                      precision    recall  f1-score   support\n",
            "\n",
            "          Networking       0.90      0.92      0.91       447\n",
            "            Learning       0.89      0.90      0.89       422\n",
            "           Searching       0.95      0.88      0.91       153\n",
            "     Sourcing: Early       0.94      0.94      0.94       122\n",
            "Sourcing: In Process       0.99      0.97      0.98        71\n",
            "\n",
            "            accuracy                           0.91      1215\n",
            "           macro avg       0.93      0.92      0.93      1215\n",
            "        weighted avg       0.91      0.91      0.91      1215\n",
            "\n",
            "Model improved to 0.9111 accuracy. Saving model.\n"
          ]
        },
        {
          "output_type": "stream",
          "name": "stderr",
          "text": [
            "\r 46%|████▌     | 183/400 [01:14<01:29,  2.43it/s]"
          ]
        },
        {
          "output_type": "stream",
          "name": "stdout",
          "text": [
            "Epoch 183/400\n",
            "Loss: 0.2411\n",
            "Accuracy: 0.9095\n",
            "Precision: 0.9100\n",
            "Recall: 0.9095\n",
            "F1 Score: 0.9095\n",
            "                      precision    recall  f1-score   support\n",
            "\n",
            "          Networking       0.89      0.91      0.90       447\n",
            "            Learning       0.90      0.90      0.90       422\n",
            "           Searching       0.95      0.90      0.92       153\n",
            "     Sourcing: Early       0.92      0.96      0.94       122\n",
            "Sourcing: In Process       0.97      0.93      0.95        71\n",
            "\n",
            "            accuracy                           0.91      1215\n",
            "           macro avg       0.93      0.92      0.92      1215\n",
            "        weighted avg       0.91      0.91      0.91      1215\n",
            "\n"
          ]
        },
        {
          "output_type": "stream",
          "name": "stderr",
          "text": [
            "\r 46%|████▌     | 184/400 [01:15<01:29,  2.42it/s]"
          ]
        },
        {
          "output_type": "stream",
          "name": "stdout",
          "text": [
            "Epoch 184/400\n",
            "Loss: 0.3115\n",
            "Accuracy: 0.8815\n",
            "Precision: 0.8820\n",
            "Recall: 0.8815\n",
            "F1 Score: 0.8815\n",
            "                      precision    recall  f1-score   support\n",
            "\n",
            "          Networking       0.87      0.89      0.88       447\n",
            "            Learning       0.87      0.86      0.87       422\n",
            "           Searching       0.90      0.87      0.88       153\n",
            "     Sourcing: Early       0.90      0.92      0.91       122\n",
            "Sourcing: In Process       0.95      0.89      0.92        71\n",
            "\n",
            "            accuracy                           0.88      1215\n",
            "           macro avg       0.90      0.89      0.89      1215\n",
            "        weighted avg       0.88      0.88      0.88      1215\n",
            "\n"
          ]
        },
        {
          "output_type": "stream",
          "name": "stderr",
          "text": [
            "\r 46%|████▋     | 185/400 [01:15<01:29,  2.41it/s]"
          ]
        },
        {
          "output_type": "stream",
          "name": "stdout",
          "text": [
            "Epoch 185/400\n",
            "Loss: 0.2712\n",
            "Accuracy: 0.8856\n",
            "Precision: 0.8858\n",
            "Recall: 0.8856\n",
            "F1 Score: 0.8856\n",
            "                      precision    recall  f1-score   support\n",
            "\n",
            "          Networking       0.87      0.88      0.88       447\n",
            "            Learning       0.87      0.87      0.87       422\n",
            "           Searching       0.91      0.89      0.90       153\n",
            "     Sourcing: Early       0.91      0.92      0.91       122\n",
            "Sourcing: In Process       0.94      0.93      0.94        71\n",
            "\n",
            "            accuracy                           0.89      1215\n",
            "           macro avg       0.90      0.90      0.90      1215\n",
            "        weighted avg       0.89      0.89      0.89      1215\n",
            "\n"
          ]
        },
        {
          "output_type": "stream",
          "name": "stderr",
          "text": [
            "\r 46%|████▋     | 186/400 [01:15<01:29,  2.39it/s]"
          ]
        },
        {
          "output_type": "stream",
          "name": "stdout",
          "text": [
            "Epoch 186/400\n",
            "Loss: 0.2652\n",
            "Accuracy: 0.8930\n",
            "Precision: 0.8939\n",
            "Recall: 0.8930\n",
            "F1 Score: 0.8930\n",
            "                      precision    recall  f1-score   support\n",
            "\n",
            "          Networking       0.86      0.90      0.88       447\n",
            "            Learning       0.89      0.86      0.87       422\n",
            "           Searching       0.94      0.88      0.91       153\n",
            "     Sourcing: Early       0.94      0.94      0.94       122\n",
            "Sourcing: In Process       0.96      0.97      0.97        71\n",
            "\n",
            "            accuracy                           0.89      1215\n",
            "           macro avg       0.92      0.91      0.91      1215\n",
            "        weighted avg       0.89      0.89      0.89      1215\n",
            "\n"
          ]
        },
        {
          "output_type": "stream",
          "name": "stderr",
          "text": [
            "\r 47%|████▋     | 187/400 [01:16<01:27,  2.42it/s]"
          ]
        },
        {
          "output_type": "stream",
          "name": "stdout",
          "text": [
            "Epoch 187/400\n",
            "Loss: 0.2723\n",
            "Accuracy: 0.8881\n",
            "Precision: 0.8884\n",
            "Recall: 0.8881\n",
            "F1 Score: 0.8881\n",
            "                      precision    recall  f1-score   support\n",
            "\n",
            "          Networking       0.88      0.88      0.88       447\n",
            "            Learning       0.87      0.86      0.87       422\n",
            "           Searching       0.93      0.90      0.91       153\n",
            "     Sourcing: Early       0.90      0.93      0.92       122\n",
            "Sourcing: In Process       0.99      0.96      0.97        71\n",
            "\n",
            "            accuracy                           0.89      1215\n",
            "           macro avg       0.91      0.91      0.91      1215\n",
            "        weighted avg       0.89      0.89      0.89      1215\n",
            "\n"
          ]
        },
        {
          "output_type": "stream",
          "name": "stderr",
          "text": [
            "\r 47%|████▋     | 188/400 [01:16<01:26,  2.46it/s]"
          ]
        },
        {
          "output_type": "stream",
          "name": "stdout",
          "text": [
            "Epoch 188/400\n",
            "Loss: 0.2780\n",
            "Accuracy: 0.8831\n",
            "Precision: 0.8832\n",
            "Recall: 0.8831\n",
            "F1 Score: 0.8831\n",
            "                      precision    recall  f1-score   support\n",
            "\n",
            "          Networking       0.86      0.87      0.87       447\n",
            "            Learning       0.86      0.86      0.86       422\n",
            "           Searching       0.93      0.90      0.92       153\n",
            "     Sourcing: Early       0.94      0.97      0.95       122\n",
            "Sourcing: In Process       0.96      0.94      0.95        71\n",
            "\n",
            "            accuracy                           0.88      1215\n",
            "           macro avg       0.91      0.91      0.91      1215\n",
            "        weighted avg       0.88      0.88      0.88      1215\n",
            "\n"
          ]
        },
        {
          "output_type": "stream",
          "name": "stderr",
          "text": [
            "\r 47%|████▋     | 189/400 [01:17<01:24,  2.50it/s]"
          ]
        },
        {
          "output_type": "stream",
          "name": "stdout",
          "text": [
            "Epoch 189/400\n",
            "Loss: 0.2986\n",
            "Accuracy: 0.8733\n",
            "Precision: 0.8736\n",
            "Recall: 0.8733\n",
            "F1 Score: 0.8732\n",
            "                      precision    recall  f1-score   support\n",
            "\n",
            "          Networking       0.87      0.87      0.87       447\n",
            "            Learning       0.86      0.85      0.85       422\n",
            "           Searching       0.92      0.86      0.89       153\n",
            "     Sourcing: Early       0.88      0.91      0.90       122\n",
            "Sourcing: In Process       0.92      0.96      0.94        71\n",
            "\n",
            "            accuracy                           0.87      1215\n",
            "           macro avg       0.89      0.89      0.89      1215\n",
            "        weighted avg       0.87      0.87      0.87      1215\n",
            "\n"
          ]
        },
        {
          "output_type": "stream",
          "name": "stderr",
          "text": [
            "\r 48%|████▊     | 190/400 [01:17<01:25,  2.47it/s]"
          ]
        },
        {
          "output_type": "stream",
          "name": "stdout",
          "text": [
            "Epoch 190/400\n",
            "Loss: 0.2825\n",
            "Accuracy: 0.8823\n",
            "Precision: 0.8831\n",
            "Recall: 0.8823\n",
            "F1 Score: 0.8825\n",
            "                      precision    recall  f1-score   support\n",
            "\n",
            "          Networking       0.85      0.88      0.86       447\n",
            "            Learning       0.87      0.86      0.87       422\n",
            "           Searching       0.94      0.89      0.91       153\n",
            "     Sourcing: Early       0.93      0.94      0.93       122\n",
            "Sourcing: In Process       0.96      0.92      0.94        71\n",
            "\n",
            "            accuracy                           0.88      1215\n",
            "           macro avg       0.91      0.90      0.90      1215\n",
            "        weighted avg       0.88      0.88      0.88      1215\n",
            "\n"
          ]
        },
        {
          "output_type": "stream",
          "name": "stderr",
          "text": [
            "\r 48%|████▊     | 191/400 [01:17<01:27,  2.40it/s]"
          ]
        },
        {
          "output_type": "stream",
          "name": "stdout",
          "text": [
            "Epoch 191/400\n",
            "Loss: 0.2663\n",
            "Accuracy: 0.9021\n",
            "Precision: 0.9025\n",
            "Recall: 0.9021\n",
            "F1 Score: 0.9020\n",
            "                      precision    recall  f1-score   support\n",
            "\n",
            "          Networking       0.88      0.91      0.89       447\n",
            "            Learning       0.90      0.87      0.88       422\n",
            "           Searching       0.94      0.90      0.92       153\n",
            "     Sourcing: Early       0.91      0.97      0.94       122\n",
            "Sourcing: In Process       0.97      0.96      0.96        71\n",
            "\n",
            "            accuracy                           0.90      1215\n",
            "           macro avg       0.92      0.92      0.92      1215\n",
            "        weighted avg       0.90      0.90      0.90      1215\n",
            "\n"
          ]
        },
        {
          "output_type": "stream",
          "name": "stderr",
          "text": [
            "\r 48%|████▊     | 192/400 [01:18<01:26,  2.41it/s]"
          ]
        },
        {
          "output_type": "stream",
          "name": "stdout",
          "text": [
            "Epoch 192/400\n",
            "Loss: 0.2442\n",
            "Accuracy: 0.9111\n",
            "Precision: 0.9115\n",
            "Recall: 0.9111\n",
            "F1 Score: 0.9111\n",
            "                      precision    recall  f1-score   support\n",
            "\n",
            "          Networking       0.89      0.92      0.90       447\n",
            "            Learning       0.91      0.89      0.90       422\n",
            "           Searching       0.92      0.92      0.92       153\n",
            "     Sourcing: Early       0.94      0.97      0.95       122\n",
            "Sourcing: In Process       0.98      0.92      0.95        71\n",
            "\n",
            "            accuracy                           0.91      1215\n",
            "           macro avg       0.93      0.92      0.92      1215\n",
            "        weighted avg       0.91      0.91      0.91      1215\n",
            "\n"
          ]
        },
        {
          "output_type": "stream",
          "name": "stderr",
          "text": [
            "\r 48%|████▊     | 193/400 [01:18<01:24,  2.45it/s]"
          ]
        },
        {
          "output_type": "stream",
          "name": "stdout",
          "text": [
            "Epoch 193/400\n",
            "Loss: 0.2825\n",
            "Accuracy: 0.8757\n",
            "Precision: 0.8770\n",
            "Recall: 0.8757\n",
            "F1 Score: 0.8757\n",
            "                      precision    recall  f1-score   support\n",
            "\n",
            "          Networking       0.84      0.89      0.86       447\n",
            "            Learning       0.87      0.83      0.85       422\n",
            "           Searching       0.94      0.88      0.91       153\n",
            "     Sourcing: Early       0.90      0.95      0.92       122\n",
            "Sourcing: In Process       0.96      0.93      0.94        71\n",
            "\n",
            "            accuracy                           0.88      1215\n",
            "           macro avg       0.90      0.90      0.90      1215\n",
            "        weighted avg       0.88      0.88      0.88      1215\n",
            "\n"
          ]
        },
        {
          "output_type": "stream",
          "name": "stderr",
          "text": [
            "\r 48%|████▊     | 194/400 [01:19<01:25,  2.42it/s]"
          ]
        },
        {
          "output_type": "stream",
          "name": "stdout",
          "text": [
            "Epoch 194/400\n",
            "Loss: 0.2346\n",
            "Accuracy: 0.9160\n",
            "Precision: 0.9162\n",
            "Recall: 0.9160\n",
            "F1 Score: 0.9161\n",
            "                      precision    recall  f1-score   support\n",
            "\n",
            "          Networking       0.91      0.91      0.91       447\n",
            "            Learning       0.89      0.90      0.90       422\n",
            "           Searching       0.93      0.92      0.92       153\n",
            "     Sourcing: Early       0.96      0.95      0.95       122\n",
            "Sourcing: In Process       0.97      0.99      0.98        71\n",
            "\n",
            "            accuracy                           0.92      1215\n",
            "           macro avg       0.93      0.93      0.93      1215\n",
            "        weighted avg       0.92      0.92      0.92      1215\n",
            "\n",
            "Model improved to 0.9160 accuracy. Saving model.\n"
          ]
        },
        {
          "output_type": "stream",
          "name": "stderr",
          "text": [
            "\r 49%|████▉     | 195/400 [01:19<01:23,  2.45it/s]"
          ]
        },
        {
          "output_type": "stream",
          "name": "stdout",
          "text": [
            "Epoch 195/400\n",
            "Loss: 0.3360\n",
            "Accuracy: 0.8502\n",
            "Precision: 0.8504\n",
            "Recall: 0.8502\n",
            "F1 Score: 0.8501\n",
            "                      precision    recall  f1-score   support\n",
            "\n",
            "          Networking       0.85      0.85      0.85       447\n",
            "            Learning       0.82      0.83      0.83       422\n",
            "           Searching       0.87      0.80      0.83       153\n",
            "     Sourcing: Early       0.90      0.92      0.91       122\n",
            "Sourcing: In Process       0.93      0.93      0.93        71\n",
            "\n",
            "            accuracy                           0.85      1215\n",
            "           macro avg       0.87      0.87      0.87      1215\n",
            "        weighted avg       0.85      0.85      0.85      1215\n",
            "\n"
          ]
        },
        {
          "output_type": "stream",
          "name": "stderr",
          "text": [
            "\r 49%|████▉     | 196/400 [01:19<01:23,  2.46it/s]"
          ]
        },
        {
          "output_type": "stream",
          "name": "stdout",
          "text": [
            "Epoch 196/400\n",
            "Loss: 0.3809\n",
            "Accuracy: 0.8313\n",
            "Precision: 0.8315\n",
            "Recall: 0.8313\n",
            "F1 Score: 0.8313\n",
            "                      precision    recall  f1-score   support\n",
            "\n",
            "          Networking       0.82      0.82      0.82       447\n",
            "            Learning       0.81      0.81      0.81       422\n",
            "           Searching       0.90      0.88      0.89       153\n",
            "     Sourcing: Early       0.84      0.88      0.86       122\n",
            "Sourcing: In Process       0.89      0.87      0.88        71\n",
            "\n",
            "            accuracy                           0.83      1215\n",
            "           macro avg       0.85      0.85      0.85      1215\n",
            "        weighted avg       0.83      0.83      0.83      1215\n",
            "\n"
          ]
        },
        {
          "output_type": "stream",
          "name": "stderr",
          "text": [
            "\r 49%|████▉     | 197/400 [01:20<01:24,  2.41it/s]"
          ]
        },
        {
          "output_type": "stream",
          "name": "stdout",
          "text": [
            "Epoch 197/400\n",
            "Loss: 0.3498\n",
            "Accuracy: 0.8477\n",
            "Precision: 0.8480\n",
            "Recall: 0.8477\n",
            "F1 Score: 0.8476\n",
            "                      precision    recall  f1-score   support\n",
            "\n",
            "          Networking       0.83      0.85      0.84       447\n",
            "            Learning       0.84      0.83      0.83       422\n",
            "           Searching       0.88      0.80      0.84       153\n",
            "     Sourcing: Early       0.88      0.91      0.90       122\n",
            "Sourcing: In Process       0.89      0.93      0.91        71\n",
            "\n",
            "            accuracy                           0.85      1215\n",
            "           macro avg       0.86      0.86      0.86      1215\n",
            "        weighted avg       0.85      0.85      0.85      1215\n",
            "\n"
          ]
        },
        {
          "output_type": "stream",
          "name": "stderr",
          "text": [
            "\r 50%|████▉     | 198/400 [01:20<01:23,  2.42it/s]"
          ]
        },
        {
          "output_type": "stream",
          "name": "stdout",
          "text": [
            "Epoch 198/400\n",
            "Loss: 0.3668\n",
            "Accuracy: 0.8354\n",
            "Precision: 0.8354\n",
            "Recall: 0.8354\n",
            "F1 Score: 0.8350\n",
            "                      precision    recall  f1-score   support\n",
            "\n",
            "          Networking       0.83      0.83      0.83       447\n",
            "            Learning       0.81      0.83      0.82       422\n",
            "           Searching       0.84      0.76      0.80       153\n",
            "     Sourcing: Early       0.88      0.93      0.90       122\n",
            "Sourcing: In Process       0.92      0.92      0.92        71\n",
            "\n",
            "            accuracy                           0.84      1215\n",
            "           macro avg       0.86      0.85      0.85      1215\n",
            "        weighted avg       0.84      0.84      0.84      1215\n",
            "\n"
          ]
        },
        {
          "output_type": "stream",
          "name": "stderr",
          "text": [
            "\r 50%|████▉     | 199/400 [01:21<01:22,  2.43it/s]"
          ]
        },
        {
          "output_type": "stream",
          "name": "stdout",
          "text": [
            "Epoch 199/400\n",
            "Loss: 0.3686\n",
            "Accuracy: 0.8354\n",
            "Precision: 0.8351\n",
            "Recall: 0.8354\n",
            "F1 Score: 0.8348\n",
            "                      precision    recall  f1-score   support\n",
            "\n",
            "          Networking       0.84      0.87      0.85       447\n",
            "            Learning       0.82      0.81      0.82       422\n",
            "           Searching       0.82      0.74      0.78       153\n",
            "     Sourcing: Early       0.88      0.86      0.87       122\n",
            "Sourcing: In Process       0.86      0.90      0.88        71\n",
            "\n",
            "            accuracy                           0.84      1215\n",
            "           macro avg       0.84      0.84      0.84      1215\n",
            "        weighted avg       0.84      0.84      0.83      1215\n",
            "\n"
          ]
        },
        {
          "output_type": "stream",
          "name": "stderr",
          "text": [
            "\r 50%|█████     | 200/400 [01:21<01:22,  2.42it/s]"
          ]
        },
        {
          "output_type": "stream",
          "name": "stdout",
          "text": [
            "Epoch 200/400\n",
            "Loss: 0.4480\n",
            "Accuracy: 0.8156\n",
            "Precision: 0.8157\n",
            "Recall: 0.8156\n",
            "F1 Score: 0.8155\n",
            "                      precision    recall  f1-score   support\n",
            "\n",
            "          Networking       0.82      0.83      0.82       447\n",
            "            Learning       0.81      0.81      0.81       422\n",
            "           Searching       0.81      0.76      0.79       153\n",
            "     Sourcing: Early       0.81      0.84      0.83       122\n",
            "Sourcing: In Process       0.89      0.87      0.88        71\n",
            "\n",
            "            accuracy                           0.82      1215\n",
            "           macro avg       0.83      0.82      0.82      1215\n",
            "        weighted avg       0.82      0.82      0.82      1215\n",
            "\n"
          ]
        },
        {
          "output_type": "stream",
          "name": "stderr",
          "text": [
            "\r 50%|█████     | 201/400 [01:22<01:22,  2.42it/s]"
          ]
        },
        {
          "output_type": "stream",
          "name": "stdout",
          "text": [
            "Epoch 201/400\n",
            "Loss: 0.2964\n",
            "Accuracy: 0.8716\n",
            "Precision: 0.8722\n",
            "Recall: 0.8716\n",
            "F1 Score: 0.8717\n",
            "                      precision    recall  f1-score   support\n",
            "\n",
            "          Networking       0.85      0.87      0.86       447\n",
            "            Learning       0.85      0.85      0.85       422\n",
            "           Searching       0.93      0.86      0.89       153\n",
            "     Sourcing: Early       0.93      0.94      0.93       122\n",
            "Sourcing: In Process       0.90      0.92      0.91        71\n",
            "\n",
            "            accuracy                           0.87      1215\n",
            "           macro avg       0.89      0.89      0.89      1215\n",
            "        weighted avg       0.87      0.87      0.87      1215\n",
            "\n"
          ]
        },
        {
          "output_type": "stream",
          "name": "stderr",
          "text": [
            "\r 50%|█████     | 202/400 [01:22<01:20,  2.45it/s]"
          ]
        },
        {
          "output_type": "stream",
          "name": "stdout",
          "text": [
            "Epoch 202/400\n",
            "Loss: 0.2283\n",
            "Accuracy: 0.9070\n",
            "Precision: 0.9074\n",
            "Recall: 0.9070\n",
            "F1 Score: 0.9070\n",
            "                      precision    recall  f1-score   support\n",
            "\n",
            "          Networking       0.90      0.89      0.90       447\n",
            "            Learning       0.89      0.90      0.89       422\n",
            "           Searching       0.96      0.90      0.93       153\n",
            "     Sourcing: Early       0.92      0.98      0.94       122\n",
            "Sourcing: In Process       0.94      0.94      0.94        71\n",
            "\n",
            "            accuracy                           0.91      1215\n",
            "           macro avg       0.92      0.92      0.92      1215\n",
            "        weighted avg       0.91      0.91      0.91      1215\n",
            "\n"
          ]
        },
        {
          "output_type": "stream",
          "name": "stderr",
          "text": [
            "\r 51%|█████     | 203/400 [01:22<01:19,  2.48it/s]"
          ]
        },
        {
          "output_type": "stream",
          "name": "stdout",
          "text": [
            "Epoch 203/400\n",
            "Loss: 0.2184\n",
            "Accuracy: 0.9086\n",
            "Precision: 0.9094\n",
            "Recall: 0.9086\n",
            "F1 Score: 0.9088\n",
            "                      precision    recall  f1-score   support\n",
            "\n",
            "          Networking       0.89      0.90      0.90       447\n",
            "            Learning       0.89      0.90      0.89       422\n",
            "           Searching       0.97      0.92      0.94       153\n",
            "     Sourcing: Early       0.94      0.96      0.95       122\n",
            "Sourcing: In Process       0.97      0.89      0.93        71\n",
            "\n",
            "            accuracy                           0.91      1215\n",
            "           macro avg       0.93      0.91      0.92      1215\n",
            "        weighted avg       0.91      0.91      0.91      1215\n",
            "\n"
          ]
        },
        {
          "output_type": "stream",
          "name": "stderr",
          "text": [
            "\r 51%|█████     | 204/400 [01:23<01:20,  2.43it/s]"
          ]
        },
        {
          "output_type": "stream",
          "name": "stdout",
          "text": [
            "Epoch 204/400\n",
            "Loss: 0.2106\n",
            "Accuracy: 0.9070\n",
            "Precision: 0.9078\n",
            "Recall: 0.9070\n",
            "F1 Score: 0.9072\n",
            "                      precision    recall  f1-score   support\n",
            "\n",
            "          Networking       0.88      0.91      0.89       447\n",
            "            Learning       0.89      0.89      0.89       422\n",
            "           Searching       0.95      0.92      0.93       153\n",
            "     Sourcing: Early       0.96      0.93      0.95       122\n",
            "Sourcing: In Process       0.98      0.92      0.95        71\n",
            "\n",
            "            accuracy                           0.91      1215\n",
            "           macro avg       0.93      0.91      0.92      1215\n",
            "        weighted avg       0.91      0.91      0.91      1215\n",
            "\n"
          ]
        },
        {
          "output_type": "stream",
          "name": "stderr",
          "text": [
            "\r 51%|█████▏    | 205/400 [01:23<01:19,  2.45it/s]"
          ]
        },
        {
          "output_type": "stream",
          "name": "stdout",
          "text": [
            "Epoch 205/400\n",
            "Loss: 0.2179\n",
            "Accuracy: 0.9062\n",
            "Precision: 0.9068\n",
            "Recall: 0.9062\n",
            "F1 Score: 0.9063\n",
            "                      precision    recall  f1-score   support\n",
            "\n",
            "          Networking       0.88      0.89      0.88       447\n",
            "            Learning       0.89      0.89      0.89       422\n",
            "           Searching       0.98      0.92      0.95       153\n",
            "     Sourcing: Early       0.95      0.98      0.97       122\n",
            "Sourcing: In Process       0.99      0.97      0.98        71\n",
            "\n",
            "            accuracy                           0.91      1215\n",
            "           macro avg       0.94      0.93      0.93      1215\n",
            "        weighted avg       0.91      0.91      0.91      1215\n",
            "\n"
          ]
        },
        {
          "output_type": "stream",
          "name": "stderr",
          "text": [
            "\r 52%|█████▏    | 206/400 [01:24<01:19,  2.43it/s]"
          ]
        },
        {
          "output_type": "stream",
          "name": "stdout",
          "text": [
            "Epoch 206/400\n",
            "Loss: 0.2111\n",
            "Accuracy: 0.9144\n",
            "Precision: 0.9150\n",
            "Recall: 0.9144\n",
            "F1 Score: 0.9146\n",
            "                      precision    recall  f1-score   support\n",
            "\n",
            "          Networking       0.89      0.91      0.90       447\n",
            "            Learning       0.91      0.91      0.91       422\n",
            "           Searching       0.95      0.92      0.93       153\n",
            "     Sourcing: Early       0.94      0.95      0.94       122\n",
            "Sourcing: In Process       1.00      0.94      0.97        71\n",
            "\n",
            "            accuracy                           0.91      1215\n",
            "           macro avg       0.94      0.92      0.93      1215\n",
            "        weighted avg       0.92      0.91      0.91      1215\n",
            "\n"
          ]
        },
        {
          "output_type": "stream",
          "name": "stderr",
          "text": [
            "\r 52%|█████▏    | 207/400 [01:24<01:18,  2.45it/s]"
          ]
        },
        {
          "output_type": "stream",
          "name": "stdout",
          "text": [
            "Epoch 207/400\n",
            "Loss: 0.1968\n",
            "Accuracy: 0.9292\n",
            "Precision: 0.9297\n",
            "Recall: 0.9292\n",
            "F1 Score: 0.9293\n",
            "                      precision    recall  f1-score   support\n",
            "\n",
            "          Networking       0.91      0.92      0.92       447\n",
            "            Learning       0.93      0.93      0.93       422\n",
            "           Searching       0.97      0.91      0.94       153\n",
            "     Sourcing: Early       0.91      0.93      0.92       122\n",
            "Sourcing: In Process       0.97      0.99      0.98        71\n",
            "\n",
            "            accuracy                           0.93      1215\n",
            "           macro avg       0.94      0.94      0.94      1215\n",
            "        weighted avg       0.93      0.93      0.93      1215\n",
            "\n",
            "Model improved to 0.9292 accuracy. Saving model.\n"
          ]
        },
        {
          "output_type": "stream",
          "name": "stderr",
          "text": [
            "\r 52%|█████▏    | 208/400 [01:24<01:17,  2.48it/s]"
          ]
        },
        {
          "output_type": "stream",
          "name": "stdout",
          "text": [
            "Epoch 208/400\n",
            "Loss: 0.1905\n",
            "Accuracy: 0.9259\n",
            "Precision: 0.9265\n",
            "Recall: 0.9259\n",
            "F1 Score: 0.9260\n",
            "                      precision    recall  f1-score   support\n",
            "\n",
            "          Networking       0.90      0.93      0.92       447\n",
            "            Learning       0.94      0.91      0.93       422\n",
            "           Searching       0.94      0.92      0.93       153\n",
            "     Sourcing: Early       0.92      0.97      0.94       122\n",
            "Sourcing: In Process       0.97      0.93      0.95        71\n",
            "\n",
            "            accuracy                           0.93      1215\n",
            "           macro avg       0.94      0.93      0.93      1215\n",
            "        weighted avg       0.93      0.93      0.93      1215\n",
            "\n"
          ]
        },
        {
          "output_type": "stream",
          "name": "stderr",
          "text": [
            "\r 52%|█████▏    | 209/400 [01:25<01:18,  2.42it/s]"
          ]
        },
        {
          "output_type": "stream",
          "name": "stdout",
          "text": [
            "Epoch 209/400\n",
            "Loss: 0.1745\n",
            "Accuracy: 0.9416\n",
            "Precision: 0.9418\n",
            "Recall: 0.9416\n",
            "F1 Score: 0.9416\n",
            "                      precision    recall  f1-score   support\n",
            "\n",
            "          Networking       0.93      0.95      0.94       447\n",
            "            Learning       0.94      0.93      0.94       422\n",
            "           Searching       0.94      0.93      0.93       153\n",
            "     Sourcing: Early       0.93      0.94      0.93       122\n",
            "Sourcing: In Process       1.00      0.96      0.98        71\n",
            "\n",
            "            accuracy                           0.94      1215\n",
            "           macro avg       0.95      0.94      0.95      1215\n",
            "        weighted avg       0.94      0.94      0.94      1215\n",
            "\n",
            "Model improved to 0.9416 accuracy. Saving model.\n"
          ]
        },
        {
          "output_type": "stream",
          "name": "stderr",
          "text": [
            "\r 52%|█████▎    | 210/400 [01:25<01:16,  2.49it/s]"
          ]
        },
        {
          "output_type": "stream",
          "name": "stdout",
          "text": [
            "Epoch 210/400\n",
            "Loss: 0.1764\n",
            "Accuracy: 0.9292\n",
            "Precision: 0.9294\n",
            "Recall: 0.9292\n",
            "F1 Score: 0.9292\n",
            "                      precision    recall  f1-score   support\n",
            "\n",
            "          Networking       0.93      0.94      0.94       447\n",
            "            Learning       0.92      0.92      0.92       422\n",
            "           Searching       0.93      0.92      0.93       153\n",
            "     Sourcing: Early       0.89      0.89      0.89       122\n",
            "Sourcing: In Process       1.00      0.96      0.98        71\n",
            "\n",
            "            accuracy                           0.93      1215\n",
            "           macro avg       0.94      0.93      0.93      1215\n",
            "        weighted avg       0.93      0.93      0.93      1215\n",
            "\n"
          ]
        },
        {
          "output_type": "stream",
          "name": "stderr",
          "text": [
            "\r 53%|█████▎    | 211/400 [01:26<01:16,  2.47it/s]"
          ]
        },
        {
          "output_type": "stream",
          "name": "stdout",
          "text": [
            "Epoch 211/400\n",
            "Loss: 0.1639\n",
            "Accuracy: 0.9383\n",
            "Precision: 0.9384\n",
            "Recall: 0.9383\n",
            "F1 Score: 0.9382\n",
            "                      precision    recall  f1-score   support\n",
            "\n",
            "          Networking       0.93      0.96      0.95       447\n",
            "            Learning       0.93      0.92      0.93       422\n",
            "           Searching       0.95      0.92      0.93       153\n",
            "     Sourcing: Early       0.93      0.90      0.92       122\n",
            "Sourcing: In Process       0.99      0.96      0.97        71\n",
            "\n",
            "            accuracy                           0.94      1215\n",
            "           macro avg       0.95      0.93      0.94      1215\n",
            "        weighted avg       0.94      0.94      0.94      1215\n",
            "\n"
          ]
        },
        {
          "output_type": "stream",
          "name": "stderr",
          "text": [
            "\r 53%|█████▎    | 212/400 [01:26<01:16,  2.47it/s]"
          ]
        },
        {
          "output_type": "stream",
          "name": "stdout",
          "text": [
            "Epoch 212/400\n",
            "Loss: 0.2024\n",
            "Accuracy: 0.9243\n",
            "Precision: 0.9244\n",
            "Recall: 0.9243\n",
            "F1 Score: 0.9243\n",
            "                      precision    recall  f1-score   support\n",
            "\n",
            "          Networking       0.93      0.94      0.93       447\n",
            "            Learning       0.91      0.91      0.91       422\n",
            "           Searching       0.94      0.91      0.92       153\n",
            "     Sourcing: Early       0.90      0.91      0.90       122\n",
            "Sourcing: In Process       0.99      0.97      0.98        71\n",
            "\n",
            "            accuracy                           0.92      1215\n",
            "           macro avg       0.93      0.93      0.93      1215\n",
            "        weighted avg       0.92      0.92      0.92      1215\n",
            "\n"
          ]
        },
        {
          "output_type": "stream",
          "name": "stderr",
          "text": [
            "\r 53%|█████▎    | 213/400 [01:26<01:16,  2.44it/s]"
          ]
        },
        {
          "output_type": "stream",
          "name": "stdout",
          "text": [
            "Epoch 213/400\n",
            "Loss: 0.2070\n",
            "Accuracy: 0.9119\n",
            "Precision: 0.9123\n",
            "Recall: 0.9119\n",
            "F1 Score: 0.9120\n",
            "                      precision    recall  f1-score   support\n",
            "\n",
            "          Networking       0.91      0.93      0.92       447\n",
            "            Learning       0.91      0.90      0.91       422\n",
            "           Searching       0.94      0.90      0.92       153\n",
            "     Sourcing: Early       0.87      0.89      0.88       122\n",
            "Sourcing: In Process       0.96      0.93      0.94        71\n",
            "\n",
            "            accuracy                           0.91      1215\n",
            "           macro avg       0.92      0.91      0.91      1215\n",
            "        weighted avg       0.91      0.91      0.91      1215\n",
            "\n"
          ]
        },
        {
          "output_type": "stream",
          "name": "stderr",
          "text": [
            "\r 54%|█████▎    | 214/400 [01:27<01:14,  2.50it/s]"
          ]
        },
        {
          "output_type": "stream",
          "name": "stdout",
          "text": [
            "Epoch 214/400\n",
            "Loss: 0.2167\n",
            "Accuracy: 0.9136\n",
            "Precision: 0.9141\n",
            "Recall: 0.9136\n",
            "F1 Score: 0.9136\n",
            "                      precision    recall  f1-score   support\n",
            "\n",
            "          Networking       0.89      0.93      0.91       447\n",
            "            Learning       0.92      0.90      0.91       422\n",
            "           Searching       0.93      0.93      0.93       153\n",
            "     Sourcing: Early       0.92      0.90      0.91       122\n",
            "Sourcing: In Process       0.96      0.93      0.94        71\n",
            "\n",
            "            accuracy                           0.91      1215\n",
            "           macro avg       0.92      0.92      0.92      1215\n",
            "        weighted avg       0.91      0.91      0.91      1215\n",
            "\n"
          ]
        },
        {
          "output_type": "stream",
          "name": "stderr",
          "text": [
            "\r 54%|█████▍    | 215/400 [01:27<01:13,  2.51it/s]"
          ]
        },
        {
          "output_type": "stream",
          "name": "stdout",
          "text": [
            "Epoch 215/400\n",
            "Loss: 0.1782\n",
            "Accuracy: 0.9300\n",
            "Precision: 0.9305\n",
            "Recall: 0.9300\n",
            "F1 Score: 0.9300\n",
            "                      precision    recall  f1-score   support\n",
            "\n",
            "          Networking       0.91      0.95      0.93       447\n",
            "            Learning       0.94      0.91      0.92       422\n",
            "           Searching       0.94      0.93      0.94       153\n",
            "     Sourcing: Early       0.92      0.91      0.91       122\n",
            "Sourcing: In Process       1.00      0.96      0.98        71\n",
            "\n",
            "            accuracy                           0.93      1215\n",
            "           macro avg       0.94      0.93      0.94      1215\n",
            "        weighted avg       0.93      0.93      0.93      1215\n",
            "\n"
          ]
        },
        {
          "output_type": "stream",
          "name": "stderr",
          "text": [
            "\r 54%|█████▍    | 216/400 [01:28<01:16,  2.42it/s]"
          ]
        },
        {
          "output_type": "stream",
          "name": "stdout",
          "text": [
            "Epoch 216/400\n",
            "Loss: 0.1925\n",
            "Accuracy: 0.9210\n",
            "Precision: 0.9211\n",
            "Recall: 0.9210\n",
            "F1 Score: 0.9209\n",
            "                      precision    recall  f1-score   support\n",
            "\n",
            "          Networking       0.92      0.94      0.93       447\n",
            "            Learning       0.93      0.91      0.92       422\n",
            "           Searching       0.92      0.88      0.90       153\n",
            "     Sourcing: Early       0.90      0.92      0.91       122\n",
            "Sourcing: In Process       0.92      0.93      0.92        71\n",
            "\n",
            "            accuracy                           0.92      1215\n",
            "           macro avg       0.92      0.92      0.92      1215\n",
            "        weighted avg       0.92      0.92      0.92      1215\n",
            "\n"
          ]
        },
        {
          "output_type": "stream",
          "name": "stderr",
          "text": [
            "\r 54%|█████▍    | 217/400 [01:28<01:14,  2.46it/s]"
          ]
        },
        {
          "output_type": "stream",
          "name": "stdout",
          "text": [
            "Epoch 217/400\n",
            "Loss: 0.2142\n",
            "Accuracy: 0.9177\n",
            "Precision: 0.9181\n",
            "Recall: 0.9177\n",
            "F1 Score: 0.9177\n",
            "                      precision    recall  f1-score   support\n",
            "\n",
            "          Networking       0.91      0.92      0.92       447\n",
            "            Learning       0.92      0.92      0.92       422\n",
            "           Searching       0.92      0.90      0.91       153\n",
            "     Sourcing: Early       0.89      0.93      0.91       122\n",
            "Sourcing: In Process       0.97      0.87      0.92        71\n",
            "\n",
            "            accuracy                           0.92      1215\n",
            "           macro avg       0.92      0.91      0.92      1215\n",
            "        weighted avg       0.92      0.92      0.92      1215\n",
            "\n"
          ]
        },
        {
          "output_type": "stream",
          "name": "stderr",
          "text": [
            "\r 55%|█████▍    | 218/400 [01:28<01:13,  2.48it/s]"
          ]
        },
        {
          "output_type": "stream",
          "name": "stdout",
          "text": [
            "Epoch 218/400\n",
            "Loss: 0.2224\n",
            "Accuracy: 0.9160\n",
            "Precision: 0.9168\n",
            "Recall: 0.9160\n",
            "F1 Score: 0.9160\n",
            "                      precision    recall  f1-score   support\n",
            "\n",
            "          Networking       0.91      0.93      0.92       447\n",
            "            Learning       0.92      0.92      0.92       422\n",
            "           Searching       0.95      0.86      0.90       153\n",
            "     Sourcing: Early       0.87      0.90      0.89       122\n",
            "Sourcing: In Process       0.96      0.92      0.94        71\n",
            "\n",
            "            accuracy                           0.92      1215\n",
            "           macro avg       0.92      0.91      0.91      1215\n",
            "        weighted avg       0.92      0.92      0.92      1215\n",
            "\n"
          ]
        },
        {
          "output_type": "stream",
          "name": "stderr",
          "text": [
            "\r 55%|█████▍    | 219/400 [01:29<01:13,  2.45it/s]"
          ]
        },
        {
          "output_type": "stream",
          "name": "stdout",
          "text": [
            "Epoch 219/400\n",
            "Loss: 0.2432\n",
            "Accuracy: 0.9062\n",
            "Precision: 0.9063\n",
            "Recall: 0.9062\n",
            "F1 Score: 0.9062\n",
            "                      precision    recall  f1-score   support\n",
            "\n",
            "          Networking       0.90      0.92      0.91       447\n",
            "            Learning       0.90      0.90      0.90       422\n",
            "           Searching       0.92      0.89      0.90       153\n",
            "     Sourcing: Early       0.90      0.89      0.89       122\n",
            "Sourcing: In Process       0.96      0.94      0.95        71\n",
            "\n",
            "            accuracy                           0.91      1215\n",
            "           macro avg       0.92      0.91      0.91      1215\n",
            "        weighted avg       0.91      0.91      0.91      1215\n",
            "\n"
          ]
        },
        {
          "output_type": "stream",
          "name": "stderr",
          "text": [
            "\r 55%|█████▌    | 220/400 [01:29<01:14,  2.43it/s]"
          ]
        },
        {
          "output_type": "stream",
          "name": "stdout",
          "text": [
            "Epoch 220/400\n",
            "Loss: 0.1917\n",
            "Accuracy: 0.9226\n",
            "Precision: 0.9230\n",
            "Recall: 0.9226\n",
            "F1 Score: 0.9227\n",
            "                      precision    recall  f1-score   support\n",
            "\n",
            "          Networking       0.91      0.94      0.92       447\n",
            "            Learning       0.92      0.91      0.92       422\n",
            "           Searching       0.97      0.92      0.94       153\n",
            "     Sourcing: Early       0.92      0.91      0.91       122\n",
            "Sourcing: In Process       0.93      0.93      0.93        71\n",
            "\n",
            "            accuracy                           0.92      1215\n",
            "           macro avg       0.93      0.92      0.93      1215\n",
            "        weighted avg       0.92      0.92      0.92      1215\n",
            "\n"
          ]
        },
        {
          "output_type": "stream",
          "name": "stderr",
          "text": [
            "\r 55%|█████▌    | 221/400 [01:30<01:14,  2.40it/s]"
          ]
        },
        {
          "output_type": "stream",
          "name": "stdout",
          "text": [
            "Epoch 221/400\n",
            "Loss: 0.1784\n",
            "Accuracy: 0.9342\n",
            "Precision: 0.9344\n",
            "Recall: 0.9342\n",
            "F1 Score: 0.9342\n",
            "                      precision    recall  f1-score   support\n",
            "\n",
            "          Networking       0.93      0.94      0.93       447\n",
            "            Learning       0.93      0.93      0.93       422\n",
            "           Searching       0.96      0.92      0.94       153\n",
            "     Sourcing: Early       0.94      0.96      0.95       122\n",
            "Sourcing: In Process       0.97      0.93      0.95        71\n",
            "\n",
            "            accuracy                           0.93      1215\n",
            "           macro avg       0.94      0.93      0.94      1215\n",
            "        weighted avg       0.93      0.93      0.93      1215\n",
            "\n"
          ]
        },
        {
          "output_type": "stream",
          "name": "stderr",
          "text": [
            "\r 56%|█████▌    | 222/400 [01:30<01:14,  2.40it/s]"
          ]
        },
        {
          "output_type": "stream",
          "name": "stdout",
          "text": [
            "Epoch 222/400\n",
            "Loss: 0.1829\n",
            "Accuracy: 0.9317\n",
            "Precision: 0.9319\n",
            "Recall: 0.9317\n",
            "F1 Score: 0.9316\n",
            "                      precision    recall  f1-score   support\n",
            "\n",
            "          Networking       0.92      0.94      0.93       447\n",
            "            Learning       0.93      0.92      0.92       422\n",
            "           Searching       0.96      0.92      0.94       153\n",
            "     Sourcing: Early       0.94      0.98      0.96       122\n",
            "Sourcing: In Process       0.93      0.92      0.92        71\n",
            "\n",
            "            accuracy                           0.93      1215\n",
            "           macro avg       0.94      0.93      0.93      1215\n",
            "        weighted avg       0.93      0.93      0.93      1215\n",
            "\n"
          ]
        },
        {
          "output_type": "stream",
          "name": "stderr",
          "text": [
            "\r 56%|█████▌    | 223/400 [01:31<01:13,  2.40it/s]"
          ]
        },
        {
          "output_type": "stream",
          "name": "stdout",
          "text": [
            "Epoch 223/400\n",
            "Loss: 0.1831\n",
            "Accuracy: 0.9243\n",
            "Precision: 0.9243\n",
            "Recall: 0.9243\n",
            "F1 Score: 0.9243\n",
            "                      precision    recall  f1-score   support\n",
            "\n",
            "          Networking       0.93      0.92      0.93       447\n",
            "            Learning       0.93      0.93      0.93       422\n",
            "           Searching       0.92      0.90      0.91       153\n",
            "     Sourcing: Early       0.90      0.93      0.91       122\n",
            "Sourcing: In Process       0.93      0.94      0.94        71\n",
            "\n",
            "            accuracy                           0.92      1215\n",
            "           macro avg       0.92      0.92      0.92      1215\n",
            "        weighted avg       0.92      0.92      0.92      1215\n",
            "\n"
          ]
        },
        {
          "output_type": "stream",
          "name": "stderr",
          "text": [
            "\r 56%|█████▌    | 224/400 [01:31<01:13,  2.38it/s]"
          ]
        },
        {
          "output_type": "stream",
          "name": "stdout",
          "text": [
            "Epoch 224/400\n",
            "Loss: 0.1954\n",
            "Accuracy: 0.9243\n",
            "Precision: 0.9244\n",
            "Recall: 0.9243\n",
            "F1 Score: 0.9243\n",
            "                      precision    recall  f1-score   support\n",
            "\n",
            "          Networking       0.92      0.94      0.93       447\n",
            "            Learning       0.94      0.92      0.93       422\n",
            "           Searching       0.90      0.89      0.89       153\n",
            "     Sourcing: Early       0.90      0.92      0.91       122\n",
            "Sourcing: In Process       0.94      0.94      0.94        71\n",
            "\n",
            "            accuracy                           0.92      1215\n",
            "           macro avg       0.92      0.92      0.92      1215\n",
            "        weighted avg       0.92      0.92      0.92      1215\n",
            "\n"
          ]
        },
        {
          "output_type": "stream",
          "name": "stderr",
          "text": [
            "\r 56%|█████▋    | 225/400 [01:31<01:10,  2.47it/s]"
          ]
        },
        {
          "output_type": "stream",
          "name": "stdout",
          "text": [
            "Epoch 225/400\n",
            "Loss: 0.2133\n",
            "Accuracy: 0.9078\n",
            "Precision: 0.9079\n",
            "Recall: 0.9078\n",
            "F1 Score: 0.9077\n",
            "                      precision    recall  f1-score   support\n",
            "\n",
            "          Networking       0.90      0.92      0.91       447\n",
            "            Learning       0.91      0.91      0.91       422\n",
            "           Searching       0.88      0.82      0.85       153\n",
            "     Sourcing: Early       0.93      0.92      0.92       122\n",
            "Sourcing: In Process       0.99      0.94      0.96        71\n",
            "\n",
            "            accuracy                           0.91      1215\n",
            "           macro avg       0.92      0.90      0.91      1215\n",
            "        weighted avg       0.91      0.91      0.91      1215\n",
            "\n"
          ]
        },
        {
          "output_type": "stream",
          "name": "stderr",
          "text": [
            "\r 56%|█████▋    | 226/400 [01:32<01:09,  2.51it/s]"
          ]
        },
        {
          "output_type": "stream",
          "name": "stdout",
          "text": [
            "Epoch 226/400\n",
            "Loss: 0.2685\n",
            "Accuracy: 0.8889\n",
            "Precision: 0.8890\n",
            "Recall: 0.8889\n",
            "F1 Score: 0.8888\n",
            "                      precision    recall  f1-score   support\n",
            "\n",
            "          Networking       0.88      0.90      0.89       447\n",
            "            Learning       0.89      0.89      0.89       422\n",
            "           Searching       0.88      0.84      0.86       153\n",
            "     Sourcing: Early       0.89      0.89      0.89       122\n",
            "Sourcing: In Process       0.94      0.92      0.93        71\n",
            "\n",
            "            accuracy                           0.89      1215\n",
            "           macro avg       0.90      0.89      0.89      1215\n",
            "        weighted avg       0.89      0.89      0.89      1215\n",
            "\n"
          ]
        },
        {
          "output_type": "stream",
          "name": "stderr",
          "text": [
            "\r 57%|█████▋    | 227/400 [01:32<01:09,  2.49it/s]"
          ]
        },
        {
          "output_type": "stream",
          "name": "stdout",
          "text": [
            "Epoch 227/400\n",
            "Loss: 0.2722\n",
            "Accuracy: 0.8905\n",
            "Precision: 0.8906\n",
            "Recall: 0.8905\n",
            "F1 Score: 0.8904\n",
            "                      precision    recall  f1-score   support\n",
            "\n",
            "          Networking       0.89      0.91      0.90       447\n",
            "            Learning       0.90      0.90      0.90       422\n",
            "           Searching       0.90      0.85      0.88       153\n",
            "     Sourcing: Early       0.87      0.86      0.86       122\n",
            "Sourcing: In Process       0.87      0.85      0.86        71\n",
            "\n",
            "            accuracy                           0.89      1215\n",
            "           macro avg       0.89      0.87      0.88      1215\n",
            "        weighted avg       0.89      0.89      0.89      1215\n",
            "\n"
          ]
        },
        {
          "output_type": "stream",
          "name": "stderr",
          "text": [
            "\r 57%|█████▋    | 228/400 [01:33<01:08,  2.51it/s]"
          ]
        },
        {
          "output_type": "stream",
          "name": "stdout",
          "text": [
            "Epoch 228/400\n",
            "Loss: 0.2648\n",
            "Accuracy: 0.8905\n",
            "Precision: 0.8913\n",
            "Recall: 0.8905\n",
            "F1 Score: 0.8905\n",
            "                      precision    recall  f1-score   support\n",
            "\n",
            "          Networking       0.87      0.92      0.89       447\n",
            "            Learning       0.91      0.89      0.90       422\n",
            "           Searching       0.93      0.85      0.89       153\n",
            "     Sourcing: Early       0.89      0.89      0.89       122\n",
            "Sourcing: In Process       0.84      0.82      0.83        71\n",
            "\n",
            "            accuracy                           0.89      1215\n",
            "           macro avg       0.89      0.87      0.88      1215\n",
            "        weighted avg       0.89      0.89      0.89      1215\n",
            "\n"
          ]
        },
        {
          "output_type": "stream",
          "name": "stderr",
          "text": [
            "\r 57%|█████▋    | 229/400 [01:33<01:07,  2.55it/s]"
          ]
        },
        {
          "output_type": "stream",
          "name": "stdout",
          "text": [
            "Epoch 229/400\n",
            "Loss: 0.2684\n",
            "Accuracy: 0.8930\n",
            "Precision: 0.8935\n",
            "Recall: 0.8930\n",
            "F1 Score: 0.8930\n",
            "                      precision    recall  f1-score   support\n",
            "\n",
            "          Networking       0.88      0.90      0.89       447\n",
            "            Learning       0.89      0.90      0.90       422\n",
            "           Searching       0.92      0.86      0.89       153\n",
            "     Sourcing: Early       0.90      0.91      0.90       122\n",
            "Sourcing: In Process       0.93      0.87      0.90        71\n",
            "\n",
            "            accuracy                           0.89      1215\n",
            "           macro avg       0.90      0.89      0.89      1215\n",
            "        weighted avg       0.89      0.89      0.89      1215\n",
            "\n"
          ]
        },
        {
          "output_type": "stream",
          "name": "stderr",
          "text": [
            "\r 57%|█████▊    | 230/400 [01:33<01:07,  2.51it/s]"
          ]
        },
        {
          "output_type": "stream",
          "name": "stdout",
          "text": [
            "Epoch 230/400\n",
            "Loss: 0.2877\n",
            "Accuracy: 0.8840\n",
            "Precision: 0.8844\n",
            "Recall: 0.8840\n",
            "F1 Score: 0.8839\n",
            "                      precision    recall  f1-score   support\n",
            "\n",
            "          Networking       0.87      0.90      0.88       447\n",
            "            Learning       0.88      0.87      0.88       422\n",
            "           Searching       0.92      0.86      0.89       153\n",
            "     Sourcing: Early       0.90      0.93      0.91       122\n",
            "Sourcing: In Process       0.91      0.85      0.88        71\n",
            "\n",
            "            accuracy                           0.88      1215\n",
            "           macro avg       0.90      0.88      0.89      1215\n",
            "        weighted avg       0.88      0.88      0.88      1215\n",
            "\n"
          ]
        },
        {
          "output_type": "stream",
          "name": "stderr",
          "text": [
            "\r 58%|█████▊    | 231/400 [01:34<01:07,  2.49it/s]"
          ]
        },
        {
          "output_type": "stream",
          "name": "stdout",
          "text": [
            "Epoch 231/400\n",
            "Loss: 0.1969\n",
            "Accuracy: 0.9177\n",
            "Precision: 0.9185\n",
            "Recall: 0.9177\n",
            "F1 Score: 0.9177\n",
            "                      precision    recall  f1-score   support\n",
            "\n",
            "          Networking       0.90      0.93      0.91       447\n",
            "            Learning       0.93      0.91      0.92       422\n",
            "           Searching       0.96      0.89      0.92       153\n",
            "     Sourcing: Early       0.90      0.96      0.93       122\n",
            "Sourcing: In Process       0.91      0.90      0.91        71\n",
            "\n",
            "            accuracy                           0.92      1215\n",
            "           macro avg       0.92      0.92      0.92      1215\n",
            "        weighted avg       0.92      0.92      0.92      1215\n",
            "\n"
          ]
        },
        {
          "output_type": "stream",
          "name": "stderr",
          "text": [
            "\r 58%|█████▊    | 232/400 [01:34<01:08,  2.46it/s]"
          ]
        },
        {
          "output_type": "stream",
          "name": "stdout",
          "text": [
            "Epoch 232/400\n",
            "Loss: 0.2016\n",
            "Accuracy: 0.9235\n",
            "Precision: 0.9237\n",
            "Recall: 0.9235\n",
            "F1 Score: 0.9235\n",
            "                      precision    recall  f1-score   support\n",
            "\n",
            "          Networking       0.93      0.91      0.92       447\n",
            "            Learning       0.91      0.93      0.92       422\n",
            "           Searching       0.95      0.92      0.94       153\n",
            "     Sourcing: Early       0.93      0.93      0.93       122\n",
            "Sourcing: In Process       0.94      0.96      0.95        71\n",
            "\n",
            "            accuracy                           0.92      1215\n",
            "           macro avg       0.93      0.93      0.93      1215\n",
            "        weighted avg       0.92      0.92      0.92      1215\n",
            "\n"
          ]
        },
        {
          "output_type": "stream",
          "name": "stderr",
          "text": [
            "\r 58%|█████▊    | 233/400 [01:35<01:08,  2.44it/s]"
          ]
        },
        {
          "output_type": "stream",
          "name": "stdout",
          "text": [
            "Epoch 233/400\n",
            "Loss: 0.1949\n",
            "Accuracy: 0.9317\n",
            "Precision: 0.9321\n",
            "Recall: 0.9317\n",
            "F1 Score: 0.9317\n",
            "                      precision    recall  f1-score   support\n",
            "\n",
            "          Networking       0.93      0.94      0.93       447\n",
            "            Learning       0.93      0.94      0.93       422\n",
            "           Searching       0.97      0.90      0.94       153\n",
            "     Sourcing: Early       0.92      0.94      0.93       122\n",
            "Sourcing: In Process       0.93      0.92      0.92        71\n",
            "\n",
            "            accuracy                           0.93      1215\n",
            "           macro avg       0.93      0.93      0.93      1215\n",
            "        weighted avg       0.93      0.93      0.93      1215\n",
            "\n"
          ]
        },
        {
          "output_type": "stream",
          "name": "stderr",
          "text": [
            "\r 58%|█████▊    | 234/400 [01:35<01:09,  2.38it/s]"
          ]
        },
        {
          "output_type": "stream",
          "name": "stdout",
          "text": [
            "Epoch 234/400\n",
            "Loss: 0.2033\n",
            "Accuracy: 0.9185\n",
            "Precision: 0.9188\n",
            "Recall: 0.9185\n",
            "F1 Score: 0.9186\n",
            "                      precision    recall  f1-score   support\n",
            "\n",
            "          Networking       0.92      0.92      0.92       447\n",
            "            Learning       0.92      0.92      0.92       422\n",
            "           Searching       0.93      0.90      0.92       153\n",
            "     Sourcing: Early       0.87      0.91      0.89       122\n",
            "Sourcing: In Process       0.94      0.93      0.94        71\n",
            "\n",
            "            accuracy                           0.92      1215\n",
            "           macro avg       0.92      0.92      0.92      1215\n",
            "        weighted avg       0.92      0.92      0.92      1215\n",
            "\n"
          ]
        },
        {
          "output_type": "stream",
          "name": "stderr",
          "text": [
            "\r 59%|█████▉    | 235/400 [01:35<01:08,  2.41it/s]"
          ]
        },
        {
          "output_type": "stream",
          "name": "stdout",
          "text": [
            "Epoch 235/400\n",
            "Loss: 0.2202\n",
            "Accuracy: 0.9218\n",
            "Precision: 0.9220\n",
            "Recall: 0.9218\n",
            "F1 Score: 0.9218\n",
            "                      precision    recall  f1-score   support\n",
            "\n",
            "          Networking       0.92      0.93      0.92       447\n",
            "            Learning       0.92      0.93      0.92       422\n",
            "           Searching       0.93      0.88      0.91       153\n",
            "     Sourcing: Early       0.91      0.93      0.92       122\n",
            "Sourcing: In Process       0.97      0.94      0.96        71\n",
            "\n",
            "            accuracy                           0.92      1215\n",
            "           macro avg       0.93      0.92      0.93      1215\n",
            "        weighted avg       0.92      0.92      0.92      1215\n",
            "\n"
          ]
        },
        {
          "output_type": "stream",
          "name": "stderr",
          "text": [
            "\r 59%|█████▉    | 236/400 [01:36<01:07,  2.42it/s]"
          ]
        },
        {
          "output_type": "stream",
          "name": "stdout",
          "text": [
            "Epoch 236/400\n",
            "Loss: 0.2333\n",
            "Accuracy: 0.9078\n",
            "Precision: 0.9081\n",
            "Recall: 0.9078\n",
            "F1 Score: 0.9078\n",
            "                      precision    recall  f1-score   support\n",
            "\n",
            "          Networking       0.90      0.91      0.90       447\n",
            "            Learning       0.92      0.92      0.92       422\n",
            "           Searching       0.90      0.86      0.88       153\n",
            "     Sourcing: Early       0.87      0.89      0.88       122\n",
            "Sourcing: In Process       0.99      0.94      0.96        71\n",
            "\n",
            "            accuracy                           0.91      1215\n",
            "           macro avg       0.91      0.91      0.91      1215\n",
            "        weighted avg       0.91      0.91      0.91      1215\n",
            "\n"
          ]
        },
        {
          "output_type": "stream",
          "name": "stderr",
          "text": [
            "\r 59%|█████▉    | 237/400 [01:36<01:07,  2.42it/s]"
          ]
        },
        {
          "output_type": "stream",
          "name": "stdout",
          "text": [
            "Epoch 237/400\n",
            "Loss: 0.2378\n",
            "Accuracy: 0.9119\n",
            "Precision: 0.9119\n",
            "Recall: 0.9119\n",
            "F1 Score: 0.9119\n",
            "                      precision    recall  f1-score   support\n",
            "\n",
            "          Networking       0.90      0.90      0.90       447\n",
            "            Learning       0.93      0.93      0.93       422\n",
            "           Searching       0.90      0.90      0.90       153\n",
            "     Sourcing: Early       0.90      0.89      0.89       122\n",
            "Sourcing: In Process       0.96      0.96      0.96        71\n",
            "\n",
            "            accuracy                           0.91      1215\n",
            "           macro avg       0.92      0.91      0.92      1215\n",
            "        weighted avg       0.91      0.91      0.91      1215\n",
            "\n"
          ]
        },
        {
          "output_type": "stream",
          "name": "stderr",
          "text": [
            "\r 60%|█████▉    | 238/400 [01:37<01:05,  2.47it/s]"
          ]
        },
        {
          "output_type": "stream",
          "name": "stdout",
          "text": [
            "Epoch 238/400\n",
            "Loss: 0.2722\n",
            "Accuracy: 0.8963\n",
            "Precision: 0.8968\n",
            "Recall: 0.8963\n",
            "F1 Score: 0.8964\n",
            "                      precision    recall  f1-score   support\n",
            "\n",
            "          Networking       0.88      0.90      0.89       447\n",
            "            Learning       0.91      0.89      0.90       422\n",
            "           Searching       0.91      0.91      0.91       153\n",
            "     Sourcing: Early       0.86      0.89      0.88       122\n",
            "Sourcing: In Process       0.96      0.90      0.93        71\n",
            "\n",
            "            accuracy                           0.90      1215\n",
            "           macro avg       0.90      0.90      0.90      1215\n",
            "        weighted avg       0.90      0.90      0.90      1215\n",
            "\n"
          ]
        },
        {
          "output_type": "stream",
          "name": "stderr",
          "text": [
            "\r 60%|█████▉    | 239/400 [01:37<01:03,  2.53it/s]"
          ]
        },
        {
          "output_type": "stream",
          "name": "stdout",
          "text": [
            "Epoch 239/400\n",
            "Loss: 0.2143\n",
            "Accuracy: 0.9169\n",
            "Precision: 0.9172\n",
            "Recall: 0.9169\n",
            "F1 Score: 0.9169\n",
            "                      precision    recall  f1-score   support\n",
            "\n",
            "          Networking       0.90      0.93      0.92       447\n",
            "            Learning       0.92      0.91      0.92       422\n",
            "           Searching       0.93      0.91      0.92       153\n",
            "     Sourcing: Early       0.91      0.90      0.91       122\n",
            "Sourcing: In Process       0.97      0.93      0.95        71\n",
            "\n",
            "            accuracy                           0.92      1215\n",
            "           macro avg       0.93      0.92      0.92      1215\n",
            "        weighted avg       0.92      0.92      0.92      1215\n",
            "\n"
          ]
        },
        {
          "output_type": "stream",
          "name": "stderr",
          "text": [
            "\r 60%|██████    | 240/400 [01:37<01:02,  2.54it/s]"
          ]
        },
        {
          "output_type": "stream",
          "name": "stdout",
          "text": [
            "Epoch 240/400\n",
            "Loss: 0.2058\n",
            "Accuracy: 0.9251\n",
            "Precision: 0.9253\n",
            "Recall: 0.9251\n",
            "F1 Score: 0.9251\n",
            "                      precision    recall  f1-score   support\n",
            "\n",
            "          Networking       0.92      0.93      0.92       447\n",
            "            Learning       0.92      0.92      0.92       422\n",
            "           Searching       0.95      0.91      0.93       153\n",
            "     Sourcing: Early       0.94      0.93      0.93       122\n",
            "Sourcing: In Process       0.94      0.93      0.94        71\n",
            "\n",
            "            accuracy                           0.93      1215\n",
            "           macro avg       0.93      0.92      0.93      1215\n",
            "        weighted avg       0.93      0.93      0.93      1215\n",
            "\n"
          ]
        },
        {
          "output_type": "stream",
          "name": "stderr",
          "text": [
            "\r 60%|██████    | 241/400 [01:38<01:04,  2.48it/s]"
          ]
        },
        {
          "output_type": "stream",
          "name": "stdout",
          "text": [
            "Epoch 241/400\n",
            "Loss: 0.1662\n",
            "Accuracy: 0.9399\n",
            "Precision: 0.9400\n",
            "Recall: 0.9399\n",
            "F1 Score: 0.9399\n",
            "                      precision    recall  f1-score   support\n",
            "\n",
            "          Networking       0.94      0.94      0.94       447\n",
            "            Learning       0.93      0.95      0.94       422\n",
            "           Searching       0.93      0.90      0.91       153\n",
            "     Sourcing: Early       0.97      0.96      0.97       122\n",
            "Sourcing: In Process       0.94      0.94      0.94        71\n",
            "\n",
            "            accuracy                           0.94      1215\n",
            "           macro avg       0.94      0.94      0.94      1215\n",
            "        weighted avg       0.94      0.94      0.94      1215\n",
            "\n"
          ]
        },
        {
          "output_type": "stream",
          "name": "stderr",
          "text": [
            "\r 60%|██████    | 242/400 [01:38<01:01,  2.55it/s]"
          ]
        },
        {
          "output_type": "stream",
          "name": "stdout",
          "text": [
            "Epoch 242/400\n",
            "Loss: 0.1491\n",
            "Accuracy: 0.9374\n",
            "Precision: 0.9380\n",
            "Recall: 0.9374\n",
            "F1 Score: 0.9375\n",
            "                      precision    recall  f1-score   support\n",
            "\n",
            "          Networking       0.92      0.95      0.93       447\n",
            "            Learning       0.94      0.93      0.94       422\n",
            "           Searching       0.97      0.90      0.94       153\n",
            "     Sourcing: Early       0.95      0.97      0.96       122\n",
            "Sourcing: In Process       0.96      0.94      0.95        71\n",
            "\n",
            "            accuracy                           0.94      1215\n",
            "           macro avg       0.95      0.94      0.94      1215\n",
            "        weighted avg       0.94      0.94      0.94      1215\n",
            "\n"
          ]
        },
        {
          "output_type": "stream",
          "name": "stderr",
          "text": [
            "\r 61%|██████    | 243/400 [01:39<01:02,  2.53it/s]"
          ]
        },
        {
          "output_type": "stream",
          "name": "stdout",
          "text": [
            "Epoch 243/400\n",
            "Loss: 0.1466\n",
            "Accuracy: 0.9457\n",
            "Precision: 0.9462\n",
            "Recall: 0.9457\n",
            "F1 Score: 0.9457\n",
            "                      precision    recall  f1-score   support\n",
            "\n",
            "          Networking       0.92      0.96      0.94       447\n",
            "            Learning       0.96      0.93      0.94       422\n",
            "           Searching       0.95      0.94      0.94       153\n",
            "     Sourcing: Early       0.97      0.94      0.96       122\n",
            "Sourcing: In Process       0.96      0.96      0.96        71\n",
            "\n",
            "            accuracy                           0.95      1215\n",
            "           macro avg       0.95      0.95      0.95      1215\n",
            "        weighted avg       0.95      0.95      0.95      1215\n",
            "\n",
            "Model improved to 0.9457 accuracy. Saving model.\n"
          ]
        },
        {
          "output_type": "stream",
          "name": "stderr",
          "text": [
            "\r 61%|██████    | 244/400 [01:39<01:02,  2.48it/s]"
          ]
        },
        {
          "output_type": "stream",
          "name": "stdout",
          "text": [
            "Epoch 244/400\n",
            "Loss: 0.1247\n",
            "Accuracy: 0.9597\n",
            "Precision: 0.9598\n",
            "Recall: 0.9597\n",
            "F1 Score: 0.9597\n",
            "                      precision    recall  f1-score   support\n",
            "\n",
            "          Networking       0.95      0.97      0.96       447\n",
            "            Learning       0.96      0.96      0.96       422\n",
            "           Searching       0.95      0.94      0.95       153\n",
            "     Sourcing: Early       0.99      0.97      0.98       122\n",
            "Sourcing: In Process       0.97      0.94      0.96        71\n",
            "\n",
            "            accuracy                           0.96      1215\n",
            "           macro avg       0.97      0.96      0.96      1215\n",
            "        weighted avg       0.96      0.96      0.96      1215\n",
            "\n",
            "Model improved to 0.9597 accuracy. Saving model.\n"
          ]
        },
        {
          "output_type": "stream",
          "name": "stderr",
          "text": [
            "\r 61%|██████▏   | 245/400 [01:39<01:02,  2.48it/s]"
          ]
        },
        {
          "output_type": "stream",
          "name": "stdout",
          "text": [
            "Epoch 245/400\n",
            "Loss: 0.1346\n",
            "Accuracy: 0.9506\n",
            "Precision: 0.9507\n",
            "Recall: 0.9506\n",
            "F1 Score: 0.9506\n",
            "                      precision    recall  f1-score   support\n",
            "\n",
            "          Networking       0.94      0.95      0.94       447\n",
            "            Learning       0.95      0.95      0.95       422\n",
            "           Searching       0.94      0.95      0.94       153\n",
            "     Sourcing: Early       0.97      0.98      0.97       122\n",
            "Sourcing: In Process       1.00      0.97      0.99        71\n",
            "\n",
            "            accuracy                           0.95      1215\n",
            "           macro avg       0.96      0.96      0.96      1215\n",
            "        weighted avg       0.95      0.95      0.95      1215\n",
            "\n"
          ]
        },
        {
          "output_type": "stream",
          "name": "stderr",
          "text": [
            "\r 62%|██████▏   | 246/400 [01:40<01:01,  2.49it/s]"
          ]
        },
        {
          "output_type": "stream",
          "name": "stdout",
          "text": [
            "Epoch 246/400\n",
            "Loss: 0.1225\n",
            "Accuracy: 0.9523\n",
            "Precision: 0.9523\n",
            "Recall: 0.9523\n",
            "F1 Score: 0.9523\n",
            "                      precision    recall  f1-score   support\n",
            "\n",
            "          Networking       0.94      0.94      0.94       447\n",
            "            Learning       0.95      0.95      0.95       422\n",
            "           Searching       0.96      0.96      0.96       153\n",
            "     Sourcing: Early       0.98      0.98      0.98       122\n",
            "Sourcing: In Process       0.99      0.96      0.97        71\n",
            "\n",
            "            accuracy                           0.95      1215\n",
            "           macro avg       0.96      0.96      0.96      1215\n",
            "        weighted avg       0.95      0.95      0.95      1215\n",
            "\n"
          ]
        },
        {
          "output_type": "stream",
          "name": "stderr",
          "text": [
            "\r 62%|██████▏   | 247/400 [01:40<01:02,  2.44it/s]"
          ]
        },
        {
          "output_type": "stream",
          "name": "stdout",
          "text": [
            "Epoch 247/400\n",
            "Loss: 0.1284\n",
            "Accuracy: 0.9556\n",
            "Precision: 0.9557\n",
            "Recall: 0.9556\n",
            "F1 Score: 0.9556\n",
            "                      precision    recall  f1-score   support\n",
            "\n",
            "          Networking       0.94      0.96      0.95       447\n",
            "            Learning       0.95      0.95      0.95       422\n",
            "           Searching       0.97      0.93      0.95       153\n",
            "     Sourcing: Early       0.99      0.98      0.99       122\n",
            "Sourcing: In Process       0.99      0.97      0.98        71\n",
            "\n",
            "            accuracy                           0.96      1215\n",
            "           macro avg       0.97      0.96      0.96      1215\n",
            "        weighted avg       0.96      0.96      0.96      1215\n",
            "\n"
          ]
        },
        {
          "output_type": "stream",
          "name": "stderr",
          "text": [
            "\r 62%|██████▏   | 248/400 [01:41<01:03,  2.40it/s]"
          ]
        },
        {
          "output_type": "stream",
          "name": "stdout",
          "text": [
            "Epoch 248/400\n",
            "Loss: 0.1146\n",
            "Accuracy: 0.9605\n",
            "Precision: 0.9606\n",
            "Recall: 0.9605\n",
            "F1 Score: 0.9605\n",
            "                      precision    recall  f1-score   support\n",
            "\n",
            "          Networking       0.95      0.96      0.95       447\n",
            "            Learning       0.95      0.95      0.95       422\n",
            "           Searching       0.97      0.97      0.97       153\n",
            "     Sourcing: Early       0.98      0.98      0.98       122\n",
            "Sourcing: In Process       1.00      0.99      0.99        71\n",
            "\n",
            "            accuracy                           0.96      1215\n",
            "           macro avg       0.97      0.97      0.97      1215\n",
            "        weighted avg       0.96      0.96      0.96      1215\n",
            "\n",
            "Model improved to 0.9605 accuracy. Saving model.\n"
          ]
        },
        {
          "output_type": "stream",
          "name": "stderr",
          "text": [
            "\r 62%|██████▏   | 249/400 [01:41<01:03,  2.37it/s]"
          ]
        },
        {
          "output_type": "stream",
          "name": "stdout",
          "text": [
            "Epoch 249/400\n",
            "Loss: 0.1081\n",
            "Accuracy: 0.9621\n",
            "Precision: 0.9621\n",
            "Recall: 0.9621\n",
            "F1 Score: 0.9621\n",
            "                      precision    recall  f1-score   support\n",
            "\n",
            "          Networking       0.96      0.96      0.96       447\n",
            "            Learning       0.96      0.96      0.96       422\n",
            "           Searching       0.95      0.95      0.95       153\n",
            "     Sourcing: Early       0.98      0.98      0.98       122\n",
            "Sourcing: In Process       0.99      0.99      0.99        71\n",
            "\n",
            "            accuracy                           0.96      1215\n",
            "           macro avg       0.97      0.97      0.97      1215\n",
            "        weighted avg       0.96      0.96      0.96      1215\n",
            "\n",
            "Model improved to 0.9621 accuracy. Saving model.\n"
          ]
        },
        {
          "output_type": "stream",
          "name": "stderr",
          "text": [
            "\r 62%|██████▎   | 250/400 [01:41<01:02,  2.39it/s]"
          ]
        },
        {
          "output_type": "stream",
          "name": "stdout",
          "text": [
            "Epoch 250/400\n",
            "Loss: 0.1097\n",
            "Accuracy: 0.9621\n",
            "Precision: 0.9622\n",
            "Recall: 0.9621\n",
            "F1 Score: 0.9621\n",
            "                      precision    recall  f1-score   support\n",
            "\n",
            "          Networking       0.96      0.97      0.97       447\n",
            "            Learning       0.96      0.95      0.96       422\n",
            "           Searching       0.95      0.96      0.96       153\n",
            "     Sourcing: Early       0.97      0.95      0.96       122\n",
            "Sourcing: In Process       0.99      0.97      0.98        71\n",
            "\n",
            "            accuracy                           0.96      1215\n",
            "           macro avg       0.97      0.96      0.96      1215\n",
            "        weighted avg       0.96      0.96      0.96      1215\n",
            "\n"
          ]
        },
        {
          "output_type": "stream",
          "name": "stderr",
          "text": [
            "\r 63%|██████▎   | 251/400 [01:42<01:02,  2.37it/s]"
          ]
        },
        {
          "output_type": "stream",
          "name": "stdout",
          "text": [
            "Epoch 251/400\n",
            "Loss: 0.1032\n",
            "Accuracy: 0.9663\n",
            "Precision: 0.9663\n",
            "Recall: 0.9663\n",
            "F1 Score: 0.9662\n",
            "                      precision    recall  f1-score   support\n",
            "\n",
            "          Networking       0.96      0.97      0.96       447\n",
            "            Learning       0.97      0.96      0.96       422\n",
            "           Searching       0.96      0.95      0.95       153\n",
            "     Sourcing: Early       0.98      0.98      0.98       122\n",
            "Sourcing: In Process       0.99      0.99      0.99        71\n",
            "\n",
            "            accuracy                           0.97      1215\n",
            "           macro avg       0.97      0.97      0.97      1215\n",
            "        weighted avg       0.97      0.97      0.97      1215\n",
            "\n",
            "Model improved to 0.9663 accuracy. Saving model.\n"
          ]
        },
        {
          "output_type": "stream",
          "name": "stderr",
          "text": [
            "\r 63%|██████▎   | 252/400 [01:42<01:02,  2.39it/s]"
          ]
        },
        {
          "output_type": "stream",
          "name": "stdout",
          "text": [
            "Epoch 252/400\n",
            "Loss: 0.0956\n",
            "Accuracy: 0.9654\n",
            "Precision: 0.9655\n",
            "Recall: 0.9654\n",
            "F1 Score: 0.9654\n",
            "                      precision    recall  f1-score   support\n",
            "\n",
            "          Networking       0.96      0.97      0.97       447\n",
            "            Learning       0.97      0.96      0.97       422\n",
            "           Searching       0.95      0.96      0.95       153\n",
            "     Sourcing: Early       0.97      0.97      0.97       122\n",
            "Sourcing: In Process       0.99      0.97      0.98        71\n",
            "\n",
            "            accuracy                           0.97      1215\n",
            "           macro avg       0.97      0.97      0.97      1215\n",
            "        weighted avg       0.97      0.97      0.97      1215\n",
            "\n"
          ]
        },
        {
          "output_type": "stream",
          "name": "stderr",
          "text": [
            "\r 63%|██████▎   | 253/400 [01:43<01:01,  2.40it/s]"
          ]
        },
        {
          "output_type": "stream",
          "name": "stdout",
          "text": [
            "Epoch 253/400\n",
            "Loss: 0.0996\n",
            "Accuracy: 0.9687\n",
            "Precision: 0.9688\n",
            "Recall: 0.9687\n",
            "F1 Score: 0.9687\n",
            "                      precision    recall  f1-score   support\n",
            "\n",
            "          Networking       0.96      0.97      0.97       447\n",
            "            Learning       0.97      0.97      0.97       422\n",
            "           Searching       0.96      0.95      0.95       153\n",
            "     Sourcing: Early       0.98      0.98      0.98       122\n",
            "Sourcing: In Process       1.00      0.99      0.99        71\n",
            "\n",
            "            accuracy                           0.97      1215\n",
            "           macro avg       0.97      0.97      0.97      1215\n",
            "        weighted avg       0.97      0.97      0.97      1215\n",
            "\n",
            "Model improved to 0.9687 accuracy. Saving model.\n"
          ]
        },
        {
          "output_type": "stream",
          "name": "stderr",
          "text": [
            "\r 64%|██████▎   | 254/400 [01:43<01:01,  2.38it/s]"
          ]
        },
        {
          "output_type": "stream",
          "name": "stdout",
          "text": [
            "Epoch 254/400\n",
            "Loss: 0.0933\n",
            "Accuracy: 0.9695\n",
            "Precision: 0.9697\n",
            "Recall: 0.9695\n",
            "F1 Score: 0.9696\n",
            "                      precision    recall  f1-score   support\n",
            "\n",
            "          Networking       0.97      0.97      0.97       447\n",
            "            Learning       0.97      0.97      0.97       422\n",
            "           Searching       0.94      0.96      0.95       153\n",
            "     Sourcing: Early       0.99      0.97      0.98       122\n",
            "Sourcing: In Process       0.97      0.96      0.96        71\n",
            "\n",
            "            accuracy                           0.97      1215\n",
            "           macro avg       0.97      0.97      0.97      1215\n",
            "        weighted avg       0.97      0.97      0.97      1215\n",
            "\n",
            "Model improved to 0.9695 accuracy. Saving model.\n"
          ]
        },
        {
          "output_type": "stream",
          "name": "stderr",
          "text": [
            "\r 64%|██████▍   | 255/400 [01:44<00:59,  2.42it/s]"
          ]
        },
        {
          "output_type": "stream",
          "name": "stdout",
          "text": [
            "Epoch 255/400\n",
            "Loss: 0.1069\n",
            "Accuracy: 0.9630\n",
            "Precision: 0.9631\n",
            "Recall: 0.9630\n",
            "F1 Score: 0.9630\n",
            "                      precision    recall  f1-score   support\n",
            "\n",
            "          Networking       0.95      0.97      0.96       447\n",
            "            Learning       0.97      0.95      0.96       422\n",
            "           Searching       0.95      0.95      0.95       153\n",
            "     Sourcing: Early       0.98      0.99      0.99       122\n",
            "Sourcing: In Process       1.00      0.97      0.99        71\n",
            "\n",
            "            accuracy                           0.96      1215\n",
            "           macro avg       0.97      0.97      0.97      1215\n",
            "        weighted avg       0.96      0.96      0.96      1215\n",
            "\n"
          ]
        },
        {
          "output_type": "stream",
          "name": "stderr",
          "text": [
            "\r 64%|██████▍   | 256/400 [01:44<00:58,  2.47it/s]"
          ]
        },
        {
          "output_type": "stream",
          "name": "stdout",
          "text": [
            "Epoch 256/400\n",
            "Loss: 0.1047\n",
            "Accuracy: 0.9646\n",
            "Precision: 0.9647\n",
            "Recall: 0.9646\n",
            "F1 Score: 0.9645\n",
            "                      precision    recall  f1-score   support\n",
            "\n",
            "          Networking       0.96      0.98      0.97       447\n",
            "            Learning       0.98      0.96      0.97       422\n",
            "           Searching       0.95      0.92      0.93       153\n",
            "     Sourcing: Early       0.97      0.97      0.97       122\n",
            "Sourcing: In Process       0.97      0.97      0.97        71\n",
            "\n",
            "            accuracy                           0.96      1215\n",
            "           macro avg       0.96      0.96      0.96      1215\n",
            "        weighted avg       0.96      0.96      0.96      1215\n",
            "\n"
          ]
        },
        {
          "output_type": "stream",
          "name": "stderr",
          "text": [
            "\r 64%|██████▍   | 257/400 [01:44<00:57,  2.47it/s]"
          ]
        },
        {
          "output_type": "stream",
          "name": "stdout",
          "text": [
            "Epoch 257/400\n",
            "Loss: 0.1080\n",
            "Accuracy: 0.9663\n",
            "Precision: 0.9663\n",
            "Recall: 0.9663\n",
            "F1 Score: 0.9662\n",
            "                      precision    recall  f1-score   support\n",
            "\n",
            "          Networking       0.97      0.96      0.97       447\n",
            "            Learning       0.97      0.97      0.97       422\n",
            "           Searching       0.94      0.94      0.94       153\n",
            "     Sourcing: Early       0.96      0.98      0.97       122\n",
            "Sourcing: In Process       0.99      1.00      0.99        71\n",
            "\n",
            "            accuracy                           0.97      1215\n",
            "           macro avg       0.97      0.97      0.97      1215\n",
            "        weighted avg       0.97      0.97      0.97      1215\n",
            "\n"
          ]
        },
        {
          "output_type": "stream",
          "name": "stderr",
          "text": [
            "\r 64%|██████▍   | 258/400 [01:45<00:56,  2.50it/s]"
          ]
        },
        {
          "output_type": "stream",
          "name": "stdout",
          "text": [
            "Epoch 258/400\n",
            "Loss: 0.0953\n",
            "Accuracy: 0.9646\n",
            "Precision: 0.9647\n",
            "Recall: 0.9646\n",
            "F1 Score: 0.9646\n",
            "                      precision    recall  f1-score   support\n",
            "\n",
            "          Networking       0.96      0.96      0.96       447\n",
            "            Learning       0.95      0.96      0.96       422\n",
            "           Searching       0.98      0.95      0.97       153\n",
            "     Sourcing: Early       0.98      0.99      0.99       122\n",
            "Sourcing: In Process       0.97      0.97      0.97        71\n",
            "\n",
            "            accuracy                           0.96      1215\n",
            "           macro avg       0.97      0.97      0.97      1215\n",
            "        weighted avg       0.96      0.96      0.96      1215\n",
            "\n"
          ]
        },
        {
          "output_type": "stream",
          "name": "stderr",
          "text": [
            "\r 65%|██████▍   | 259/400 [01:45<00:57,  2.47it/s]"
          ]
        },
        {
          "output_type": "stream",
          "name": "stdout",
          "text": [
            "Epoch 259/400\n",
            "Loss: 0.0837\n",
            "Accuracy: 0.9745\n",
            "Precision: 0.9745\n",
            "Recall: 0.9745\n",
            "F1 Score: 0.9745\n",
            "                      precision    recall  f1-score   support\n",
            "\n",
            "          Networking       0.97      0.98      0.97       447\n",
            "            Learning       0.98      0.96      0.97       422\n",
            "           Searching       0.99      0.99      0.99       153\n",
            "     Sourcing: Early       0.98      0.98      0.98       122\n",
            "Sourcing: In Process       0.97      0.96      0.96        71\n",
            "\n",
            "            accuracy                           0.97      1215\n",
            "           macro avg       0.98      0.98      0.98      1215\n",
            "        weighted avg       0.97      0.97      0.97      1215\n",
            "\n",
            "Model improved to 0.9745 accuracy. Saving model.\n"
          ]
        },
        {
          "output_type": "stream",
          "name": "stderr",
          "text": [
            "\r 65%|██████▌   | 260/400 [01:46<00:57,  2.43it/s]"
          ]
        },
        {
          "output_type": "stream",
          "name": "stdout",
          "text": [
            "Epoch 260/400\n",
            "Loss: 0.0939\n",
            "Accuracy: 0.9695\n",
            "Precision: 0.9696\n",
            "Recall: 0.9695\n",
            "F1 Score: 0.9695\n",
            "                      precision    recall  f1-score   support\n",
            "\n",
            "          Networking       0.97      0.97      0.97       447\n",
            "            Learning       0.97      0.96      0.97       422\n",
            "           Searching       0.96      0.97      0.97       153\n",
            "     Sourcing: Early       0.98      0.98      0.98       122\n",
            "Sourcing: In Process       0.97      0.97      0.97        71\n",
            "\n",
            "            accuracy                           0.97      1215\n",
            "           macro avg       0.97      0.97      0.97      1215\n",
            "        weighted avg       0.97      0.97      0.97      1215\n",
            "\n"
          ]
        },
        {
          "output_type": "stream",
          "name": "stderr",
          "text": [
            "\r 65%|██████▌   | 261/400 [01:46<00:57,  2.43it/s]"
          ]
        },
        {
          "output_type": "stream",
          "name": "stdout",
          "text": [
            "Epoch 261/400\n",
            "Loss: 0.0936\n",
            "Accuracy: 0.9654\n",
            "Precision: 0.9655\n",
            "Recall: 0.9654\n",
            "F1 Score: 0.9654\n",
            "                      precision    recall  f1-score   support\n",
            "\n",
            "          Networking       0.96      0.97      0.97       447\n",
            "            Learning       0.97      0.96      0.96       422\n",
            "           Searching       0.97      0.97      0.97       153\n",
            "     Sourcing: Early       0.96      0.96      0.96       122\n",
            "Sourcing: In Process       0.97      0.97      0.97        71\n",
            "\n",
            "            accuracy                           0.97      1215\n",
            "           macro avg       0.97      0.97      0.97      1215\n",
            "        weighted avg       0.97      0.97      0.97      1215\n",
            "\n"
          ]
        },
        {
          "output_type": "stream",
          "name": "stderr",
          "text": [
            "\r 66%|██████▌   | 262/400 [01:46<00:56,  2.42it/s]"
          ]
        },
        {
          "output_type": "stream",
          "name": "stdout",
          "text": [
            "Epoch 262/400\n",
            "Loss: 0.0870\n",
            "Accuracy: 0.9720\n",
            "Precision: 0.9721\n",
            "Recall: 0.9720\n",
            "F1 Score: 0.9720\n",
            "                      precision    recall  f1-score   support\n",
            "\n",
            "          Networking       0.96      0.98      0.97       447\n",
            "            Learning       0.97      0.97      0.97       422\n",
            "           Searching       0.97      0.95      0.96       153\n",
            "     Sourcing: Early       0.99      0.98      0.98       122\n",
            "Sourcing: In Process       0.99      0.99      0.99        71\n",
            "\n",
            "            accuracy                           0.97      1215\n",
            "           macro avg       0.98      0.97      0.97      1215\n",
            "        weighted avg       0.97      0.97      0.97      1215\n",
            "\n"
          ]
        },
        {
          "output_type": "stream",
          "name": "stderr",
          "text": [
            "\r 66%|██████▌   | 263/400 [01:47<00:56,  2.42it/s]"
          ]
        },
        {
          "output_type": "stream",
          "name": "stdout",
          "text": [
            "Epoch 263/400\n",
            "Loss: 0.1331\n",
            "Accuracy: 0.9506\n",
            "Precision: 0.9507\n",
            "Recall: 0.9506\n",
            "F1 Score: 0.9506\n",
            "                      precision    recall  f1-score   support\n",
            "\n",
            "          Networking       0.95      0.95      0.95       447\n",
            "            Learning       0.94      0.95      0.95       422\n",
            "           Searching       0.95      0.93      0.94       153\n",
            "     Sourcing: Early       0.95      0.96      0.96       122\n",
            "Sourcing: In Process       0.99      0.94      0.96        71\n",
            "\n",
            "            accuracy                           0.95      1215\n",
            "           macro avg       0.96      0.95      0.95      1215\n",
            "        weighted avg       0.95      0.95      0.95      1215\n",
            "\n"
          ]
        },
        {
          "output_type": "stream",
          "name": "stderr",
          "text": [
            "\r 66%|██████▌   | 264/400 [01:47<00:56,  2.41it/s]"
          ]
        },
        {
          "output_type": "stream",
          "name": "stdout",
          "text": [
            "Epoch 264/400\n",
            "Loss: 0.0974\n",
            "Accuracy: 0.9687\n",
            "Precision: 0.9688\n",
            "Recall: 0.9687\n",
            "F1 Score: 0.9687\n",
            "                      precision    recall  f1-score   support\n",
            "\n",
            "          Networking       0.96      0.97      0.97       447\n",
            "            Learning       0.98      0.97      0.97       422\n",
            "           Searching       0.97      0.97      0.97       153\n",
            "     Sourcing: Early       0.97      0.97      0.97       122\n",
            "Sourcing: In Process       0.96      0.99      0.97        71\n",
            "\n",
            "            accuracy                           0.97      1215\n",
            "           macro avg       0.97      0.97      0.97      1215\n",
            "        weighted avg       0.97      0.97      0.97      1215\n",
            "\n"
          ]
        },
        {
          "output_type": "stream",
          "name": "stderr",
          "text": [
            "\r 66%|██████▋   | 265/400 [01:48<00:56,  2.40it/s]"
          ]
        },
        {
          "output_type": "stream",
          "name": "stdout",
          "text": [
            "Epoch 265/400\n",
            "Loss: 0.0944\n",
            "Accuracy: 0.9613\n",
            "Precision: 0.9615\n",
            "Recall: 0.9613\n",
            "F1 Score: 0.9613\n",
            "                      precision    recall  f1-score   support\n",
            "\n",
            "          Networking       0.95      0.97      0.96       447\n",
            "            Learning       0.96      0.95      0.96       422\n",
            "           Searching       0.98      0.95      0.96       153\n",
            "     Sourcing: Early       0.98      0.98      0.98       122\n",
            "Sourcing: In Process       0.92      0.94      0.93        71\n",
            "\n",
            "            accuracy                           0.96      1215\n",
            "           macro avg       0.96      0.96      0.96      1215\n",
            "        weighted avg       0.96      0.96      0.96      1215\n",
            "\n"
          ]
        },
        {
          "output_type": "stream",
          "name": "stderr",
          "text": [
            "\r 66%|██████▋   | 266/400 [01:48<00:54,  2.46it/s]"
          ]
        },
        {
          "output_type": "stream",
          "name": "stdout",
          "text": [
            "Epoch 266/400\n",
            "Loss: 0.0989\n",
            "Accuracy: 0.9654\n",
            "Precision: 0.9656\n",
            "Recall: 0.9654\n",
            "F1 Score: 0.9655\n",
            "                      precision    recall  f1-score   support\n",
            "\n",
            "          Networking       0.96      0.97      0.96       447\n",
            "            Learning       0.97      0.96      0.96       422\n",
            "           Searching       0.99      0.96      0.97       153\n",
            "     Sourcing: Early       0.98      0.98      0.98       122\n",
            "Sourcing: In Process       0.94      0.96      0.95        71\n",
            "\n",
            "            accuracy                           0.97      1215\n",
            "           macro avg       0.97      0.97      0.97      1215\n",
            "        weighted avg       0.97      0.97      0.97      1215\n",
            "\n"
          ]
        },
        {
          "output_type": "stream",
          "name": "stderr",
          "text": [
            "\r 67%|██████▋   | 267/400 [01:48<00:53,  2.46it/s]"
          ]
        },
        {
          "output_type": "stream",
          "name": "stdout",
          "text": [
            "Epoch 267/400\n",
            "Loss: 0.1196\n",
            "Accuracy: 0.9572\n",
            "Precision: 0.9572\n",
            "Recall: 0.9572\n",
            "F1 Score: 0.9572\n",
            "                      precision    recall  f1-score   support\n",
            "\n",
            "          Networking       0.96      0.96      0.96       447\n",
            "            Learning       0.95      0.96      0.95       422\n",
            "           Searching       0.97      0.96      0.97       153\n",
            "     Sourcing: Early       0.96      0.97      0.96       122\n",
            "Sourcing: In Process       0.96      0.93      0.94        71\n",
            "\n",
            "            accuracy                           0.96      1215\n",
            "           macro avg       0.96      0.95      0.96      1215\n",
            "        weighted avg       0.96      0.96      0.96      1215\n",
            "\n"
          ]
        },
        {
          "output_type": "stream",
          "name": "stderr",
          "text": [
            "\r 67%|██████▋   | 268/400 [01:49<00:53,  2.48it/s]"
          ]
        },
        {
          "output_type": "stream",
          "name": "stdout",
          "text": [
            "Epoch 268/400\n",
            "Loss: 0.1371\n",
            "Accuracy: 0.9514\n",
            "Precision: 0.9517\n",
            "Recall: 0.9514\n",
            "F1 Score: 0.9514\n",
            "                      precision    recall  f1-score   support\n",
            "\n",
            "          Networking       0.94      0.96      0.95       447\n",
            "            Learning       0.95      0.94      0.95       422\n",
            "           Searching       0.97      0.93      0.95       153\n",
            "     Sourcing: Early       0.98      0.97      0.97       122\n",
            "Sourcing: In Process       0.96      0.96      0.96        71\n",
            "\n",
            "            accuracy                           0.95      1215\n",
            "           macro avg       0.96      0.95      0.95      1215\n",
            "        weighted avg       0.95      0.95      0.95      1215\n",
            "\n"
          ]
        },
        {
          "output_type": "stream",
          "name": "stderr",
          "text": [
            "\r 67%|██████▋   | 269/400 [01:49<00:52,  2.48it/s]"
          ]
        },
        {
          "output_type": "stream",
          "name": "stdout",
          "text": [
            "Epoch 269/400\n",
            "Loss: 0.0834\n",
            "Accuracy: 0.9745\n",
            "Precision: 0.9746\n",
            "Recall: 0.9745\n",
            "F1 Score: 0.9745\n",
            "                      precision    recall  f1-score   support\n",
            "\n",
            "          Networking       0.96      0.98      0.97       447\n",
            "            Learning       0.98      0.97      0.97       422\n",
            "           Searching       0.99      0.99      0.99       153\n",
            "     Sourcing: Early       0.98      0.97      0.98       122\n",
            "Sourcing: In Process       1.00      1.00      1.00        71\n",
            "\n",
            "            accuracy                           0.97      1215\n",
            "           macro avg       0.98      0.98      0.98      1215\n",
            "        weighted avg       0.97      0.97      0.97      1215\n",
            "\n"
          ]
        },
        {
          "output_type": "stream",
          "name": "stderr",
          "text": [
            "\r 68%|██████▊   | 270/400 [01:50<00:51,  2.53it/s]"
          ]
        },
        {
          "output_type": "stream",
          "name": "stdout",
          "text": [
            "Epoch 270/400\n",
            "Loss: 0.0741\n",
            "Accuracy: 0.9728\n",
            "Precision: 0.9729\n",
            "Recall: 0.9728\n",
            "F1 Score: 0.9728\n",
            "                      precision    recall  f1-score   support\n",
            "\n",
            "          Networking       0.96      0.97      0.97       447\n",
            "            Learning       0.98      0.96      0.97       422\n",
            "           Searching       0.97      0.99      0.98       153\n",
            "     Sourcing: Early       0.99      0.99      0.99       122\n",
            "Sourcing: In Process       0.99      0.99      0.99        71\n",
            "\n",
            "            accuracy                           0.97      1215\n",
            "           macro avg       0.98      0.98      0.98      1215\n",
            "        weighted avg       0.97      0.97      0.97      1215\n",
            "\n"
          ]
        },
        {
          "output_type": "stream",
          "name": "stderr",
          "text": [
            "\r 68%|██████▊   | 271/400 [01:50<00:51,  2.53it/s]"
          ]
        },
        {
          "output_type": "stream",
          "name": "stdout",
          "text": [
            "Epoch 271/400\n",
            "Loss: 0.1021\n",
            "Accuracy: 0.9638\n",
            "Precision: 0.9638\n",
            "Recall: 0.9638\n",
            "F1 Score: 0.9638\n",
            "                      precision    recall  f1-score   support\n",
            "\n",
            "          Networking       0.96      0.96      0.96       447\n",
            "            Learning       0.96      0.96      0.96       422\n",
            "           Searching       0.97      0.97      0.97       153\n",
            "     Sourcing: Early       0.97      0.97      0.97       122\n",
            "Sourcing: In Process       0.97      0.99      0.98        71\n",
            "\n",
            "            accuracy                           0.96      1215\n",
            "           macro avg       0.97      0.97      0.97      1215\n",
            "        weighted avg       0.96      0.96      0.96      1215\n",
            "\n"
          ]
        },
        {
          "output_type": "stream",
          "name": "stderr",
          "text": [
            "\r 68%|██████▊   | 272/400 [01:50<00:50,  2.52it/s]"
          ]
        },
        {
          "output_type": "stream",
          "name": "stdout",
          "text": [
            "Epoch 272/400\n",
            "Loss: 0.0869\n",
            "Accuracy: 0.9704\n",
            "Precision: 0.9704\n",
            "Recall: 0.9704\n",
            "F1 Score: 0.9703\n",
            "                      precision    recall  f1-score   support\n",
            "\n",
            "          Networking       0.97      0.98      0.97       447\n",
            "            Learning       0.97      0.97      0.97       422\n",
            "           Searching       0.97      0.94      0.96       153\n",
            "     Sourcing: Early       0.97      0.98      0.98       122\n",
            "Sourcing: In Process       1.00      0.97      0.99        71\n",
            "\n",
            "            accuracy                           0.97      1215\n",
            "           macro avg       0.98      0.97      0.97      1215\n",
            "        weighted avg       0.97      0.97      0.97      1215\n",
            "\n"
          ]
        },
        {
          "output_type": "stream",
          "name": "stderr",
          "text": [
            "\r 68%|██████▊   | 273/400 [01:51<00:51,  2.45it/s]"
          ]
        },
        {
          "output_type": "stream",
          "name": "stdout",
          "text": [
            "Epoch 273/400\n",
            "Loss: 0.0753\n",
            "Accuracy: 0.9728\n",
            "Precision: 0.9729\n",
            "Recall: 0.9728\n",
            "F1 Score: 0.9728\n",
            "                      precision    recall  f1-score   support\n",
            "\n",
            "          Networking       0.98      0.96      0.97       447\n",
            "            Learning       0.97      0.98      0.97       422\n",
            "           Searching       0.97      0.98      0.97       153\n",
            "     Sourcing: Early       0.98      0.99      0.99       122\n",
            "Sourcing: In Process       0.97      0.97      0.97        71\n",
            "\n",
            "            accuracy                           0.97      1215\n",
            "           macro avg       0.97      0.98      0.97      1215\n",
            "        weighted avg       0.97      0.97      0.97      1215\n",
            "\n"
          ]
        },
        {
          "output_type": "stream",
          "name": "stderr",
          "text": [
            "\r 68%|██████▊   | 274/400 [01:51<00:51,  2.44it/s]"
          ]
        },
        {
          "output_type": "stream",
          "name": "stdout",
          "text": [
            "Epoch 274/400\n",
            "Loss: 0.0697\n",
            "Accuracy: 0.9761\n",
            "Precision: 0.9762\n",
            "Recall: 0.9761\n",
            "F1 Score: 0.9761\n",
            "                      precision    recall  f1-score   support\n",
            "\n",
            "          Networking       0.98      0.97      0.97       447\n",
            "            Learning       0.97      0.97      0.97       422\n",
            "           Searching       0.98      0.99      0.98       153\n",
            "     Sourcing: Early       1.00      0.98      0.99       122\n",
            "Sourcing: In Process       0.97      1.00      0.99        71\n",
            "\n",
            "            accuracy                           0.98      1215\n",
            "           macro avg       0.98      0.98      0.98      1215\n",
            "        weighted avg       0.98      0.98      0.98      1215\n",
            "\n",
            "Model improved to 0.9761 accuracy. Saving model.\n"
          ]
        },
        {
          "output_type": "stream",
          "name": "stderr",
          "text": [
            "\r 69%|██████▉   | 275/400 [01:52<00:50,  2.46it/s]"
          ]
        },
        {
          "output_type": "stream",
          "name": "stdout",
          "text": [
            "Epoch 275/400\n",
            "Loss: 0.0737\n",
            "Accuracy: 0.9786\n",
            "Precision: 0.9787\n",
            "Recall: 0.9786\n",
            "F1 Score: 0.9786\n",
            "                      precision    recall  f1-score   support\n",
            "\n",
            "          Networking       0.98      0.98      0.98       447\n",
            "            Learning       0.97      0.98      0.98       422\n",
            "           Searching       0.99      0.96      0.98       153\n",
            "     Sourcing: Early       0.98      0.99      0.99       122\n",
            "Sourcing: In Process       1.00      0.97      0.99        71\n",
            "\n",
            "            accuracy                           0.98      1215\n",
            "           macro avg       0.98      0.98      0.98      1215\n",
            "        weighted avg       0.98      0.98      0.98      1215\n",
            "\n",
            "Model improved to 0.9786 accuracy. Saving model.\n"
          ]
        },
        {
          "output_type": "stream",
          "name": "stderr",
          "text": [
            "\r 69%|██████▉   | 276/400 [01:52<00:51,  2.40it/s]"
          ]
        },
        {
          "output_type": "stream",
          "name": "stdout",
          "text": [
            "Epoch 276/400\n",
            "Loss: 0.0751\n",
            "Accuracy: 0.9745\n",
            "Precision: 0.9745\n",
            "Recall: 0.9745\n",
            "F1 Score: 0.9745\n",
            "                      precision    recall  f1-score   support\n",
            "\n",
            "          Networking       0.97      0.98      0.97       447\n",
            "            Learning       0.98      0.97      0.97       422\n",
            "           Searching       0.97      0.98      0.98       153\n",
            "     Sourcing: Early       0.98      0.98      0.98       122\n",
            "Sourcing: In Process       0.99      0.99      0.99        71\n",
            "\n",
            "            accuracy                           0.97      1215\n",
            "           macro avg       0.98      0.98      0.98      1215\n",
            "        weighted avg       0.97      0.97      0.97      1215\n",
            "\n"
          ]
        },
        {
          "output_type": "stream",
          "name": "stderr",
          "text": [
            "\r 69%|██████▉   | 277/400 [01:53<00:52,  2.36it/s]"
          ]
        },
        {
          "output_type": "stream",
          "name": "stdout",
          "text": [
            "Epoch 277/400\n",
            "Loss: 0.0701\n",
            "Accuracy: 0.9786\n",
            "Precision: 0.9786\n",
            "Recall: 0.9786\n",
            "F1 Score: 0.9786\n",
            "                      precision    recall  f1-score   support\n",
            "\n",
            "          Networking       0.98      0.98      0.98       447\n",
            "            Learning       0.98      0.97      0.97       422\n",
            "           Searching       0.99      0.98      0.98       153\n",
            "     Sourcing: Early       0.98      1.00      0.99       122\n",
            "Sourcing: In Process       0.99      0.96      0.97        71\n",
            "\n",
            "            accuracy                           0.98      1215\n",
            "           macro avg       0.98      0.98      0.98      1215\n",
            "        weighted avg       0.98      0.98      0.98      1215\n",
            "\n"
          ]
        },
        {
          "output_type": "stream",
          "name": "stderr",
          "text": [
            "\r 70%|██████▉   | 278/400 [01:53<00:51,  2.35it/s]"
          ]
        },
        {
          "output_type": "stream",
          "name": "stdout",
          "text": [
            "Epoch 278/400\n",
            "Loss: 0.1082\n",
            "Accuracy: 0.9621\n",
            "Precision: 0.9624\n",
            "Recall: 0.9621\n",
            "F1 Score: 0.9621\n",
            "                      precision    recall  f1-score   support\n",
            "\n",
            "          Networking       0.95      0.96      0.96       447\n",
            "            Learning       0.96      0.97      0.96       422\n",
            "           Searching       0.99      0.94      0.96       153\n",
            "     Sourcing: Early       0.97      0.96      0.97       122\n",
            "Sourcing: In Process       0.95      0.99      0.97        71\n",
            "\n",
            "            accuracy                           0.96      1215\n",
            "           macro avg       0.96      0.96      0.96      1215\n",
            "        weighted avg       0.96      0.96      0.96      1215\n",
            "\n"
          ]
        },
        {
          "output_type": "stream",
          "name": "stderr",
          "text": [
            "\r 70%|██████▉   | 279/400 [01:53<00:51,  2.37it/s]"
          ]
        },
        {
          "output_type": "stream",
          "name": "stdout",
          "text": [
            "Epoch 279/400\n",
            "Loss: 0.0652\n",
            "Accuracy: 0.9770\n",
            "Precision: 0.9770\n",
            "Recall: 0.9770\n",
            "F1 Score: 0.9770\n",
            "                      precision    recall  f1-score   support\n",
            "\n",
            "          Networking       0.97      0.98      0.97       447\n",
            "            Learning       0.97      0.97      0.97       422\n",
            "           Searching       0.99      0.99      0.99       153\n",
            "     Sourcing: Early       1.00      0.99      1.00       122\n",
            "Sourcing: In Process       1.00      0.99      0.99        71\n",
            "\n",
            "            accuracy                           0.98      1215\n",
            "           macro avg       0.99      0.98      0.98      1215\n",
            "        weighted avg       0.98      0.98      0.98      1215\n",
            "\n"
          ]
        },
        {
          "output_type": "stream",
          "name": "stderr",
          "text": [
            "\r 70%|███████   | 280/400 [01:54<00:50,  2.36it/s]"
          ]
        },
        {
          "output_type": "stream",
          "name": "stdout",
          "text": [
            "Epoch 280/400\n",
            "Loss: 0.0964\n",
            "Accuracy: 0.9671\n",
            "Precision: 0.9671\n",
            "Recall: 0.9671\n",
            "F1 Score: 0.9671\n",
            "                      precision    recall  f1-score   support\n",
            "\n",
            "          Networking       0.96      0.97      0.96       447\n",
            "            Learning       0.96      0.96      0.96       422\n",
            "           Searching       0.97      0.96      0.97       153\n",
            "     Sourcing: Early       0.98      0.98      0.98       122\n",
            "Sourcing: In Process       0.99      0.99      0.99        71\n",
            "\n",
            "            accuracy                           0.97      1215\n",
            "           macro avg       0.97      0.97      0.97      1215\n",
            "        weighted avg       0.97      0.97      0.97      1215\n",
            "\n"
          ]
        },
        {
          "output_type": "stream",
          "name": "stderr",
          "text": [
            "\r 70%|███████   | 281/400 [01:54<00:50,  2.35it/s]"
          ]
        },
        {
          "output_type": "stream",
          "name": "stdout",
          "text": [
            "Epoch 281/400\n",
            "Loss: 0.0986\n",
            "Accuracy: 0.9646\n",
            "Precision: 0.9649\n",
            "Recall: 0.9646\n",
            "F1 Score: 0.9647\n",
            "                      precision    recall  f1-score   support\n",
            "\n",
            "          Networking       0.97      0.97      0.97       447\n",
            "            Learning       0.96      0.97      0.96       422\n",
            "           Searching       0.94      0.97      0.95       153\n",
            "     Sourcing: Early       0.98      0.95      0.97       122\n",
            "Sourcing: In Process       1.00      0.96      0.98        71\n",
            "\n",
            "            accuracy                           0.96      1215\n",
            "           macro avg       0.97      0.96      0.97      1215\n",
            "        weighted avg       0.96      0.96      0.96      1215\n",
            "\n"
          ]
        },
        {
          "output_type": "stream",
          "name": "stderr",
          "text": [
            "\r 70%|███████   | 282/400 [01:55<00:48,  2.43it/s]"
          ]
        },
        {
          "output_type": "stream",
          "name": "stdout",
          "text": [
            "Epoch 282/400\n",
            "Loss: 0.0931\n",
            "Accuracy: 0.9646\n",
            "Precision: 0.9648\n",
            "Recall: 0.9646\n",
            "F1 Score: 0.9646\n",
            "                      precision    recall  f1-score   support\n",
            "\n",
            "          Networking       0.96      0.97      0.96       447\n",
            "            Learning       0.97      0.97      0.97       422\n",
            "           Searching       0.99      0.93      0.96       153\n",
            "     Sourcing: Early       0.94      0.96      0.95       122\n",
            "Sourcing: In Process       0.96      0.97      0.97        71\n",
            "\n",
            "            accuracy                           0.96      1215\n",
            "           macro avg       0.96      0.96      0.96      1215\n",
            "        weighted avg       0.96      0.96      0.96      1215\n",
            "\n"
          ]
        },
        {
          "output_type": "stream",
          "name": "stderr",
          "text": [
            "\r 71%|███████   | 283/400 [01:55<00:47,  2.44it/s]"
          ]
        },
        {
          "output_type": "stream",
          "name": "stdout",
          "text": [
            "Epoch 283/400\n",
            "Loss: 0.0693\n",
            "Accuracy: 0.9737\n",
            "Precision: 0.9737\n",
            "Recall: 0.9737\n",
            "F1 Score: 0.9737\n",
            "                      precision    recall  f1-score   support\n",
            "\n",
            "          Networking       0.97      0.98      0.97       447\n",
            "            Learning       0.98      0.96      0.97       422\n",
            "           Searching       0.99      0.98      0.98       153\n",
            "     Sourcing: Early       0.96      0.98      0.97       122\n",
            "Sourcing: In Process       0.97      0.97      0.97        71\n",
            "\n",
            "            accuracy                           0.97      1215\n",
            "           macro avg       0.97      0.98      0.97      1215\n",
            "        weighted avg       0.97      0.97      0.97      1215\n",
            "\n"
          ]
        },
        {
          "output_type": "stream",
          "name": "stderr",
          "text": [
            "\r 71%|███████   | 284/400 [01:55<00:47,  2.43it/s]"
          ]
        },
        {
          "output_type": "stream",
          "name": "stdout",
          "text": [
            "Epoch 284/400\n",
            "Loss: 0.0766\n",
            "Accuracy: 0.9720\n",
            "Precision: 0.9721\n",
            "Recall: 0.9720\n",
            "F1 Score: 0.9720\n",
            "                      precision    recall  f1-score   support\n",
            "\n",
            "          Networking       0.96      0.97      0.97       447\n",
            "            Learning       0.97      0.97      0.97       422\n",
            "           Searching       0.97      0.99      0.98       153\n",
            "     Sourcing: Early       1.00      0.97      0.98       122\n",
            "Sourcing: In Process       0.99      0.97      0.98        71\n",
            "\n",
            "            accuracy                           0.97      1215\n",
            "           macro avg       0.98      0.97      0.98      1215\n",
            "        weighted avg       0.97      0.97      0.97      1215\n",
            "\n"
          ]
        },
        {
          "output_type": "stream",
          "name": "stderr",
          "text": [
            "\r 71%|███████▏  | 285/400 [01:56<00:47,  2.43it/s]"
          ]
        },
        {
          "output_type": "stream",
          "name": "stdout",
          "text": [
            "Epoch 285/400\n",
            "Loss: 0.0821\n",
            "Accuracy: 0.9712\n",
            "Precision: 0.9713\n",
            "Recall: 0.9712\n",
            "F1 Score: 0.9712\n",
            "                      precision    recall  f1-score   support\n",
            "\n",
            "          Networking       0.96      0.97      0.97       447\n",
            "            Learning       0.97      0.98      0.97       422\n",
            "           Searching       0.99      0.97      0.98       153\n",
            "     Sourcing: Early       0.97      0.98      0.97       122\n",
            "Sourcing: In Process       0.99      0.94      0.96        71\n",
            "\n",
            "            accuracy                           0.97      1215\n",
            "           macro avg       0.98      0.97      0.97      1215\n",
            "        weighted avg       0.97      0.97      0.97      1215\n",
            "\n"
          ]
        },
        {
          "output_type": "stream",
          "name": "stderr",
          "text": [
            "\r 72%|███████▏  | 286/400 [01:56<00:47,  2.42it/s]"
          ]
        },
        {
          "output_type": "stream",
          "name": "stdout",
          "text": [
            "Epoch 286/400\n",
            "Loss: 0.0963\n",
            "Accuracy: 0.9646\n",
            "Precision: 0.9646\n",
            "Recall: 0.9646\n",
            "F1 Score: 0.9646\n",
            "                      precision    recall  f1-score   support\n",
            "\n",
            "          Networking       0.97      0.96      0.97       447\n",
            "            Learning       0.96      0.96      0.96       422\n",
            "           Searching       0.96      0.97      0.97       153\n",
            "     Sourcing: Early       0.97      0.94      0.95       122\n",
            "Sourcing: In Process       0.97      0.99      0.98        71\n",
            "\n",
            "            accuracy                           0.96      1215\n",
            "           macro avg       0.97      0.97      0.97      1215\n",
            "        weighted avg       0.96      0.96      0.96      1215\n",
            "\n"
          ]
        },
        {
          "output_type": "stream",
          "name": "stderr",
          "text": [
            "\r 72%|███████▏  | 287/400 [01:57<00:46,  2.41it/s]"
          ]
        },
        {
          "output_type": "stream",
          "name": "stdout",
          "text": [
            "Epoch 287/400\n",
            "Loss: 0.1273\n",
            "Accuracy: 0.9588\n",
            "Precision: 0.9589\n",
            "Recall: 0.9588\n",
            "F1 Score: 0.9589\n",
            "                      precision    recall  f1-score   support\n",
            "\n",
            "          Networking       0.95      0.96      0.96       447\n",
            "            Learning       0.97      0.96      0.96       422\n",
            "           Searching       0.97      0.95      0.96       153\n",
            "     Sourcing: Early       0.94      0.95      0.95       122\n",
            "Sourcing: In Process       0.96      0.96      0.96        71\n",
            "\n",
            "            accuracy                           0.96      1215\n",
            "           macro avg       0.96      0.96      0.96      1215\n",
            "        weighted avg       0.96      0.96      0.96      1215\n",
            "\n"
          ]
        },
        {
          "output_type": "stream",
          "name": "stderr",
          "text": [
            "\r 72%|███████▏  | 288/400 [01:57<00:46,  2.42it/s]"
          ]
        },
        {
          "output_type": "stream",
          "name": "stdout",
          "text": [
            "Epoch 288/400\n",
            "Loss: 0.1358\n",
            "Accuracy: 0.9498\n",
            "Precision: 0.9498\n",
            "Recall: 0.9498\n",
            "F1 Score: 0.9497\n",
            "                      precision    recall  f1-score   support\n",
            "\n",
            "          Networking       0.95      0.95      0.95       447\n",
            "            Learning       0.95      0.94      0.95       422\n",
            "           Searching       0.96      0.96      0.96       153\n",
            "     Sourcing: Early       0.95      0.99      0.97       122\n",
            "Sourcing: In Process       0.94      0.92      0.93        71\n",
            "\n",
            "            accuracy                           0.95      1215\n",
            "           macro avg       0.95      0.95      0.95      1215\n",
            "        weighted avg       0.95      0.95      0.95      1215\n",
            "\n"
          ]
        },
        {
          "output_type": "stream",
          "name": "stderr",
          "text": [
            "\r 72%|███████▏  | 289/400 [01:58<00:45,  2.44it/s]"
          ]
        },
        {
          "output_type": "stream",
          "name": "stdout",
          "text": [
            "Epoch 289/400\n",
            "Loss: 0.1001\n",
            "Accuracy: 0.9630\n",
            "Precision: 0.9630\n",
            "Recall: 0.9630\n",
            "F1 Score: 0.9629\n",
            "                      precision    recall  f1-score   support\n",
            "\n",
            "          Networking       0.96      0.96      0.96       447\n",
            "            Learning       0.96      0.96      0.96       422\n",
            "           Searching       0.97      0.97      0.97       153\n",
            "     Sourcing: Early       0.97      0.93      0.95       122\n",
            "Sourcing: In Process       0.96      0.99      0.97        71\n",
            "\n",
            "            accuracy                           0.96      1215\n",
            "           macro avg       0.96      0.96      0.96      1215\n",
            "        weighted avg       0.96      0.96      0.96      1215\n",
            "\n"
          ]
        },
        {
          "output_type": "stream",
          "name": "stderr",
          "text": [
            "\r 72%|███████▎  | 290/400 [01:58<00:44,  2.46it/s]"
          ]
        },
        {
          "output_type": "stream",
          "name": "stdout",
          "text": [
            "Epoch 290/400\n",
            "Loss: 0.0770\n",
            "Accuracy: 0.9745\n",
            "Precision: 0.9745\n",
            "Recall: 0.9745\n",
            "F1 Score: 0.9745\n",
            "                      precision    recall  f1-score   support\n",
            "\n",
            "          Networking       0.97      0.98      0.98       447\n",
            "            Learning       0.97      0.98      0.98       422\n",
            "           Searching       0.98      0.97      0.98       153\n",
            "     Sourcing: Early       0.97      0.96      0.97       122\n",
            "Sourcing: In Process       0.97      0.97      0.97        71\n",
            "\n",
            "            accuracy                           0.97      1215\n",
            "           macro avg       0.97      0.97      0.97      1215\n",
            "        weighted avg       0.97      0.97      0.97      1215\n",
            "\n"
          ]
        },
        {
          "output_type": "stream",
          "name": "stderr",
          "text": [
            "\r 73%|███████▎  | 291/400 [01:58<00:44,  2.43it/s]"
          ]
        },
        {
          "output_type": "stream",
          "name": "stdout",
          "text": [
            "Epoch 291/400\n",
            "Loss: 0.1169\n",
            "Accuracy: 0.9588\n",
            "Precision: 0.9589\n",
            "Recall: 0.9588\n",
            "F1 Score: 0.9589\n",
            "                      precision    recall  f1-score   support\n",
            "\n",
            "          Networking       0.96      0.96      0.96       447\n",
            "            Learning       0.96      0.96      0.96       422\n",
            "           Searching       0.95      0.97      0.96       153\n",
            "     Sourcing: Early       0.95      0.96      0.96       122\n",
            "Sourcing: In Process       0.94      0.96      0.95        71\n",
            "\n",
            "            accuracy                           0.96      1215\n",
            "           macro avg       0.95      0.96      0.96      1215\n",
            "        weighted avg       0.96      0.96      0.96      1215\n",
            "\n"
          ]
        },
        {
          "output_type": "stream",
          "name": "stderr",
          "text": [
            "\r 73%|███████▎  | 292/400 [01:59<00:43,  2.48it/s]"
          ]
        },
        {
          "output_type": "stream",
          "name": "stdout",
          "text": [
            "Epoch 292/400\n",
            "Loss: 0.0917\n",
            "Accuracy: 0.9654\n",
            "Precision: 0.9655\n",
            "Recall: 0.9654\n",
            "F1 Score: 0.9654\n",
            "                      precision    recall  f1-score   support\n",
            "\n",
            "          Networking       0.96      0.97      0.97       447\n",
            "            Learning       0.96      0.95      0.96       422\n",
            "           Searching       0.97      0.97      0.97       153\n",
            "     Sourcing: Early       0.98      0.98      0.98       122\n",
            "Sourcing: In Process       0.95      0.97      0.96        71\n",
            "\n",
            "            accuracy                           0.97      1215\n",
            "           macro avg       0.96      0.97      0.97      1215\n",
            "        weighted avg       0.97      0.97      0.97      1215\n",
            "\n"
          ]
        },
        {
          "output_type": "stream",
          "name": "stderr",
          "text": [
            "\r 73%|███████▎  | 293/400 [01:59<00:43,  2.48it/s]"
          ]
        },
        {
          "output_type": "stream",
          "name": "stdout",
          "text": [
            "Epoch 293/400\n",
            "Loss: 0.1284\n",
            "Accuracy: 0.9514\n",
            "Precision: 0.9515\n",
            "Recall: 0.9514\n",
            "F1 Score: 0.9514\n",
            "                      precision    recall  f1-score   support\n",
            "\n",
            "          Networking       0.95      0.95      0.95       447\n",
            "            Learning       0.95      0.95      0.95       422\n",
            "           Searching       0.95      0.95      0.95       153\n",
            "     Sourcing: Early       0.96      0.93      0.95       122\n",
            "Sourcing: In Process       0.95      0.97      0.96        71\n",
            "\n",
            "            accuracy                           0.95      1215\n",
            "           macro avg       0.95      0.95      0.95      1215\n",
            "        weighted avg       0.95      0.95      0.95      1215\n",
            "\n"
          ]
        },
        {
          "output_type": "stream",
          "name": "stderr",
          "text": [
            "\r 74%|███████▎  | 294/400 [02:00<00:43,  2.46it/s]"
          ]
        },
        {
          "output_type": "stream",
          "name": "stdout",
          "text": [
            "Epoch 294/400\n",
            "Loss: 0.1165\n",
            "Accuracy: 0.9564\n",
            "Precision: 0.9565\n",
            "Recall: 0.9564\n",
            "F1 Score: 0.9564\n",
            "                      precision    recall  f1-score   support\n",
            "\n",
            "          Networking       0.96      0.95      0.95       447\n",
            "            Learning       0.95      0.95      0.95       422\n",
            "           Searching       0.97      0.96      0.97       153\n",
            "     Sourcing: Early       0.94      0.98      0.96       122\n",
            "Sourcing: In Process       0.96      0.93      0.94        71\n",
            "\n",
            "            accuracy                           0.96      1215\n",
            "           macro avg       0.96      0.96      0.96      1215\n",
            "        weighted avg       0.96      0.96      0.96      1215\n",
            "\n"
          ]
        },
        {
          "output_type": "stream",
          "name": "stderr",
          "text": [
            "\r 74%|███████▍  | 295/400 [02:00<00:43,  2.43it/s]"
          ]
        },
        {
          "output_type": "stream",
          "name": "stdout",
          "text": [
            "Epoch 295/400\n",
            "Loss: 0.1114\n",
            "Accuracy: 0.9630\n",
            "Precision: 0.9632\n",
            "Recall: 0.9630\n",
            "F1 Score: 0.9630\n",
            "                      precision    recall  f1-score   support\n",
            "\n",
            "          Networking       0.97      0.96      0.97       447\n",
            "            Learning       0.95      0.96      0.96       422\n",
            "           Searching       0.99      0.93      0.96       153\n",
            "     Sourcing: Early       0.96      0.97      0.96       122\n",
            "Sourcing: In Process       0.99      1.00      0.99        71\n",
            "\n",
            "            accuracy                           0.96      1215\n",
            "           macro avg       0.97      0.97      0.97      1215\n",
            "        weighted avg       0.96      0.96      0.96      1215\n",
            "\n"
          ]
        },
        {
          "output_type": "stream",
          "name": "stderr",
          "text": [
            "\r 74%|███████▍  | 296/400 [02:00<00:42,  2.44it/s]"
          ]
        },
        {
          "output_type": "stream",
          "name": "stdout",
          "text": [
            "Epoch 296/400\n",
            "Loss: 0.1331\n",
            "Accuracy: 0.9523\n",
            "Precision: 0.9524\n",
            "Recall: 0.9523\n",
            "F1 Score: 0.9523\n",
            "                      precision    recall  f1-score   support\n",
            "\n",
            "          Networking       0.94      0.95      0.95       447\n",
            "            Learning       0.95      0.95      0.95       422\n",
            "           Searching       0.95      0.97      0.96       153\n",
            "     Sourcing: Early       0.99      0.96      0.97       122\n",
            "Sourcing: In Process       0.96      0.94      0.95        71\n",
            "\n",
            "            accuracy                           0.95      1215\n",
            "           macro avg       0.96      0.95      0.96      1215\n",
            "        weighted avg       0.95      0.95      0.95      1215\n",
            "\n"
          ]
        },
        {
          "output_type": "stream",
          "name": "stderr",
          "text": [
            "\r 74%|███████▍  | 297/400 [02:01<00:41,  2.49it/s]"
          ]
        },
        {
          "output_type": "stream",
          "name": "stdout",
          "text": [
            "Epoch 297/400\n",
            "Loss: 0.0909\n",
            "Accuracy: 0.9679\n",
            "Precision: 0.9681\n",
            "Recall: 0.9679\n",
            "F1 Score: 0.9679\n",
            "                      precision    recall  f1-score   support\n",
            "\n",
            "          Networking       0.96      0.98      0.97       447\n",
            "            Learning       0.97      0.96      0.96       422\n",
            "           Searching       0.97      0.98      0.98       153\n",
            "     Sourcing: Early       0.98      0.96      0.97       122\n",
            "Sourcing: In Process       0.99      0.94      0.96        71\n",
            "\n",
            "            accuracy                           0.97      1215\n",
            "           macro avg       0.97      0.96      0.97      1215\n",
            "        weighted avg       0.97      0.97      0.97      1215\n",
            "\n"
          ]
        },
        {
          "output_type": "stream",
          "name": "stderr",
          "text": [
            "\r 74%|███████▍  | 298/400 [02:01<00:41,  2.48it/s]"
          ]
        },
        {
          "output_type": "stream",
          "name": "stdout",
          "text": [
            "Epoch 298/400\n",
            "Loss: 0.0896\n",
            "Accuracy: 0.9654\n",
            "Precision: 0.9657\n",
            "Recall: 0.9654\n",
            "F1 Score: 0.9655\n",
            "                      precision    recall  f1-score   support\n",
            "\n",
            "          Networking       0.96      0.97      0.96       447\n",
            "            Learning       0.98      0.97      0.97       422\n",
            "           Searching       0.98      0.96      0.97       153\n",
            "     Sourcing: Early       0.93      0.94      0.93       122\n",
            "Sourcing: In Process       1.00      0.94      0.97        71\n",
            "\n",
            "            accuracy                           0.97      1215\n",
            "           macro avg       0.97      0.96      0.96      1215\n",
            "        weighted avg       0.97      0.97      0.97      1215\n",
            "\n"
          ]
        },
        {
          "output_type": "stream",
          "name": "stderr",
          "text": [
            "\r 75%|███████▍  | 299/400 [02:02<00:40,  2.49it/s]"
          ]
        },
        {
          "output_type": "stream",
          "name": "stdout",
          "text": [
            "Epoch 299/400\n",
            "Loss: 0.1007\n",
            "Accuracy: 0.9663\n",
            "Precision: 0.9663\n",
            "Recall: 0.9663\n",
            "F1 Score: 0.9662\n",
            "                      precision    recall  f1-score   support\n",
            "\n",
            "          Networking       0.97      0.96      0.97       447\n",
            "            Learning       0.97      0.96      0.96       422\n",
            "           Searching       0.97      0.97      0.97       153\n",
            "     Sourcing: Early       0.96      0.97      0.96       122\n",
            "Sourcing: In Process       0.96      0.99      0.97        71\n",
            "\n",
            "            accuracy                           0.97      1215\n",
            "           macro avg       0.97      0.97      0.97      1215\n",
            "        weighted avg       0.97      0.97      0.97      1215\n",
            "\n"
          ]
        },
        {
          "output_type": "stream",
          "name": "stderr",
          "text": [
            "\r 75%|███████▌  | 300/400 [02:02<00:40,  2.48it/s]"
          ]
        },
        {
          "output_type": "stream",
          "name": "stdout",
          "text": [
            "Epoch 300/400\n",
            "Loss: 0.0780\n",
            "Accuracy: 0.9737\n",
            "Precision: 0.9738\n",
            "Recall: 0.9737\n",
            "F1 Score: 0.9737\n",
            "                      precision    recall  f1-score   support\n",
            "\n",
            "          Networking       0.96      0.98      0.97       447\n",
            "            Learning       0.98      0.96      0.97       422\n",
            "           Searching       0.98      0.97      0.98       153\n",
            "     Sourcing: Early       0.98      1.00      0.99       122\n",
            "Sourcing: In Process       0.99      0.99      0.99        71\n",
            "\n",
            "            accuracy                           0.97      1215\n",
            "           macro avg       0.98      0.98      0.98      1215\n",
            "        weighted avg       0.97      0.97      0.97      1215\n",
            "\n"
          ]
        },
        {
          "output_type": "stream",
          "name": "stderr",
          "text": [
            "\r 75%|███████▌  | 301/400 [02:02<00:39,  2.49it/s]"
          ]
        },
        {
          "output_type": "stream",
          "name": "stdout",
          "text": [
            "Epoch 301/400\n",
            "Loss: 0.1685\n",
            "Accuracy: 0.9358\n",
            "Precision: 0.9360\n",
            "Recall: 0.9358\n",
            "F1 Score: 0.9359\n",
            "                      precision    recall  f1-score   support\n",
            "\n",
            "          Networking       0.92      0.94      0.93       447\n",
            "            Learning       0.95      0.94      0.94       422\n",
            "           Searching       0.95      0.93      0.94       153\n",
            "     Sourcing: Early       0.91      0.91      0.91       122\n",
            "Sourcing: In Process       0.97      0.94      0.96        71\n",
            "\n",
            "            accuracy                           0.94      1215\n",
            "           macro avg       0.94      0.93      0.94      1215\n",
            "        weighted avg       0.94      0.94      0.94      1215\n",
            "\n"
          ]
        },
        {
          "output_type": "stream",
          "name": "stderr",
          "text": [
            "\r 76%|███████▌  | 302/400 [02:03<00:39,  2.47it/s]"
          ]
        },
        {
          "output_type": "stream",
          "name": "stdout",
          "text": [
            "Epoch 302/400\n",
            "Loss: 0.1251\n",
            "Accuracy: 0.9572\n",
            "Precision: 0.9573\n",
            "Recall: 0.9572\n",
            "F1 Score: 0.9572\n",
            "                      precision    recall  f1-score   support\n",
            "\n",
            "          Networking       0.95      0.97      0.96       447\n",
            "            Learning       0.95      0.95      0.95       422\n",
            "           Searching       0.95      0.93      0.94       153\n",
            "     Sourcing: Early       0.98      0.97      0.97       122\n",
            "Sourcing: In Process       1.00      0.96      0.98        71\n",
            "\n",
            "            accuracy                           0.96      1215\n",
            "           macro avg       0.97      0.95      0.96      1215\n",
            "        weighted avg       0.96      0.96      0.96      1215\n",
            "\n"
          ]
        },
        {
          "output_type": "stream",
          "name": "stderr",
          "text": [
            "\r 76%|███████▌  | 303/400 [02:03<00:38,  2.49it/s]"
          ]
        },
        {
          "output_type": "stream",
          "name": "stdout",
          "text": [
            "Epoch 303/400\n",
            "Loss: 0.0954\n",
            "Accuracy: 0.9638\n",
            "Precision: 0.9638\n",
            "Recall: 0.9638\n",
            "F1 Score: 0.9638\n",
            "                      precision    recall  f1-score   support\n",
            "\n",
            "          Networking       0.96      0.97      0.97       447\n",
            "            Learning       0.96      0.97      0.96       422\n",
            "           Searching       0.95      0.94      0.95       153\n",
            "     Sourcing: Early       0.97      0.96      0.96       122\n",
            "Sourcing: In Process       0.99      0.96      0.97        71\n",
            "\n",
            "            accuracy                           0.96      1215\n",
            "           macro avg       0.97      0.96      0.96      1215\n",
            "        weighted avg       0.96      0.96      0.96      1215\n",
            "\n"
          ]
        },
        {
          "output_type": "stream",
          "name": "stderr",
          "text": [
            "\r 76%|███████▌  | 304/400 [02:04<00:39,  2.45it/s]"
          ]
        },
        {
          "output_type": "stream",
          "name": "stdout",
          "text": [
            "Epoch 304/400\n",
            "Loss: 0.1464\n",
            "Accuracy: 0.9449\n",
            "Precision: 0.9450\n",
            "Recall: 0.9449\n",
            "F1 Score: 0.9448\n",
            "                      precision    recall  f1-score   support\n",
            "\n",
            "          Networking       0.93      0.95      0.94       447\n",
            "            Learning       0.95      0.95      0.95       422\n",
            "           Searching       0.95      0.90      0.93       153\n",
            "     Sourcing: Early       0.95      0.97      0.96       122\n",
            "Sourcing: In Process       0.94      0.93      0.94        71\n",
            "\n",
            "            accuracy                           0.94      1215\n",
            "           macro avg       0.95      0.94      0.94      1215\n",
            "        weighted avg       0.94      0.94      0.94      1215\n",
            "\n"
          ]
        },
        {
          "output_type": "stream",
          "name": "stderr",
          "text": [
            "\r 76%|███████▋  | 305/400 [02:04<00:38,  2.46it/s]"
          ]
        },
        {
          "output_type": "stream",
          "name": "stdout",
          "text": [
            "Epoch 305/400\n",
            "Loss: 0.1395\n",
            "Accuracy: 0.9556\n",
            "Precision: 0.9556\n",
            "Recall: 0.9556\n",
            "F1 Score: 0.9556\n",
            "                      precision    recall  f1-score   support\n",
            "\n",
            "          Networking       0.95      0.96      0.96       447\n",
            "            Learning       0.96      0.95      0.95       422\n",
            "           Searching       0.94      0.93      0.94       153\n",
            "     Sourcing: Early       0.96      0.97      0.96       122\n",
            "Sourcing: In Process       0.99      0.97      0.98        71\n",
            "\n",
            "            accuracy                           0.96      1215\n",
            "           macro avg       0.96      0.96      0.96      1215\n",
            "        weighted avg       0.96      0.96      0.96      1215\n",
            "\n"
          ]
        },
        {
          "output_type": "stream",
          "name": "stderr",
          "text": [
            "\r 76%|███████▋  | 306/400 [02:04<00:38,  2.47it/s]"
          ]
        },
        {
          "output_type": "stream",
          "name": "stdout",
          "text": [
            "Epoch 306/400\n",
            "Loss: 0.1164\n",
            "Accuracy: 0.9580\n",
            "Precision: 0.9581\n",
            "Recall: 0.9580\n",
            "F1 Score: 0.9580\n",
            "                      precision    recall  f1-score   support\n",
            "\n",
            "          Networking       0.96      0.97      0.96       447\n",
            "            Learning       0.96      0.95      0.96       422\n",
            "           Searching       0.95      0.95      0.95       153\n",
            "     Sourcing: Early       0.97      0.94      0.95       122\n",
            "Sourcing: In Process       0.96      0.97      0.97        71\n",
            "\n",
            "            accuracy                           0.96      1215\n",
            "           macro avg       0.96      0.96      0.96      1215\n",
            "        weighted avg       0.96      0.96      0.96      1215\n",
            "\n"
          ]
        },
        {
          "output_type": "stream",
          "name": "stderr",
          "text": [
            "\r 77%|███████▋  | 307/400 [02:05<00:38,  2.44it/s]"
          ]
        },
        {
          "output_type": "stream",
          "name": "stdout",
          "text": [
            "Epoch 307/400\n",
            "Loss: 0.2463\n",
            "Accuracy: 0.9111\n",
            "Precision: 0.9112\n",
            "Recall: 0.9111\n",
            "F1 Score: 0.9111\n",
            "                      precision    recall  f1-score   support\n",
            "\n",
            "          Networking       0.91      0.91      0.91       447\n",
            "            Learning       0.91      0.91      0.91       422\n",
            "           Searching       0.88      0.89      0.89       153\n",
            "     Sourcing: Early       0.91      0.93      0.92       122\n",
            "Sourcing: In Process       0.97      0.94      0.96        71\n",
            "\n",
            "            accuracy                           0.91      1215\n",
            "           macro avg       0.92      0.92      0.92      1215\n",
            "        weighted avg       0.91      0.91      0.91      1215\n",
            "\n"
          ]
        },
        {
          "output_type": "stream",
          "name": "stderr",
          "text": [
            "\r 77%|███████▋  | 308/400 [02:05<00:37,  2.45it/s]"
          ]
        },
        {
          "output_type": "stream",
          "name": "stdout",
          "text": [
            "Epoch 308/400\n",
            "Loss: 0.1092\n",
            "Accuracy: 0.9580\n",
            "Precision: 0.9581\n",
            "Recall: 0.9580\n",
            "F1 Score: 0.9580\n",
            "                      precision    recall  f1-score   support\n",
            "\n",
            "          Networking       0.96      0.95      0.95       447\n",
            "            Learning       0.95      0.96      0.96       422\n",
            "           Searching       0.97      0.95      0.96       153\n",
            "     Sourcing: Early       0.97      0.95      0.96       122\n",
            "Sourcing: In Process       0.96      0.99      0.97        71\n",
            "\n",
            "            accuracy                           0.96      1215\n",
            "           macro avg       0.96      0.96      0.96      1215\n",
            "        weighted avg       0.96      0.96      0.96      1215\n",
            "\n"
          ]
        },
        {
          "output_type": "stream",
          "name": "stderr",
          "text": [
            "\r 77%|███████▋  | 309/400 [02:06<00:36,  2.50it/s]"
          ]
        },
        {
          "output_type": "stream",
          "name": "stdout",
          "text": [
            "Epoch 309/400\n",
            "Loss: 0.1245\n",
            "Accuracy: 0.9580\n",
            "Precision: 0.9581\n",
            "Recall: 0.9580\n",
            "F1 Score: 0.9580\n",
            "                      precision    recall  f1-score   support\n",
            "\n",
            "          Networking       0.96      0.96      0.96       447\n",
            "            Learning       0.95      0.95      0.95       422\n",
            "           Searching       0.97      0.95      0.96       153\n",
            "     Sourcing: Early       0.98      0.98      0.98       122\n",
            "Sourcing: In Process       0.96      0.96      0.96        71\n",
            "\n",
            "            accuracy                           0.96      1215\n",
            "           macro avg       0.96      0.96      0.96      1215\n",
            "        weighted avg       0.96      0.96      0.96      1215\n",
            "\n"
          ]
        },
        {
          "output_type": "stream",
          "name": "stderr",
          "text": [
            "\r 78%|███████▊  | 310/400 [02:06<00:35,  2.52it/s]"
          ]
        },
        {
          "output_type": "stream",
          "name": "stdout",
          "text": [
            "Epoch 310/400\n",
            "Loss: 0.1156\n",
            "Accuracy: 0.9547\n",
            "Precision: 0.9548\n",
            "Recall: 0.9547\n",
            "F1 Score: 0.9547\n",
            "                      precision    recall  f1-score   support\n",
            "\n",
            "          Networking       0.96      0.95      0.96       447\n",
            "            Learning       0.95      0.96      0.96       422\n",
            "           Searching       0.94      0.95      0.95       153\n",
            "     Sourcing: Early       0.97      0.95      0.96       122\n",
            "Sourcing: In Process       0.96      0.96      0.96        71\n",
            "\n",
            "            accuracy                           0.95      1215\n",
            "           macro avg       0.96      0.95      0.95      1215\n",
            "        weighted avg       0.95      0.95      0.95      1215\n",
            "\n"
          ]
        },
        {
          "output_type": "stream",
          "name": "stderr",
          "text": [
            "\r 78%|███████▊  | 311/400 [02:06<00:35,  2.51it/s]"
          ]
        },
        {
          "output_type": "stream",
          "name": "stdout",
          "text": [
            "Epoch 311/400\n",
            "Loss: 0.1000\n",
            "Accuracy: 0.9704\n",
            "Precision: 0.9704\n",
            "Recall: 0.9704\n",
            "F1 Score: 0.9704\n",
            "                      precision    recall  f1-score   support\n",
            "\n",
            "          Networking       0.97      0.97      0.97       447\n",
            "            Learning       0.98      0.96      0.97       422\n",
            "           Searching       0.97      0.96      0.96       153\n",
            "     Sourcing: Early       0.96      0.98      0.97       122\n",
            "Sourcing: In Process       0.97      0.99      0.98        71\n",
            "\n",
            "            accuracy                           0.97      1215\n",
            "           macro avg       0.97      0.97      0.97      1215\n",
            "        weighted avg       0.97      0.97      0.97      1215\n",
            "\n"
          ]
        },
        {
          "output_type": "stream",
          "name": "stderr",
          "text": [
            "\r 78%|███████▊  | 312/400 [02:07<00:34,  2.56it/s]"
          ]
        },
        {
          "output_type": "stream",
          "name": "stdout",
          "text": [
            "Epoch 312/400\n",
            "Loss: 0.0821\n",
            "Accuracy: 0.9745\n",
            "Precision: 0.9746\n",
            "Recall: 0.9745\n",
            "F1 Score: 0.9745\n",
            "                      precision    recall  f1-score   support\n",
            "\n",
            "          Networking       0.97      0.98      0.98       447\n",
            "            Learning       0.98      0.96      0.97       422\n",
            "           Searching       0.96      0.96      0.96       153\n",
            "     Sourcing: Early       0.98      1.00      0.99       122\n",
            "Sourcing: In Process       0.99      0.97      0.98        71\n",
            "\n",
            "            accuracy                           0.97      1215\n",
            "           macro avg       0.98      0.98      0.98      1215\n",
            "        weighted avg       0.97      0.97      0.97      1215\n",
            "\n"
          ]
        },
        {
          "output_type": "stream",
          "name": "stderr",
          "text": [
            "\r 78%|███████▊  | 313/400 [02:07<00:34,  2.54it/s]"
          ]
        },
        {
          "output_type": "stream",
          "name": "stdout",
          "text": [
            "Epoch 313/400\n",
            "Loss: 0.0772\n",
            "Accuracy: 0.9728\n",
            "Precision: 0.9729\n",
            "Recall: 0.9728\n",
            "F1 Score: 0.9728\n",
            "                      precision    recall  f1-score   support\n",
            "\n",
            "          Networking       0.97      0.97      0.97       447\n",
            "            Learning       0.98      0.97      0.97       422\n",
            "           Searching       0.97      0.98      0.98       153\n",
            "     Sourcing: Early       0.98      0.98      0.98       122\n",
            "Sourcing: In Process       0.95      0.97      0.96        71\n",
            "\n",
            "            accuracy                           0.97      1215\n",
            "           macro avg       0.97      0.98      0.97      1215\n",
            "        weighted avg       0.97      0.97      0.97      1215\n",
            "\n"
          ]
        },
        {
          "output_type": "stream",
          "name": "stderr",
          "text": [
            "\r 78%|███████▊  | 314/400 [02:08<00:34,  2.48it/s]"
          ]
        },
        {
          "output_type": "stream",
          "name": "stdout",
          "text": [
            "Epoch 314/400\n",
            "Loss: 0.0598\n",
            "Accuracy: 0.9844\n",
            "Precision: 0.9845\n",
            "Recall: 0.9844\n",
            "F1 Score: 0.9843\n",
            "                      precision    recall  f1-score   support\n",
            "\n",
            "          Networking       0.99      1.00      0.99       447\n",
            "            Learning       0.99      0.98      0.99       422\n",
            "           Searching       0.96      0.99      0.97       153\n",
            "     Sourcing: Early       0.98      0.99      0.98       122\n",
            "Sourcing: In Process       0.98      0.92      0.95        71\n",
            "\n",
            "            accuracy                           0.98      1215\n",
            "           macro avg       0.98      0.97      0.98      1215\n",
            "        weighted avg       0.98      0.98      0.98      1215\n",
            "\n",
            "Model improved to 0.9844 accuracy. Saving model.\n"
          ]
        },
        {
          "output_type": "stream",
          "name": "stderr",
          "text": [
            "\r 79%|███████▉  | 315/400 [02:08<00:33,  2.51it/s]"
          ]
        },
        {
          "output_type": "stream",
          "name": "stdout",
          "text": [
            "Epoch 315/400\n",
            "Loss: 0.0633\n",
            "Accuracy: 0.9761\n",
            "Precision: 0.9761\n",
            "Recall: 0.9761\n",
            "F1 Score: 0.9761\n",
            "                      precision    recall  f1-score   support\n",
            "\n",
            "          Networking       0.98      0.98      0.98       447\n",
            "            Learning       0.98      0.98      0.98       422\n",
            "           Searching       0.97      0.99      0.98       153\n",
            "     Sourcing: Early       0.97      0.96      0.96       122\n",
            "Sourcing: In Process       0.97      0.93      0.95        71\n",
            "\n",
            "            accuracy                           0.98      1215\n",
            "           macro avg       0.97      0.97      0.97      1215\n",
            "        weighted avg       0.98      0.98      0.98      1215\n",
            "\n"
          ]
        },
        {
          "output_type": "stream",
          "name": "stderr",
          "text": [
            "\r 79%|███████▉  | 316/400 [02:08<00:32,  2.55it/s]"
          ]
        },
        {
          "output_type": "stream",
          "name": "stdout",
          "text": [
            "Epoch 316/400\n",
            "Loss: 0.0766\n",
            "Accuracy: 0.9695\n",
            "Precision: 0.9696\n",
            "Recall: 0.9695\n",
            "F1 Score: 0.9695\n",
            "                      precision    recall  f1-score   support\n",
            "\n",
            "          Networking       0.97      0.97      0.97       447\n",
            "            Learning       0.96      0.97      0.97       422\n",
            "           Searching       0.97      0.96      0.97       153\n",
            "     Sourcing: Early       0.98      0.96      0.97       122\n",
            "Sourcing: In Process       0.97      0.97      0.97        71\n",
            "\n",
            "            accuracy                           0.97      1215\n",
            "           macro avg       0.97      0.97      0.97      1215\n",
            "        weighted avg       0.97      0.97      0.97      1215\n",
            "\n"
          ]
        },
        {
          "output_type": "stream",
          "name": "stderr",
          "text": [
            "\r 79%|███████▉  | 317/400 [02:09<00:32,  2.52it/s]"
          ]
        },
        {
          "output_type": "stream",
          "name": "stdout",
          "text": [
            "Epoch 317/400\n",
            "Loss: 0.0708\n",
            "Accuracy: 0.9778\n",
            "Precision: 0.9778\n",
            "Recall: 0.9778\n",
            "F1 Score: 0.9778\n",
            "                      precision    recall  f1-score   support\n",
            "\n",
            "          Networking       0.97      0.98      0.98       447\n",
            "            Learning       0.98      0.97      0.97       422\n",
            "           Searching       0.99      0.97      0.98       153\n",
            "     Sourcing: Early       0.98      0.98      0.98       122\n",
            "Sourcing: In Process       0.99      0.99      0.99        71\n",
            "\n",
            "            accuracy                           0.98      1215\n",
            "           macro avg       0.98      0.98      0.98      1215\n",
            "        weighted avg       0.98      0.98      0.98      1215\n",
            "\n"
          ]
        },
        {
          "output_type": "stream",
          "name": "stderr",
          "text": [
            "\r 80%|███████▉  | 318/400 [02:09<00:32,  2.54it/s]"
          ]
        },
        {
          "output_type": "stream",
          "name": "stdout",
          "text": [
            "Epoch 318/400\n",
            "Loss: 0.0682\n",
            "Accuracy: 0.9761\n",
            "Precision: 0.9762\n",
            "Recall: 0.9761\n",
            "F1 Score: 0.9761\n",
            "                      precision    recall  f1-score   support\n",
            "\n",
            "          Networking       0.98      0.97      0.97       447\n",
            "            Learning       0.97      0.98      0.98       422\n",
            "           Searching       0.98      0.98      0.98       153\n",
            "     Sourcing: Early       0.98      0.98      0.98       122\n",
            "Sourcing: In Process       0.97      0.97      0.97        71\n",
            "\n",
            "            accuracy                           0.98      1215\n",
            "           macro avg       0.98      0.98      0.98      1215\n",
            "        weighted avg       0.98      0.98      0.98      1215\n",
            "\n"
          ]
        },
        {
          "output_type": "stream",
          "name": "stderr",
          "text": [
            "\r 80%|███████▉  | 319/400 [02:10<00:31,  2.55it/s]"
          ]
        },
        {
          "output_type": "stream",
          "name": "stdout",
          "text": [
            "Epoch 319/400\n",
            "Loss: 0.0660\n",
            "Accuracy: 0.9802\n",
            "Precision: 0.9803\n",
            "Recall: 0.9802\n",
            "F1 Score: 0.9802\n",
            "                      precision    recall  f1-score   support\n",
            "\n",
            "          Networking       0.98      0.98      0.98       447\n",
            "            Learning       0.98      0.98      0.98       422\n",
            "           Searching       0.99      0.97      0.98       153\n",
            "     Sourcing: Early       0.98      0.99      0.98       122\n",
            "Sourcing: In Process       1.00      1.00      1.00        71\n",
            "\n",
            "            accuracy                           0.98      1215\n",
            "           macro avg       0.98      0.98      0.98      1215\n",
            "        weighted avg       0.98      0.98      0.98      1215\n",
            "\n"
          ]
        },
        {
          "output_type": "stream",
          "name": "stderr",
          "text": [
            "\r 80%|████████  | 320/400 [02:10<00:31,  2.50it/s]"
          ]
        },
        {
          "output_type": "stream",
          "name": "stdout",
          "text": [
            "Epoch 320/400\n",
            "Loss: 0.0598\n",
            "Accuracy: 0.9844\n",
            "Precision: 0.9844\n",
            "Recall: 0.9844\n",
            "F1 Score: 0.9844\n",
            "                      precision    recall  f1-score   support\n",
            "\n",
            "          Networking       0.99      0.99      0.99       447\n",
            "            Learning       0.98      0.98      0.98       422\n",
            "           Searching       0.99      0.99      0.99       153\n",
            "     Sourcing: Early       0.98      0.98      0.98       122\n",
            "Sourcing: In Process       1.00      0.97      0.99        71\n",
            "\n",
            "            accuracy                           0.98      1215\n",
            "           macro avg       0.99      0.98      0.98      1215\n",
            "        weighted avg       0.98      0.98      0.98      1215\n",
            "\n"
          ]
        },
        {
          "output_type": "stream",
          "name": "stderr",
          "text": [
            "\r 80%|████████  | 321/400 [02:10<00:31,  2.49it/s]"
          ]
        },
        {
          "output_type": "stream",
          "name": "stdout",
          "text": [
            "Epoch 321/400\n",
            "Loss: 0.0617\n",
            "Accuracy: 0.9786\n",
            "Precision: 0.9786\n",
            "Recall: 0.9786\n",
            "F1 Score: 0.9786\n",
            "                      precision    recall  f1-score   support\n",
            "\n",
            "          Networking       0.98      0.98      0.98       447\n",
            "            Learning       0.97      0.97      0.97       422\n",
            "           Searching       0.97      0.97      0.97       153\n",
            "     Sourcing: Early       0.98      0.99      0.99       122\n",
            "Sourcing: In Process       0.99      0.97      0.98        71\n",
            "\n",
            "            accuracy                           0.98      1215\n",
            "           macro avg       0.98      0.98      0.98      1215\n",
            "        weighted avg       0.98      0.98      0.98      1215\n",
            "\n"
          ]
        },
        {
          "output_type": "stream",
          "name": "stderr",
          "text": [
            "\r 80%|████████  | 322/400 [02:11<00:30,  2.54it/s]"
          ]
        },
        {
          "output_type": "stream",
          "name": "stdout",
          "text": [
            "Epoch 322/400\n",
            "Loss: 0.0728\n",
            "Accuracy: 0.9761\n",
            "Precision: 0.9763\n",
            "Recall: 0.9761\n",
            "F1 Score: 0.9762\n",
            "                      precision    recall  f1-score   support\n",
            "\n",
            "          Networking       0.98      0.98      0.98       447\n",
            "            Learning       0.97      0.98      0.98       422\n",
            "           Searching       0.96      0.98      0.97       153\n",
            "     Sourcing: Early       1.00      0.96      0.98       122\n",
            "Sourcing: In Process       0.97      0.97      0.97        71\n",
            "\n",
            "            accuracy                           0.98      1215\n",
            "           macro avg       0.98      0.97      0.97      1215\n",
            "        weighted avg       0.98      0.98      0.98      1215\n",
            "\n"
          ]
        },
        {
          "output_type": "stream",
          "name": "stderr",
          "text": [
            "\r 81%|████████  | 323/400 [02:11<00:30,  2.53it/s]"
          ]
        },
        {
          "output_type": "stream",
          "name": "stdout",
          "text": [
            "Epoch 323/400\n",
            "Loss: 0.0536\n",
            "Accuracy: 0.9835\n",
            "Precision: 0.9835\n",
            "Recall: 0.9835\n",
            "F1 Score: 0.9835\n",
            "                      precision    recall  f1-score   support\n",
            "\n",
            "          Networking       0.98      0.98      0.98       447\n",
            "            Learning       0.98      0.98      0.98       422\n",
            "           Searching       0.99      0.99      0.99       153\n",
            "     Sourcing: Early       0.99      0.99      0.99       122\n",
            "Sourcing: In Process       0.96      0.96      0.96        71\n",
            "\n",
            "            accuracy                           0.98      1215\n",
            "           macro avg       0.98      0.98      0.98      1215\n",
            "        weighted avg       0.98      0.98      0.98      1215\n",
            "\n"
          ]
        },
        {
          "output_type": "stream",
          "name": "stderr",
          "text": [
            "\r 81%|████████  | 324/400 [02:12<00:30,  2.53it/s]"
          ]
        },
        {
          "output_type": "stream",
          "name": "stdout",
          "text": [
            "Epoch 324/400\n",
            "Loss: 0.1180\n",
            "Accuracy: 0.9580\n",
            "Precision: 0.9581\n",
            "Recall: 0.9580\n",
            "F1 Score: 0.9580\n",
            "                      precision    recall  f1-score   support\n",
            "\n",
            "          Networking       0.96      0.96      0.96       447\n",
            "            Learning       0.95      0.95      0.95       422\n",
            "           Searching       0.96      0.96      0.96       153\n",
            "     Sourcing: Early       0.97      0.96      0.96       122\n",
            "Sourcing: In Process       0.95      0.99      0.97        71\n",
            "\n",
            "            accuracy                           0.96      1215\n",
            "           macro avg       0.96      0.96      0.96      1215\n",
            "        weighted avg       0.96      0.96      0.96      1215\n",
            "\n"
          ]
        },
        {
          "output_type": "stream",
          "name": "stderr",
          "text": [
            "\r 81%|████████▏ | 325/400 [02:12<00:30,  2.47it/s]"
          ]
        },
        {
          "output_type": "stream",
          "name": "stdout",
          "text": [
            "Epoch 325/400\n",
            "Loss: 0.0822\n",
            "Accuracy: 0.9695\n",
            "Precision: 0.9696\n",
            "Recall: 0.9695\n",
            "F1 Score: 0.9694\n",
            "                      precision    recall  f1-score   support\n",
            "\n",
            "          Networking       0.97      0.98      0.97       447\n",
            "            Learning       0.97      0.97      0.97       422\n",
            "           Searching       0.97      0.97      0.97       153\n",
            "     Sourcing: Early       0.96      0.98      0.97       122\n",
            "Sourcing: In Process       0.97      0.89      0.93        71\n",
            "\n",
            "            accuracy                           0.97      1215\n",
            "           macro avg       0.97      0.96      0.96      1215\n",
            "        weighted avg       0.97      0.97      0.97      1215\n",
            "\n"
          ]
        },
        {
          "output_type": "stream",
          "name": "stderr",
          "text": [
            "\r 82%|████████▏ | 326/400 [02:12<00:30,  2.45it/s]"
          ]
        },
        {
          "output_type": "stream",
          "name": "stdout",
          "text": [
            "Epoch 326/400\n",
            "Loss: 0.0526\n",
            "Accuracy: 0.9811\n",
            "Precision: 0.9811\n",
            "Recall: 0.9811\n",
            "F1 Score: 0.9811\n",
            "                      precision    recall  f1-score   support\n",
            "\n",
            "          Networking       0.99      0.98      0.98       447\n",
            "            Learning       0.98      0.98      0.98       422\n",
            "           Searching       0.97      0.99      0.98       153\n",
            "     Sourcing: Early       0.98      0.98      0.98       122\n",
            "Sourcing: In Process       0.97      0.97      0.97        71\n",
            "\n",
            "            accuracy                           0.98      1215\n",
            "           macro avg       0.98      0.98      0.98      1215\n",
            "        weighted avg       0.98      0.98      0.98      1215\n",
            "\n"
          ]
        },
        {
          "output_type": "stream",
          "name": "stderr",
          "text": [
            "\r 82%|████████▏ | 327/400 [02:13<00:29,  2.43it/s]"
          ]
        },
        {
          "output_type": "stream",
          "name": "stdout",
          "text": [
            "Epoch 327/400\n",
            "Loss: 0.0974\n",
            "Accuracy: 0.9630\n",
            "Precision: 0.9631\n",
            "Recall: 0.9630\n",
            "F1 Score: 0.9630\n",
            "                      precision    recall  f1-score   support\n",
            "\n",
            "          Networking       0.96      0.96      0.96       447\n",
            "            Learning       0.97      0.97      0.97       422\n",
            "           Searching       0.98      0.97      0.98       153\n",
            "     Sourcing: Early       0.93      0.95      0.94       122\n",
            "Sourcing: In Process       0.96      0.96      0.96        71\n",
            "\n",
            "            accuracy                           0.96      1215\n",
            "           macro avg       0.96      0.96      0.96      1215\n",
            "        weighted avg       0.96      0.96      0.96      1215\n",
            "\n"
          ]
        },
        {
          "output_type": "stream",
          "name": "stderr",
          "text": [
            "\r 82%|████████▏ | 328/400 [02:13<00:29,  2.45it/s]"
          ]
        },
        {
          "output_type": "stream",
          "name": "stdout",
          "text": [
            "Epoch 328/400\n",
            "Loss: 0.0871\n",
            "Accuracy: 0.9695\n",
            "Precision: 0.9697\n",
            "Recall: 0.9695\n",
            "F1 Score: 0.9695\n",
            "                      precision    recall  f1-score   support\n",
            "\n",
            "          Networking       0.97      0.98      0.98       447\n",
            "            Learning       0.96      0.97      0.96       422\n",
            "           Searching       0.98      0.94      0.96       153\n",
            "     Sourcing: Early       0.98      0.95      0.97       122\n",
            "Sourcing: In Process       0.99      0.99      0.99        71\n",
            "\n",
            "            accuracy                           0.97      1215\n",
            "           macro avg       0.98      0.97      0.97      1215\n",
            "        weighted avg       0.97      0.97      0.97      1215\n",
            "\n"
          ]
        },
        {
          "output_type": "stream",
          "name": "stderr",
          "text": [
            "\r 82%|████████▏ | 329/400 [02:14<00:28,  2.48it/s]"
          ]
        },
        {
          "output_type": "stream",
          "name": "stdout",
          "text": [
            "Epoch 329/400\n",
            "Loss: 0.0632\n",
            "Accuracy: 0.9770\n",
            "Precision: 0.9771\n",
            "Recall: 0.9770\n",
            "F1 Score: 0.9769\n",
            "                      precision    recall  f1-score   support\n",
            "\n",
            "          Networking       0.97      0.99      0.98       447\n",
            "            Learning       0.98      0.96      0.97       422\n",
            "           Searching       0.97      0.99      0.98       153\n",
            "     Sourcing: Early       0.98      0.98      0.98       122\n",
            "Sourcing: In Process       0.99      0.94      0.96        71\n",
            "\n",
            "            accuracy                           0.98      1215\n",
            "           macro avg       0.98      0.97      0.98      1215\n",
            "        weighted avg       0.98      0.98      0.98      1215\n",
            "\n"
          ]
        },
        {
          "output_type": "stream",
          "name": "stderr",
          "text": [
            "\r 82%|████████▎ | 330/400 [02:14<00:27,  2.52it/s]"
          ]
        },
        {
          "output_type": "stream",
          "name": "stdout",
          "text": [
            "Epoch 330/400\n",
            "Loss: 0.0668\n",
            "Accuracy: 0.9770\n",
            "Precision: 0.9770\n",
            "Recall: 0.9770\n",
            "F1 Score: 0.9769\n",
            "                      precision    recall  f1-score   support\n",
            "\n",
            "          Networking       0.98      0.98      0.98       447\n",
            "            Learning       0.98      0.98      0.98       422\n",
            "           Searching       0.97      0.96      0.96       153\n",
            "     Sourcing: Early       0.98      0.99      0.98       122\n",
            "Sourcing: In Process       0.99      0.97      0.98        71\n",
            "\n",
            "            accuracy                           0.98      1215\n",
            "           macro avg       0.98      0.98      0.98      1215\n",
            "        weighted avg       0.98      0.98      0.98      1215\n",
            "\n"
          ]
        },
        {
          "output_type": "stream",
          "name": "stderr",
          "text": [
            "\r 83%|████████▎ | 331/400 [02:14<00:27,  2.55it/s]"
          ]
        },
        {
          "output_type": "stream",
          "name": "stdout",
          "text": [
            "Epoch 331/400\n",
            "Loss: 0.0703\n",
            "Accuracy: 0.9745\n",
            "Precision: 0.9746\n",
            "Recall: 0.9745\n",
            "F1 Score: 0.9745\n",
            "                      precision    recall  f1-score   support\n",
            "\n",
            "          Networking       0.97      0.98      0.98       447\n",
            "            Learning       0.96      0.97      0.97       422\n",
            "           Searching       0.99      0.97      0.98       153\n",
            "     Sourcing: Early       0.99      0.98      0.98       122\n",
            "Sourcing: In Process       0.99      0.99      0.99        71\n",
            "\n",
            "            accuracy                           0.97      1215\n",
            "           macro avg       0.98      0.98      0.98      1215\n",
            "        weighted avg       0.97      0.97      0.97      1215\n",
            "\n"
          ]
        },
        {
          "output_type": "stream",
          "name": "stderr",
          "text": [
            "\r 83%|████████▎ | 332/400 [02:15<00:27,  2.50it/s]"
          ]
        },
        {
          "output_type": "stream",
          "name": "stdout",
          "text": [
            "Epoch 332/400\n",
            "Loss: 0.0381\n",
            "Accuracy: 0.9893\n",
            "Precision: 0.9893\n",
            "Recall: 0.9893\n",
            "F1 Score: 0.9893\n",
            "                      precision    recall  f1-score   support\n",
            "\n",
            "          Networking       0.99      0.99      0.99       447\n",
            "            Learning       0.99      0.98      0.99       422\n",
            "           Searching       1.00      0.99      1.00       153\n",
            "     Sourcing: Early       0.99      0.99      0.99       122\n",
            "Sourcing: In Process       0.97      0.99      0.98        71\n",
            "\n",
            "            accuracy                           0.99      1215\n",
            "           macro avg       0.99      0.99      0.99      1215\n",
            "        weighted avg       0.99      0.99      0.99      1215\n",
            "\n",
            "Model improved to 0.9893 accuracy. Saving model.\n"
          ]
        },
        {
          "output_type": "stream",
          "name": "stderr",
          "text": [
            "\r 83%|████████▎ | 333/400 [02:15<00:26,  2.51it/s]"
          ]
        },
        {
          "output_type": "stream",
          "name": "stdout",
          "text": [
            "Epoch 333/400\n",
            "Loss: 0.0400\n",
            "Accuracy: 0.9885\n",
            "Precision: 0.9885\n",
            "Recall: 0.9885\n",
            "F1 Score: 0.9885\n",
            "                      precision    recall  f1-score   support\n",
            "\n",
            "          Networking       1.00      0.99      0.99       447\n",
            "            Learning       0.99      0.99      0.99       422\n",
            "           Searching       0.97      0.98      0.98       153\n",
            "     Sourcing: Early       0.98      1.00      0.99       122\n",
            "Sourcing: In Process       0.99      0.97      0.98        71\n",
            "\n",
            "            accuracy                           0.99      1215\n",
            "           macro avg       0.99      0.99      0.99      1215\n",
            "        weighted avg       0.99      0.99      0.99      1215\n",
            "\n"
          ]
        },
        {
          "output_type": "stream",
          "name": "stderr",
          "text": [
            "\r 84%|████████▎ | 334/400 [02:16<00:26,  2.45it/s]"
          ]
        },
        {
          "output_type": "stream",
          "name": "stdout",
          "text": [
            "Epoch 334/400\n",
            "Loss: 0.0259\n",
            "Accuracy: 0.9942\n",
            "Precision: 0.9943\n",
            "Recall: 0.9942\n",
            "F1 Score: 0.9942\n",
            "                      precision    recall  f1-score   support\n",
            "\n",
            "          Networking       0.99      0.99      0.99       447\n",
            "            Learning       0.99      1.00      0.99       422\n",
            "           Searching       1.00      0.99      1.00       153\n",
            "     Sourcing: Early       1.00      1.00      1.00       122\n",
            "Sourcing: In Process       1.00      0.99      0.99        71\n",
            "\n",
            "            accuracy                           0.99      1215\n",
            "           macro avg       1.00      0.99      1.00      1215\n",
            "        weighted avg       0.99      0.99      0.99      1215\n",
            "\n",
            "Model improved to 0.9942 accuracy. Saving model.\n"
          ]
        },
        {
          "output_type": "stream",
          "name": "stderr",
          "text": [
            "\r 84%|████████▍ | 335/400 [02:16<00:26,  2.49it/s]"
          ]
        },
        {
          "output_type": "stream",
          "name": "stdout",
          "text": [
            "Epoch 335/400\n",
            "Loss: 0.0607\n",
            "Accuracy: 0.9778\n",
            "Precision: 0.9778\n",
            "Recall: 0.9778\n",
            "F1 Score: 0.9778\n",
            "                      precision    recall  f1-score   support\n",
            "\n",
            "          Networking       0.98      0.97      0.97       447\n",
            "            Learning       0.98      0.97      0.98       422\n",
            "           Searching       0.98      0.99      0.98       153\n",
            "     Sourcing: Early       0.98      0.99      0.99       122\n",
            "Sourcing: In Process       0.97      0.99      0.98        71\n",
            "\n",
            "            accuracy                           0.98      1215\n",
            "           macro avg       0.98      0.98      0.98      1215\n",
            "        weighted avg       0.98      0.98      0.98      1215\n",
            "\n"
          ]
        },
        {
          "output_type": "stream",
          "name": "stderr",
          "text": [
            "\r 84%|████████▍ | 336/400 [02:16<00:26,  2.46it/s]"
          ]
        },
        {
          "output_type": "stream",
          "name": "stdout",
          "text": [
            "Epoch 336/400\n",
            "Loss: 0.0409\n",
            "Accuracy: 0.9893\n",
            "Precision: 0.9893\n",
            "Recall: 0.9893\n",
            "F1 Score: 0.9893\n",
            "                      precision    recall  f1-score   support\n",
            "\n",
            "          Networking       0.99      1.00      0.99       447\n",
            "            Learning       0.99      0.98      0.99       422\n",
            "           Searching       0.99      0.98      0.98       153\n",
            "     Sourcing: Early       1.00      0.99      1.00       122\n",
            "Sourcing: In Process       0.99      1.00      0.99        71\n",
            "\n",
            "            accuracy                           0.99      1215\n",
            "           macro avg       0.99      0.99      0.99      1215\n",
            "        weighted avg       0.99      0.99      0.99      1215\n",
            "\n"
          ]
        },
        {
          "output_type": "stream",
          "name": "stderr",
          "text": [
            "\r 84%|████████▍ | 337/400 [02:17<00:25,  2.44it/s]"
          ]
        },
        {
          "output_type": "stream",
          "name": "stdout",
          "text": [
            "Epoch 337/400\n",
            "Loss: 0.0386\n",
            "Accuracy: 0.9893\n",
            "Precision: 0.9893\n",
            "Recall: 0.9893\n",
            "F1 Score: 0.9893\n",
            "                      precision    recall  f1-score   support\n",
            "\n",
            "          Networking       0.99      0.99      0.99       447\n",
            "            Learning       0.99      0.99      0.99       422\n",
            "           Searching       0.99      0.97      0.98       153\n",
            "     Sourcing: Early       1.00      0.98      0.99       122\n",
            "Sourcing: In Process       1.00      0.99      0.99        71\n",
            "\n",
            "            accuracy                           0.99      1215\n",
            "           macro avg       0.99      0.99      0.99      1215\n",
            "        weighted avg       0.99      0.99      0.99      1215\n",
            "\n"
          ]
        },
        {
          "output_type": "stream",
          "name": "stderr",
          "text": [
            "\r 84%|████████▍ | 338/400 [02:17<00:25,  2.43it/s]"
          ]
        },
        {
          "output_type": "stream",
          "name": "stdout",
          "text": [
            "Epoch 338/400\n",
            "Loss: 0.0387\n",
            "Accuracy: 0.9885\n",
            "Precision: 0.9885\n",
            "Recall: 0.9885\n",
            "F1 Score: 0.9885\n",
            "                      precision    recall  f1-score   support\n",
            "\n",
            "          Networking       0.99      0.99      0.99       447\n",
            "            Learning       0.99      0.99      0.99       422\n",
            "           Searching       0.99      0.99      0.99       153\n",
            "     Sourcing: Early       0.99      0.99      0.99       122\n",
            "Sourcing: In Process       0.99      0.99      0.99        71\n",
            "\n",
            "            accuracy                           0.99      1215\n",
            "           macro avg       0.99      0.99      0.99      1215\n",
            "        weighted avg       0.99      0.99      0.99      1215\n",
            "\n"
          ]
        },
        {
          "output_type": "stream",
          "name": "stderr",
          "text": [
            "\r 85%|████████▍ | 339/400 [02:18<00:25,  2.44it/s]"
          ]
        },
        {
          "output_type": "stream",
          "name": "stdout",
          "text": [
            "Epoch 339/400\n",
            "Loss: 0.0558\n",
            "Accuracy: 0.9778\n",
            "Precision: 0.9778\n",
            "Recall: 0.9778\n",
            "F1 Score: 0.9778\n",
            "                      precision    recall  f1-score   support\n",
            "\n",
            "          Networking       0.98      0.98      0.98       447\n",
            "            Learning       0.98      0.98      0.98       422\n",
            "           Searching       0.95      0.97      0.96       153\n",
            "     Sourcing: Early       0.98      0.99      0.99       122\n",
            "Sourcing: In Process       0.97      0.96      0.96        71\n",
            "\n",
            "            accuracy                           0.98      1215\n",
            "           macro avg       0.97      0.98      0.97      1215\n",
            "        weighted avg       0.98      0.98      0.98      1215\n",
            "\n"
          ]
        },
        {
          "output_type": "stream",
          "name": "stderr",
          "text": [
            "\r 85%|████████▌ | 340/400 [02:18<00:24,  2.47it/s]"
          ]
        },
        {
          "output_type": "stream",
          "name": "stdout",
          "text": [
            "Epoch 340/400\n",
            "Loss: 0.0654\n",
            "Accuracy: 0.9745\n",
            "Precision: 0.9746\n",
            "Recall: 0.9745\n",
            "F1 Score: 0.9745\n",
            "                      precision    recall  f1-score   support\n",
            "\n",
            "          Networking       0.97      0.98      0.97       447\n",
            "            Learning       0.97      0.98      0.97       422\n",
            "           Searching       0.99      0.97      0.98       153\n",
            "     Sourcing: Early       0.97      0.97      0.97       122\n",
            "Sourcing: In Process       1.00      0.99      0.99        71\n",
            "\n",
            "            accuracy                           0.97      1215\n",
            "           macro avg       0.98      0.97      0.98      1215\n",
            "        weighted avg       0.97      0.97      0.97      1215\n",
            "\n"
          ]
        },
        {
          "output_type": "stream",
          "name": "stderr",
          "text": [
            "\r 85%|████████▌ | 341/400 [02:18<00:23,  2.47it/s]"
          ]
        },
        {
          "output_type": "stream",
          "name": "stdout",
          "text": [
            "Epoch 341/400\n",
            "Loss: 0.0413\n",
            "Accuracy: 0.9885\n",
            "Precision: 0.9885\n",
            "Recall: 0.9885\n",
            "F1 Score: 0.9885\n",
            "                      precision    recall  f1-score   support\n",
            "\n",
            "          Networking       0.99      0.99      0.99       447\n",
            "            Learning       0.99      0.99      0.99       422\n",
            "           Searching       0.98      0.98      0.98       153\n",
            "     Sourcing: Early       0.99      0.99      0.99       122\n",
            "Sourcing: In Process       0.99      1.00      0.99        71\n",
            "\n",
            "            accuracy                           0.99      1215\n",
            "           macro avg       0.99      0.99      0.99      1215\n",
            "        weighted avg       0.99      0.99      0.99      1215\n",
            "\n"
          ]
        },
        {
          "output_type": "stream",
          "name": "stderr",
          "text": [
            "\r 86%|████████▌ | 342/400 [02:19<00:24,  2.42it/s]"
          ]
        },
        {
          "output_type": "stream",
          "name": "stdout",
          "text": [
            "Epoch 342/400\n",
            "Loss: 0.0369\n",
            "Accuracy: 0.9885\n",
            "Precision: 0.9885\n",
            "Recall: 0.9885\n",
            "F1 Score: 0.9885\n",
            "                      precision    recall  f1-score   support\n",
            "\n",
            "          Networking       0.99      0.99      0.99       447\n",
            "            Learning       0.98      0.99      0.98       422\n",
            "           Searching       1.00      0.99      1.00       153\n",
            "     Sourcing: Early       0.99      0.98      0.98       122\n",
            "Sourcing: In Process       0.99      0.99      0.99        71\n",
            "\n",
            "            accuracy                           0.99      1215\n",
            "           macro avg       0.99      0.99      0.99      1215\n",
            "        weighted avg       0.99      0.99      0.99      1215\n",
            "\n"
          ]
        },
        {
          "output_type": "stream",
          "name": "stderr",
          "text": [
            "\r 86%|████████▌ | 343/400 [02:19<00:23,  2.41it/s]"
          ]
        },
        {
          "output_type": "stream",
          "name": "stdout",
          "text": [
            "Epoch 343/400\n",
            "Loss: 0.0632\n",
            "Accuracy: 0.9811\n",
            "Precision: 0.9811\n",
            "Recall: 0.9811\n",
            "F1 Score: 0.9811\n",
            "                      precision    recall  f1-score   support\n",
            "\n",
            "          Networking       0.99      0.98      0.99       447\n",
            "            Learning       0.98      0.98      0.98       422\n",
            "           Searching       0.95      0.97      0.96       153\n",
            "     Sourcing: Early       0.98      0.98      0.98       122\n",
            "Sourcing: In Process       0.97      0.99      0.98        71\n",
            "\n",
            "            accuracy                           0.98      1215\n",
            "           macro avg       0.98      0.98      0.98      1215\n",
            "        weighted avg       0.98      0.98      0.98      1215\n",
            "\n"
          ]
        },
        {
          "output_type": "stream",
          "name": "stderr",
          "text": [
            "\r 86%|████████▌ | 344/400 [02:20<00:22,  2.44it/s]"
          ]
        },
        {
          "output_type": "stream",
          "name": "stdout",
          "text": [
            "Epoch 344/400\n",
            "Loss: 0.0735\n",
            "Accuracy: 0.9770\n",
            "Precision: 0.9770\n",
            "Recall: 0.9770\n",
            "F1 Score: 0.9769\n",
            "                      precision    recall  f1-score   support\n",
            "\n",
            "          Networking       0.98      0.99      0.98       447\n",
            "            Learning       0.98      0.97      0.97       422\n",
            "           Searching       0.97      0.97      0.97       153\n",
            "     Sourcing: Early       0.98      0.97      0.97       122\n",
            "Sourcing: In Process       1.00      1.00      1.00        71\n",
            "\n",
            "            accuracy                           0.98      1215\n",
            "           macro avg       0.98      0.98      0.98      1215\n",
            "        weighted avg       0.98      0.98      0.98      1215\n",
            "\n"
          ]
        },
        {
          "output_type": "stream",
          "name": "stderr",
          "text": [
            "\r 86%|████████▋ | 345/400 [02:20<00:22,  2.47it/s]"
          ]
        },
        {
          "output_type": "stream",
          "name": "stdout",
          "text": [
            "Epoch 345/400\n",
            "Loss: 0.0649\n",
            "Accuracy: 0.9802\n",
            "Precision: 0.9803\n",
            "Recall: 0.9802\n",
            "F1 Score: 0.9802\n",
            "                      precision    recall  f1-score   support\n",
            "\n",
            "          Networking       0.99      0.98      0.98       447\n",
            "            Learning       0.97      0.99      0.98       422\n",
            "           Searching       0.97      0.96      0.96       153\n",
            "     Sourcing: Early       0.98      0.98      0.98       122\n",
            "Sourcing: In Process       1.00      0.99      0.99        71\n",
            "\n",
            "            accuracy                           0.98      1215\n",
            "           macro avg       0.98      0.98      0.98      1215\n",
            "        weighted avg       0.98      0.98      0.98      1215\n",
            "\n"
          ]
        },
        {
          "output_type": "stream",
          "name": "stderr",
          "text": [
            "\r 86%|████████▋ | 346/400 [02:20<00:21,  2.51it/s]"
          ]
        },
        {
          "output_type": "stream",
          "name": "stdout",
          "text": [
            "Epoch 346/400\n",
            "Loss: 0.0628\n",
            "Accuracy: 0.9786\n",
            "Precision: 0.9787\n",
            "Recall: 0.9786\n",
            "F1 Score: 0.9786\n",
            "                      precision    recall  f1-score   support\n",
            "\n",
            "          Networking       0.99      0.99      0.99       447\n",
            "            Learning       0.98      0.98      0.98       422\n",
            "           Searching       0.97      0.96      0.96       153\n",
            "     Sourcing: Early       0.95      0.97      0.96       122\n",
            "Sourcing: In Process       0.97      1.00      0.99        71\n",
            "\n",
            "            accuracy                           0.98      1215\n",
            "           macro avg       0.97      0.98      0.98      1215\n",
            "        weighted avg       0.98      0.98      0.98      1215\n",
            "\n"
          ]
        },
        {
          "output_type": "stream",
          "name": "stderr",
          "text": [
            "\r 87%|████████▋ | 347/400 [02:21<00:21,  2.49it/s]"
          ]
        },
        {
          "output_type": "stream",
          "name": "stdout",
          "text": [
            "Epoch 347/400\n",
            "Loss: 0.0974\n",
            "Accuracy: 0.9712\n",
            "Precision: 0.9712\n",
            "Recall: 0.9712\n",
            "F1 Score: 0.9712\n",
            "                      precision    recall  f1-score   support\n",
            "\n",
            "          Networking       0.98      0.98      0.98       447\n",
            "            Learning       0.98      0.97      0.98       422\n",
            "           Searching       0.97      0.98      0.97       153\n",
            "     Sourcing: Early       0.96      0.93      0.95       122\n",
            "Sourcing: In Process       0.94      0.94      0.94        71\n",
            "\n",
            "            accuracy                           0.97      1215\n",
            "           macro avg       0.96      0.96      0.96      1215\n",
            "        weighted avg       0.97      0.97      0.97      1215\n",
            "\n"
          ]
        },
        {
          "output_type": "stream",
          "name": "stderr",
          "text": [
            "\r 87%|████████▋ | 348/400 [02:21<00:20,  2.51it/s]"
          ]
        },
        {
          "output_type": "stream",
          "name": "stdout",
          "text": [
            "Epoch 348/400\n",
            "Loss: 0.0431\n",
            "Accuracy: 0.9877\n",
            "Precision: 0.9878\n",
            "Recall: 0.9877\n",
            "F1 Score: 0.9877\n",
            "                      precision    recall  f1-score   support\n",
            "\n",
            "          Networking       1.00      0.98      0.99       447\n",
            "            Learning       0.98      0.99      0.98       422\n",
            "           Searching       0.99      0.99      0.99       153\n",
            "     Sourcing: Early       1.00      0.99      1.00       122\n",
            "Sourcing: In Process       0.96      1.00      0.98        71\n",
            "\n",
            "            accuracy                           0.99      1215\n",
            "           macro avg       0.98      0.99      0.99      1215\n",
            "        weighted avg       0.99      0.99      0.99      1215\n",
            "\n"
          ]
        },
        {
          "output_type": "stream",
          "name": "stderr",
          "text": [
            "\r 87%|████████▋ | 349/400 [02:22<00:19,  2.57it/s]"
          ]
        },
        {
          "output_type": "stream",
          "name": "stdout",
          "text": [
            "Epoch 349/400\n",
            "Loss: 0.0516\n",
            "Accuracy: 0.9827\n",
            "Precision: 0.9827\n",
            "Recall: 0.9827\n",
            "F1 Score: 0.9827\n",
            "                      precision    recall  f1-score   support\n",
            "\n",
            "          Networking       0.99      0.98      0.98       447\n",
            "            Learning       0.99      0.99      0.99       422\n",
            "           Searching       0.97      0.98      0.97       153\n",
            "     Sourcing: Early       0.98      0.98      0.98       122\n",
            "Sourcing: In Process       0.99      0.96      0.97        71\n",
            "\n",
            "            accuracy                           0.98      1215\n",
            "           macro avg       0.98      0.98      0.98      1215\n",
            "        weighted avg       0.98      0.98      0.98      1215\n",
            "\n"
          ]
        },
        {
          "output_type": "stream",
          "name": "stderr",
          "text": [
            "\r 88%|████████▊ | 350/400 [02:22<00:19,  2.59it/s]"
          ]
        },
        {
          "output_type": "stream",
          "name": "stdout",
          "text": [
            "Epoch 350/400\n",
            "Loss: 0.0570\n",
            "Accuracy: 0.9811\n",
            "Precision: 0.9811\n",
            "Recall: 0.9811\n",
            "F1 Score: 0.9811\n",
            "                      precision    recall  f1-score   support\n",
            "\n",
            "          Networking       0.98      0.99      0.99       447\n",
            "            Learning       0.98      0.98      0.98       422\n",
            "           Searching       0.99      0.98      0.98       153\n",
            "     Sourcing: Early       0.97      0.97      0.97       122\n",
            "Sourcing: In Process       1.00      0.99      0.99        71\n",
            "\n",
            "            accuracy                           0.98      1215\n",
            "           macro avg       0.98      0.98      0.98      1215\n",
            "        weighted avg       0.98      0.98      0.98      1215\n",
            "\n"
          ]
        },
        {
          "output_type": "stream",
          "name": "stderr",
          "text": [
            "\r 88%|████████▊ | 351/400 [02:22<00:18,  2.60it/s]"
          ]
        },
        {
          "output_type": "stream",
          "name": "stdout",
          "text": [
            "Epoch 351/400\n",
            "Loss: 0.0428\n",
            "Accuracy: 0.9893\n",
            "Precision: 0.9893\n",
            "Recall: 0.9893\n",
            "F1 Score: 0.9893\n",
            "                      precision    recall  f1-score   support\n",
            "\n",
            "          Networking       1.00      0.99      0.99       447\n",
            "            Learning       0.99      0.99      0.99       422\n",
            "           Searching       0.98      0.98      0.98       153\n",
            "     Sourcing: Early       0.99      1.00      1.00       122\n",
            "Sourcing: In Process       0.99      0.99      0.99        71\n",
            "\n",
            "            accuracy                           0.99      1215\n",
            "           macro avg       0.99      0.99      0.99      1215\n",
            "        weighted avg       0.99      0.99      0.99      1215\n",
            "\n"
          ]
        },
        {
          "output_type": "stream",
          "name": "stderr",
          "text": [
            "\r 88%|████████▊ | 352/400 [02:23<00:18,  2.54it/s]"
          ]
        },
        {
          "output_type": "stream",
          "name": "stdout",
          "text": [
            "Epoch 352/400\n",
            "Loss: 0.0399\n",
            "Accuracy: 0.9868\n",
            "Precision: 0.9869\n",
            "Recall: 0.9868\n",
            "F1 Score: 0.9868\n",
            "                      precision    recall  f1-score   support\n",
            "\n",
            "          Networking       0.98      0.99      0.99       447\n",
            "            Learning       0.99      0.98      0.98       422\n",
            "           Searching       0.99      0.98      0.99       153\n",
            "     Sourcing: Early       0.99      1.00      1.00       122\n",
            "Sourcing: In Process       1.00      0.99      0.99        71\n",
            "\n",
            "            accuracy                           0.99      1215\n",
            "           macro avg       0.99      0.99      0.99      1215\n",
            "        weighted avg       0.99      0.99      0.99      1215\n",
            "\n"
          ]
        },
        {
          "output_type": "stream",
          "name": "stderr",
          "text": [
            "\r 88%|████████▊ | 353/400 [02:23<00:18,  2.53it/s]"
          ]
        },
        {
          "output_type": "stream",
          "name": "stdout",
          "text": [
            "Epoch 353/400\n",
            "Loss: 0.0552\n",
            "Accuracy: 0.9852\n",
            "Precision: 0.9852\n",
            "Recall: 0.9852\n",
            "F1 Score: 0.9852\n",
            "                      precision    recall  f1-score   support\n",
            "\n",
            "          Networking       1.00      0.99      0.99       447\n",
            "            Learning       0.98      0.99      0.98       422\n",
            "           Searching       0.98      0.98      0.98       153\n",
            "     Sourcing: Early       0.97      0.97      0.97       122\n",
            "Sourcing: In Process       0.97      0.99      0.98        71\n",
            "\n",
            "            accuracy                           0.99      1215\n",
            "           macro avg       0.98      0.98      0.98      1215\n",
            "        weighted avg       0.99      0.99      0.99      1215\n",
            "\n"
          ]
        },
        {
          "output_type": "stream",
          "name": "stderr",
          "text": [
            "\r 88%|████████▊ | 354/400 [02:24<00:18,  2.52it/s]"
          ]
        },
        {
          "output_type": "stream",
          "name": "stdout",
          "text": [
            "Epoch 354/400\n",
            "Loss: 0.0349\n",
            "Accuracy: 0.9909\n",
            "Precision: 0.9910\n",
            "Recall: 0.9909\n",
            "F1 Score: 0.9909\n",
            "                      precision    recall  f1-score   support\n",
            "\n",
            "          Networking       0.99      1.00      0.99       447\n",
            "            Learning       0.99      0.99      0.99       422\n",
            "           Searching       0.99      0.99      0.99       153\n",
            "     Sourcing: Early       1.00      0.98      0.99       122\n",
            "Sourcing: In Process       1.00      0.99      0.99        71\n",
            "\n",
            "            accuracy                           0.99      1215\n",
            "           macro avg       0.99      0.99      0.99      1215\n",
            "        weighted avg       0.99      0.99      0.99      1215\n",
            "\n"
          ]
        },
        {
          "output_type": "stream",
          "name": "stderr",
          "text": [
            "\r 89%|████████▉ | 355/400 [02:24<00:18,  2.50it/s]"
          ]
        },
        {
          "output_type": "stream",
          "name": "stdout",
          "text": [
            "Epoch 355/400\n",
            "Loss: 0.0426\n",
            "Accuracy: 0.9852\n",
            "Precision: 0.9852\n",
            "Recall: 0.9852\n",
            "F1 Score: 0.9852\n",
            "                      precision    recall  f1-score   support\n",
            "\n",
            "          Networking       0.99      1.00      0.99       447\n",
            "            Learning       0.99      0.98      0.98       422\n",
            "           Searching       0.97      0.98      0.98       153\n",
            "     Sourcing: Early       0.99      0.99      0.99       122\n",
            "Sourcing: In Process       0.96      0.94      0.95        71\n",
            "\n",
            "            accuracy                           0.99      1215\n",
            "           macro avg       0.98      0.98      0.98      1215\n",
            "        weighted avg       0.99      0.99      0.99      1215\n",
            "\n"
          ]
        },
        {
          "output_type": "stream",
          "name": "stderr",
          "text": [
            "\r 89%|████████▉ | 356/400 [02:24<00:17,  2.47it/s]"
          ]
        },
        {
          "output_type": "stream",
          "name": "stdout",
          "text": [
            "Epoch 356/400\n",
            "Loss: 0.0514\n",
            "Accuracy: 0.9860\n",
            "Precision: 0.9861\n",
            "Recall: 0.9860\n",
            "F1 Score: 0.9860\n",
            "                      precision    recall  f1-score   support\n",
            "\n",
            "          Networking       0.99      0.99      0.99       447\n",
            "            Learning       0.99      0.99      0.99       422\n",
            "           Searching       1.00      0.99      1.00       153\n",
            "     Sourcing: Early       0.98      0.98      0.98       122\n",
            "Sourcing: In Process       0.94      0.96      0.95        71\n",
            "\n",
            "            accuracy                           0.99      1215\n",
            "           macro avg       0.98      0.98      0.98      1215\n",
            "        weighted avg       0.99      0.99      0.99      1215\n",
            "\n"
          ]
        },
        {
          "output_type": "stream",
          "name": "stderr",
          "text": [
            "\r 89%|████████▉ | 357/400 [02:25<00:17,  2.43it/s]"
          ]
        },
        {
          "output_type": "stream",
          "name": "stdout",
          "text": [
            "Epoch 357/400\n",
            "Loss: 0.0750\n",
            "Accuracy: 0.9728\n",
            "Precision: 0.9729\n",
            "Recall: 0.9728\n",
            "F1 Score: 0.9728\n",
            "                      precision    recall  f1-score   support\n",
            "\n",
            "          Networking       0.97      0.98      0.97       447\n",
            "            Learning       0.97      0.97      0.97       422\n",
            "           Searching       0.96      0.99      0.97       153\n",
            "     Sourcing: Early       0.97      0.96      0.97       122\n",
            "Sourcing: In Process       0.99      0.94      0.96        71\n",
            "\n",
            "            accuracy                           0.97      1215\n",
            "           macro avg       0.97      0.97      0.97      1215\n",
            "        weighted avg       0.97      0.97      0.97      1215\n",
            "\n"
          ]
        },
        {
          "output_type": "stream",
          "name": "stderr",
          "text": [
            "\r 90%|████████▉ | 358/400 [02:25<00:17,  2.46it/s]"
          ]
        },
        {
          "output_type": "stream",
          "name": "stdout",
          "text": [
            "Epoch 358/400\n",
            "Loss: 0.0380\n",
            "Accuracy: 0.9893\n",
            "Precision: 0.9893\n",
            "Recall: 0.9893\n",
            "F1 Score: 0.9893\n",
            "                      precision    recall  f1-score   support\n",
            "\n",
            "          Networking       0.99      0.99      0.99       447\n",
            "            Learning       1.00      0.99      0.99       422\n",
            "           Searching       0.98      0.97      0.97       153\n",
            "     Sourcing: Early       0.98      0.98      0.98       122\n",
            "Sourcing: In Process       1.00      1.00      1.00        71\n",
            "\n",
            "            accuracy                           0.99      1215\n",
            "           macro avg       0.99      0.99      0.99      1215\n",
            "        weighted avg       0.99      0.99      0.99      1215\n",
            "\n"
          ]
        },
        {
          "output_type": "stream",
          "name": "stderr",
          "text": [
            "\r 90%|████████▉ | 359/400 [02:26<00:16,  2.46it/s]"
          ]
        },
        {
          "output_type": "stream",
          "name": "stdout",
          "text": [
            "Epoch 359/400\n",
            "Loss: 0.0653\n",
            "Accuracy: 0.9770\n",
            "Precision: 0.9770\n",
            "Recall: 0.9770\n",
            "F1 Score: 0.9769\n",
            "                      precision    recall  f1-score   support\n",
            "\n",
            "          Networking       0.98      0.98      0.98       447\n",
            "            Learning       0.97      0.98      0.98       422\n",
            "           Searching       0.97      0.98      0.97       153\n",
            "     Sourcing: Early       0.98      0.98      0.98       122\n",
            "Sourcing: In Process       0.97      0.92      0.94        71\n",
            "\n",
            "            accuracy                           0.98      1215\n",
            "           macro avg       0.98      0.97      0.97      1215\n",
            "        weighted avg       0.98      0.98      0.98      1215\n",
            "\n"
          ]
        },
        {
          "output_type": "stream",
          "name": "stderr",
          "text": [
            "\r 90%|█████████ | 360/400 [02:26<00:16,  2.44it/s]"
          ]
        },
        {
          "output_type": "stream",
          "name": "stdout",
          "text": [
            "Epoch 360/400\n",
            "Loss: 0.0610\n",
            "Accuracy: 0.9844\n",
            "Precision: 0.9844\n",
            "Recall: 0.9844\n",
            "F1 Score: 0.9843\n",
            "                      precision    recall  f1-score   support\n",
            "\n",
            "          Networking       0.99      0.98      0.99       447\n",
            "            Learning       0.98      1.00      0.99       422\n",
            "           Searching       0.98      0.99      0.98       153\n",
            "     Sourcing: Early       0.99      0.96      0.97       122\n",
            "Sourcing: In Process       0.96      0.96      0.96        71\n",
            "\n",
            "            accuracy                           0.98      1215\n",
            "           macro avg       0.98      0.98      0.98      1215\n",
            "        weighted avg       0.98      0.98      0.98      1215\n",
            "\n"
          ]
        },
        {
          "output_type": "stream",
          "name": "stderr",
          "text": [
            "\r 90%|█████████ | 361/400 [02:26<00:15,  2.47it/s]"
          ]
        },
        {
          "output_type": "stream",
          "name": "stdout",
          "text": [
            "Epoch 361/400\n",
            "Loss: 0.0540\n",
            "Accuracy: 0.9802\n",
            "Precision: 0.9803\n",
            "Recall: 0.9802\n",
            "F1 Score: 0.9803\n",
            "                      precision    recall  f1-score   support\n",
            "\n",
            "          Networking       0.98      0.98      0.98       447\n",
            "            Learning       0.99      0.98      0.99       422\n",
            "           Searching       0.98      0.99      0.99       153\n",
            "     Sourcing: Early       0.97      0.96      0.96       122\n",
            "Sourcing: In Process       0.95      0.99      0.97        71\n",
            "\n",
            "            accuracy                           0.98      1215\n",
            "           macro avg       0.97      0.98      0.98      1215\n",
            "        weighted avg       0.98      0.98      0.98      1215\n",
            "\n"
          ]
        },
        {
          "output_type": "stream",
          "name": "stderr",
          "text": [
            "\r 90%|█████████ | 362/400 [02:27<00:15,  2.42it/s]"
          ]
        },
        {
          "output_type": "stream",
          "name": "stdout",
          "text": [
            "Epoch 362/400\n",
            "Loss: 0.0401\n",
            "Accuracy: 0.9852\n",
            "Precision: 0.9853\n",
            "Recall: 0.9852\n",
            "F1 Score: 0.9852\n",
            "                      precision    recall  f1-score   support\n",
            "\n",
            "          Networking       0.98      0.98      0.98       447\n",
            "            Learning       0.99      0.98      0.99       422\n",
            "           Searching       0.98      0.99      0.98       153\n",
            "     Sourcing: Early       1.00      0.99      1.00       122\n",
            "Sourcing: In Process       0.97      0.99      0.98        71\n",
            "\n",
            "            accuracy                           0.99      1215\n",
            "           macro avg       0.98      0.99      0.99      1215\n",
            "        weighted avg       0.99      0.99      0.99      1215\n",
            "\n"
          ]
        },
        {
          "output_type": "stream",
          "name": "stderr",
          "text": [
            "\r 91%|█████████ | 363/400 [02:27<00:14,  2.47it/s]"
          ]
        },
        {
          "output_type": "stream",
          "name": "stdout",
          "text": [
            "Epoch 363/400\n",
            "Loss: 0.0343\n",
            "Accuracy: 0.9909\n",
            "Precision: 0.9910\n",
            "Recall: 0.9909\n",
            "F1 Score: 0.9909\n",
            "                      precision    recall  f1-score   support\n",
            "\n",
            "          Networking       0.99      0.99      0.99       447\n",
            "            Learning       0.99      0.99      0.99       422\n",
            "           Searching       0.99      0.99      0.99       153\n",
            "     Sourcing: Early       0.99      0.99      0.99       122\n",
            "Sourcing: In Process       0.99      0.99      0.99        71\n",
            "\n",
            "            accuracy                           0.99      1215\n",
            "           macro avg       0.99      0.99      0.99      1215\n",
            "        weighted avg       0.99      0.99      0.99      1215\n",
            "\n"
          ]
        },
        {
          "output_type": "stream",
          "name": "stderr",
          "text": [
            "\r 91%|█████████ | 364/400 [02:28<00:14,  2.49it/s]"
          ]
        },
        {
          "output_type": "stream",
          "name": "stdout",
          "text": [
            "Epoch 364/400\n",
            "Loss: 0.0736\n",
            "Accuracy: 0.9712\n",
            "Precision: 0.9713\n",
            "Recall: 0.9712\n",
            "F1 Score: 0.9712\n",
            "                      precision    recall  f1-score   support\n",
            "\n",
            "          Networking       0.97      0.97      0.97       447\n",
            "            Learning       0.98      0.98      0.98       422\n",
            "           Searching       0.98      0.97      0.97       153\n",
            "     Sourcing: Early       0.94      0.95      0.94       122\n",
            "Sourcing: In Process       0.97      0.99      0.98        71\n",
            "\n",
            "            accuracy                           0.97      1215\n",
            "           macro avg       0.97      0.97      0.97      1215\n",
            "        weighted avg       0.97      0.97      0.97      1215\n",
            "\n"
          ]
        },
        {
          "output_type": "stream",
          "name": "stderr",
          "text": [
            "\r 91%|█████████▏| 365/400 [02:28<00:14,  2.48it/s]"
          ]
        },
        {
          "output_type": "stream",
          "name": "stdout",
          "text": [
            "Epoch 365/400\n",
            "Loss: 0.0267\n",
            "Accuracy: 0.9918\n",
            "Precision: 0.9918\n",
            "Recall: 0.9918\n",
            "F1 Score: 0.9918\n",
            "                      precision    recall  f1-score   support\n",
            "\n",
            "          Networking       1.00      0.99      0.99       447\n",
            "            Learning       0.99      1.00      0.99       422\n",
            "           Searching       0.99      0.99      0.99       153\n",
            "     Sourcing: Early       1.00      0.98      0.99       122\n",
            "Sourcing: In Process       0.99      0.99      0.99        71\n",
            "\n",
            "            accuracy                           0.99      1215\n",
            "           macro avg       0.99      0.99      0.99      1215\n",
            "        weighted avg       0.99      0.99      0.99      1215\n",
            "\n"
          ]
        },
        {
          "output_type": "stream",
          "name": "stderr",
          "text": [
            "\r 92%|█████████▏| 366/400 [02:29<00:13,  2.44it/s]"
          ]
        },
        {
          "output_type": "stream",
          "name": "stdout",
          "text": [
            "Epoch 366/400\n",
            "Loss: 0.0607\n",
            "Accuracy: 0.9802\n",
            "Precision: 0.9803\n",
            "Recall: 0.9802\n",
            "F1 Score: 0.9803\n",
            "                      precision    recall  f1-score   support\n",
            "\n",
            "          Networking       0.99      0.98      0.99       447\n",
            "            Learning       0.98      0.98      0.98       422\n",
            "           Searching       0.96      0.97      0.96       153\n",
            "     Sourcing: Early       0.97      0.98      0.98       122\n",
            "Sourcing: In Process       0.99      0.99      0.99        71\n",
            "\n",
            "            accuracy                           0.98      1215\n",
            "           macro avg       0.98      0.98      0.98      1215\n",
            "        weighted avg       0.98      0.98      0.98      1215\n",
            "\n"
          ]
        },
        {
          "output_type": "stream",
          "name": "stderr",
          "text": [
            "\r 92%|█████████▏| 367/400 [02:29<00:13,  2.48it/s]"
          ]
        },
        {
          "output_type": "stream",
          "name": "stdout",
          "text": [
            "Epoch 367/400\n",
            "Loss: 0.0887\n",
            "Accuracy: 0.9654\n",
            "Precision: 0.9656\n",
            "Recall: 0.9654\n",
            "F1 Score: 0.9655\n",
            "                      precision    recall  f1-score   support\n",
            "\n",
            "          Networking       0.96      0.97      0.96       447\n",
            "            Learning       0.97      0.96      0.97       422\n",
            "           Searching       0.95      0.96      0.96       153\n",
            "     Sourcing: Early       0.98      0.96      0.97       122\n",
            "Sourcing: In Process       0.99      0.99      0.99        71\n",
            "\n",
            "            accuracy                           0.97      1215\n",
            "           macro avg       0.97      0.97      0.97      1215\n",
            "        weighted avg       0.97      0.97      0.97      1215\n",
            "\n"
          ]
        },
        {
          "output_type": "stream",
          "name": "stderr",
          "text": [
            "\r 92%|█████████▏| 368/400 [02:29<00:13,  2.44it/s]"
          ]
        },
        {
          "output_type": "stream",
          "name": "stdout",
          "text": [
            "Epoch 368/400\n",
            "Loss: 0.0421\n",
            "Accuracy: 0.9868\n",
            "Precision: 0.9869\n",
            "Recall: 0.9868\n",
            "F1 Score: 0.9868\n",
            "                      precision    recall  f1-score   support\n",
            "\n",
            "          Networking       1.00      0.99      0.99       447\n",
            "            Learning       0.99      0.99      0.99       422\n",
            "           Searching       0.99      0.98      0.98       153\n",
            "     Sourcing: Early       0.98      0.98      0.98       122\n",
            "Sourcing: In Process       0.96      0.99      0.97        71\n",
            "\n",
            "            accuracy                           0.99      1215\n",
            "           macro avg       0.98      0.98      0.98      1215\n",
            "        weighted avg       0.99      0.99      0.99      1215\n",
            "\n"
          ]
        },
        {
          "output_type": "stream",
          "name": "stderr",
          "text": [
            "\r 92%|█████████▏| 369/400 [02:30<00:12,  2.48it/s]"
          ]
        },
        {
          "output_type": "stream",
          "name": "stdout",
          "text": [
            "Epoch 369/400\n",
            "Loss: 0.0407\n",
            "Accuracy: 0.9827\n",
            "Precision: 0.9828\n",
            "Recall: 0.9827\n",
            "F1 Score: 0.9827\n",
            "                      precision    recall  f1-score   support\n",
            "\n",
            "          Networking       0.99      0.98      0.98       447\n",
            "            Learning       0.98      0.99      0.98       422\n",
            "           Searching       0.97      0.98      0.98       153\n",
            "     Sourcing: Early       0.98      0.98      0.98       122\n",
            "Sourcing: In Process       1.00      1.00      1.00        71\n",
            "\n",
            "            accuracy                           0.98      1215\n",
            "           macro avg       0.98      0.98      0.98      1215\n",
            "        weighted avg       0.98      0.98      0.98      1215\n",
            "\n"
          ]
        },
        {
          "output_type": "stream",
          "name": "stderr",
          "text": [
            "\r 92%|█████████▎| 370/400 [02:30<00:11,  2.51it/s]"
          ]
        },
        {
          "output_type": "stream",
          "name": "stdout",
          "text": [
            "Epoch 370/400\n",
            "Loss: 0.0766\n",
            "Accuracy: 0.9720\n",
            "Precision: 0.9721\n",
            "Recall: 0.9720\n",
            "F1 Score: 0.9720\n",
            "                      precision    recall  f1-score   support\n",
            "\n",
            "          Networking       0.97      0.98      0.97       447\n",
            "            Learning       0.98      0.97      0.98       422\n",
            "           Searching       0.97      0.98      0.98       153\n",
            "     Sourcing: Early       0.97      0.96      0.96       122\n",
            "Sourcing: In Process       0.93      0.96      0.94        71\n",
            "\n",
            "            accuracy                           0.97      1215\n",
            "           macro avg       0.96      0.97      0.97      1215\n",
            "        weighted avg       0.97      0.97      0.97      1215\n",
            "\n"
          ]
        },
        {
          "output_type": "stream",
          "name": "stderr",
          "text": [
            "\r 93%|█████████▎| 371/400 [02:31<00:11,  2.52it/s]"
          ]
        },
        {
          "output_type": "stream",
          "name": "stdout",
          "text": [
            "Epoch 371/400\n",
            "Loss: 0.1622\n",
            "Accuracy: 0.9407\n",
            "Precision: 0.9408\n",
            "Recall: 0.9407\n",
            "F1 Score: 0.9407\n",
            "                      precision    recall  f1-score   support\n",
            "\n",
            "          Networking       0.95      0.94      0.94       447\n",
            "            Learning       0.94      0.95      0.94       422\n",
            "           Searching       0.93      0.93      0.93       153\n",
            "     Sourcing: Early       0.93      0.91      0.92       122\n",
            "Sourcing: In Process       0.97      0.96      0.96        71\n",
            "\n",
            "            accuracy                           0.94      1215\n",
            "           macro avg       0.94      0.94      0.94      1215\n",
            "        weighted avg       0.94      0.94      0.94      1215\n",
            "\n"
          ]
        },
        {
          "output_type": "stream",
          "name": "stderr",
          "text": [
            "\r 93%|█████████▎| 372/400 [02:31<00:11,  2.47it/s]"
          ]
        },
        {
          "output_type": "stream",
          "name": "stdout",
          "text": [
            "Epoch 372/400\n",
            "Loss: 0.1621\n",
            "Accuracy: 0.9490\n",
            "Precision: 0.9492\n",
            "Recall: 0.9490\n",
            "F1 Score: 0.9490\n",
            "                      precision    recall  f1-score   support\n",
            "\n",
            "          Networking       0.95      0.95      0.95       447\n",
            "            Learning       0.96      0.95      0.96       422\n",
            "           Searching       0.95      0.95      0.95       153\n",
            "     Sourcing: Early       0.90      0.93      0.92       122\n",
            "Sourcing: In Process       0.93      0.96      0.94        71\n",
            "\n",
            "            accuracy                           0.95      1215\n",
            "           macro avg       0.94      0.95      0.94      1215\n",
            "        weighted avg       0.95      0.95      0.95      1215\n",
            "\n"
          ]
        },
        {
          "output_type": "stream",
          "name": "stderr",
          "text": [
            "\r 93%|█████████▎| 373/400 [02:31<00:10,  2.47it/s]"
          ]
        },
        {
          "output_type": "stream",
          "name": "stdout",
          "text": [
            "Epoch 373/400\n",
            "Loss: 0.0273\n",
            "Accuracy: 0.9926\n",
            "Precision: 0.9926\n",
            "Recall: 0.9926\n",
            "F1 Score: 0.9926\n",
            "                      precision    recall  f1-score   support\n",
            "\n",
            "          Networking       0.99      0.99      0.99       447\n",
            "            Learning       0.99      0.99      0.99       422\n",
            "           Searching       0.99      1.00      0.99       153\n",
            "     Sourcing: Early       0.99      1.00      1.00       122\n",
            "Sourcing: In Process       1.00      0.99      0.99        71\n",
            "\n",
            "            accuracy                           0.99      1215\n",
            "           macro avg       0.99      0.99      0.99      1215\n",
            "        weighted avg       0.99      0.99      0.99      1215\n",
            "\n"
          ]
        },
        {
          "output_type": "stream",
          "name": "stderr",
          "text": [
            "\r 94%|█████████▎| 374/400 [02:32<00:10,  2.50it/s]"
          ]
        },
        {
          "output_type": "stream",
          "name": "stdout",
          "text": [
            "Epoch 374/400\n",
            "Loss: 0.0369\n",
            "Accuracy: 0.9885\n",
            "Precision: 0.9885\n",
            "Recall: 0.9885\n",
            "F1 Score: 0.9885\n",
            "                      precision    recall  f1-score   support\n",
            "\n",
            "          Networking       0.98      0.99      0.99       447\n",
            "            Learning       0.99      0.99      0.99       422\n",
            "           Searching       0.99      0.99      0.99       153\n",
            "     Sourcing: Early       0.99      1.00      1.00       122\n",
            "Sourcing: In Process       1.00      0.99      0.99        71\n",
            "\n",
            "            accuracy                           0.99      1215\n",
            "           macro avg       0.99      0.99      0.99      1215\n",
            "        weighted avg       0.99      0.99      0.99      1215\n",
            "\n"
          ]
        },
        {
          "output_type": "stream",
          "name": "stderr",
          "text": [
            "\r 94%|█████████▍| 375/400 [02:32<00:10,  2.49it/s]"
          ]
        },
        {
          "output_type": "stream",
          "name": "stdout",
          "text": [
            "Epoch 375/400\n",
            "Loss: 0.0497\n",
            "Accuracy: 0.9827\n",
            "Precision: 0.9827\n",
            "Recall: 0.9827\n",
            "F1 Score: 0.9827\n",
            "                      precision    recall  f1-score   support\n",
            "\n",
            "          Networking       0.98      0.98      0.98       447\n",
            "            Learning       0.98      0.98      0.98       422\n",
            "           Searching       0.99      0.99      0.99       153\n",
            "     Sourcing: Early       0.99      0.99      0.99       122\n",
            "Sourcing: In Process       1.00      0.99      0.99        71\n",
            "\n",
            "            accuracy                           0.98      1215\n",
            "           macro avg       0.99      0.99      0.99      1215\n",
            "        weighted avg       0.98      0.98      0.98      1215\n",
            "\n"
          ]
        },
        {
          "output_type": "stream",
          "name": "stderr",
          "text": [
            "\r 94%|█████████▍| 376/400 [02:33<00:09,  2.47it/s]"
          ]
        },
        {
          "output_type": "stream",
          "name": "stdout",
          "text": [
            "Epoch 376/400\n",
            "Loss: 0.0389\n",
            "Accuracy: 0.9909\n",
            "Precision: 0.9910\n",
            "Recall: 0.9909\n",
            "F1 Score: 0.9909\n",
            "                      precision    recall  f1-score   support\n",
            "\n",
            "          Networking       0.99      0.98      0.99       447\n",
            "            Learning       0.99      0.99      0.99       422\n",
            "           Searching       1.00      1.00      1.00       153\n",
            "     Sourcing: Early       0.98      1.00      0.99       122\n",
            "Sourcing: In Process       1.00      1.00      1.00        71\n",
            "\n",
            "            accuracy                           0.99      1215\n",
            "           macro avg       0.99      0.99      0.99      1215\n",
            "        weighted avg       0.99      0.99      0.99      1215\n",
            "\n"
          ]
        },
        {
          "output_type": "stream",
          "name": "stderr",
          "text": [
            "\r 94%|█████████▍| 377/400 [02:33<00:09,  2.49it/s]"
          ]
        },
        {
          "output_type": "stream",
          "name": "stdout",
          "text": [
            "Epoch 377/400\n",
            "Loss: 0.0448\n",
            "Accuracy: 0.9885\n",
            "Precision: 0.9885\n",
            "Recall: 0.9885\n",
            "F1 Score: 0.9885\n",
            "                      precision    recall  f1-score   support\n",
            "\n",
            "          Networking       0.98      0.99      0.99       447\n",
            "            Learning       0.99      0.98      0.99       422\n",
            "           Searching       0.99      0.99      0.99       153\n",
            "     Sourcing: Early       0.99      0.98      0.99       122\n",
            "Sourcing: In Process       1.00      1.00      1.00        71\n",
            "\n",
            "            accuracy                           0.99      1215\n",
            "           macro avg       0.99      0.99      0.99      1215\n",
            "        weighted avg       0.99      0.99      0.99      1215\n",
            "\n"
          ]
        },
        {
          "output_type": "stream",
          "name": "stderr",
          "text": [
            "\r 94%|█████████▍| 378/400 [02:33<00:08,  2.51it/s]"
          ]
        },
        {
          "output_type": "stream",
          "name": "stdout",
          "text": [
            "Epoch 378/400\n",
            "Loss: 0.0340\n",
            "Accuracy: 0.9885\n",
            "Precision: 0.9885\n",
            "Recall: 0.9885\n",
            "F1 Score: 0.9885\n",
            "                      precision    recall  f1-score   support\n",
            "\n",
            "          Networking       0.99      0.99      0.99       447\n",
            "            Learning       0.99      0.99      0.99       422\n",
            "           Searching       0.98      0.98      0.98       153\n",
            "     Sourcing: Early       0.99      1.00      1.00       122\n",
            "Sourcing: In Process       1.00      1.00      1.00        71\n",
            "\n",
            "            accuracy                           0.99      1215\n",
            "           macro avg       0.99      0.99      0.99      1215\n",
            "        weighted avg       0.99      0.99      0.99      1215\n",
            "\n"
          ]
        },
        {
          "output_type": "stream",
          "name": "stderr",
          "text": [
            "\r 95%|█████████▍| 379/400 [02:34<00:08,  2.49it/s]"
          ]
        },
        {
          "output_type": "stream",
          "name": "stdout",
          "text": [
            "Epoch 379/400\n",
            "Loss: 0.0591\n",
            "Accuracy: 0.9811\n",
            "Precision: 0.9811\n",
            "Recall: 0.9811\n",
            "F1 Score: 0.9810\n",
            "                      precision    recall  f1-score   support\n",
            "\n",
            "          Networking       0.98      0.98      0.98       447\n",
            "            Learning       0.98      0.98      0.98       422\n",
            "           Searching       0.98      0.99      0.99       153\n",
            "     Sourcing: Early       0.98      0.99      0.99       122\n",
            "Sourcing: In Process       0.99      0.94      0.96        71\n",
            "\n",
            "            accuracy                           0.98      1215\n",
            "           macro avg       0.98      0.98      0.98      1215\n",
            "        weighted avg       0.98      0.98      0.98      1215\n",
            "\n"
          ]
        },
        {
          "output_type": "stream",
          "name": "stderr",
          "text": [
            "\r 95%|█████████▌| 380/400 [02:34<00:07,  2.50it/s]"
          ]
        },
        {
          "output_type": "stream",
          "name": "stdout",
          "text": [
            "Epoch 380/400\n",
            "Loss: 0.0340\n",
            "Accuracy: 0.9885\n",
            "Precision: 0.9885\n",
            "Recall: 0.9885\n",
            "F1 Score: 0.9885\n",
            "                      precision    recall  f1-score   support\n",
            "\n",
            "          Networking       0.98      0.99      0.99       447\n",
            "            Learning       0.99      0.99      0.99       422\n",
            "           Searching       0.99      0.97      0.98       153\n",
            "     Sourcing: Early       1.00      1.00      1.00       122\n",
            "Sourcing: In Process       1.00      1.00      1.00        71\n",
            "\n",
            "            accuracy                           0.99      1215\n",
            "           macro avg       0.99      0.99      0.99      1215\n",
            "        weighted avg       0.99      0.99      0.99      1215\n",
            "\n"
          ]
        },
        {
          "output_type": "stream",
          "name": "stderr",
          "text": [
            "\r 95%|█████████▌| 381/400 [02:35<00:07,  2.48it/s]"
          ]
        },
        {
          "output_type": "stream",
          "name": "stdout",
          "text": [
            "Epoch 381/400\n",
            "Loss: 0.0816\n",
            "Accuracy: 0.9794\n",
            "Precision: 0.9794\n",
            "Recall: 0.9794\n",
            "F1 Score: 0.9794\n",
            "                      precision    recall  f1-score   support\n",
            "\n",
            "          Networking       0.98      0.97      0.97       447\n",
            "            Learning       0.97      0.97      0.97       422\n",
            "           Searching       0.99      1.00      1.00       153\n",
            "     Sourcing: Early       0.99      1.00      1.00       122\n",
            "Sourcing: In Process       0.99      0.99      0.99        71\n",
            "\n",
            "            accuracy                           0.98      1215\n",
            "           macro avg       0.98      0.99      0.99      1215\n",
            "        weighted avg       0.98      0.98      0.98      1215\n",
            "\n"
          ]
        },
        {
          "output_type": "stream",
          "name": "stderr",
          "text": [
            "\r 96%|█████████▌| 382/400 [02:35<00:07,  2.49it/s]"
          ]
        },
        {
          "output_type": "stream",
          "name": "stdout",
          "text": [
            "Epoch 382/400\n",
            "Loss: 0.0432\n",
            "Accuracy: 0.9844\n",
            "Precision: 0.9844\n",
            "Recall: 0.9844\n",
            "F1 Score: 0.9844\n",
            "                      precision    recall  f1-score   support\n",
            "\n",
            "          Networking       0.98      0.99      0.98       447\n",
            "            Learning       0.99      0.98      0.99       422\n",
            "           Searching       0.98      0.99      0.98       153\n",
            "     Sourcing: Early       0.99      0.99      0.99       122\n",
            "Sourcing: In Process       1.00      0.97      0.99        71\n",
            "\n",
            "            accuracy                           0.98      1215\n",
            "           macro avg       0.99      0.98      0.99      1215\n",
            "        weighted avg       0.98      0.98      0.98      1215\n",
            "\n"
          ]
        },
        {
          "output_type": "stream",
          "name": "stderr",
          "text": [
            "\r 96%|█████████▌| 383/400 [02:35<00:06,  2.47it/s]"
          ]
        },
        {
          "output_type": "stream",
          "name": "stdout",
          "text": [
            "Epoch 383/400\n",
            "Loss: 0.0535\n",
            "Accuracy: 0.9852\n",
            "Precision: 0.9853\n",
            "Recall: 0.9852\n",
            "F1 Score: 0.9852\n",
            "                      precision    recall  f1-score   support\n",
            "\n",
            "          Networking       0.98      0.99      0.99       447\n",
            "            Learning       0.99      0.98      0.99       422\n",
            "           Searching       0.99      0.99      0.99       153\n",
            "     Sourcing: Early       0.98      0.98      0.98       122\n",
            "Sourcing: In Process       0.96      0.99      0.97        71\n",
            "\n",
            "            accuracy                           0.99      1215\n",
            "           macro avg       0.98      0.99      0.98      1215\n",
            "        weighted avg       0.99      0.99      0.99      1215\n",
            "\n"
          ]
        },
        {
          "output_type": "stream",
          "name": "stderr",
          "text": [
            "\r 96%|█████████▌| 384/400 [02:36<00:06,  2.54it/s]"
          ]
        },
        {
          "output_type": "stream",
          "name": "stdout",
          "text": [
            "Epoch 384/400\n",
            "Loss: 0.0716\n",
            "Accuracy: 0.9794\n",
            "Precision: 0.9794\n",
            "Recall: 0.9794\n",
            "F1 Score: 0.9794\n",
            "                      precision    recall  f1-score   support\n",
            "\n",
            "          Networking       0.98      0.98      0.98       447\n",
            "            Learning       0.98      0.98      0.98       422\n",
            "           Searching       0.98      0.99      0.98       153\n",
            "     Sourcing: Early       0.97      0.96      0.97       122\n",
            "Sourcing: In Process       0.97      0.99      0.98        71\n",
            "\n",
            "            accuracy                           0.98      1215\n",
            "           macro avg       0.98      0.98      0.98      1215\n",
            "        weighted avg       0.98      0.98      0.98      1215\n",
            "\n"
          ]
        },
        {
          "output_type": "stream",
          "name": "stderr",
          "text": [
            "\r 96%|█████████▋| 385/400 [02:36<00:05,  2.50it/s]"
          ]
        },
        {
          "output_type": "stream",
          "name": "stdout",
          "text": [
            "Epoch 385/400\n",
            "Loss: 0.0393\n",
            "Accuracy: 0.9868\n",
            "Precision: 0.9868\n",
            "Recall: 0.9868\n",
            "F1 Score: 0.9868\n",
            "                      precision    recall  f1-score   support\n",
            "\n",
            "          Networking       0.99      0.99      0.99       447\n",
            "            Learning       0.99      0.99      0.99       422\n",
            "           Searching       0.98      0.99      0.98       153\n",
            "     Sourcing: Early       0.98      0.98      0.98       122\n",
            "Sourcing: In Process       1.00      0.99      0.99        71\n",
            "\n",
            "            accuracy                           0.99      1215\n",
            "           macro avg       0.99      0.99      0.99      1215\n",
            "        weighted avg       0.99      0.99      0.99      1215\n",
            "\n"
          ]
        },
        {
          "output_type": "stream",
          "name": "stderr",
          "text": [
            "\r 96%|█████████▋| 386/400 [02:37<00:05,  2.43it/s]"
          ]
        },
        {
          "output_type": "stream",
          "name": "stdout",
          "text": [
            "Epoch 386/400\n",
            "Loss: 0.0317\n",
            "Accuracy: 0.9901\n",
            "Precision: 0.9902\n",
            "Recall: 0.9901\n",
            "F1 Score: 0.9901\n",
            "                      precision    recall  f1-score   support\n",
            "\n",
            "          Networking       0.99      0.99      0.99       447\n",
            "            Learning       0.98      0.99      0.99       422\n",
            "           Searching       1.00      0.99      0.99       153\n",
            "     Sourcing: Early       1.00      0.99      1.00       122\n",
            "Sourcing: In Process       1.00      1.00      1.00        71\n",
            "\n",
            "            accuracy                           0.99      1215\n",
            "           macro avg       0.99      0.99      0.99      1215\n",
            "        weighted avg       0.99      0.99      0.99      1215\n",
            "\n"
          ]
        },
        {
          "output_type": "stream",
          "name": "stderr",
          "text": [
            "\r 97%|█████████▋| 387/400 [02:37<00:05,  2.42it/s]"
          ]
        },
        {
          "output_type": "stream",
          "name": "stdout",
          "text": [
            "Epoch 387/400\n",
            "Loss: 0.0368\n",
            "Accuracy: 0.9901\n",
            "Precision: 0.9901\n",
            "Recall: 0.9901\n",
            "F1 Score: 0.9901\n",
            "                      precision    recall  f1-score   support\n",
            "\n",
            "          Networking       0.99      0.99      0.99       447\n",
            "            Learning       0.99      0.99      0.99       422\n",
            "           Searching       0.99      0.99      0.99       153\n",
            "     Sourcing: Early       1.00      0.99      1.00       122\n",
            "Sourcing: In Process       0.99      1.00      0.99        71\n",
            "\n",
            "            accuracy                           0.99      1215\n",
            "           macro avg       0.99      0.99      0.99      1215\n",
            "        weighted avg       0.99      0.99      0.99      1215\n",
            "\n"
          ]
        },
        {
          "output_type": "stream",
          "name": "stderr",
          "text": [
            "\r 97%|█████████▋| 388/400 [02:37<00:04,  2.42it/s]"
          ]
        },
        {
          "output_type": "stream",
          "name": "stdout",
          "text": [
            "Epoch 388/400\n",
            "Loss: 0.0338\n",
            "Accuracy: 0.9885\n",
            "Precision: 0.9885\n",
            "Recall: 0.9885\n",
            "F1 Score: 0.9885\n",
            "                      precision    recall  f1-score   support\n",
            "\n",
            "          Networking       0.98      0.99      0.99       447\n",
            "            Learning       0.99      0.99      0.99       422\n",
            "           Searching       0.99      0.97      0.98       153\n",
            "     Sourcing: Early       1.00      1.00      1.00       122\n",
            "Sourcing: In Process       1.00      1.00      1.00        71\n",
            "\n",
            "            accuracy                           0.99      1215\n",
            "           macro avg       0.99      0.99      0.99      1215\n",
            "        weighted avg       0.99      0.99      0.99      1215\n",
            "\n"
          ]
        },
        {
          "output_type": "stream",
          "name": "stderr",
          "text": [
            "\r 97%|█████████▋| 389/400 [02:38<00:04,  2.33it/s]"
          ]
        },
        {
          "output_type": "stream",
          "name": "stdout",
          "text": [
            "Epoch 389/400\n",
            "Loss: 0.0356\n",
            "Accuracy: 0.9901\n",
            "Precision: 0.9901\n",
            "Recall: 0.9901\n",
            "F1 Score: 0.9901\n",
            "                      precision    recall  f1-score   support\n",
            "\n",
            "          Networking       0.99      1.00      0.99       447\n",
            "            Learning       0.99      0.99      0.99       422\n",
            "           Searching       0.99      0.97      0.98       153\n",
            "     Sourcing: Early       0.98      1.00      0.99       122\n",
            "Sourcing: In Process       1.00      1.00      1.00        71\n",
            "\n",
            "            accuracy                           0.99      1215\n",
            "           macro avg       0.99      0.99      0.99      1215\n",
            "        weighted avg       0.99      0.99      0.99      1215\n",
            "\n"
          ]
        },
        {
          "output_type": "stream",
          "name": "stderr",
          "text": [
            "\r 98%|█████████▊| 390/400 [02:38<00:04,  2.36it/s]"
          ]
        },
        {
          "output_type": "stream",
          "name": "stdout",
          "text": [
            "Epoch 390/400\n",
            "Loss: 0.0227\n",
            "Accuracy: 0.9934\n",
            "Precision: 0.9935\n",
            "Recall: 0.9934\n",
            "F1 Score: 0.9934\n",
            "                      precision    recall  f1-score   support\n",
            "\n",
            "          Networking       1.00      1.00      1.00       447\n",
            "            Learning       0.99      0.99      0.99       422\n",
            "           Searching       0.97      0.99      0.98       153\n",
            "     Sourcing: Early       1.00      0.99      1.00       122\n",
            "Sourcing: In Process       1.00      1.00      1.00        71\n",
            "\n",
            "            accuracy                           0.99      1215\n",
            "           macro avg       0.99      0.99      0.99      1215\n",
            "        weighted avg       0.99      0.99      0.99      1215\n",
            "\n"
          ]
        },
        {
          "output_type": "stream",
          "name": "stderr",
          "text": [
            "\r 98%|█████████▊| 391/400 [02:39<00:03,  2.43it/s]"
          ]
        },
        {
          "output_type": "stream",
          "name": "stdout",
          "text": [
            "Epoch 391/400\n",
            "Loss: 0.0318\n",
            "Accuracy: 0.9893\n",
            "Precision: 0.9893\n",
            "Recall: 0.9893\n",
            "F1 Score: 0.9893\n",
            "                      precision    recall  f1-score   support\n",
            "\n",
            "          Networking       0.98      0.99      0.99       447\n",
            "            Learning       0.99      0.98      0.98       422\n",
            "           Searching       0.99      1.00      1.00       153\n",
            "     Sourcing: Early       0.99      1.00      1.00       122\n",
            "Sourcing: In Process       1.00      1.00      1.00        71\n",
            "\n",
            "            accuracy                           0.99      1215\n",
            "           macro avg       0.99      0.99      0.99      1215\n",
            "        weighted avg       0.99      0.99      0.99      1215\n",
            "\n"
          ]
        },
        {
          "output_type": "stream",
          "name": "stderr",
          "text": [
            "\r 98%|█████████▊| 392/400 [02:39<00:03,  2.49it/s]"
          ]
        },
        {
          "output_type": "stream",
          "name": "stdout",
          "text": [
            "Epoch 392/400\n",
            "Loss: 0.0264\n",
            "Accuracy: 0.9918\n",
            "Precision: 0.9918\n",
            "Recall: 0.9918\n",
            "F1 Score: 0.9918\n",
            "                      precision    recall  f1-score   support\n",
            "\n",
            "          Networking       0.99      0.99      0.99       447\n",
            "            Learning       0.99      0.99      0.99       422\n",
            "           Searching       0.99      1.00      1.00       153\n",
            "     Sourcing: Early       1.00      0.99      1.00       122\n",
            "Sourcing: In Process       1.00      1.00      1.00        71\n",
            "\n",
            "            accuracy                           0.99      1215\n",
            "           macro avg       0.99      0.99      0.99      1215\n",
            "        weighted avg       0.99      0.99      0.99      1215\n",
            "\n"
          ]
        },
        {
          "output_type": "stream",
          "name": "stderr",
          "text": [
            "\r 98%|█████████▊| 393/400 [02:39<00:02,  2.54it/s]"
          ]
        },
        {
          "output_type": "stream",
          "name": "stdout",
          "text": [
            "Epoch 393/400\n",
            "Loss: 0.0282\n",
            "Accuracy: 0.9893\n",
            "Precision: 0.9893\n",
            "Recall: 0.9893\n",
            "F1 Score: 0.9893\n",
            "                      precision    recall  f1-score   support\n",
            "\n",
            "          Networking       0.99      0.99      0.99       447\n",
            "            Learning       0.99      0.99      0.99       422\n",
            "           Searching       0.99      0.99      0.99       153\n",
            "     Sourcing: Early       0.98      0.99      0.98       122\n",
            "Sourcing: In Process       0.99      0.99      0.99        71\n",
            "\n",
            "            accuracy                           0.99      1215\n",
            "           macro avg       0.99      0.99      0.99      1215\n",
            "        weighted avg       0.99      0.99      0.99      1215\n",
            "\n"
          ]
        },
        {
          "output_type": "stream",
          "name": "stderr",
          "text": [
            "\r 98%|█████████▊| 394/400 [02:40<00:02,  2.49it/s]"
          ]
        },
        {
          "output_type": "stream",
          "name": "stdout",
          "text": [
            "Epoch 394/400\n",
            "Loss: 0.0415\n",
            "Accuracy: 0.9852\n",
            "Precision: 0.9852\n",
            "Recall: 0.9852\n",
            "F1 Score: 0.9852\n",
            "                      precision    recall  f1-score   support\n",
            "\n",
            "          Networking       0.98      0.99      0.99       447\n",
            "            Learning       0.99      0.99      0.99       422\n",
            "           Searching       1.00      0.99      0.99       153\n",
            "     Sourcing: Early       0.97      0.96      0.96       122\n",
            "Sourcing: In Process       1.00      0.97      0.99        71\n",
            "\n",
            "            accuracy                           0.99      1215\n",
            "           macro avg       0.99      0.98      0.98      1215\n",
            "        weighted avg       0.99      0.99      0.99      1215\n",
            "\n"
          ]
        },
        {
          "output_type": "stream",
          "name": "stderr",
          "text": [
            "\r 99%|█████████▉| 395/400 [02:40<00:02,  2.48it/s]"
          ]
        },
        {
          "output_type": "stream",
          "name": "stdout",
          "text": [
            "Epoch 395/400\n",
            "Loss: 0.0446\n",
            "Accuracy: 0.9885\n",
            "Precision: 0.9885\n",
            "Recall: 0.9885\n",
            "F1 Score: 0.9885\n",
            "                      precision    recall  f1-score   support\n",
            "\n",
            "          Networking       1.00      0.99      0.99       447\n",
            "            Learning       0.99      0.99      0.99       422\n",
            "           Searching       0.98      0.99      0.99       153\n",
            "     Sourcing: Early       0.99      0.97      0.98       122\n",
            "Sourcing: In Process       0.97      1.00      0.99        71\n",
            "\n",
            "            accuracy                           0.99      1215\n",
            "           macro avg       0.99      0.99      0.99      1215\n",
            "        weighted avg       0.99      0.99      0.99      1215\n",
            "\n"
          ]
        },
        {
          "output_type": "stream",
          "name": "stderr",
          "text": [
            "\r 99%|█████████▉| 396/400 [02:41<00:01,  2.48it/s]"
          ]
        },
        {
          "output_type": "stream",
          "name": "stdout",
          "text": [
            "Epoch 396/400\n",
            "Loss: 0.0348\n",
            "Accuracy: 0.9901\n",
            "Precision: 0.9901\n",
            "Recall: 0.9901\n",
            "F1 Score: 0.9901\n",
            "                      precision    recall  f1-score   support\n",
            "\n",
            "          Networking       0.99      0.99      0.99       447\n",
            "            Learning       0.99      0.99      0.99       422\n",
            "           Searching       1.00      0.99      1.00       153\n",
            "     Sourcing: Early       0.99      0.99      0.99       122\n",
            "Sourcing: In Process       0.99      0.99      0.99        71\n",
            "\n",
            "            accuracy                           0.99      1215\n",
            "           macro avg       0.99      0.99      0.99      1215\n",
            "        weighted avg       0.99      0.99      0.99      1215\n",
            "\n"
          ]
        },
        {
          "output_type": "stream",
          "name": "stderr",
          "text": [
            "\r 99%|█████████▉| 397/400 [02:41<00:01,  2.42it/s]"
          ]
        },
        {
          "output_type": "stream",
          "name": "stdout",
          "text": [
            "Epoch 397/400\n",
            "Loss: 0.0338\n",
            "Accuracy: 0.9877\n",
            "Precision: 0.9877\n",
            "Recall: 0.9877\n",
            "F1 Score: 0.9876\n",
            "                      precision    recall  f1-score   support\n",
            "\n",
            "          Networking       0.99      0.99      0.99       447\n",
            "            Learning       0.99      0.99      0.99       422\n",
            "           Searching       0.98      0.96      0.97       153\n",
            "     Sourcing: Early       0.97      1.00      0.98       122\n",
            "Sourcing: In Process       1.00      0.99      0.99        71\n",
            "\n",
            "            accuracy                           0.99      1215\n",
            "           macro avg       0.99      0.99      0.99      1215\n",
            "        weighted avg       0.99      0.99      0.99      1215\n",
            "\n"
          ]
        },
        {
          "output_type": "stream",
          "name": "stderr",
          "text": [
            "\r100%|█████████▉| 398/400 [02:41<00:00,  2.42it/s]"
          ]
        },
        {
          "output_type": "stream",
          "name": "stdout",
          "text": [
            "Epoch 398/400\n",
            "Loss: 0.0361\n",
            "Accuracy: 0.9885\n",
            "Precision: 0.9885\n",
            "Recall: 0.9885\n",
            "F1 Score: 0.9885\n",
            "                      precision    recall  f1-score   support\n",
            "\n",
            "          Networking       0.99      0.99      0.99       447\n",
            "            Learning       0.99      0.99      0.99       422\n",
            "           Searching       0.98      0.99      0.99       153\n",
            "     Sourcing: Early       0.99      1.00      1.00       122\n",
            "Sourcing: In Process       0.97      0.96      0.96        71\n",
            "\n",
            "            accuracy                           0.99      1215\n",
            "           macro avg       0.99      0.99      0.99      1215\n",
            "        weighted avg       0.99      0.99      0.99      1215\n",
            "\n"
          ]
        },
        {
          "output_type": "stream",
          "name": "stderr",
          "text": [
            "\r100%|█████████▉| 399/400 [02:42<00:00,  2.45it/s]"
          ]
        },
        {
          "output_type": "stream",
          "name": "stdout",
          "text": [
            "Epoch 399/400\n",
            "Loss: 0.0337\n",
            "Accuracy: 0.9885\n",
            "Precision: 0.9885\n",
            "Recall: 0.9885\n",
            "F1 Score: 0.9885\n",
            "                      precision    recall  f1-score   support\n",
            "\n",
            "          Networking       0.99      0.99      0.99       447\n",
            "            Learning       0.99      0.99      0.99       422\n",
            "           Searching       0.98      0.99      0.99       153\n",
            "     Sourcing: Early       1.00      0.99      1.00       122\n",
            "Sourcing: In Process       0.99      1.00      0.99        71\n",
            "\n",
            "            accuracy                           0.99      1215\n",
            "           macro avg       0.99      0.99      0.99      1215\n",
            "        weighted avg       0.99      0.99      0.99      1215\n",
            "\n"
          ]
        },
        {
          "output_type": "stream",
          "name": "stderr",
          "text": [
            "100%|██████████| 400/400 [02:42<00:00,  2.46it/s]"
          ]
        },
        {
          "output_type": "stream",
          "name": "stdout",
          "text": [
            "Epoch 400/400\n",
            "Loss: 0.0485\n",
            "Accuracy: 0.9852\n",
            "Precision: 0.9852\n",
            "Recall: 0.9852\n",
            "F1 Score: 0.9852\n",
            "                      precision    recall  f1-score   support\n",
            "\n",
            "          Networking       0.99      0.98      0.98       447\n",
            "            Learning       0.99      0.98      0.98       422\n",
            "           Searching       0.97      0.98      0.97       153\n",
            "     Sourcing: Early       0.99      1.00      1.00       122\n",
            "Sourcing: In Process       1.00      1.00      1.00        71\n",
            "\n",
            "            accuracy                           0.99      1215\n",
            "           macro avg       0.99      0.99      0.99      1215\n",
            "        weighted avg       0.99      0.99      0.99      1215\n",
            "\n"
          ]
        },
        {
          "output_type": "stream",
          "name": "stderr",
          "text": [
            "\n"
          ]
        }
      ]
    },
    {
      "cell_type": "code",
      "source": [
        "model_path"
      ],
      "metadata": {
        "id": "k8t8gRZdGdjK",
        "colab": {
          "base_uri": "https://localhost:8080/",
          "height": 53
        },
        "outputId": "3b883c65-8b12-4d2d-8354-07dcd66d7321"
      },
      "execution_count": null,
      "outputs": [
        {
          "output_type": "execute_result",
          "data": {
            "text/plain": [
              "'/content/drive/MyDrive/data/CSM/cpkts/llama3/loss_cross_entropy_data_with_fluff_acc_0.994238683127572_epoch_333.pth'"
            ],
            "application/vnd.google.colaboratory.intrinsic+json": {
              "type": "string"
            }
          },
          "metadata": {},
          "execution_count": 35
        }
      ]
    },
    {
      "cell_type": "code",
      "source": [
        "from collections import defaultdict\n",
        "import csv"
      ],
      "metadata": {
        "id": "vngfMc-69LTz"
      },
      "execution_count": null,
      "outputs": []
    },
    {
      "cell_type": "code",
      "source": [
        "def predict_classes(model, embeddings_json, output_csv):\n",
        "    # Load the embeddings from JSON file\n",
        "    with open(embeddings_json, 'r') as file:\n",
        "        embeddings = json.load(file)\n",
        "\n",
        "    # Prepare for predictions\n",
        "    class_labels = [\"Networking\", \"Learning\", \"Searching\", \"Sourcing: Early\", \"Sourcing: In Process\"]\n",
        "    predictions = []\n",
        "    class_counts = defaultdict(int)  # Dictionary to count class occurrences\n",
        "\n",
        "    # Predict each embedding\n",
        "    for badge_id, embedding in tqdm(embeddings.items()):\n",
        "        embedding_tensor = torch.tensor(embedding[0], dtype=torch.float32)\n",
        "        embedding_tensor = embedding_tensor.unsqueeze(0)  # Add batch dimension\n",
        "        with torch.no_grad():\n",
        "            output = model(embedding_tensor)\n",
        "            predicted_class = torch.argmax(output, dim=1)\n",
        "            badge_id = badge_id.split('_')[1]  # Extract part after '_'\n",
        "            predictions.append((badge_id, class_labels[predicted_class.item()]))\n",
        "            class_counts[class_labels[predicted_class.item()]] += 1  # Increment count for the predicted class\n",
        "\n",
        "\n",
        "    # Write predictions to a CSV file\n",
        "    with open(output_csv, 'w', newline='') as file:\n",
        "        writer = csv.writer(file)\n",
        "        writer.writerow(['BadgeId', 'ClusterId'])\n",
        "        writer.writerows(predictions)\n",
        "\n",
        "     # Print class counts\n",
        "    print(\"Total number of samples predicted for each class:\")\n",
        "    for class_label, count in class_counts.items():\n",
        "        print(f\"{class_label}: {count}\")\n",
        "\n",
        "    return predictions\n",
        "\n",
        "def load_model(path, input_size, num_classes):\n",
        "    model = BadgeNet(input_size, num_classes)\n",
        "    model.load_state_dict(torch.load(path))\n",
        "    model.eval()  # Set the model to evaluation mode\n",
        "    return model"
      ],
      "metadata": {
        "id": "YnIo7RBAILuU"
      },
      "execution_count": null,
      "outputs": []
    },
    {
      "cell_type": "code",
      "source": [
        "input_size = 1024  # The size of your embeddings\n",
        "num_classes = 5\n",
        "model = load_model(model_path, input_size, num_classes)\n",
        "\n",
        "print(f\"Model loaded successfully. from path: {model_path}\")"
      ],
      "metadata": {
        "colab": {
          "base_uri": "https://localhost:8080/"
        },
        "id": "uFIjcH0OIc5X",
        "outputId": "cb3190b9-9e69-4586-9914-535b826e66ef"
      },
      "execution_count": null,
      "outputs": [
        {
          "output_type": "stream",
          "name": "stdout",
          "text": [
            "Model loaded successfully. from path: /content/drive/MyDrive/data/CSM/cpkts/llama3/loss_cross_entropy_data_with_fluff_acc_0.994238683127572_epoch_333.pth\n"
          ]
        }
      ]
    },
    {
      "cell_type": "code",
      "source": [
        "# Predict and write the class labels to CSV\n",
        "\n",
        "embeddings_json = '/home/samtukra/LLMU/embeddings/new_claire_db/fluff/session_embeddings_Meta-Llama-3-8B.json'  # Update this path\n",
        "# EMbeddings SBERT\n",
        "embeddings_json = '/content/drive/MyDrive/data/CSM/session_embeddings_stsb-bert-large.json'\n",
        "output_csv = '/content/drive/MyDrive/data/CSM/predictions/new_20250124_sbert_loss_cross_entropy.csv'  # Specify your output CSV file path\n",
        "predict_classes(model, embeddings_json, output_csv)"
      ],
      "metadata": {
        "id": "MKZJnWlRIoDN",
        "colab": {
          "base_uri": "https://localhost:8080/"
        },
        "outputId": "50f2f683-4465-4e54-8a0e-f17c0f6d22b5"
      },
      "execution_count": null,
      "outputs": [
        {
          "output_type": "stream",
          "name": "stderr",
          "text": [
            "100%|██████████| 24837/24837 [00:04<00:00, 5716.97it/s]\n"
          ]
        },
        {
          "output_type": "stream",
          "name": "stdout",
          "text": [
            "Total number of samples predicted for each class:\n",
            "Networking: 11644\n",
            "Learning: 6815\n",
            "Sourcing: In Process: 1860\n",
            "Searching: 2100\n",
            "Sourcing: Early: 2418\n"
          ]
        },
        {
          "output_type": "execute_result",
          "data": {
            "text/plain": [
              "[('22A5D99', 'Networking'),\n",
              " ('22DIQKA', 'Networking'),\n",
              " ('22QZ49X', 'Learning'),\n",
              " ('237XLCW', 'Sourcing: In Process'),\n",
              " ('23BG2SF', 'Learning'),\n",
              " ('23V8T4Y', 'Sourcing: In Process'),\n",
              " ('23Z9GGM', 'Learning'),\n",
              " ('243MCFG', 'Learning'),\n",
              " ('24C2DXI', 'Networking'),\n",
              " ('24KCFVE', 'Learning'),\n",
              " ('24RBQJN', 'Learning'),\n",
              " ('24VGECM', 'Networking'),\n",
              " ('25452WE', 'Searching'),\n",
              " ('257YS94', 'Searching'),\n",
              " ('25CZP4Z', 'Networking'),\n",
              " ('25JA67Q', 'Learning'),\n",
              " ('25LW5CI', 'Networking'),\n",
              " ('262Q9DL', 'Sourcing: Early'),\n",
              " ('2642TJ3', 'Networking'),\n",
              " ('264JPL3', 'Networking'),\n",
              " ('264UYYL', 'Searching'),\n",
              " ('26CJ9I9', 'Networking'),\n",
              " ('26CMFEC', 'Searching'),\n",
              " ('26K3V28', 'Networking'),\n",
              " ('26QE36S', 'Sourcing: Early'),\n",
              " ('26RN3QY', 'Networking'),\n",
              " ('26UZB6E', 'Learning'),\n",
              " ('26WZR8C', 'Networking'),\n",
              " ('274P2WF', 'Sourcing: In Process'),\n",
              " ('27BZV8X', 'Networking'),\n",
              " ('27DHEAZ', 'Networking'),\n",
              " ('27G3N5X', 'Networking'),\n",
              " ('27GW9GU', 'Networking'),\n",
              " ('27K3KL6', 'Sourcing: Early'),\n",
              " ('27TBN8N', 'Networking'),\n",
              " ('27TF3DP', 'Sourcing: Early'),\n",
              " ('27ZQ8WE', 'Networking'),\n",
              " ('287AUBY', 'Searching'),\n",
              " ('287R4DD', 'Sourcing: Early'),\n",
              " ('289B6KF', 'Searching'),\n",
              " ('28FJ9RP', 'Networking'),\n",
              " ('28H5PTF', 'Networking'),\n",
              " ('28HTEYJ', 'Sourcing: Early'),\n",
              " ('28N6TT6', 'Networking'),\n",
              " ('28QSSUJ', 'Networking'),\n",
              " ('28VV8DR', 'Networking'),\n",
              " ('28WCJFK', 'Networking'),\n",
              " ('28WSZYD', 'Networking'),\n",
              " ('28Z9XWM', 'Networking'),\n",
              " ('28ZLMG2', 'Learning'),\n",
              " ('294L7T9', 'Networking'),\n",
              " ('2976V3Z', 'Learning'),\n",
              " ('29D7UI4', 'Sourcing: In Process'),\n",
              " ('29DQ7Z3', 'Networking'),\n",
              " ('29LFLSC', 'Sourcing: In Process'),\n",
              " ('29T6QJD', 'Sourcing: Early'),\n",
              " ('29TG9RK', 'Sourcing: Early'),\n",
              " ('29X3MK4', 'Learning'),\n",
              " ('2A6AZ35', 'Networking'),\n",
              " ('2A6PA6P', 'Networking'),\n",
              " ('2AFTMCP', 'Searching'),\n",
              " ('2AG9HUM', 'Networking'),\n",
              " ('2AH5JZH', 'Learning'),\n",
              " ('2AIX2W2', 'Sourcing: In Process'),\n",
              " ('2APWFLK', 'Networking'),\n",
              " ('2AVV5M6', 'Sourcing: Early'),\n",
              " ('2AW3K2C', 'Networking'),\n",
              " ('2B2QL99', 'Networking'),\n",
              " ('2B6M8LB', 'Networking'),\n",
              " ('2B6ZRNF', 'Searching'),\n",
              " ('2BC2SIT', 'Learning'),\n",
              " ('2BCZ83A', 'Networking'),\n",
              " ('2BEKUND', 'Learning'),\n",
              " ('2BFI8FJ', 'Networking'),\n",
              " ('2BG6HEB', 'Learning'),\n",
              " ('2BIB2FD', 'Learning'),\n",
              " ('2BTDZYW', 'Learning'),\n",
              " ('2BTHX6K', 'Networking'),\n",
              " ('2BUFTLA', 'Learning'),\n",
              " ('2BUWPJK', 'Learning'),\n",
              " ('2BVBK43', 'Networking'),\n",
              " ('2BWBEUT', 'Searching'),\n",
              " ('2BZJYYD', 'Networking'),\n",
              " ('2C59FDH', 'Sourcing: In Process'),\n",
              " ('2C8IWKL', 'Learning'),\n",
              " ('2C8TTHL', 'Learning'),\n",
              " ('2C9IQCP', 'Networking'),\n",
              " ('2CL5KBY', 'Learning'),\n",
              " ('2CNETMN', 'Learning'),\n",
              " ('2CRIMI8', 'Networking'),\n",
              " ('2CT7E67', 'Networking'),\n",
              " ('2CV3JLD', 'Networking'),\n",
              " ('2D7YZMW', 'Learning'),\n",
              " ('2DAUUWS', 'Networking'),\n",
              " ('2DB6YB6', 'Networking'),\n",
              " ('2DBJXN4', 'Networking'),\n",
              " ('2DDEEXS', 'Learning'),\n",
              " ('2DGZDJC', 'Networking'),\n",
              " ('2DIF3P4', 'Learning'),\n",
              " ('2DL5MF3', 'Searching'),\n",
              " ('2DNE26V', 'Searching'),\n",
              " ('2DPECGH', 'Sourcing: In Process'),\n",
              " ('2DSBXDI', 'Networking'),\n",
              " ('2DTL77C', 'Sourcing: Early'),\n",
              " ('2DUYBFN', 'Learning'),\n",
              " ('2DX555F', 'Networking'),\n",
              " ('2DXD2KS', 'Learning'),\n",
              " ('2DZBLHS', 'Learning'),\n",
              " ('2E7LZH2', 'Networking'),\n",
              " ('2E7MC5Q', 'Learning'),\n",
              " ('2E7MT6W', 'Networking'),\n",
              " ('2E88F7N', 'Networking'),\n",
              " ('2E94LDM', 'Learning'),\n",
              " ('2E979XX', 'Learning'),\n",
              " ('2E9NADR', 'Networking'),\n",
              " ('2ECQBHT', 'Learning'),\n",
              " ('2EECASQ', 'Searching'),\n",
              " ('2EJG8YM', 'Networking'),\n",
              " ('2EKNAZK', 'Learning'),\n",
              " ('2ELLDR8', 'Sourcing: In Process'),\n",
              " ('2EMV4D4', 'Searching'),\n",
              " ('2EQAWKV', 'Networking'),\n",
              " ('2ERFLJC', 'Searching'),\n",
              " ('2ERY8ZM', 'Sourcing: Early'),\n",
              " ('2ET6E79', 'Learning'),\n",
              " ('2EVBWD7', 'Sourcing: Early'),\n",
              " ('2EVZYHS', 'Networking'),\n",
              " ('2EW5F6G', 'Networking'),\n",
              " ('2EXJCPC', 'Networking'),\n",
              " ('2F2CATG', 'Networking'),\n",
              " ('2F37FMP', 'Networking'),\n",
              " ('2F3GEDL', 'Learning'),\n",
              " ('2F5UJKE', 'Networking'),\n",
              " ('2F5WFS8', 'Sourcing: Early'),\n",
              " ('2F6BVMC', 'Searching'),\n",
              " ('2F7JGJZ', 'Learning'),\n",
              " ('2F8VWUL', 'Networking'),\n",
              " ('2FBZGEC', 'Sourcing: In Process'),\n",
              " ('2FFWDZX', 'Networking'),\n",
              " ('2FG576C', 'Networking'),\n",
              " ('2FKEECK', 'Learning'),\n",
              " ('2FPQ3A5', 'Networking'),\n",
              " ('2FWNQKR', 'Learning'),\n",
              " ('2FWRK55', 'Learning'),\n",
              " ('2G57FR6', 'Sourcing: Early'),\n",
              " ('2G5XRTL', 'Learning'),\n",
              " ('2G6Q5MA', 'Networking'),\n",
              " ('2G7L9S7', 'Networking'),\n",
              " ('2G8WW9E', 'Learning'),\n",
              " ('2G8Y2YP', 'Learning'),\n",
              " ('2GC5TQF', 'Networking'),\n",
              " ('2GDZ2TR', 'Searching'),\n",
              " ('2GM5QNB', 'Learning'),\n",
              " ('2GQZIHB', 'Learning'),\n",
              " ('2GREEHJ', 'Networking'),\n",
              " ('2GSWT8K', 'Networking'),\n",
              " ('2GU6MQF', 'Networking'),\n",
              " ('2GV7W5N', 'Learning'),\n",
              " ('2H3SDVI', 'Networking'),\n",
              " ('2H5KXLJ', 'Sourcing: Early'),\n",
              " ('2H6ENCT', 'Learning'),\n",
              " ('2H7FDCB', 'Searching'),\n",
              " ('2HABDI6', 'Networking'),\n",
              " ('2HD2D5N', 'Networking'),\n",
              " ('2HF5CR4', 'Networking'),\n",
              " ('2HFK7JX', 'Networking'),\n",
              " ('2HK342Y', 'Networking'),\n",
              " ('2HMZBVV', 'Searching'),\n",
              " ('2HNMRC5', 'Networking'),\n",
              " ('2HPFE9D', 'Sourcing: Early'),\n",
              " ('2HRCPAZ', 'Networking'),\n",
              " ('2HSC4QL', 'Networking'),\n",
              " ('2HUIH6V', 'Networking'),\n",
              " ('2HUYUXA', 'Learning'),\n",
              " ('2HV9YQA', 'Learning'),\n",
              " ('2HWJ52E', 'Sourcing: Early'),\n",
              " ('2HXJ3IW', 'Searching'),\n",
              " ('2HXYAQJ', 'Networking'),\n",
              " ('2HYHF62', 'Networking'),\n",
              " ('2HZ2CQR', 'Learning'),\n",
              " ('2I27RDV', 'Networking'),\n",
              " ('2I6M4ZZ', 'Networking'),\n",
              " ('2IBFTAG', 'Sourcing: In Process'),\n",
              " ('2ICYPY7', 'Networking'),\n",
              " ('2IDBHU5', 'Sourcing: In Process'),\n",
              " ('2IECG8P', 'Learning'),\n",
              " ('2IJGX7S', 'Sourcing: In Process'),\n",
              " ('2IMZWLF', 'Learning'),\n",
              " ('2IU2PDL', 'Networking'),\n",
              " ('2IVVYQ7', 'Networking'),\n",
              " ('2IXKDIZ', 'Learning'),\n",
              " ('2IZ8T76', 'Learning'),\n",
              " ('2J5YX6A', 'Sourcing: In Process'),\n",
              " ('2J6LZDZ', 'Networking'),\n",
              " ('2J725P7', 'Networking'),\n",
              " ('2J7LYB7', 'Networking'),\n",
              " ('2J948TE', 'Learning'),\n",
              " ('2JA9ZSY', 'Networking'),\n",
              " ('2JB8JPY', 'Sourcing: Early'),\n",
              " ('2JBJYFR', 'Sourcing: Early'),\n",
              " ('2JCN9RS', 'Sourcing: Early'),\n",
              " ('2JGJKVU', 'Searching'),\n",
              " ('2JNGITJ', 'Networking'),\n",
              " ('2K3D488', 'Learning'),\n",
              " ('2K3P5U8', 'Learning'),\n",
              " ('2K3STUS', 'Learning'),\n",
              " ('2K9J6SV', 'Searching'),\n",
              " ('2KF2V32', 'Learning'),\n",
              " ('2KG7YTM', 'Sourcing: In Process'),\n",
              " ('2KG8D3Y', 'Learning'),\n",
              " ('2KGI2JF', 'Networking'),\n",
              " ('2KHAFTF', 'Searching'),\n",
              " ('2KHNFYX', 'Networking'),\n",
              " ('2KHXSPM', 'Networking'),\n",
              " ('2KKJ3HP', 'Learning'),\n",
              " ('2KLMBTP', 'Learning'),\n",
              " ('2KLSWUS', 'Learning'),\n",
              " ('2KQMS7S', 'Sourcing: Early'),\n",
              " ('2KQQMJ4', 'Networking'),\n",
              " ('2KRDLJY', 'Networking'),\n",
              " ('2KRLB5P', 'Networking'),\n",
              " ('2KRWGTR', 'Learning'),\n",
              " ('2KSB7NH', 'Networking'),\n",
              " ('2KZJ9CF', 'Learning'),\n",
              " ('2L28EZI', 'Learning'),\n",
              " ('2L3CFX6', 'Networking'),\n",
              " ('2L4AL6V', 'Learning'),\n",
              " ('2L7HIKH', 'Searching'),\n",
              " ('2L7R5Y6', 'Networking'),\n",
              " ('2L7WKP2', 'Networking'),\n",
              " ('2L7ZDIW', 'Networking'),\n",
              " ('2L8HQVP', 'Searching'),\n",
              " ('2L8QFHV', 'Searching'),\n",
              " ('2L9UG8Q', 'Networking'),\n",
              " ('2L9VN76', 'Learning'),\n",
              " ('2LAQCWH', 'Networking'),\n",
              " ('2LBA4RC', 'Networking'),\n",
              " ('2LBWK44', 'Networking'),\n",
              " ('2LD7JQE', 'Learning'),\n",
              " ('2LDKD88', 'Learning'),\n",
              " ('2LG5HYC', 'Networking'),\n",
              " ('2LHDW2X', 'Networking'),\n",
              " ('2LM5RAS', 'Searching'),\n",
              " ('2LMEEDX', 'Networking'),\n",
              " ('2LQUUGR', 'Networking'),\n",
              " ('2LQUYCT', 'Sourcing: In Process'),\n",
              " ('2LRBVMT', 'Sourcing: In Process'),\n",
              " ('2LRVRWT', 'Networking'),\n",
              " ('2LS52YR', 'Searching'),\n",
              " ('2LVSRSZ', 'Learning'),\n",
              " ('2LVYIAQ', 'Searching'),\n",
              " ('2LWCSVZ', 'Learning'),\n",
              " ('2LZ37LR', 'Networking'),\n",
              " ('2LZ9QGW', 'Learning'),\n",
              " ('2M2CH73', 'Searching'),\n",
              " ('2M3VM8Y', 'Learning'),\n",
              " ('2M45YUC', 'Searching'),\n",
              " ('2M78XKE', 'Networking'),\n",
              " ('2M79BT8', 'Networking'),\n",
              " ('2M9ADM9', 'Networking'),\n",
              " ('2MAX7H4', 'Learning'),\n",
              " ('2ME8ERK', 'Learning'),\n",
              " ('2MG623Q', 'Networking'),\n",
              " ('2MH6N3P', 'Learning'),\n",
              " ('2MN8HDS', 'Sourcing: Early'),\n",
              " ('2MV8G9Y', 'Sourcing: Early'),\n",
              " ('2MWE4HD', 'Networking'),\n",
              " ('2MWS9FD', 'Learning'),\n",
              " ('2MZ3PLL', 'Networking'),\n",
              " ('2N2CRJ9', 'Learning'),\n",
              " ('2N3GUZW', 'Networking'),\n",
              " ('2N5RCRA', 'Networking'),\n",
              " ('2N74EHU', 'Networking'),\n",
              " ('2NABTII', 'Networking'),\n",
              " ('2NGY3TC', 'Sourcing: In Process'),\n",
              " ('2NIG4QA', 'Networking'),\n",
              " ('2NKXCLY', 'Networking'),\n",
              " ('2NLW4PF', 'Networking'),\n",
              " ('2NSRXUP', 'Networking'),\n",
              " ('2NSZF4M', 'Sourcing: In Process'),\n",
              " ('2NVFK36', 'Networking'),\n",
              " ('2NVU4U7', 'Networking'),\n",
              " ('2P2HYK7', 'Sourcing: Early'),\n",
              " ('2P2QGMM', 'Sourcing: Early'),\n",
              " ('2P4Q4B5', 'Networking'),\n",
              " ('2P54F4Q', 'Learning'),\n",
              " ('2P6A639', 'Searching'),\n",
              " ('2P76QZW', 'Learning'),\n",
              " ('2P7H9WX', 'Networking'),\n",
              " ('2PBKG8T', 'Learning'),\n",
              " ('2PF6MQ4', 'Sourcing: In Process'),\n",
              " ('2PGF8UE', 'Learning'),\n",
              " ('2PHF9LQ', 'Networking'),\n",
              " ('2PIU98M', 'Networking'),\n",
              " ('2PJDPW9', 'Networking'),\n",
              " ('2PJVA93', 'Learning'),\n",
              " ('2PK5A2E', 'Networking'),\n",
              " ('2PMGT9C', 'Sourcing: In Process'),\n",
              " ('2PMNPR2', 'Searching'),\n",
              " ('2PPUD66', 'Learning'),\n",
              " ('2PQVG4L', 'Searching'),\n",
              " ('2PSG2RK', 'Learning'),\n",
              " ('2PSRVCA', 'Learning'),\n",
              " ('2PY3HGI', 'Networking'),\n",
              " ('2PYBJIV', 'Learning'),\n",
              " ('2Q6SYKZ', 'Searching'),\n",
              " ('2Q9L7ZY', 'Networking'),\n",
              " ('2QC4ZDP', 'Networking'),\n",
              " ('2QCPQ27', 'Learning'),\n",
              " ('2QIYJCB', 'Networking'),\n",
              " ('2QJFXPB', 'Networking'),\n",
              " ('2QLLJHP', 'Learning'),\n",
              " ('2QPXI2U', 'Networking'),\n",
              " ('2QSHGRY', 'Sourcing: Early'),\n",
              " ('2QSUKKN', 'Networking'),\n",
              " ('2QTQ8P7', 'Searching'),\n",
              " ('2QXZHK3', 'Searching'),\n",
              " ('2QZTA7X', 'Sourcing: In Process'),\n",
              " ('2R2IB94', 'Learning'),\n",
              " ('2R3IG6X', 'Sourcing: Early'),\n",
              " ('2R4W3GP', 'Sourcing: In Process'),\n",
              " ('2R9MZM6', 'Networking'),\n",
              " ('2RAC26G', 'Learning'),\n",
              " ('2RBTGAQ', 'Networking'),\n",
              " ('2RC3SQ7', 'Networking'),\n",
              " ('2RD3JBP', 'Sourcing: Early'),\n",
              " ('2RG4V5F', 'Learning'),\n",
              " ('2RL2ANL', 'Sourcing: Early'),\n",
              " ('2RM666I', 'Networking'),\n",
              " ('2RQS5VG', 'Networking'),\n",
              " ('2RRGI8F', 'Networking'),\n",
              " ('2RRHBLI', 'Networking'),\n",
              " ('2RWLEIX', 'Networking'),\n",
              " ('2RYAWZA', 'Learning'),\n",
              " ('2S2LN9I', 'Learning'),\n",
              " ('2S3C6SV', 'Networking'),\n",
              " ('2S4KP7W', 'Learning'),\n",
              " ('2S4KWMN', 'Sourcing: In Process'),\n",
              " ('2S5FTTB', 'Sourcing: Early'),\n",
              " ('2S77TQU', 'Networking'),\n",
              " ('2S883F6', 'Networking'),\n",
              " ('2S8PV7S', 'Searching'),\n",
              " ('2SAVDMN', 'Sourcing: In Process'),\n",
              " ('2SC4F3G', 'Learning'),\n",
              " ('2SC6RHE', 'Searching'),\n",
              " ('2SG6WXC', 'Searching'),\n",
              " ('2SHU529', 'Networking'),\n",
              " ('2SHZV7D', 'Sourcing: Early'),\n",
              " ('2SN6B33', 'Networking'),\n",
              " ('2SRNFU7', 'Sourcing: In Process'),\n",
              " ('2STJW8N', 'Networking'),\n",
              " ('2SX4TTA', 'Networking'),\n",
              " ('2T478DF', 'Searching'),\n",
              " ('2T8N8KE', 'Learning'),\n",
              " ('2T8ZYMM', 'Sourcing: Early'),\n",
              " ('2T9KZT7', 'Networking'),\n",
              " ('2TAZFL5', 'Networking'),\n",
              " ('2TCUS7H', 'Sourcing: Early'),\n",
              " ('2TFY63V', 'Searching'),\n",
              " ('2TGFCFK', 'Searching'),\n",
              " ('2TGS92N', 'Learning'),\n",
              " ('2TJ9ENK', 'Networking'),\n",
              " ('2TJHRIN', 'Learning'),\n",
              " ('2TKXCIV', 'Networking'),\n",
              " ('2TM8AF6', 'Networking'),\n",
              " ('2TRU2CT', 'Searching'),\n",
              " ('2TSIHNA', 'Sourcing: Early'),\n",
              " ('2TTD8VT', 'Searching'),\n",
              " ('2TTHRXM', 'Networking'),\n",
              " ('2TY9BAX', 'Sourcing: In Process'),\n",
              " ('2TYIXCL', 'Networking'),\n",
              " ('2U2KEEW', 'Networking'),\n",
              " ('2U2PPUG', 'Sourcing: Early'),\n",
              " ('2U78PTQ', 'Learning'),\n",
              " ('2U82737', 'Sourcing: Early'),\n",
              " ('2U82DXI', 'Networking'),\n",
              " ('2U8DBH4', 'Searching'),\n",
              " ('2U936XH', 'Networking'),\n",
              " ('2U9GGPV', 'Searching'),\n",
              " ('2UB7G8Q', 'Sourcing: Early'),\n",
              " ('2UCZT25', 'Networking'),\n",
              " ('2UD8SB3', 'Networking'),\n",
              " ('2UDGJHW', 'Networking'),\n",
              " ('2UDSCPE', 'Learning'),\n",
              " ('2UJ6UIZ', 'Sourcing: Early'),\n",
              " ('2UL5T9Q', 'Networking'),\n",
              " ('2ULBEXL', 'Searching'),\n",
              " ('2UMRHSN', 'Sourcing: Early'),\n",
              " ('2UQ89C8', 'Searching'),\n",
              " ('2UQVMWH', 'Networking'),\n",
              " ('2US97KP', 'Learning'),\n",
              " ('2UTISP7', 'Searching'),\n",
              " ('2UVMYIH', 'Sourcing: Early'),\n",
              " ('2UWBS3A', 'Networking'),\n",
              " ('2UX4XE9', 'Learning'),\n",
              " ('2UX8PGE', 'Networking'),\n",
              " ('2UY9X5U', 'Learning'),\n",
              " ('2V297Z2', 'Networking'),\n",
              " ('2V3C4IZ', 'Learning'),\n",
              " ('2V68YDS', 'Networking'),\n",
              " ('2V7EF2N', 'Networking'),\n",
              " ('2VAFYMI', 'Networking'),\n",
              " ('2VD94YW', 'Networking'),\n",
              " ('2VDL8D4', 'Learning'),\n",
              " ('2VGUHVY', 'Networking'),\n",
              " ('2VGZD3D', 'Searching'),\n",
              " ('2VHQEZQ', 'Searching'),\n",
              " ('2VJ6RZ8', 'Searching'),\n",
              " ('2VNGPZU', 'Networking'),\n",
              " ('2VQY7ZK', 'Networking'),\n",
              " ('2VVT772', 'Learning'),\n",
              " ('2W2BBPY', 'Networking'),\n",
              " ('2W43KTI', 'Networking'),\n",
              " ('2W6J7GX', 'Networking'),\n",
              " ('2WB7T8W', 'Networking'),\n",
              " ('2WCGN29', 'Learning'),\n",
              " ('2WCNAWN', 'Sourcing: Early'),\n",
              " ('2WDNXFX', 'Networking'),\n",
              " ('2WDYKWC', 'Networking'),\n",
              " ('2WHI79P', 'Networking'),\n",
              " ('2WM5257', 'Searching'),\n",
              " ('2WNTMNV', 'Networking'),\n",
              " ('2WQEWSD', 'Sourcing: In Process'),\n",
              " ('2WTPL3Q', 'Searching'),\n",
              " ('2WTV85K', 'Learning'),\n",
              " ('2WXJAJT', 'Learning'),\n",
              " ('2WZVFPF', 'Networking'),\n",
              " ('2X2WUUG', 'Networking'),\n",
              " ('2X2X58J', 'Sourcing: In Process'),\n",
              " ('2X4426Q', 'Networking'),\n",
              " ('2X9ZCMZ', 'Searching'),\n",
              " ('2XCHHIU', 'Searching'),\n",
              " ('2XIIS9I', 'Networking'),\n",
              " ('2XISV92', 'Networking'),\n",
              " ('2XKKITY', 'Networking'),\n",
              " ('2XLDHCJ', 'Learning'),\n",
              " ('2XLSDMG', 'Networking'),\n",
              " ('2XQ5HXF', 'Networking'),\n",
              " ('2XUYEXC', 'Networking'),\n",
              " ('2XY9XXD', 'Networking'),\n",
              " ('2XYU6D2', 'Networking'),\n",
              " ('2XZ622G', 'Sourcing: Early'),\n",
              " ('2XZU84R', 'Learning'),\n",
              " ('2Y4GHUI', 'Learning'),\n",
              " ('2Y5HABH', 'Learning'),\n",
              " ('2Y7CX8U', 'Learning'),\n",
              " ('2Y9579J', 'Learning'),\n",
              " ('2YA2DRX', 'Networking'),\n",
              " ('2YE8YHA', 'Learning'),\n",
              " ('2YESIS5', 'Networking'),\n",
              " ('2YMBLGT', 'Networking'),\n",
              " ('2YPPQZI', 'Networking'),\n",
              " ('2YTDNBV', 'Sourcing: Early'),\n",
              " ('2YUC393', 'Networking'),\n",
              " ('2YUTA7A', 'Learning'),\n",
              " ('2YUXEYK', 'Networking'),\n",
              " ('2YXBKEV', 'Learning'),\n",
              " ('2Z2JWUH', 'Sourcing: Early'),\n",
              " ('2Z4X6DV', 'Networking'),\n",
              " ('2Z55GDJ', 'Learning'),\n",
              " ('2Z8Q2ZJ', 'Learning'),\n",
              " ('2Z9TV7P', 'Searching'),\n",
              " ('2Z9W8RZ', 'Learning'),\n",
              " ('2ZETB2M', 'Networking'),\n",
              " ('2ZFC79R', 'Learning'),\n",
              " ('2ZFU66W', 'Learning'),\n",
              " ('2ZNH9DM', 'Networking'),\n",
              " ('2ZP38SI', 'Networking'),\n",
              " ('2ZPU8F2', 'Sourcing: Early'),\n",
              " ('2ZQE8PH', 'Networking'),\n",
              " ('2ZT2CL5', 'Networking'),\n",
              " ('2ZWBUKE', 'Sourcing: In Process'),\n",
              " ('2ZXY7GX', 'Learning'),\n",
              " ('2ZZ3B8E', 'Networking'),\n",
              " ('326QGSR', 'Searching'),\n",
              " ('327FVZH', 'Learning'),\n",
              " ('3296HY6', 'Networking'),\n",
              " ('32AZUTT', 'Sourcing: In Process'),\n",
              " ('32D52CX', 'Networking'),\n",
              " ('32E4UV9', 'Learning'),\n",
              " ('32M6DCJ', 'Learning'),\n",
              " ('32NQFRR', 'Searching'),\n",
              " ('32Q95TI', 'Networking'),\n",
              " ('32S29Y9', 'Sourcing: Early'),\n",
              " ('32S8D7E', 'Learning'),\n",
              " ('32SVQR2', 'Networking'),\n",
              " ('32U2KLZ', 'Searching'),\n",
              " ('32VECYL', 'Networking'),\n",
              " ('32X2ZR5', 'Learning'),\n",
              " ('32XYXVT', 'Networking'),\n",
              " ('32ZAD7E', 'Networking'),\n",
              " ('3348RGL', 'Searching'),\n",
              " ('3349YBG', 'Learning'),\n",
              " ('337HAXC', 'Learning'),\n",
              " ('337ZSIP', 'Learning'),\n",
              " ('33CWZ3R', 'Networking'),\n",
              " ('33DE97P', 'Networking'),\n",
              " ('33EABRY', 'Networking'),\n",
              " ('33HERA2', 'Networking'),\n",
              " ('33HY4XA', 'Networking'),\n",
              " ('33I3553', 'Learning'),\n",
              " ('33IX9R2', 'Networking'),\n",
              " ('33JBX88', 'Networking'),\n",
              " ('33KNZXJ', 'Networking'),\n",
              " ('33MSXQF', 'Networking'),\n",
              " ('33NMHVQ', 'Networking'),\n",
              " ('33PFS7V', 'Networking'),\n",
              " ('33UWPPN', 'Networking'),\n",
              " ('33WZ9QY', 'Learning'),\n",
              " ('33YSI8I', 'Learning'),\n",
              " ('3426WRU', 'Networking'),\n",
              " ('342GV8Z', 'Searching'),\n",
              " ('344GMF4', 'Networking'),\n",
              " ('346T45Y', 'Networking'),\n",
              " ('3476V59', 'Networking'),\n",
              " ('347G3LX', 'Networking'),\n",
              " ('349FAQ5', 'Networking'),\n",
              " ('34DVPNE', 'Networking'),\n",
              " ('34L7WYX', 'Learning'),\n",
              " ('34PN7TI', 'Learning'),\n",
              " ('34S57T5', 'Sourcing: Early'),\n",
              " ('34VS6HX', 'Networking'),\n",
              " ('34ZQ55N', 'Networking'),\n",
              " ('358LNYN', 'Networking'),\n",
              " ('3594SNL', 'Networking'),\n",
              " ('359XFK8', 'Networking'),\n",
              " ('35Q98QI', 'Networking'),\n",
              " ('35SH76D', 'Networking'),\n",
              " ('35U54U2', 'Networking'),\n",
              " ('3639QZS', 'Learning'),\n",
              " ('364ED7K', 'Learning'),\n",
              " ('365NYVD', 'Learning'),\n",
              " ('3662WDD', 'Learning'),\n",
              " ('36797FM', 'Sourcing: In Process'),\n",
              " ('36CW9WH', 'Networking'),\n",
              " ('36F5IVX', 'Sourcing: Early'),\n",
              " ('36HPUFK', 'Networking'),\n",
              " ('36JDWQD', 'Learning'),\n",
              " ('36K6GT2', 'Sourcing: Early'),\n",
              " ('36NP8M4', 'Networking'),\n",
              " ('36PEZDR', 'Networking'),\n",
              " ('36Q848E', 'Learning'),\n",
              " ('36QIBST', 'Learning'),\n",
              " ('36ULHK8', 'Networking'),\n",
              " ('36XTC3C', 'Learning'),\n",
              " ('36Y8KY4', 'Searching'),\n",
              " ('36Z22IL', 'Networking'),\n",
              " ('37985PS', 'Learning'),\n",
              " ('3799I44', 'Sourcing: Early'),\n",
              " ('37A5SRJ', 'Sourcing: Early'),\n",
              " ('37AWRC4', 'Networking'),\n",
              " ('37C3W7B', 'Networking'),\n",
              " ('37DQUH7', 'Networking'),\n",
              " ('37HCKGK', 'Networking'),\n",
              " ('37HNJBD', 'Learning'),\n",
              " ('37I8C7S', 'Searching'),\n",
              " ('37N778K', 'Networking'),\n",
              " ('37S35EU', 'Networking'),\n",
              " ('37T5EY4', 'Sourcing: Early'),\n",
              " ('37U2F74', 'Sourcing: Early'),\n",
              " ('37UHPZV', 'Networking'),\n",
              " ('37YN5BD', 'Learning'),\n",
              " ('382GTPD', 'Searching'),\n",
              " ('3847PIG', 'Networking'),\n",
              " ('385H7BT', 'Networking'),\n",
              " ('387728F', 'Learning'),\n",
              " ('387BFLC', 'Networking'),\n",
              " ('38GVP3X', 'Learning'),\n",
              " ('38GWMH6', 'Networking'),\n",
              " ('38HARFE', 'Networking'),\n",
              " ('38LYRT2', 'Searching'),\n",
              " ('38MIJUN', 'Networking'),\n",
              " ('38P4DPW', 'Networking'),\n",
              " ('38Q4AH6', 'Networking'),\n",
              " ('38QK5EE', 'Learning'),\n",
              " ('38WIXW2', 'Networking'),\n",
              " ('38Y4G3W', 'Learning'),\n",
              " ('38YV4HL', 'Networking'),\n",
              " ('393DFMB', 'Learning'),\n",
              " ('394A2C5', 'Learning'),\n",
              " ('3955F2I', 'Networking'),\n",
              " ('39752H5', 'Learning'),\n",
              " ('397G5XX', 'Networking'),\n",
              " ('398XIWC', 'Networking'),\n",
              " ('39AY329', 'Learning'),\n",
              " ('39C5PEQ', 'Sourcing: Early'),\n",
              " ('39CZEYR', 'Networking'),\n",
              " ('39EUTSB', 'Sourcing: Early'),\n",
              " ('39IAK73', 'Learning'),\n",
              " ('39IFUMI', 'Learning'),\n",
              " ('39IR7FW', 'Learning'),\n",
              " ('39LZURB', 'Networking'),\n",
              " ('39ME9BU', 'Searching'),\n",
              " ('39QUDD4', 'Networking'),\n",
              " ('39W4YX2', 'Networking'),\n",
              " ('39WGAFX', 'Learning'),\n",
              " ('39WUSXV', 'Networking'),\n",
              " ('39X5LWJ', 'Networking'),\n",
              " ('39Y7FBG', 'Sourcing: In Process'),\n",
              " ('3A2E6CN', 'Networking'),\n",
              " ('3A3M2TP', 'Networking'),\n",
              " ('3A63XBC', 'Learning'),\n",
              " ('3A8RR39', 'Networking'),\n",
              " ('3A8U67W', 'Networking'),\n",
              " ('3A9EHPV', 'Sourcing: Early'),\n",
              " ('3AD6I24', 'Networking'),\n",
              " ('3AESMT8', 'Networking'),\n",
              " ('3AFVVBR', 'Networking'),\n",
              " ('3AINSIE', 'Learning'),\n",
              " ('3AMFW66', 'Networking'),\n",
              " ('3AMNE3Z', 'Networking'),\n",
              " ('3AMP9XG', 'Networking'),\n",
              " ('3ANNLIH', 'Searching'),\n",
              " ('3AP5R79', 'Networking'),\n",
              " ('3APMNT3', 'Sourcing: In Process'),\n",
              " ('3ARU2HG', 'Learning'),\n",
              " ('3AW3LDB', 'Sourcing: In Process'),\n",
              " ('3AWZLNS', 'Sourcing: Early'),\n",
              " ('3AXPXZS', 'Sourcing: Early'),\n",
              " ('3AXWJWG', 'Networking'),\n",
              " ('3AXY3Y6', 'Networking'),\n",
              " ('3AYAVXH', 'Sourcing: Early'),\n",
              " ('3AZ6V5D', 'Learning'),\n",
              " ('3B3JW4Y', 'Networking'),\n",
              " ('3B4LYCA', 'Learning'),\n",
              " ('3BDIM3V', 'Networking'),\n",
              " ('3BEA5IH', 'Networking'),\n",
              " ('3BESJBA', 'Learning'),\n",
              " ('3BGAGSG', 'Sourcing: Early'),\n",
              " ('3BGXT9Z', 'Networking'),\n",
              " ('3BHAQ7Q', 'Learning'),\n",
              " ('3BHIPQD', 'Networking'),\n",
              " ('3BIRT6V', 'Networking'),\n",
              " ('3BJ8IH7', 'Networking'),\n",
              " ('3BJZYSI', 'Networking'),\n",
              " ('3BLTJ3I', 'Sourcing: In Process'),\n",
              " ('3BM4YWQ', 'Learning'),\n",
              " ('3BM9LR5', 'Networking'),\n",
              " ('3BMR4WY', 'Networking'),\n",
              " ('3BNEIB7', 'Learning'),\n",
              " ('3BPXJIT', 'Networking'),\n",
              " ('3BQ5S8K', 'Learning'),\n",
              " ('3BQDU5U', 'Learning'),\n",
              " ('3BRXJJ4', 'Networking'),\n",
              " ('3BS9W8E', 'Networking'),\n",
              " ('3BSPMZK', 'Networking'),\n",
              " ('3BTU56V', 'Learning'),\n",
              " ('3BWAKVX', 'Networking'),\n",
              " ('3BXCM44', 'Learning'),\n",
              " ('3BY26CT', 'Searching'),\n",
              " ('3C3AAL6', 'Networking'),\n",
              " ('3C55MWZ', 'Learning'),\n",
              " ('3C5KN4J', 'Learning'),\n",
              " ('3C7KC3X', 'Learning'),\n",
              " ('3CA6QUM', 'Networking'),\n",
              " ('3CAI2QB', 'Searching'),\n",
              " ('3CBLLIA', 'Searching'),\n",
              " ('3CCF9YD', 'Networking'),\n",
              " ('3CI5RTP', 'Sourcing: Early'),\n",
              " ('3CKHGNG', 'Learning'),\n",
              " ('3CMAHCP', 'Networking'),\n",
              " ('3CPCG6G', 'Networking'),\n",
              " ('3CPSUZV', 'Networking'),\n",
              " ('3CURPLF', 'Learning'),\n",
              " ('3CVBQ8C', 'Learning'),\n",
              " ('3CVQ9X7', 'Networking'),\n",
              " ('3CWELP3', 'Networking'),\n",
              " ('3CWTWU9', 'Searching'),\n",
              " ('3CYRMLD', 'Networking'),\n",
              " ('3CZZLUT', 'Networking'),\n",
              " ('3D275QB', 'Learning'),\n",
              " ('3D3F8PU', 'Learning'),\n",
              " ('3D4BBU5', 'Sourcing: Early'),\n",
              " ('3D5YDSY', 'Learning'),\n",
              " ('3D663US', 'Networking'),\n",
              " ('3D6BT6T', 'Networking'),\n",
              " ('3D6CZL2', 'Networking'),\n",
              " ('3D6L836', 'Networking'),\n",
              " ('3D6XDHS', 'Learning'),\n",
              " ('3D9PA6L', 'Networking'),\n",
              " ('3DANLMU', 'Networking'),\n",
              " ('3DBZFMH', 'Learning'),\n",
              " ('3DFN3YB', 'Networking'),\n",
              " ('3DFR9W3', 'Sourcing: In Process'),\n",
              " ('3DHHIHC', 'Learning'),\n",
              " ('3DI5D7M', 'Networking'),\n",
              " ('3DIE9WL', 'Networking'),\n",
              " ('3DKIDDV', 'Searching'),\n",
              " ('3DNW7C9', 'Networking'),\n",
              " ('3DRT5TC', 'Networking'),\n",
              " ('3DSSK8T', 'Networking'),\n",
              " ('3DTQ879', 'Networking'),\n",
              " ('3DUSTNP', 'Networking'),\n",
              " ('3DWLLEK', 'Networking'),\n",
              " ('3E3EPBM', 'Searching'),\n",
              " ('3E3ICCE', 'Networking'),\n",
              " ('3E433EV', 'Networking'),\n",
              " ('3E6NZPA', 'Learning'),\n",
              " ('3E7NEVA', 'Networking'),\n",
              " ('3E97FPN', 'Networking'),\n",
              " ('3EAH9L5', 'Learning'),\n",
              " ('3EB3DBL', 'Learning'),\n",
              " ('3EERFLQ', 'Networking'),\n",
              " ('3EEXSZK', 'Learning'),\n",
              " ('3EFLXC4', 'Networking'),\n",
              " ('3ENFRQS', 'Learning'),\n",
              " ('3EQWF4M', 'Networking'),\n",
              " ('3ETYSP6', 'Networking'),\n",
              " ('3EVFYCM', 'Sourcing: In Process'),\n",
              " ('3EVQC6U', 'Sourcing: In Process'),\n",
              " ('3EWFPM5', 'Networking'),\n",
              " ('3EX35RV', 'Searching'),\n",
              " ('3EXAUC5', 'Networking'),\n",
              " ('3EYFALW', 'Learning'),\n",
              " ('3EYQFPN', 'Networking'),\n",
              " ('3EZ5PKZ', 'Networking'),\n",
              " ('3EZMA3E', 'Networking'),\n",
              " ('3F3XQ8Y', 'Networking'),\n",
              " ('3F8AAH7', 'Searching'),\n",
              " ('3FA7MZL', 'Networking'),\n",
              " ('3FAKIFR', 'Networking'),\n",
              " ('3FBMQUG', 'Networking'),\n",
              " ('3FBYCFS', 'Networking'),\n",
              " ('3FC5Y9E', 'Sourcing: Early'),\n",
              " ('3FCGLKB', 'Networking'),\n",
              " ('3FCSHZX', 'Searching'),\n",
              " ('3FDX5GK', 'Searching'),\n",
              " ('3FH6IPR', 'Searching'),\n",
              " ('3FJILRR', 'Sourcing: Early'),\n",
              " ('3FKRSAQ', 'Learning'),\n",
              " ('3FL5VWW', 'Networking'),\n",
              " ('3FMWKLE', 'Learning'),\n",
              " ('3FP9MXT', 'Learning'),\n",
              " ('3FRURG6', 'Learning'),\n",
              " ('3FW6UHW', 'Networking'),\n",
              " ('3FZEHWW', 'Networking'),\n",
              " ('3G2BM85', 'Learning'),\n",
              " ('3G3NCBI', 'Learning'),\n",
              " ('3G7FLTC', 'Learning'),\n",
              " ('3G8YX2H', 'Learning'),\n",
              " ('3GCD3U3', 'Sourcing: Early'),\n",
              " ('3GCGN4A', 'Sourcing: Early'),\n",
              " ('3GDCBIL', 'Searching'),\n",
              " ('3GEQLYQ', 'Networking'),\n",
              " ('3GFWVST', 'Networking'),\n",
              " ('3GHJW4X', 'Learning'),\n",
              " ('3GKEJWK', 'Learning'),\n",
              " ('3GKU5L6', 'Networking'),\n",
              " ('3GL5MLG', 'Learning'),\n",
              " ('3GLD8IA', 'Searching'),\n",
              " ('3GM36UG', 'Sourcing: In Process'),\n",
              " ('3GP7ER9', 'Networking'),\n",
              " ('3GQR67F', 'Networking'),\n",
              " ('3GUMADX', 'Searching'),\n",
              " ('3GXW4SM', 'Networking'),\n",
              " ('3GZ5X9F', 'Sourcing: In Process'),\n",
              " ('3GZNH6X', 'Networking'),\n",
              " ('3H56GGH', 'Searching'),\n",
              " ('3H7QBDE', 'Learning'),\n",
              " ('3H93VBG', 'Networking'),\n",
              " ('3HCMDFP', 'Networking'),\n",
              " ('3HD7CTX', 'Networking'),\n",
              " ('3HDEZ5U', 'Networking'),\n",
              " ('3HFPNBE', 'Networking'),\n",
              " ('3HI4KYB', 'Searching'),\n",
              " ('3HIISCC', 'Learning'),\n",
              " ('3HLPTJW', 'Sourcing: In Process'),\n",
              " ('3HMUT82', 'Networking'),\n",
              " ('3HPNJZ2', 'Networking'),\n",
              " ('3HQIRAK', 'Sourcing: In Process'),\n",
              " ('3HSI2Z9', 'Networking'),\n",
              " ('3HSWKWP', 'Networking'),\n",
              " ('3HWJ5YW', 'Learning'),\n",
              " ('3HWQMTJ', 'Sourcing: Early'),\n",
              " ('3HXJ7JL', 'Learning'),\n",
              " ('3HY3AJH', 'Sourcing: In Process'),\n",
              " ('3I3MDCH', 'Networking'),\n",
              " ('3I4NWYA', 'Networking'),\n",
              " ('3I5H93T', 'Networking'),\n",
              " ('3I6A6HA', 'Sourcing: Early'),\n",
              " ('3I9SXH2', 'Sourcing: Early'),\n",
              " ('3IDKZQQ', 'Sourcing: In Process'),\n",
              " ('3IDQL3Y', 'Learning'),\n",
              " ('3IF2XDK', 'Sourcing: In Process'),\n",
              " ('3IFE65B', 'Networking'),\n",
              " ('3IFHNEH', 'Learning'),\n",
              " ('3IGAU8E', 'Networking'),\n",
              " ('3IGNAD6', 'Networking'),\n",
              " ('3IJYYZQ', 'Learning'),\n",
              " ('3ILL3KH', 'Sourcing: In Process'),\n",
              " ('3IPKG6U', 'Networking'),\n",
              " ('3IPN559', 'Sourcing: Early'),\n",
              " ('3IPYND6', 'Sourcing: Early'),\n",
              " ('3IQNXH5', 'Networking'),\n",
              " ('3IQZLW2', 'Sourcing: Early'),\n",
              " ('3IR9NMA', 'Networking'),\n",
              " ('3ITPHX6', 'Learning'),\n",
              " ('3IV9Z3X', 'Networking'),\n",
              " ('3IWCIHB', 'Searching'),\n",
              " ('3IX9W76', 'Learning'),\n",
              " ('3IXZM4T', 'Learning'),\n",
              " ('3IYCKE7', 'Learning'),\n",
              " ('3J2ICK5', 'Networking'),\n",
              " ('3J9TI5V', 'Sourcing: In Process'),\n",
              " ('3J9TQ8B', 'Learning'),\n",
              " ('3JAR2EH', 'Learning'),\n",
              " ('3JB5MJ4', 'Networking'),\n",
              " ('3JB76KE', 'Learning'),\n",
              " ('3JBUF9W', 'Learning'),\n",
              " ('3JBV3Z3', 'Networking'),\n",
              " ('3JC8MSB', 'Learning'),\n",
              " ('3JD5HVJ', 'Networking'),\n",
              " ('3JGMM45', 'Networking'),\n",
              " ('3JMR8GA', 'Sourcing: In Process'),\n",
              " ('3JNEEWK', 'Learning'),\n",
              " ('3JQZRZ9', 'Networking'),\n",
              " ('3JRA5RG', 'Sourcing: Early'),\n",
              " ('3JVGJ9A', 'Networking'),\n",
              " ('3JXAH5R', 'Networking'),\n",
              " ('3JXYZZW', 'Learning'),\n",
              " ('3JZ5K5K', 'Networking'),\n",
              " ('3K2BQH4', 'Sourcing: Early'),\n",
              " ('3K54USV', 'Networking'),\n",
              " ('3K7AJGR', 'Learning'),\n",
              " ('3K8FIVU', 'Sourcing: In Process'),\n",
              " ('3KBAMF5', 'Learning'),\n",
              " ('3KDN8K6', 'Networking'),\n",
              " ('3KEFNWJ', 'Learning'),\n",
              " ('3KEJLGD', 'Networking'),\n",
              " ('3KF7BR6', 'Searching'),\n",
              " ('3KGKTEZ', 'Networking'),\n",
              " ('3KHZYQ9', 'Sourcing: Early'),\n",
              " ('3KI4EHB', 'Searching'),\n",
              " ('3KI6HDK', 'Networking'),\n",
              " ('3KLGIF6', 'Networking'),\n",
              " ('3KM42XK', 'Sourcing: Early'),\n",
              " ('3KMWL56', 'Searching'),\n",
              " ('3KNCRYE', 'Sourcing: Early'),\n",
              " ('3KT8MXA', 'Sourcing: Early'),\n",
              " ('3KTBC72', 'Learning'),\n",
              " ('3KWHRRL', 'Sourcing: Early'),\n",
              " ('3KWZWPY', 'Learning'),\n",
              " ('3KZW35B', 'Networking'),\n",
              " ('3L349NA', 'Learning'),\n",
              " ('3L4T8X8', 'Learning'),\n",
              " ('3L6LGYX', 'Networking'),\n",
              " ('3L7LNYB', 'Networking'),\n",
              " ('3L8BVQZ', 'Networking'),\n",
              " ('3L8HMM2', 'Learning'),\n",
              " ('3LAIL4W', 'Sourcing: Early'),\n",
              " ('3LAU8GY', 'Searching'),\n",
              " ('3LAZV9X', 'Networking'),\n",
              " ('3LCMYXX', 'Networking'),\n",
              " ('3LCPNWC', 'Sourcing: Early'),\n",
              " ('3LDLMJM', 'Sourcing: Early'),\n",
              " ('3LE34FC', 'Searching'),\n",
              " ('3LEDW85', 'Networking'),\n",
              " ('3LF9KI4', 'Sourcing: In Process'),\n",
              " ('3LGINJY', 'Networking'),\n",
              " ('3LKEJ37', 'Searching'),\n",
              " ('3LKIGVQ', 'Learning'),\n",
              " ('3LPSC3N', 'Networking'),\n",
              " ('3LZD7M6', 'Learning'),\n",
              " ('3LZMX3F', 'Networking'),\n",
              " ('3M4AD3A', 'Networking'),\n",
              " ('3M4NCWN', 'Sourcing: Early'),\n",
              " ('3M58XYJ', 'Searching'),\n",
              " ('3M5PIIE', 'Networking'),\n",
              " ('3M5UGSJ', 'Networking'),\n",
              " ('3M6CER4', 'Searching'),\n",
              " ('3M7VPHD', 'Searching'),\n",
              " ('3MAMC93', 'Learning'),\n",
              " ('3MATA7M', 'Learning'),\n",
              " ('3MFAURR', 'Networking'),\n",
              " ('3MHALJ7', 'Networking'),\n",
              " ('3MHRDIQ', 'Sourcing: In Process'),\n",
              " ('3MJ3MCQ', 'Learning'),\n",
              " ('3MJENAX', 'Sourcing: Early'),\n",
              " ('3MLF8JJ', 'Networking'),\n",
              " ('3MLT7A3', 'Searching'),\n",
              " ('3MNSWJV', 'Sourcing: Early'),\n",
              " ('3MRBG89', 'Learning'),\n",
              " ('3MRGDWV', 'Learning'),\n",
              " ('3MUS2JW', 'Learning'),\n",
              " ('3MVGP3J', 'Learning'),\n",
              " ('3MWZX59', 'Networking'),\n",
              " ('3N2WAPD', 'Learning'),\n",
              " ('3N3HTNA', 'Networking'),\n",
              " ('3N427X6', 'Networking'),\n",
              " ('3N458YG', 'Learning'),\n",
              " ('3N4BSQS', 'Networking'),\n",
              " ('3N58I93', 'Networking'),\n",
              " ('3N5R83B', 'Networking'),\n",
              " ('3N5ZBTS', 'Sourcing: Early'),\n",
              " ('3NB2N6F', 'Learning'),\n",
              " ('3NCDK25', 'Networking'),\n",
              " ('3NDFVYW', 'Learning'),\n",
              " ('3NEPD6T', 'Networking'),\n",
              " ('3NICK3A', 'Networking'),\n",
              " ('3NNA2H9', 'Learning'),\n",
              " ('3NND54B', 'Learning'),\n",
              " ('3NQ7DK4', 'Networking'),\n",
              " ('3NRLKA7', 'Networking'),\n",
              " ('3NTQKEB', 'Sourcing: Early'),\n",
              " ('3NYVQ8B', 'Networking'),\n",
              " ('3NZXIMA', 'Learning'),\n",
              " ('3P2J7A5', 'Learning'),\n",
              " ('3P2MN6L', 'Networking'),\n",
              " ('3P4H9CJ', 'Learning'),\n",
              " ('3P6V87G', 'Networking'),\n",
              " ('3P7Z8PI', 'Learning'),\n",
              " ('3P9SWZV', 'Networking'),\n",
              " ('3PBQCUK', 'Learning'),\n",
              " ('3PDJS5T', 'Networking'),\n",
              " ('3PI8K6V', 'Sourcing: Early'),\n",
              " ('3PJ75D8', 'Learning'),\n",
              " ('3PKA3KY', 'Networking'),\n",
              " ('3PNPTM4', 'Sourcing: In Process'),\n",
              " ('3PP2MLN', 'Sourcing: In Process'),\n",
              " ('3PQXRRB', 'Networking'),\n",
              " ('3PS9XWX', 'Networking'),\n",
              " ('3PSY78L', 'Networking'),\n",
              " ('3PV2TXT', 'Networking'),\n",
              " ('3PVH3A9', 'Sourcing: In Process'),\n",
              " ('3PW994F', 'Networking'),\n",
              " ('3PWBTB9', 'Networking'),\n",
              " ('3PZRESK', 'Networking'),\n",
              " ('3Q3F4PZ', 'Searching'),\n",
              " ('3Q3FV8Y', 'Networking'),\n",
              " ('3Q44YL9', 'Learning'),\n",
              " ('3Q4SFST', 'Networking'),\n",
              " ('3Q6RY7J', 'Networking'),\n",
              " ('3Q7MWV5', 'Networking'),\n",
              " ('3Q7ZGBG', 'Networking'),\n",
              " ('3Q8VPQ4', 'Networking'),\n",
              " ('3Q998NK', 'Sourcing: Early'),\n",
              " ('3QC6KDQ', 'Networking'),\n",
              " ('3QCHA5L', 'Networking'),\n",
              " ('3QCXXJF', 'Searching'),\n",
              " ('3QG3932', 'Learning'),\n",
              " ('3QIWBUX', 'Networking'),\n",
              " ('3QJPNNL', 'Networking'),\n",
              " ('3QJYGE5', 'Networking'),\n",
              " ('3QRPCN7', 'Learning'),\n",
              " ('3QSD4QG', 'Searching'),\n",
              " ('3QTDTP8', 'Networking'),\n",
              " ('3QUBSN9', 'Sourcing: Early'),\n",
              " ('3QZHP2J', 'Searching'),\n",
              " ('3R2EEHE', 'Sourcing: In Process'),\n",
              " ('3R36WCJ', 'Sourcing: Early'),\n",
              " ('3R3T488', 'Networking'),\n",
              " ('3RAQJQX', 'Learning'),\n",
              " ('3RBZPGS', 'Sourcing: Early'),\n",
              " ('3REIBNT', 'Networking'),\n",
              " ('3RF6ZV7', 'Networking'),\n",
              " ('3RH957M', 'Networking'),\n",
              " ('3RHWPY3', 'Searching'),\n",
              " ('3RIFUCG', 'Learning'),\n",
              " ('3RISPFL', 'Learning'),\n",
              " ('3RL8JCP', 'Sourcing: In Process'),\n",
              " ('3RLRFLV', 'Networking'),\n",
              " ('3RMPI5G', 'Networking'),\n",
              " ('3RNAS7I', 'Learning'),\n",
              " ('3RPTAC7', 'Searching'),\n",
              " ('3RQA4RC', 'Learning'),\n",
              " ('3RTIY7V', 'Networking'),\n",
              " ('3RVY7HB', 'Sourcing: In Process'),\n",
              " ('3RWQEXU', 'Networking'),\n",
              " ('3RXKSKR', 'Searching'),\n",
              " ('3RYJWIM', 'Learning'),\n",
              " ('3S27FX3', 'Sourcing: Early'),\n",
              " ('3S5MMPG', 'Searching'),\n",
              " ('3SC229U', 'Networking'),\n",
              " ('3SGRZK2', 'Networking'),\n",
              " ('3SJEFGS', 'Networking'),\n",
              " ('3SL2EUI', 'Networking'),\n",
              " ('3SN336E', 'Learning'),\n",
              " ('3SUK24K', 'Learning'),\n",
              " ('3SVRJZM', 'Searching'),\n",
              " ('3SWANZQ', 'Learning'),\n",
              " ('3SYKTET', 'Learning'),\n",
              " ('3T45F4V', 'Learning'),\n",
              " ('3T4SB2S', 'Learning'),\n",
              " ('3T4WE3M', 'Sourcing: In Process'),\n",
              " ('3T5NV4K', 'Sourcing: Early'),\n",
              " ('3T693YK', 'Searching'),\n",
              " ('3T7J2G8', 'Sourcing: In Process'),\n",
              " ('3T7SU9W', 'Networking'),\n",
              " ('3T88FZH', 'Learning'),\n",
              " ('3T9UJGE', 'Learning'),\n",
              " ('3TBLXB8', 'Sourcing: Early'),\n",
              " ('3TCPYES', 'Networking'),\n",
              " ('3TD98AP', 'Networking'),\n",
              " ('3TEBBYU', 'Learning'),\n",
              " ('3TFXVNF', 'Learning'),\n",
              " ('3THHALA', 'Learning'),\n",
              " ('3THHETY', 'Searching'),\n",
              " ('3TJBEEQ', 'Networking'),\n",
              " ('3TMA5RK', 'Sourcing: In Process'),\n",
              " ('3TPG9L4', 'Sourcing: In Process'),\n",
              " ...]"
            ]
          },
          "metadata": {},
          "execution_count": 41
        }
      ]
    }
  ]
}