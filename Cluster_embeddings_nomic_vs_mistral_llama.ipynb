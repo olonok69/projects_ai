{
  "nbformat": 4,
  "nbformat_minor": 0,
  "metadata": {
    "colab": {
      "provenance": [],
      "machine_shape": "hm",
      "gpuType": "L4",
      "mount_file_id": "1ltfCx5QAbhbzKBmPjOINMb4Kzy5ByNNM",
      "authorship_tag": "ABX9TyON6ZuNIESy8utOSOmfscwm",
      "include_colab_link": true
    },
    "kernelspec": {
      "name": "python3",
      "display_name": "Python 3"
    },
    "language_info": {
      "name": "python"
    },
    "accelerator": "GPU",
    "widgets": {
      "application/vnd.jupyter.widget-state+json": {
        "3e5b035579c040cca1a26b13eef84fb0": {
          "model_module": "@jupyter-widgets/controls",
          "model_name": "HBoxModel",
          "model_module_version": "1.5.0",
          "state": {
            "_dom_classes": [],
            "_model_module": "@jupyter-widgets/controls",
            "_model_module_version": "1.5.0",
            "_model_name": "HBoxModel",
            "_view_count": null,
            "_view_module": "@jupyter-widgets/controls",
            "_view_module_version": "1.5.0",
            "_view_name": "HBoxView",
            "box_style": "",
            "children": [
              "IPY_MODEL_5a7596a16a5e4b1e858a135967960a33",
              "IPY_MODEL_d6789adb89784011aae0b7a3a209833e",
              "IPY_MODEL_bdc167d5f1ac47ccac45473497697b5f"
            ],
            "layout": "IPY_MODEL_4db335e144df4dfcbacf6b6262805ae2"
          }
        },
        "5a7596a16a5e4b1e858a135967960a33": {
          "model_module": "@jupyter-widgets/controls",
          "model_name": "HTMLModel",
          "model_module_version": "1.5.0",
          "state": {
            "_dom_classes": [],
            "_model_module": "@jupyter-widgets/controls",
            "_model_module_version": "1.5.0",
            "_model_name": "HTMLModel",
            "_view_count": null,
            "_view_module": "@jupyter-widgets/controls",
            "_view_module_version": "1.5.0",
            "_view_name": "HTMLView",
            "description": "",
            "description_tooltip": null,
            "layout": "IPY_MODEL_32ef5e7e3f144d4492f2ebc47ad8360c",
            "placeholder": "​",
            "style": "IPY_MODEL_86472368bd014e838672dd50690f8950",
            "value": "Loading checkpoint shards: 100%"
          }
        },
        "d6789adb89784011aae0b7a3a209833e": {
          "model_module": "@jupyter-widgets/controls",
          "model_name": "FloatProgressModel",
          "model_module_version": "1.5.0",
          "state": {
            "_dom_classes": [],
            "_model_module": "@jupyter-widgets/controls",
            "_model_module_version": "1.5.0",
            "_model_name": "FloatProgressModel",
            "_view_count": null,
            "_view_module": "@jupyter-widgets/controls",
            "_view_module_version": "1.5.0",
            "_view_name": "ProgressView",
            "bar_style": "success",
            "description": "",
            "description_tooltip": null,
            "layout": "IPY_MODEL_fb320e45234f4f8fae83977dc7c5e6ae",
            "max": 2,
            "min": 0,
            "orientation": "horizontal",
            "style": "IPY_MODEL_3d77d0df3cf1493ea2276b3a2bc398ae",
            "value": 2
          }
        },
        "bdc167d5f1ac47ccac45473497697b5f": {
          "model_module": "@jupyter-widgets/controls",
          "model_name": "HTMLModel",
          "model_module_version": "1.5.0",
          "state": {
            "_dom_classes": [],
            "_model_module": "@jupyter-widgets/controls",
            "_model_module_version": "1.5.0",
            "_model_name": "HTMLModel",
            "_view_count": null,
            "_view_module": "@jupyter-widgets/controls",
            "_view_module_version": "1.5.0",
            "_view_name": "HTMLView",
            "description": "",
            "description_tooltip": null,
            "layout": "IPY_MODEL_21f72f519a7140d485e147edd07d1f68",
            "placeholder": "​",
            "style": "IPY_MODEL_ff09ddb33fca4adcb215b262100c782a",
            "value": " 2/2 [00:11&lt;00:00,  5.58s/it]"
          }
        },
        "4db335e144df4dfcbacf6b6262805ae2": {
          "model_module": "@jupyter-widgets/base",
          "model_name": "LayoutModel",
          "model_module_version": "1.2.0",
          "state": {
            "_model_module": "@jupyter-widgets/base",
            "_model_module_version": "1.2.0",
            "_model_name": "LayoutModel",
            "_view_count": null,
            "_view_module": "@jupyter-widgets/base",
            "_view_module_version": "1.2.0",
            "_view_name": "LayoutView",
            "align_content": null,
            "align_items": null,
            "align_self": null,
            "border": null,
            "bottom": null,
            "display": null,
            "flex": null,
            "flex_flow": null,
            "grid_area": null,
            "grid_auto_columns": null,
            "grid_auto_flow": null,
            "grid_auto_rows": null,
            "grid_column": null,
            "grid_gap": null,
            "grid_row": null,
            "grid_template_areas": null,
            "grid_template_columns": null,
            "grid_template_rows": null,
            "height": null,
            "justify_content": null,
            "justify_items": null,
            "left": null,
            "margin": null,
            "max_height": null,
            "max_width": null,
            "min_height": null,
            "min_width": null,
            "object_fit": null,
            "object_position": null,
            "order": null,
            "overflow": null,
            "overflow_x": null,
            "overflow_y": null,
            "padding": null,
            "right": null,
            "top": null,
            "visibility": null,
            "width": null
          }
        },
        "32ef5e7e3f144d4492f2ebc47ad8360c": {
          "model_module": "@jupyter-widgets/base",
          "model_name": "LayoutModel",
          "model_module_version": "1.2.0",
          "state": {
            "_model_module": "@jupyter-widgets/base",
            "_model_module_version": "1.2.0",
            "_model_name": "LayoutModel",
            "_view_count": null,
            "_view_module": "@jupyter-widgets/base",
            "_view_module_version": "1.2.0",
            "_view_name": "LayoutView",
            "align_content": null,
            "align_items": null,
            "align_self": null,
            "border": null,
            "bottom": null,
            "display": null,
            "flex": null,
            "flex_flow": null,
            "grid_area": null,
            "grid_auto_columns": null,
            "grid_auto_flow": null,
            "grid_auto_rows": null,
            "grid_column": null,
            "grid_gap": null,
            "grid_row": null,
            "grid_template_areas": null,
            "grid_template_columns": null,
            "grid_template_rows": null,
            "height": null,
            "justify_content": null,
            "justify_items": null,
            "left": null,
            "margin": null,
            "max_height": null,
            "max_width": null,
            "min_height": null,
            "min_width": null,
            "object_fit": null,
            "object_position": null,
            "order": null,
            "overflow": null,
            "overflow_x": null,
            "overflow_y": null,
            "padding": null,
            "right": null,
            "top": null,
            "visibility": null,
            "width": null
          }
        },
        "86472368bd014e838672dd50690f8950": {
          "model_module": "@jupyter-widgets/controls",
          "model_name": "DescriptionStyleModel",
          "model_module_version": "1.5.0",
          "state": {
            "_model_module": "@jupyter-widgets/controls",
            "_model_module_version": "1.5.0",
            "_model_name": "DescriptionStyleModel",
            "_view_count": null,
            "_view_module": "@jupyter-widgets/base",
            "_view_module_version": "1.2.0",
            "_view_name": "StyleView",
            "description_width": ""
          }
        },
        "fb320e45234f4f8fae83977dc7c5e6ae": {
          "model_module": "@jupyter-widgets/base",
          "model_name": "LayoutModel",
          "model_module_version": "1.2.0",
          "state": {
            "_model_module": "@jupyter-widgets/base",
            "_model_module_version": "1.2.0",
            "_model_name": "LayoutModel",
            "_view_count": null,
            "_view_module": "@jupyter-widgets/base",
            "_view_module_version": "1.2.0",
            "_view_name": "LayoutView",
            "align_content": null,
            "align_items": null,
            "align_self": null,
            "border": null,
            "bottom": null,
            "display": null,
            "flex": null,
            "flex_flow": null,
            "grid_area": null,
            "grid_auto_columns": null,
            "grid_auto_flow": null,
            "grid_auto_rows": null,
            "grid_column": null,
            "grid_gap": null,
            "grid_row": null,
            "grid_template_areas": null,
            "grid_template_columns": null,
            "grid_template_rows": null,
            "height": null,
            "justify_content": null,
            "justify_items": null,
            "left": null,
            "margin": null,
            "max_height": null,
            "max_width": null,
            "min_height": null,
            "min_width": null,
            "object_fit": null,
            "object_position": null,
            "order": null,
            "overflow": null,
            "overflow_x": null,
            "overflow_y": null,
            "padding": null,
            "right": null,
            "top": null,
            "visibility": null,
            "width": null
          }
        },
        "3d77d0df3cf1493ea2276b3a2bc398ae": {
          "model_module": "@jupyter-widgets/controls",
          "model_name": "ProgressStyleModel",
          "model_module_version": "1.5.0",
          "state": {
            "_model_module": "@jupyter-widgets/controls",
            "_model_module_version": "1.5.0",
            "_model_name": "ProgressStyleModel",
            "_view_count": null,
            "_view_module": "@jupyter-widgets/base",
            "_view_module_version": "1.2.0",
            "_view_name": "StyleView",
            "bar_color": null,
            "description_width": ""
          }
        },
        "21f72f519a7140d485e147edd07d1f68": {
          "model_module": "@jupyter-widgets/base",
          "model_name": "LayoutModel",
          "model_module_version": "1.2.0",
          "state": {
            "_model_module": "@jupyter-widgets/base",
            "_model_module_version": "1.2.0",
            "_model_name": "LayoutModel",
            "_view_count": null,
            "_view_module": "@jupyter-widgets/base",
            "_view_module_version": "1.2.0",
            "_view_name": "LayoutView",
            "align_content": null,
            "align_items": null,
            "align_self": null,
            "border": null,
            "bottom": null,
            "display": null,
            "flex": null,
            "flex_flow": null,
            "grid_area": null,
            "grid_auto_columns": null,
            "grid_auto_flow": null,
            "grid_auto_rows": null,
            "grid_column": null,
            "grid_gap": null,
            "grid_row": null,
            "grid_template_areas": null,
            "grid_template_columns": null,
            "grid_template_rows": null,
            "height": null,
            "justify_content": null,
            "justify_items": null,
            "left": null,
            "margin": null,
            "max_height": null,
            "max_width": null,
            "min_height": null,
            "min_width": null,
            "object_fit": null,
            "object_position": null,
            "order": null,
            "overflow": null,
            "overflow_x": null,
            "overflow_y": null,
            "padding": null,
            "right": null,
            "top": null,
            "visibility": null,
            "width": null
          }
        },
        "ff09ddb33fca4adcb215b262100c782a": {
          "model_module": "@jupyter-widgets/controls",
          "model_name": "DescriptionStyleModel",
          "model_module_version": "1.5.0",
          "state": {
            "_model_module": "@jupyter-widgets/controls",
            "_model_module_version": "1.5.0",
            "_model_name": "DescriptionStyleModel",
            "_view_count": null,
            "_view_module": "@jupyter-widgets/base",
            "_view_module_version": "1.2.0",
            "_view_name": "StyleView",
            "description_width": ""
          }
        },
        "922c4d55dea34913876f526e7212f00d": {
          "model_module": "@jupyter-widgets/controls",
          "model_name": "HBoxModel",
          "model_module_version": "1.5.0",
          "state": {
            "_dom_classes": [],
            "_model_module": "@jupyter-widgets/controls",
            "_model_module_version": "1.5.0",
            "_model_name": "HBoxModel",
            "_view_count": null,
            "_view_module": "@jupyter-widgets/controls",
            "_view_module_version": "1.5.0",
            "_view_name": "HBoxView",
            "box_style": "",
            "children": [
              "IPY_MODEL_62f99e241fbb4187a6cbd1c76e0953c5",
              "IPY_MODEL_7eac55d5d8864b1a97c5101ffb74c9f0",
              "IPY_MODEL_f151c39e1bf84bc9b97a759a03296ed3"
            ],
            "layout": "IPY_MODEL_2a8b033eb7a94c6dbaee0c2ea81d17d4"
          }
        },
        "62f99e241fbb4187a6cbd1c76e0953c5": {
          "model_module": "@jupyter-widgets/controls",
          "model_name": "HTMLModel",
          "model_module_version": "1.5.0",
          "state": {
            "_dom_classes": [],
            "_model_module": "@jupyter-widgets/controls",
            "_model_module_version": "1.5.0",
            "_model_name": "HTMLModel",
            "_view_count": null,
            "_view_module": "@jupyter-widgets/controls",
            "_view_module_version": "1.5.0",
            "_view_name": "HTMLView",
            "description": "",
            "description_tooltip": null,
            "layout": "IPY_MODEL_930adc422d414409aff78ef8c9409dbd",
            "placeholder": "​",
            "style": "IPY_MODEL_32fcc0434f004b64a3f2319d0d905ec2",
            "value": "Loading checkpoint shards: 100%"
          }
        },
        "7eac55d5d8864b1a97c5101ffb74c9f0": {
          "model_module": "@jupyter-widgets/controls",
          "model_name": "FloatProgressModel",
          "model_module_version": "1.5.0",
          "state": {
            "_dom_classes": [],
            "_model_module": "@jupyter-widgets/controls",
            "_model_module_version": "1.5.0",
            "_model_name": "FloatProgressModel",
            "_view_count": null,
            "_view_module": "@jupyter-widgets/controls",
            "_view_module_version": "1.5.0",
            "_view_name": "ProgressView",
            "bar_style": "success",
            "description": "",
            "description_tooltip": null,
            "layout": "IPY_MODEL_5d515f81efbc45d089e15f07d1cbedcc",
            "max": 2,
            "min": 0,
            "orientation": "horizontal",
            "style": "IPY_MODEL_a1e401deade64ee4a7481bc317d63df0",
            "value": 2
          }
        },
        "f151c39e1bf84bc9b97a759a03296ed3": {
          "model_module": "@jupyter-widgets/controls",
          "model_name": "HTMLModel",
          "model_module_version": "1.5.0",
          "state": {
            "_dom_classes": [],
            "_model_module": "@jupyter-widgets/controls",
            "_model_module_version": "1.5.0",
            "_model_name": "HTMLModel",
            "_view_count": null,
            "_view_module": "@jupyter-widgets/controls",
            "_view_module_version": "1.5.0",
            "_view_name": "HTMLView",
            "description": "",
            "description_tooltip": null,
            "layout": "IPY_MODEL_2e27b2d932ac40998ca037b7b462b131",
            "placeholder": "​",
            "style": "IPY_MODEL_defa3fe6489e431280a855ace3f477e4",
            "value": " 2/2 [00:07&lt;00:00,  3.47s/it]"
          }
        },
        "2a8b033eb7a94c6dbaee0c2ea81d17d4": {
          "model_module": "@jupyter-widgets/base",
          "model_name": "LayoutModel",
          "model_module_version": "1.2.0",
          "state": {
            "_model_module": "@jupyter-widgets/base",
            "_model_module_version": "1.2.0",
            "_model_name": "LayoutModel",
            "_view_count": null,
            "_view_module": "@jupyter-widgets/base",
            "_view_module_version": "1.2.0",
            "_view_name": "LayoutView",
            "align_content": null,
            "align_items": null,
            "align_self": null,
            "border": null,
            "bottom": null,
            "display": null,
            "flex": null,
            "flex_flow": null,
            "grid_area": null,
            "grid_auto_columns": null,
            "grid_auto_flow": null,
            "grid_auto_rows": null,
            "grid_column": null,
            "grid_gap": null,
            "grid_row": null,
            "grid_template_areas": null,
            "grid_template_columns": null,
            "grid_template_rows": null,
            "height": null,
            "justify_content": null,
            "justify_items": null,
            "left": null,
            "margin": null,
            "max_height": null,
            "max_width": null,
            "min_height": null,
            "min_width": null,
            "object_fit": null,
            "object_position": null,
            "order": null,
            "overflow": null,
            "overflow_x": null,
            "overflow_y": null,
            "padding": null,
            "right": null,
            "top": null,
            "visibility": null,
            "width": null
          }
        },
        "930adc422d414409aff78ef8c9409dbd": {
          "model_module": "@jupyter-widgets/base",
          "model_name": "LayoutModel",
          "model_module_version": "1.2.0",
          "state": {
            "_model_module": "@jupyter-widgets/base",
            "_model_module_version": "1.2.0",
            "_model_name": "LayoutModel",
            "_view_count": null,
            "_view_module": "@jupyter-widgets/base",
            "_view_module_version": "1.2.0",
            "_view_name": "LayoutView",
            "align_content": null,
            "align_items": null,
            "align_self": null,
            "border": null,
            "bottom": null,
            "display": null,
            "flex": null,
            "flex_flow": null,
            "grid_area": null,
            "grid_auto_columns": null,
            "grid_auto_flow": null,
            "grid_auto_rows": null,
            "grid_column": null,
            "grid_gap": null,
            "grid_row": null,
            "grid_template_areas": null,
            "grid_template_columns": null,
            "grid_template_rows": null,
            "height": null,
            "justify_content": null,
            "justify_items": null,
            "left": null,
            "margin": null,
            "max_height": null,
            "max_width": null,
            "min_height": null,
            "min_width": null,
            "object_fit": null,
            "object_position": null,
            "order": null,
            "overflow": null,
            "overflow_x": null,
            "overflow_y": null,
            "padding": null,
            "right": null,
            "top": null,
            "visibility": null,
            "width": null
          }
        },
        "32fcc0434f004b64a3f2319d0d905ec2": {
          "model_module": "@jupyter-widgets/controls",
          "model_name": "DescriptionStyleModel",
          "model_module_version": "1.5.0",
          "state": {
            "_model_module": "@jupyter-widgets/controls",
            "_model_module_version": "1.5.0",
            "_model_name": "DescriptionStyleModel",
            "_view_count": null,
            "_view_module": "@jupyter-widgets/base",
            "_view_module_version": "1.2.0",
            "_view_name": "StyleView",
            "description_width": ""
          }
        },
        "5d515f81efbc45d089e15f07d1cbedcc": {
          "model_module": "@jupyter-widgets/base",
          "model_name": "LayoutModel",
          "model_module_version": "1.2.0",
          "state": {
            "_model_module": "@jupyter-widgets/base",
            "_model_module_version": "1.2.0",
            "_model_name": "LayoutModel",
            "_view_count": null,
            "_view_module": "@jupyter-widgets/base",
            "_view_module_version": "1.2.0",
            "_view_name": "LayoutView",
            "align_content": null,
            "align_items": null,
            "align_self": null,
            "border": null,
            "bottom": null,
            "display": null,
            "flex": null,
            "flex_flow": null,
            "grid_area": null,
            "grid_auto_columns": null,
            "grid_auto_flow": null,
            "grid_auto_rows": null,
            "grid_column": null,
            "grid_gap": null,
            "grid_row": null,
            "grid_template_areas": null,
            "grid_template_columns": null,
            "grid_template_rows": null,
            "height": null,
            "justify_content": null,
            "justify_items": null,
            "left": null,
            "margin": null,
            "max_height": null,
            "max_width": null,
            "min_height": null,
            "min_width": null,
            "object_fit": null,
            "object_position": null,
            "order": null,
            "overflow": null,
            "overflow_x": null,
            "overflow_y": null,
            "padding": null,
            "right": null,
            "top": null,
            "visibility": null,
            "width": null
          }
        },
        "a1e401deade64ee4a7481bc317d63df0": {
          "model_module": "@jupyter-widgets/controls",
          "model_name": "ProgressStyleModel",
          "model_module_version": "1.5.0",
          "state": {
            "_model_module": "@jupyter-widgets/controls",
            "_model_module_version": "1.5.0",
            "_model_name": "ProgressStyleModel",
            "_view_count": null,
            "_view_module": "@jupyter-widgets/base",
            "_view_module_version": "1.2.0",
            "_view_name": "StyleView",
            "bar_color": null,
            "description_width": ""
          }
        },
        "2e27b2d932ac40998ca037b7b462b131": {
          "model_module": "@jupyter-widgets/base",
          "model_name": "LayoutModel",
          "model_module_version": "1.2.0",
          "state": {
            "_model_module": "@jupyter-widgets/base",
            "_model_module_version": "1.2.0",
            "_model_name": "LayoutModel",
            "_view_count": null,
            "_view_module": "@jupyter-widgets/base",
            "_view_module_version": "1.2.0",
            "_view_name": "LayoutView",
            "align_content": null,
            "align_items": null,
            "align_self": null,
            "border": null,
            "bottom": null,
            "display": null,
            "flex": null,
            "flex_flow": null,
            "grid_area": null,
            "grid_auto_columns": null,
            "grid_auto_flow": null,
            "grid_auto_rows": null,
            "grid_column": null,
            "grid_gap": null,
            "grid_row": null,
            "grid_template_areas": null,
            "grid_template_columns": null,
            "grid_template_rows": null,
            "height": null,
            "justify_content": null,
            "justify_items": null,
            "left": null,
            "margin": null,
            "max_height": null,
            "max_width": null,
            "min_height": null,
            "min_width": null,
            "object_fit": null,
            "object_position": null,
            "order": null,
            "overflow": null,
            "overflow_x": null,
            "overflow_y": null,
            "padding": null,
            "right": null,
            "top": null,
            "visibility": null,
            "width": null
          }
        },
        "defa3fe6489e431280a855ace3f477e4": {
          "model_module": "@jupyter-widgets/controls",
          "model_name": "DescriptionStyleModel",
          "model_module_version": "1.5.0",
          "state": {
            "_model_module": "@jupyter-widgets/controls",
            "_model_module_version": "1.5.0",
            "_model_name": "DescriptionStyleModel",
            "_view_count": null,
            "_view_module": "@jupyter-widgets/base",
            "_view_module_version": "1.2.0",
            "_view_name": "StyleView",
            "description_width": ""
          }
        }
      }
    }
  },
  "cells": [
    {
      "cell_type": "markdown",
      "metadata": {
        "id": "view-in-github",
        "colab_type": "text"
      },
      "source": [
        "<a href=\"https://colab.research.google.com/github/olonok69/projects_ai/blob/main/Cluster_embeddings_nomic_vs_mistral_llama.ipynb\" target=\"_parent\"><img src=\"https://colab.research.google.com/assets/colab-badge.svg\" alt=\"Open In Colab\"/></a>"
      ]
    },
    {
      "cell_type": "code",
      "source": [
        "! pip install -U bitsandbytes pysftp Faker -q"
      ],
      "metadata": {
        "id": "to08vXMLFhJi"
      },
      "execution_count": 21,
      "outputs": []
    },
    {
      "cell_type": "code",
      "execution_count": 22,
      "metadata": {
        "id": "_zaiEoYgDDxi"
      },
      "outputs": [],
      "source": [
        "import json"
      ]
    },
    {
      "cell_type": "code",
      "source": [
        "cluster_numeclature_path = \"/content/drive/MyDrive/data/CSM/cluster_numeculature.json\"\n",
        "session_nomic_embeddings_path = \"/content/drive/MyDrive/data/CSM/embeddings_test_nomic.json\"\n",
        "session_mistral_embeddings_path = \"/content/drive/MyDrive/data/CSM/embeddings_test_mistral.json\"\n",
        "old_session_mistral_embeddings_path = \"/content/drive/MyDrive/data/CSM/session_embeddings_Mistral-7B-v0.1.json\"\n",
        "session_mistral_embeddings_path =  \"/content/drive/MyDrive/data/CSM/badge/embeddings_badges_mistral.json\"\n"
      ],
      "metadata": {
        "id": "i9ulriX_Di3l"
      },
      "execution_count": 114,
      "outputs": []
    },
    {
      "cell_type": "code",
      "source": [
        "with open(cluster_numeclature_path, 'r') as f:\n",
        "    numeculature_dict = json.load(f)"
      ],
      "metadata": {
        "id": "iDfmec1zEx5r"
      },
      "execution_count": 115,
      "outputs": []
    },
    {
      "cell_type": "code",
      "source": [
        "from transformers import AutoTokenizer, AutoModel\n",
        "import torch\n",
        "import json\n",
        "from tqdm import tqdm\n",
        "import os\n",
        "import gc"
      ],
      "metadata": {
        "id": "IkeFwl2YIIEY"
      },
      "execution_count": 116,
      "outputs": []
    },
    {
      "cell_type": "code",
      "source": [
        "# del model\n",
        "# del tokenizer\n",
        "torch.cuda.empty_cache()\n",
        "gc.collect()"
      ],
      "metadata": {
        "colab": {
          "base_uri": "https://localhost:8080/"
        },
        "id": "SzI4H76vE7ZJ",
        "outputId": "c18965ef-4fdd-4e97-8af1-2118f734f68e"
      },
      "execution_count": 118,
      "outputs": [
        {
          "output_type": "execute_result",
          "data": {
            "text/plain": [
              "0"
            ]
          },
          "metadata": {},
          "execution_count": 118
        }
      ]
    },
    {
      "cell_type": "markdown",
      "source": [
        "# Mistral 7B"
      ],
      "metadata": {
        "id": "7fvcYM4eKew7"
      }
    },
    {
      "cell_type": "code",
      "source": [
        "\n",
        "\n",
        "# model_id = \"mistralai/Mixtral-8x7B-v0.1\"\n",
        "model_id = \"mistralai/Mistral-7B-v0.1\"\n",
        "\n",
        "tokenizer = AutoTokenizer.from_pretrained(model_id)\n",
        "model = AutoModel.from_pretrained(model_id, device_map=\"auto\", load_in_8bit=True)\n",
        "\n",
        "\n",
        "\n",
        "cluster_numeculature_embeddings = {}\n",
        "for key, value in tqdm(numeculature_dict.items()):\n",
        "    # Tokenize the input text and convert to tensor\n",
        "    inputs = tokenizer(value, return_tensors=\"pt\", truncation=True, max_length=512)\n",
        "    inputs = inputs.to(\"cuda\")\n",
        "\n",
        "    # Forward pass, get all hidden states\n",
        "    with torch.no_grad():\n",
        "        outputs = model(**inputs, output_hidden_states=True)\n",
        "\n",
        "    # Extract hidden states of the second-to-last layer\n",
        "    hidden_states = outputs.hidden_states\n",
        "    second_to_last_layer = hidden_states[-2]\n",
        "\n",
        "    cluster_numeculature_embeddings[key] = second_to_last_layer.mean(dim=1).cpu().numpy()\n",
        "\n",
        "if os.path.exists('/content/drive/MyDrive/data/CSM/embeddings')!=True:\n",
        "    os.makedirs('/content/drive/MyDrive/data/CSM/embeddings')\n",
        "\n",
        "# Save embeddings to a file\n",
        "with open(f'/content/drive/MyDrive/data/CSM/embeddings/cluster_numeculature_embeddings_{model_id.split(\"/\")[1]}.json', 'w', encoding='utf-8') as f:\n",
        "    json.dump({k: v.tolist() for k, v in cluster_numeculature_embeddings.items()}, f, ensure_ascii=False, indent=4)"
      ],
      "metadata": {
        "colab": {
          "base_uri": "https://localhost:8080/",
          "height": 104,
          "referenced_widgets": [
            "3e5b035579c040cca1a26b13eef84fb0",
            "5a7596a16a5e4b1e858a135967960a33",
            "d6789adb89784011aae0b7a3a209833e",
            "bdc167d5f1ac47ccac45473497697b5f",
            "4db335e144df4dfcbacf6b6262805ae2",
            "32ef5e7e3f144d4492f2ebc47ad8360c",
            "86472368bd014e838672dd50690f8950",
            "fb320e45234f4f8fae83977dc7c5e6ae",
            "3d77d0df3cf1493ea2276b3a2bc398ae",
            "21f72f519a7140d485e147edd07d1f68",
            "ff09ddb33fca4adcb215b262100c782a"
          ]
        },
        "id": "Itj5OfYxEkVg",
        "outputId": "2786a482-4737-4980-c2e4-a9a4a5c50449"
      },
      "execution_count": 119,
      "outputs": [
        {
          "output_type": "stream",
          "name": "stderr",
          "text": [
            "The `load_in_4bit` and `load_in_8bit` arguments are deprecated and will be removed in the future versions. Please, pass a `BitsAndBytesConfig` object in `quantization_config` argument instead.\n"
          ]
        },
        {
          "output_type": "display_data",
          "data": {
            "text/plain": [
              "Loading checkpoint shards:   0%|          | 0/2 [00:00<?, ?it/s]"
            ],
            "application/vnd.jupyter.widget-view+json": {
              "version_major": 2,
              "version_minor": 0,
              "model_id": "3e5b035579c040cca1a26b13eef84fb0"
            }
          },
          "metadata": {}
        },
        {
          "output_type": "stream",
          "name": "stderr",
          "text": [
            "100%|██████████| 6/6 [00:01<00:00,  3.33it/s]\n"
          ]
        }
      ]
    },
    {
      "cell_type": "code",
      "source": [
        "import numpy as np\n",
        "import json\n",
        "\n",
        "with open('/content/drive/MyDrive/data/CSM/embeddings/cluster_numeculature_embeddings_Mistral-7B-v0.1.json') as json_file:\n",
        "    cluster_numeculature_dict_mistral = json.load(json_file)\n",
        "\n",
        "with open(\"/content/drive/MyDrive/data/CSM/badge/embeddings_badges_mistral.json\") as json_file:\n",
        "    session_embeddings_Mistral_7B_dict = json.load(json_file)"
      ],
      "metadata": {
        "id": "IWgZJ2x8JUBP"
      },
      "execution_count": 120,
      "outputs": []
    },
    {
      "cell_type": "code",
      "source": [
        "len(session_embeddings_Mistral_7B_dict.keys())"
      ],
      "metadata": {
        "colab": {
          "base_uri": "https://localhost:8080/"
        },
        "id": "IqzLxcnSJnl7",
        "outputId": "dd297a96-be18-4240-dd7f-085af66d1305"
      },
      "execution_count": 121,
      "outputs": [
        {
          "output_type": "execute_result",
          "data": {
            "text/plain": [
              "24837"
            ]
          },
          "metadata": {},
          "execution_count": 121
        }
      ]
    },
    {
      "cell_type": "code",
      "source": [
        "len(session_embeddings_Mistral_7B_dict['BadgeId_22A5D99'][0])"
      ],
      "metadata": {
        "colab": {
          "base_uri": "https://localhost:8080/"
        },
        "id": "KQ2qXAPRJ-1_",
        "outputId": "9f618076-52ae-43e6-f079-fd1b031a97ec"
      },
      "execution_count": 123,
      "outputs": [
        {
          "output_type": "execute_result",
          "data": {
            "text/plain": [
              "4096"
            ]
          },
          "metadata": {},
          "execution_count": 123
        }
      ]
    },
    {
      "cell_type": "code",
      "source": [
        "cluster_numeculature_dict_mistral.keys()"
      ],
      "metadata": {
        "colab": {
          "base_uri": "https://localhost:8080/"
        },
        "id": "J_hir1fLKO3h",
        "outputId": "34b5b6b5-a64c-458a-b4b4-91fe4f8b4205"
      },
      "execution_count": 70,
      "outputs": [
        {
          "output_type": "execute_result",
          "data": {
            "text/plain": [
              "dict_keys(['Networking', 'Learning', 'Searching', 'Sourcing – Early', 'Sourcing – In Process', 'Sourcing – Deciding'])"
            ]
          },
          "metadata": {},
          "execution_count": 70
        }
      ]
    },
    {
      "cell_type": "code",
      "source": [
        "len(cluster_numeculature_dict_mistral['Networking'][0])"
      ],
      "metadata": {
        "colab": {
          "base_uri": "https://localhost:8080/"
        },
        "id": "ypCHaCM2KSPR",
        "outputId": "90fec005-5fa9-4811-f03b-ee022d6545da"
      },
      "execution_count": 124,
      "outputs": [
        {
          "output_type": "execute_result",
          "data": {
            "text/plain": [
              "4096"
            ]
          },
          "metadata": {},
          "execution_count": 124
        }
      ]
    },
    {
      "cell_type": "code",
      "source": [
        "np.array(session_embeddings_Mistral_7B_dict['BadgeId_22A5D99']).shape"
      ],
      "metadata": {
        "colab": {
          "base_uri": "https://localhost:8080/"
        },
        "id": "t8p7fwNrReyW",
        "outputId": "e3e2a56d-52ab-4f57-f087-2b8e3d14d933"
      },
      "execution_count": 158,
      "outputs": [
        {
          "output_type": "execute_result",
          "data": {
            "text/plain": [
              "(1, 4096)"
            ]
          },
          "metadata": {},
          "execution_count": 158
        }
      ]
    },
    {
      "cell_type": "code",
      "source": [
        "import numpy as np\n",
        "from sklearn.metrics.pairwise import cosine_similarity\n",
        "cosine_similarity(np.array(session_embeddings_Mistral_7B_dict['BadgeId_22A5D99']), np.array(cluster_numeculature_dict_mistral['Networking']))[0][0]"
      ],
      "metadata": {
        "colab": {
          "base_uri": "https://localhost:8080/"
        },
        "id": "NFrXMJYKPe5u",
        "outputId": "8effb39c-c873-4ce8-97b4-bcc77929f63d"
      },
      "execution_count": 160,
      "outputs": [
        {
          "output_type": "execute_result",
          "data": {
            "text/plain": [
              "0.5523051873492829"
            ]
          },
          "metadata": {},
          "execution_count": 160
        }
      ]
    },
    {
      "cell_type": "code",
      "source": [
        "def cosine_distance(A, B):\n",
        "    dot_product = np.dot(A, B)\n",
        "    magnitude_A = np.linalg.norm(A)\n",
        "    magnitude_B = np.linalg.norm(B)\n",
        "    return 1 - dot_product / (magnitude_A * magnitude_B)\n",
        "\n",
        "def find_key_of_lowest_value(input_dict):\n",
        "    # Initialize minimum value and corresponding key\n",
        "    min_value = float('inf')\n",
        "    min_key = None\n",
        "\n",
        "    # Iterate through the dictionary\n",
        "    for key, value in input_dict.items():\n",
        "        # Update minimum value and key if a lower value is found\n",
        "        if value < min_value:\n",
        "            min_value = value\n",
        "            min_key = key\n",
        "\n",
        "    return min_key\n",
        "def find_key_of_higher_value(input_dict):\n",
        "    # Initialize minimum value and corresponding key\n",
        "    min_value = float('-inf')\n",
        "    min_key = None\n",
        "\n",
        "    # Iterate through the dictionary\n",
        "    for key, value in input_dict.items():\n",
        "        # Update minimum value and key if a lower value is found\n",
        "        if value > min_value:\n",
        "            min_value = value\n",
        "            min_key = key\n",
        "\n",
        "    return min_key\n",
        "def sort_dict_by_values(input_dict):\n",
        "    # Sort the dictionary by its values in ascending order\n",
        "    sorted_items = sorted(input_dict.items(), key=lambda x: x[1])\n",
        "    return sorted_items"
      ],
      "metadata": {
        "id": "Ts3cqyy8J2EV"
      },
      "execution_count": 162,
      "outputs": []
    },
    {
      "cell_type": "code",
      "source": [
        "clusters={}\n",
        "for badge_id, session_embeddings in session_embeddings_Mistral_7B_dict.items():\n",
        "    cosine_distances = {}\n",
        "    cosines_similarities = {}\n",
        "    #print(badge_id)\n",
        "    for cluster_group_name, cluster_numeculature in cluster_numeculature_dict_mistral.items():\n",
        "        cosine_distances[cluster_group_name] = cosine_distance(np.squeeze(session_embeddings), np.squeeze(cluster_numeculature))\n",
        "        cosines_similarities[cluster_group_name] = cosine_similarity(np.array(session_embeddings), np.array(cluster_numeculature))[0][0]\n",
        "\n",
        "    # print(json.dumps(cosine_distances, indent=2))\n",
        "    closest_cluster_group_name = find_key_of_lowest_value(cosine_distances)\n",
        "    closest_cluster_group_name_cos = find_key_of_higher_value(cosines_similarities)\n",
        "    if badge_id not in clusters.keys():\n",
        "        clusters[badge_id] = closest_cluster_group_name_cos\n",
        "    #print(f\"Badge {badge_id}, closer distance {closest_cluster_group_name}, closer cosine {closest_cluster_group_name_cos}\")\n",
        "    # Sort the dictionary and print the result\n",
        "    # sorted_cosine_distances = sort_dict_by_values(cosine_distances)\n",
        "    # print(\">>>>>>\")\n",
        "    # for key, value in sorted_cosine_distances:\n",
        "    #     print(f\"{key}: {value}\")\n",
        "    # print(f\"    closest cluster: {closest_cluster_group_name}\")\n",
        "    # print(\"<<<<<<\")\n",
        "    # input()"
      ],
      "metadata": {
        "id": "a1PPeY7AKXXn",
        "collapsed": true
      },
      "execution_count": 164,
      "outputs": []
    },
    {
      "cell_type": "code",
      "source": [
        "len(clusters.keys())"
      ],
      "metadata": {
        "id": "HH-rKJ8YKjqV",
        "outputId": "2b85a0af-e23a-4e39-e388-3e0905cbc758",
        "colab": {
          "base_uri": "https://localhost:8080/"
        }
      },
      "execution_count": 165,
      "outputs": [
        {
          "output_type": "execute_result",
          "data": {
            "text/plain": [
              "24837"
            ]
          },
          "metadata": {},
          "execution_count": 165
        }
      ]
    },
    {
      "cell_type": "code",
      "source": [
        "for key in list(clusters.keys())[0:5]:\n",
        "  print(key, clusters[key])"
      ],
      "metadata": {
        "colab": {
          "base_uri": "https://localhost:8080/"
        },
        "id": "Hrv1tuInh2f9",
        "outputId": "b4435b8d-6bc8-4e48-adc8-0d57a9831984"
      },
      "execution_count": 166,
      "outputs": [
        {
          "output_type": "stream",
          "name": "stdout",
          "text": [
            "BadgeId_22A5D99 Sourcing – In Process\n",
            "BadgeId_22DIQKA Sourcing – In Process\n",
            "BadgeId_22QZ49X Sourcing – In Process\n",
            "BadgeId_237XLCW Sourcing – In Process\n",
            "BadgeId_23BG2SF Sourcing – In Process\n"
          ]
        }
      ]
    },
    {
      "cell_type": "markdown",
      "source": [
        "# LLama\n"
      ],
      "metadata": {
        "id": "vcb_Pf7DvAy6"
      }
    },
    {
      "cell_type": "code",
      "source": [
        "del model\n",
        "\n",
        "del tokenizer\n",
        "torch.cuda.empty_cache()\n",
        "gc.collect()"
      ],
      "metadata": {
        "colab": {
          "base_uri": "https://localhost:8080/"
        },
        "id": "73bGIMi1vKqa",
        "outputId": "980828c5-2785-4ee6-eaba-d8b87b0941d2"
      },
      "execution_count": 167,
      "outputs": [
        {
          "output_type": "execute_result",
          "data": {
            "text/plain": [
              "7573"
            ]
          },
          "metadata": {},
          "execution_count": 167
        }
      ]
    },
    {
      "cell_type": "code",
      "source": [
        "torch.cuda.empty_cache()\n",
        "gc.collect()"
      ],
      "metadata": {
        "colab": {
          "base_uri": "https://localhost:8080/"
        },
        "id": "LeO_3NT2vOlE",
        "outputId": "9d15dfa3-0a55-4926-9529-459d05ccb916"
      },
      "execution_count": 168,
      "outputs": [
        {
          "output_type": "execute_result",
          "data": {
            "text/plain": [
              "20"
            ]
          },
          "metadata": {},
          "execution_count": 168
        }
      ]
    },
    {
      "cell_type": "code",
      "source": [
        "model_id = \"meta-llama/Llama-3.2-3B-Instruct\"\n",
        "tokenizer = AutoTokenizer.from_pretrained(model_id)\n",
        "model = AutoModel.from_pretrained(model_id, device_map=\"auto\", load_in_8bit=True)"
      ],
      "metadata": {
        "colab": {
          "base_uri": "https://localhost:8080/",
          "height": 86,
          "referenced_widgets": [
            "922c4d55dea34913876f526e7212f00d",
            "62f99e241fbb4187a6cbd1c76e0953c5",
            "7eac55d5d8864b1a97c5101ffb74c9f0",
            "f151c39e1bf84bc9b97a759a03296ed3",
            "2a8b033eb7a94c6dbaee0c2ea81d17d4",
            "930adc422d414409aff78ef8c9409dbd",
            "32fcc0434f004b64a3f2319d0d905ec2",
            "5d515f81efbc45d089e15f07d1cbedcc",
            "a1e401deade64ee4a7481bc317d63df0",
            "2e27b2d932ac40998ca037b7b462b131",
            "defa3fe6489e431280a855ace3f477e4"
          ]
        },
        "id": "kSe3--EPvOUe",
        "outputId": "d4046296-7b66-4189-8bb7-18b05bc803b3"
      },
      "execution_count": 169,
      "outputs": [
        {
          "output_type": "stream",
          "name": "stderr",
          "text": [
            "The `load_in_4bit` and `load_in_8bit` arguments are deprecated and will be removed in the future versions. Please, pass a `BitsAndBytesConfig` object in `quantization_config` argument instead.\n"
          ]
        },
        {
          "output_type": "display_data",
          "data": {
            "text/plain": [
              "Loading checkpoint shards:   0%|          | 0/2 [00:00<?, ?it/s]"
            ],
            "application/vnd.jupyter.widget-view+json": {
              "version_major": 2,
              "version_minor": 0,
              "model_id": "922c4d55dea34913876f526e7212f00d"
            }
          },
          "metadata": {}
        }
      ]
    },
    {
      "cell_type": "code",
      "source": [
        "output_path = \"/content/drive/MyDrive/data/CSM/badge/embeddings_badges_llama.json\""
      ],
      "metadata": {
        "id": "wiSyLwqgvN7n"
      },
      "execution_count": 170,
      "outputs": []
    },
    {
      "cell_type": "code",
      "source": [
        "cluster_numeculature_embeddings_llama = {}\n",
        "for key, value in tqdm(numeculature_dict.items()):\n",
        "    # Tokenize the input text and convert to tensor\n",
        "    inputs = tokenizer(value, return_tensors=\"pt\", truncation=True, max_length=512)\n",
        "    inputs = inputs.to(\"cuda\")\n",
        "\n",
        "    # Forward pass, get all hidden states\n",
        "    with torch.no_grad():\n",
        "        outputs = model(**inputs, output_hidden_states=True)\n",
        "\n",
        "    # Extract hidden states of the second-to-last layer\n",
        "    hidden_states = outputs.hidden_states\n",
        "    second_to_last_layer = hidden_states[-2]\n",
        "\n",
        "    cluster_numeculature_embeddings_llama[key] = second_to_last_layer.mean(dim=1).cpu().numpy()\n",
        "\n",
        "if os.path.exists('/content/drive/MyDrive/data/CSM/embeddings')!=True:\n",
        "    os.makedirs('/content/drive/MyDrive/data/CSM/embeddings')\n",
        "\n",
        "# Save embeddings to a file\n",
        "with open(f'/content/drive/MyDrive/data/CSM/embeddings/cluster_numeculature_embeddings_{model_id.split(\"/\")[1]}.json', 'w', encoding='utf-8') as f:\n",
        "    json.dump({k: v.tolist() for k, v in cluster_numeculature_embeddings_llama.items()}, f, ensure_ascii=False, indent=4)"
      ],
      "metadata": {
        "colab": {
          "base_uri": "https://localhost:8080/"
        },
        "id": "DIZbtaCwwAKG",
        "outputId": "d3abe7c8-f22c-49ac-a279-1be6ac811f80"
      },
      "execution_count": 172,
      "outputs": [
        {
          "output_type": "stream",
          "name": "stderr",
          "text": [
            "100%|██████████| 6/6 [00:00<00:00,  7.52it/s]\n"
          ]
        }
      ]
    },
    {
      "cell_type": "code",
      "source": [
        "f'/content/drive/MyDrive/data/CSM/embeddings/cluster_numeculature_embeddings_{model_id.split(\"/\")[1]}.json'"
      ],
      "metadata": {
        "colab": {
          "base_uri": "https://localhost:8080/",
          "height": 35
        },
        "id": "d8TnPxbNw4DI",
        "outputId": "0abd51e0-28cd-46ee-9544-6571c8ad3732"
      },
      "execution_count": 173,
      "outputs": [
        {
          "output_type": "execute_result",
          "data": {
            "text/plain": [
              "'/content/drive/MyDrive/data/CSM/embeddings/cluster_numeculature_embeddings_Llama-3.2-3B-Instruct.json'"
            ],
            "application/vnd.google.colaboratory.intrinsic+json": {
              "type": "string"
            }
          },
          "metadata": {},
          "execution_count": 173
        }
      ]
    },
    {
      "cell_type": "code",
      "source": [
        "with open('/content/drive/MyDrive/data/CSM/embeddings/cluster_numeculature_embeddings_Llama-3.2-3B-Instruct.json') as json_file:\n",
        "    cluster_numeculature_dict_llama = json.load(json_file)\n",
        "\n",
        "with open(\"/content/drive/MyDrive/data/CSM/badge/embeddings_badges_llama.json\") as json_file:\n",
        "    session_embeddings_LLama = json.load(json_file)"
      ],
      "metadata": {
        "id": "qnaYCuznv_7j"
      },
      "execution_count": 174,
      "outputs": []
    },
    {
      "cell_type": "code",
      "source": [
        "clusters3={}\n",
        "for badge_id, session_embeddings in session_embeddings_LLama.items():\n",
        "    cosine_distances = {}\n",
        "    cosines_similarities = {}\n",
        "    #print(badge_id)\n",
        "    for cluster_group_name, cluster_numeculature in cluster_numeculature_dict_llama.items():\n",
        "        #cosine_distances[cluster_group_name] = cosine_distance(np.squeeze(session_embeddings), np.squeeze(cluster_numeculature))\n",
        "        cosines_similarities[cluster_group_name] = cosine_similarity(np.array(session_embeddings), np.array(cluster_numeculature))[0][0]\n",
        "\n",
        "    # print(json.dumps(cosine_distances, indent=2))\n",
        "    #closest_cluster_group_name = find_key_of_lowest_value(cosine_distances)\n",
        "    closest_cluster_group_name_cos = find_key_of_higher_value(cosines_similarities)\n",
        "    if badge_id not in clusters3.keys():\n",
        "        clusters3[badge_id] = closest_cluster_group_name_cos\n",
        "    # Sort the dictionary and print the result\n",
        "    # sorted_cosine_distances = sort_dict_by_values(cosine_distances)\n",
        "    # print(\">>>>>>\")\n",
        "    # for key, value in sorted_cosine_distances:\n",
        "    #     print(f\"{key}: {value}\")\n",
        "    # print(f\"    closest cluster: {closest_cluster_group_name}\")\n",
        "    # print(\"<<<<<<\")\n",
        "    # input()"
      ],
      "metadata": {
        "collapsed": true,
        "id": "Kie8xA-7v_wn"
      },
      "execution_count": 175,
      "outputs": []
    },
    {
      "cell_type": "code",
      "source": [
        "len(clusters3.keys())"
      ],
      "metadata": {
        "colab": {
          "base_uri": "https://localhost:8080/"
        },
        "id": "NSbnkqxiy6tv",
        "outputId": "da59e4ab-e378-4274-fc4c-017693725583"
      },
      "execution_count": 176,
      "outputs": [
        {
          "output_type": "execute_result",
          "data": {
            "text/plain": [
              "24837"
            ]
          },
          "metadata": {},
          "execution_count": 176
        }
      ]
    },
    {
      "cell_type": "code",
      "source": [
        "for key in list(clusters3.keys())[0:5]:\n",
        "  print(key, clusters3[key])"
      ],
      "metadata": {
        "colab": {
          "base_uri": "https://localhost:8080/"
        },
        "id": "jvs2LP-eWVYB",
        "outputId": "fed8f81d-5d08-41a8-8103-4b80cebb3592"
      },
      "execution_count": 177,
      "outputs": [
        {
          "output_type": "stream",
          "name": "stdout",
          "text": [
            "BadgeId_22A5D99 Sourcing – In Process\n",
            "BadgeId_22DIQKA Sourcing – In Process\n",
            "BadgeId_22QZ49X Learning\n",
            "BadgeId_237XLCW Sourcing – In Process\n",
            "BadgeId_23BG2SF Sourcing – In Process\n"
          ]
        }
      ]
    },
    {
      "cell_type": "markdown",
      "source": [
        "# Nomic"
      ],
      "metadata": {
        "id": "sY6gQ7L-u-Zk"
      }
    },
    {
      "cell_type": "code",
      "source": [
        "from sentence_transformers import SentenceTransformer\n",
        "\n",
        "model = SentenceTransformer(\"nomic-ai/nomic-embed-text-v1\", trust_remote_code=True)"
      ],
      "metadata": {
        "colab": {
          "base_uri": "https://localhost:8080/"
        },
        "id": "sHUYtgI9iBv-",
        "outputId": "37db13b0-29f4-4b6f-a697-3c8620509499"
      },
      "execution_count": 178,
      "outputs": [
        {
          "output_type": "stream",
          "name": "stderr",
          "text": [
            "/root/.cache/huggingface/modules/transformers_modules/nomic-ai/nomic-bert-2048/40b98394640e630d5276807046089b233113aa87/modeling_hf_nomic_bert.py:108: FutureWarning: You are using `torch.load` with `weights_only=False` (the current default value), which uses the default pickle module implicitly. It is possible to construct malicious pickle data which will execute arbitrary code during unpickling (See https://github.com/pytorch/pytorch/blob/main/SECURITY.md#untrusted-models for more details). In a future release, the default value for `weights_only` will be flipped to `True`. This limits the functions that could be executed during unpickling. Arbitrary objects will no longer be allowed to be loaded via this mode unless they are explicitly allowlisted by the user via `torch.serialization.add_safe_globals`. We recommend you start setting `weights_only=True` for any use case where you don't have full control of the loaded file. Please open an issue on GitHub for any issues related to this experimental feature.\n",
            "  state_dict = loader(resolved_archive_file)\n",
            "WARNING:transformers_modules.nomic-ai.nomic-bert-2048.40b98394640e630d5276807046089b233113aa87.modeling_hf_nomic_bert:<All keys matched successfully>\n"
          ]
        }
      ]
    },
    {
      "cell_type": "code",
      "source": [
        "output_path = \"/content/drive/MyDrive/data/CSM/badge/embeddings_badges_nomic.json\""
      ],
      "metadata": {
        "id": "u1srXVsNOIHs"
      },
      "execution_count": 179,
      "outputs": []
    },
    {
      "cell_type": "code",
      "source": [
        "with open(output_path) as json_file:\n",
        "    session_embeddings_nomic_dict = json.load(json_file)"
      ],
      "metadata": {
        "id": "jSAzcid3kvOS"
      },
      "execution_count": 180,
      "outputs": []
    },
    {
      "cell_type": "code",
      "source": [
        "len(session_embeddings_nomic_dict['BadgeId_22A5D99'])\n"
      ],
      "metadata": {
        "colab": {
          "base_uri": "https://localhost:8080/"
        },
        "id": "3SkvoxlvlI_C",
        "outputId": "20ee1ab3-7821-4a35-8bc5-02e398768c69"
      },
      "execution_count": 181,
      "outputs": [
        {
          "output_type": "execute_result",
          "data": {
            "text/plain": [
              "768"
            ]
          },
          "metadata": {},
          "execution_count": 181
        }
      ]
    },
    {
      "cell_type": "code",
      "source": [
        "numeculature_dict\n"
      ],
      "metadata": {
        "colab": {
          "base_uri": "https://localhost:8080/"
        },
        "id": "nSpWMvWxjUAI",
        "outputId": "9b6355bb-a039-4dc0-9a4f-079ceeb5c4c2"
      },
      "execution_count": 182,
      "outputs": [
        {
          "output_type": "execute_result",
          "data": {
            "text/plain": [
              "{'Networking': 'Networking: Visitors in this group are primarily focused on building professional relationships and expanding their business network. They attend events to meet industry peers, experts, and potential partners. Their interactions are more about establishing connections than immediate purchasing. They might be decision-makers or influencers in their organizations who value personal interactions and opportunities for collaboration.',\n",
              " 'Learning': 'Learning: These attendees are motivated by educational opportunities. They seek to gain new insights, learn about industry trends, and enhance their knowledge and skills. They are likely to attend workshops, seminars, and keynote speeches. Their interest in products or services is secondary to their desire for professional development. They may represent a long-term opportunity as their increased knowledge could lead to future purchasing decisions.',\n",
              " 'Searching': 'Searching (Gathering Information on Products or Services): Individuals in this category are in the initial stages of understanding what products or services are available in the market. Their primary goal is to collect as much information as possible without a strong inclination towards immediate purchasing. They are likely to engage with multiple vendors to compare offerings, gather brochures, and ask general questions.',\n",
              " 'Sourcing – Early': 'Sourcing – Early: These visitors are in the early phase of sourcing products or services. They have identified a need or a problem to solve but are still exploring options and potential suppliers. They may engage in more specific conversations about products or services but are not yet ready to make a decision. They are evaluating their options and looking for vendors that can meet their specific requirements.',\n",
              " 'Sourcing – In Process': 'Sourcing – In Process: Attendees in this group are actively engaged in the sourcing process. They have likely narrowed down their options and are delving deeper into specific products or services. Their interactions are more detailed, involving discussions about pricing, implementation, or customization. They are seeking to understand how different offerings stack up against each other and may be close to selecting a vendor.',\n",
              " 'Sourcing – Deciding': 'Sourcing – Deciding: This group represents potential delegates who are at the final stage of their purchasing journey. They have all the information they need and are making final evaluations to choose a vendor. Their interactions are decisive, focusing on final terms, delivery, support, and other post-purchase considerations. Engagements with these individuals are critical as they are on the verge of making a purchase decision.'}"
            ]
          },
          "metadata": {},
          "execution_count": 182
        }
      ]
    },
    {
      "cell_type": "code",
      "source": [
        "cluster_numeculature_embeddings_nomic = {}\n",
        "for key, value in tqdm(numeculature_dict.items()):\n",
        "    # Tokenize the input text and convert to tensor\n",
        "\n",
        "    cluster_numeculature_embeddings_nomic[key] = model.encode(f'search_document: {value}')"
      ],
      "metadata": {
        "colab": {
          "base_uri": "https://localhost:8080/"
        },
        "id": "ij9Fv2QtjPda",
        "outputId": "0c58bbb1-5ba3-4705-86a8-b24139f4abf1"
      },
      "execution_count": 183,
      "outputs": [
        {
          "output_type": "stream",
          "name": "stderr",
          "text": [
            "100%|██████████| 6/6 [00:00<00:00, 45.18it/s]\n"
          ]
        }
      ]
    },
    {
      "cell_type": "code",
      "source": [
        "cluster_numeculature_embeddings_nomic.keys()"
      ],
      "metadata": {
        "colab": {
          "base_uri": "https://localhost:8080/"
        },
        "id": "GC0v243Qj_i6",
        "outputId": "5abe3bb7-0620-40f4-b149-70999539b9b4"
      },
      "execution_count": 184,
      "outputs": [
        {
          "output_type": "execute_result",
          "data": {
            "text/plain": [
              "dict_keys(['Networking', 'Learning', 'Searching', 'Sourcing – Early', 'Sourcing – In Process', 'Sourcing – Deciding'])"
            ]
          },
          "metadata": {},
          "execution_count": 184
        }
      ]
    },
    {
      "cell_type": "code",
      "source": [
        "len(cluster_numeculature_embeddings_nomic['Networking'])"
      ],
      "metadata": {
        "colab": {
          "base_uri": "https://localhost:8080/"
        },
        "id": "NCWoaUJ7kWca",
        "outputId": "fa5211e6-e85f-428e-f278-2ce50dc1f0b9"
      },
      "execution_count": 185,
      "outputs": [
        {
          "output_type": "execute_result",
          "data": {
            "text/plain": [
              "768"
            ]
          },
          "metadata": {},
          "execution_count": 185
        }
      ]
    },
    {
      "cell_type": "code",
      "source": [
        "np.squeeze(cluster_numeculature_embeddings_nomic['Networking']).shape"
      ],
      "metadata": {
        "colab": {
          "base_uri": "https://localhost:8080/"
        },
        "id": "Q4UUBLrIF0A7",
        "outputId": "93bc74c0-cc19-40ab-ff82-0ca7e8c5dd9c"
      },
      "execution_count": 186,
      "outputs": [
        {
          "output_type": "execute_result",
          "data": {
            "text/plain": [
              "(768,)"
            ]
          },
          "metadata": {},
          "execution_count": 186
        }
      ]
    },
    {
      "cell_type": "code",
      "source": [
        "cosine_similarity(np.array(session_embeddings_nomic_dict['BadgeId_22A5D99']).reshape(1, -1), np.array(cluster_numeculature_embeddings_nomic['Networking']).reshape(1, -1))[0][0]"
      ],
      "metadata": {
        "colab": {
          "base_uri": "https://localhost:8080/"
        },
        "id": "SsL1M6ORXxBN",
        "outputId": "b403ae19-7661-4216-c575-e7064916424b"
      },
      "execution_count": 190,
      "outputs": [
        {
          "output_type": "execute_result",
          "data": {
            "text/plain": [
              "0.5118196638042893"
            ]
          },
          "metadata": {},
          "execution_count": 190
        }
      ]
    },
    {
      "cell_type": "code",
      "source": [
        "clusters2={}\n",
        "for badge_id, badge_embeddings in session_embeddings_nomic_dict.items():\n",
        "    cosine_distances = {}\n",
        "    cosines_similarities = {}\n",
        "    #print(badge_id)\n",
        "    for cluster_group_name, cluster_numeculature in cluster_numeculature_embeddings_nomic.items():\n",
        "        #cosine_distances[cluster_group_name] = cosine_distance(np.squeeze(session_embeddings), np.squeeze(cluster_numeculature))\n",
        "        cosines_similarities[cluster_group_name] = cosine_similarity(np.array(badge_embeddings).reshape(1, -1),\n",
        "                                                                     np.array(cluster_numeculature).reshape(1, -1))[0][0]\n",
        "\n",
        "    # print(json.dumps(cosine_distances, indent=2))\n",
        "    #closest_cluster_group_name = find_key_of_lowest_value(cosine_distances)\n",
        "    closest_cluster_group_name_cos = find_key_of_higher_value(cosines_similarities)\n",
        "    if badge_id not in clusters2.keys():\n",
        "        clusters2[badge_id] = closest_cluster_group_name_cos\n",
        "\n",
        "\n",
        "    # Sort the dictionary and print the result\n",
        "    # sorted_cosine_distances = sort_dict_by_values(cosine_distances)\n",
        "    # print(\">>>>>>\")\n",
        "    # for key, value in sorted_cosine_distances:\n",
        "    #     print(f\"{key}: {value}\")\n",
        "    # print(f\"    closest cluster: {closest_cluster_group_name}\")\n",
        "    # print(\"<<<<<<\")\n",
        "    # input()"
      ],
      "metadata": {
        "id": "7qek5dgWkshp"
      },
      "execution_count": 192,
      "outputs": []
    },
    {
      "cell_type": "code",
      "source": [
        "len(clusters2.values())"
      ],
      "metadata": {
        "colab": {
          "base_uri": "https://localhost:8080/"
        },
        "id": "Ko2PpdOvYzpn",
        "outputId": "0ff5a13e-dce3-464f-9021-99215060edd9"
      },
      "execution_count": 194,
      "outputs": [
        {
          "output_type": "execute_result",
          "data": {
            "text/plain": [
              "24837"
            ]
          },
          "metadata": {},
          "execution_count": 194
        }
      ]
    },
    {
      "cell_type": "code",
      "source": [
        "for key in list(clusters2.keys())[0:5]:\n",
        "  print(key, clusters2[key])"
      ],
      "metadata": {
        "colab": {
          "base_uri": "https://localhost:8080/"
        },
        "id": "uPBcSB-YYzWY",
        "outputId": "04363d99-9448-459d-d4f2-1c1241830ce8"
      },
      "execution_count": 193,
      "outputs": [
        {
          "output_type": "stream",
          "name": "stdout",
          "text": [
            "BadgeId_22A5D99 Networking\n",
            "BadgeId_22DIQKA Networking\n",
            "BadgeId_22QZ49X Networking\n",
            "BadgeId_237XLCW Networking\n",
            "BadgeId_23BG2SF Networking\n"
          ]
        }
      ]
    },
    {
      "cell_type": "code",
      "source": [
        "labels = list(clusters2.values())"
      ],
      "metadata": {
        "id": "6LpC3S7Ymw5m"
      },
      "execution_count": 195,
      "outputs": []
    },
    {
      "cell_type": "code",
      "source": [
        "from collections import Counter\n",
        "Counter(labels)"
      ],
      "metadata": {
        "colab": {
          "base_uri": "https://localhost:8080/"
        },
        "id": "M-rH4DPmnieg",
        "outputId": "42bbeb5e-4ea1-4029-86b4-c8112698ed97"
      },
      "execution_count": 196,
      "outputs": [
        {
          "output_type": "execute_result",
          "data": {
            "text/plain": [
              "Counter({'Networking': 23309, 'Learning': 1527, 'Sourcing – In Process': 1})"
            ]
          },
          "metadata": {},
          "execution_count": 196
        }
      ]
    },
    {
      "cell_type": "code",
      "source": [
        "labels_mistral = list(clusters.values())\n",
        "Counter(labels_mistral)"
      ],
      "metadata": {
        "colab": {
          "base_uri": "https://localhost:8080/"
        },
        "id": "gY5mz4r5pUtM",
        "outputId": "d1c7870c-19ba-4569-e78d-0e51832715ee"
      },
      "execution_count": 197,
      "outputs": [
        {
          "output_type": "execute_result",
          "data": {
            "text/plain": [
              "Counter({'Sourcing – In Process': 24802, 'Sourcing – Deciding': 35})"
            ]
          },
          "metadata": {},
          "execution_count": 197
        }
      ]
    },
    {
      "cell_type": "code",
      "source": [
        "labels_llama = list(clusters3.values())\n",
        "Counter(labels_llama)"
      ],
      "metadata": {
        "colab": {
          "base_uri": "https://localhost:8080/"
        },
        "id": "3oIDfzrVx9eL",
        "outputId": "e05b5a18-794a-4fe0-858b-1fa16bf92079"
      },
      "execution_count": 198,
      "outputs": [
        {
          "output_type": "execute_result",
          "data": {
            "text/plain": [
              "Counter({'Sourcing – In Process': 23315, 'Learning': 1522})"
            ]
          },
          "metadata": {},
          "execution_count": 198
        }
      ]
    },
    {
      "cell_type": "code",
      "source": [
        "#clusters3"
      ],
      "metadata": {
        "id": "n338q9WBycx5"
      },
      "execution_count": 93,
      "outputs": []
    }
  ]
}