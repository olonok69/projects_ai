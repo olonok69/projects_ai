{
  "nbformat": 4,
  "nbformat_minor": 0,
  "metadata": {
    "colab": {
      "provenance": [],
      "machine_shape": "hm",
      "mount_file_id": "1tO5O77drNQyH9wdo7uu-6wCPj9_SzS6g",
      "authorship_tag": "ABX9TyPypR/APxgYoari0HGxwT5m",
      "include_colab_link": true
    },
    "kernelspec": {
      "name": "python3",
      "display_name": "Python 3"
    },
    "language_info": {
      "name": "python"
    }
  },
  "cells": [
    {
      "cell_type": "markdown",
      "metadata": {
        "id": "view-in-github",
        "colab_type": "text"
      },
      "source": [
        "<a href=\"https://colab.research.google.com/github/olonok69/projects_ai/blob/main/pysftp.ipynb\" target=\"_parent\"><img src=\"https://colab.research.google.com/assets/colab-badge.svg\" alt=\"Open In Colab\"/></a>"
      ]
    },
    {
      "cell_type": "code",
      "source": [
        "! pip install -U  pysftp  -q"
      ],
      "metadata": {
        "colab": {
          "base_uri": "https://localhost:8080/"
        },
        "id": "to08vXMLFhJi",
        "outputId": "8b0bb396-e75e-4a86-b46a-6b3b9971fccf"
      },
      "execution_count": 1,
      "outputs": [
        {
          "output_type": "stream",
          "name": "stdout",
          "text": [
            "  Preparing metadata (setup.py) ... \u001b[?25l\u001b[?25hdone\n",
            "\u001b[2K   \u001b[90m━━━━━━━━━━━━━━━━━━━━━━━━━━━━━━━━━━━━━━━━\u001b[0m \u001b[32m227.1/227.1 kB\u001b[0m \u001b[31m16.5 MB/s\u001b[0m eta \u001b[36m0:00:00\u001b[0m\n",
            "\u001b[2K   \u001b[90m━━━━━━━━━━━━━━━━━━━━━━━━━━━━━━━━━━━━━━━━\u001b[0m \u001b[32m278.6/278.6 kB\u001b[0m \u001b[31m20.2 MB/s\u001b[0m eta \u001b[36m0:00:00\u001b[0m\n",
            "\u001b[2K   \u001b[90m━━━━━━━━━━━━━━━━━━━━━━━━━━━━━━━━━━━━━━━━\u001b[0m \u001b[32m856.7/856.7 kB\u001b[0m \u001b[31m46.7 MB/s\u001b[0m eta \u001b[36m0:00:00\u001b[0m\n",
            "\u001b[?25h  Building wheel for pysftp (setup.py) ... \u001b[?25l\u001b[?25hdone\n"
          ]
        }
      ]
    },
    {
      "cell_type": "code",
      "execution_count": 3,
      "metadata": {
        "id": "_zaiEoYgDDxi"
      },
      "outputs": [],
      "source": [
        "key_path = \"/content/drive/MyDrive/keys/csm/vm-stratrgicai-rg-uks-dev-01_key.pem\"\n",
        "path_data = \"/content/drive/MyDrive/data/CSM\""
      ]
    },
    {
      "cell_type": "code",
      "source": [
        "\n",
        "import pysftp as sftp\n",
        "import sys\n",
        "cnopts = sftp.CnOpts()\n",
        "cnopts.hostkeys = None\n",
        "\n",
        "srver = sftp.Connection(host='40.81.136.69', username='azureuser',\n",
        "                    private_key=key_path,cnopts=cnopts)"
      ],
      "metadata": {
        "id": "i9ulriX_Di3l"
      },
      "execution_count": 8,
      "outputs": []
    },
    {
      "cell_type": "code",
      "source": [
        "embeddings_llama = \"/content/drive/MyDrive/data/CSM/badge/embeddings_badges_llama.json\"\n",
        "embeddings_mistral = \"/content/drive/MyDrive/data/CSM/badge/embeddings_badges_mistral.json\""
      ],
      "metadata": {
        "id": "iDfmec1zEx5r"
      },
      "execution_count": 9,
      "outputs": []
    },
    {
      "cell_type": "code",
      "source": [
        "path_data=\"/mnt/wolverine/home/samtukra/juan/data/badge/embeddings_badges_llama.json\""
      ],
      "metadata": {
        "id": "Q2fXvKyYrEK4"
      },
      "execution_count": 12,
      "outputs": []
    },
    {
      "cell_type": "code",
      "source": [
        "srver.put(embeddings_llama, path_data)\n"
      ],
      "metadata": {
        "id": "IkeFwl2YIIEY",
        "colab": {
          "base_uri": "https://localhost:8080/"
        },
        "outputId": "9cf5f337-e99e-4e8f-b69f-2fddc07f4af6"
      },
      "execution_count": 13,
      "outputs": [
        {
          "output_type": "execute_result",
          "data": {
            "text/plain": [
              "<SFTPAttributes: [ size=2189692442 uid=1000 gid=1000 mode=0o100664 atime=1738097471 mtime=1738097627 ]>"
            ]
          },
          "metadata": {},
          "execution_count": 13
        }
      ]
    },
    {
      "cell_type": "code",
      "source": [
        "path_data=\"/mnt/wolverine/home/samtukra/juan/data/badge/embeddings_badges_mistral.json\"\n",
        "srver.put(embeddings_mistral, path_data)"
      ],
      "metadata": {
        "colab": {
          "base_uri": "https://localhost:8080/"
        },
        "id": "SzI4H76vE7ZJ",
        "outputId": "2d450afd-779d-4d40-bfd9-eb02fb313d5a"
      },
      "execution_count": 14,
      "outputs": [
        {
          "output_type": "execute_result",
          "data": {
            "text/plain": [
              "<SFTPAttributes: [ size=3009113630 uid=1000 gid=1000 mode=0o100664 atime=1738097642 mtime=1738097851 ]>"
            ]
          },
          "metadata": {},
          "execution_count": 14
        }
      ]
    }
  ]
}